{
  "nbformat": 4,
  "nbformat_minor": 0,
  "metadata": {
    "colab": {
      "name": "SupervisedLDA_Model.ipynb",
      "provenance": [],
      "authorship_tag": "ABX9TyPQz/FSivb0MU2VSorqcYYT",
      "include_colab_link": true
    },
    "kernelspec": {
      "name": "python3",
      "display_name": "Python 3"
    }
  },
  "cells": [
    {
      "cell_type": "markdown",
      "metadata": {
        "id": "view-in-github",
        "colab_type": "text"
      },
      "source": [
        "<a href=\"https://colab.research.google.com/github/divyaseri/divya_INFO5731_Fall2020/blob/master/SupervisedLDA_Model.ipynb\" target=\"_parent\"><img src=\"https://colab.research.google.com/assets/colab-badge.svg\" alt=\"Open In Colab\"/></a>"
      ]
    },
    {
      "cell_type": "markdown",
      "metadata": {
        "id": "b8dBkh9smQeR"
      },
      "source": [
        "The training corpus consists of 10 movie reviews (5 positive and 5 negative) along with the associated star rating for each document. The star rating is known as a response variable which is a quantity of interest associated with each document. The documents and response variables are modeled jointly in order to find latent topics that will best predict the response variables for future unlabeled documents. For more information, check out the original paper. https://arxiv.org/pdf/1003.0783.pdf\n"
      ]
    },
    {
      "cell_type": "markdown",
      "metadata": {
        "id": "OwAfnia6lk6d"
      },
      "source": [
        "\n",
        "LDA assumes a bag of words model in which the words are exchangeable and as a result sentence structure is not preserved and only the word counts matter. The LDA associates each word $x_{i,d}$ with a topic label $z_{i,d} \\in \\{1,...,K\\}$. Each document is associated with topic proportions $\\theta_d$ that could be used to measure document similarity. The topics $\\beta_k$ represented by a Dirichlet distribution are shared across all documents. The hyper-parameters $\\alpha$ and $\\eta$ capture our prior knowledge of topic mixtures and topics, e.g. from past on-line training of the model. Finally, $y_d$ is the response variable that represents a score associated with each document. It is modelled as a regression between global coefficients $w$ and a histogram of topics $\\bar{z}$ present in a document. Assuming a Gaussian distribution, $y_d$ can be expressed as follows:\n",
        "\n",
        "$$\\begin{eqnarray}\n",
        "    y_d &amp;\\sim&amp; N(w_1 \\bar{z}_1 + ... + w_k \\bar{z}_k, \\sigma^{2}) \\\\\n",
        "    \\bar{z} &amp;=&amp; \\frac{1}{N} \\sum_{n=1}^{N} z_n\n",
        "\\end{eqnarray}$$\n",
        "where $z_n$ is a one-hot encoded topic assignment vector of size $1\\times K$. In other words, $\\bar{z}$ is a normalized histogram of topics associated with a document: $\\bar{z} = \\mathrm{hist}(z_{i,d}, bins=K)$.\n",
        "\n",
        "Having described the graphical model, we can use PyMC to infer the latent variables. In the training phase, the response variable and the words are observed and we are learning the topics $\\beta_k$, topic proportions $\\theta_d$ and the regression coefficients $w$. We'll be training the model on movie reviews, where each review is associated with a score from $-2$ to $+2$.\n"
      ]
    },
    {
      "cell_type": "code",
      "metadata": {
        "id": "uOEd_SiEjD0q",
        "outputId": "f021e85a-78d0-43c8-a5a7-10836980f6c5",
        "colab": {
          "base_uri": "https://localhost:8080/"
        }
      },
      "source": [
        "pip install pymc"
      ],
      "execution_count": null,
      "outputs": [
        {
          "output_type": "stream",
          "text": [
            "Collecting pymc\n",
            "\u001b[?25l  Downloading https://files.pythonhosted.org/packages/37/81/9a222c38c65019de9ad5a1ee2448cc4a9b5f7a64eeaf246c77f81c0e6f94/pymc-2.3.8.tar.gz (385kB)\n",
            "\r\u001b[K     |▉                               | 10kB 14.9MB/s eta 0:00:01\r\u001b[K     |█▊                              | 20kB 1.6MB/s eta 0:00:01\r\u001b[K     |██▌                             | 30kB 1.9MB/s eta 0:00:01\r\u001b[K     |███▍                            | 40kB 2.2MB/s eta 0:00:01\r\u001b[K     |████▎                           | 51kB 1.9MB/s eta 0:00:01\r\u001b[K     |█████                           | 61kB 2.2MB/s eta 0:00:01\r\u001b[K     |██████                          | 71kB 2.3MB/s eta 0:00:01\r\u001b[K     |██████▉                         | 81kB 2.6MB/s eta 0:00:01\r\u001b[K     |███████▋                        | 92kB 2.8MB/s eta 0:00:01\r\u001b[K     |████████▌                       | 102kB 2.7MB/s eta 0:00:01\r\u001b[K     |█████████▍                      | 112kB 2.7MB/s eta 0:00:01\r\u001b[K     |██████████▏                     | 122kB 2.7MB/s eta 0:00:01\r\u001b[K     |███████████                     | 133kB 2.7MB/s eta 0:00:01\r\u001b[K     |████████████                    | 143kB 2.7MB/s eta 0:00:01\r\u001b[K     |████████████▊                   | 153kB 2.7MB/s eta 0:00:01\r\u001b[K     |█████████████▋                  | 163kB 2.7MB/s eta 0:00:01\r\u001b[K     |██████████████▌                 | 174kB 2.7MB/s eta 0:00:01\r\u001b[K     |███████████████▎                | 184kB 2.7MB/s eta 0:00:01\r\u001b[K     |████████████████▏               | 194kB 2.7MB/s eta 0:00:01\r\u001b[K     |█████████████████               | 204kB 2.7MB/s eta 0:00:01\r\u001b[K     |█████████████████▉              | 215kB 2.7MB/s eta 0:00:01\r\u001b[K     |██████████████████▊             | 225kB 2.7MB/s eta 0:00:01\r\u001b[K     |███████████████████▋            | 235kB 2.7MB/s eta 0:00:01\r\u001b[K     |████████████████████▍           | 245kB 2.7MB/s eta 0:00:01\r\u001b[K     |█████████████████████▎          | 256kB 2.7MB/s eta 0:00:01\r\u001b[K     |██████████████████████          | 266kB 2.7MB/s eta 0:00:01\r\u001b[K     |███████████████████████         | 276kB 2.7MB/s eta 0:00:01\r\u001b[K     |███████████████████████▉        | 286kB 2.7MB/s eta 0:00:01\r\u001b[K     |████████████████████████▋       | 296kB 2.7MB/s eta 0:00:01\r\u001b[K     |█████████████████████████▌      | 307kB 2.7MB/s eta 0:00:01\r\u001b[K     |██████████████████████████▍     | 317kB 2.7MB/s eta 0:00:01\r\u001b[K     |███████████████████████████▏    | 327kB 2.7MB/s eta 0:00:01\r\u001b[K     |████████████████████████████    | 337kB 2.7MB/s eta 0:00:01\r\u001b[K     |█████████████████████████████   | 348kB 2.7MB/s eta 0:00:01\r\u001b[K     |█████████████████████████████▊  | 358kB 2.7MB/s eta 0:00:01\r\u001b[K     |██████████████████████████████▋ | 368kB 2.7MB/s eta 0:00:01\r\u001b[K     |███████████████████████████████▌| 378kB 2.7MB/s eta 0:00:01\r\u001b[K     |████████████████████████████████| 389kB 2.7MB/s \n",
            "\u001b[?25hBuilding wheels for collected packages: pymc\n",
            "  Building wheel for pymc (setup.py) ... \u001b[?25l\u001b[?25hdone\n",
            "  Created wheel for pymc: filename=pymc-2.3.8-cp36-cp36m-linux_x86_64.whl size=1275908 sha256=f6d5c1e18b89cda7edddb1bb476c279ca06ea10ef87013183b22b2c7b55a4f34\n",
            "  Stored in directory: /root/.cache/pip/wheels/0b/a8/e7/8f3ba91a39294d538a92db052fd1fcba1fca74a58c8b022026\n",
            "Successfully built pymc\n",
            "Installing collected packages: pymc\n",
            "Successfully installed pymc-2.3.8\n"
          ],
          "name": "stdout"
        }
      ]
    },
    {
      "cell_type": "code",
      "metadata": {
        "id": "twvNY9EkjNyy"
      },
      "source": [
        "%matplotlib inline"
      ],
      "execution_count": null,
      "outputs": []
    },
    {
      "cell_type": "code",
      "metadata": {
        "id": "3qGorX-ReQ4n",
        "outputId": "eede519f-f141-4f30-e4df-6e27d3ae46da",
        "colab": {
          "base_uri": "https://localhost:8080/"
        }
      },
      "source": [
        "import numpy as np\n",
        "import pandas as pd\n",
        "import scipy.stats as stats\n",
        "\n",
        "import seaborn as sns\n",
        "import matplotlib.pyplot as plt\n",
        "\n",
        "import re\n",
        "import pymc as pm\n",
        "from sklearn.feature_extraction.text import TfidfVectorizer\n",
        "\n",
        "np.random.seed(0)"
      ],
      "execution_count": null,
      "outputs": [
        {
          "output_type": "stream",
          "text": [
            "/usr/local/lib/python3.6/dist-packages/statsmodels/tools/_testing.py:19: FutureWarning: pandas.util.testing is deprecated. Use the functions in the public API at pandas.testing instead.\n",
            "  import pandas.util.testing as tm\n"
          ],
          "name": "stderr"
        }
      ]
    },
    {
      "cell_type": "code",
      "metadata": {
        "id": "80RppDZBfR2v"
      },
      "source": [
        "train_corpus = [\"exploitative and largely devoid of the depth or sophistication \",\n",
        "                \"simplistic silly and tedious\",\n",
        "                \"it's so laddish and juvenile only teenage boys could possibly find it funny\",\n",
        "                \"it shows that some studios firmly believe that people have lost the ability to think\",\n",
        "                \"our culture is headed down the toilet with the ferocity of a frozen burrito\",\n",
        "                \"offers that rare combination of entertainment and education\",\n",
        "                \"the film provides some great insight\",\n",
        "                \"this is a film well worth seeing\",\n",
        "                \"a masterpiece four years in the making\",\n",
        "                \"offers a breath of the fresh air of true sophistication\"]\n",
        "test_corpus =  [\"this is a really positive review, great film\"]\n",
        "train_response = np.array([3, 1, 3, 2, 1, 5, 4, 4, 5, 5]) - 3"
      ],
      "execution_count": null,
      "outputs": []
    },
    {
      "cell_type": "code",
      "metadata": {
        "id": "4IiqHBt-jcLW"
      },
      "source": [
        "#LDA parameters\n",
        "num_features = 1000  #vocabulary size\n",
        "num_topics = 4       #fixed for LDA"
      ],
      "execution_count": null,
      "outputs": []
    },
    {
      "cell_type": "code",
      "metadata": {
        "id": "o_HEq3x_jgFg"
      },
      "source": [
        "#compute tf-idf (equivalent to count-vectorizer followed by tf-idf transformer)\n",
        "#count-vectorizer produces term-document matrix tf-idf scales tf counts by log N/nt \n",
        "#(N:total num of docs, nt: number of docs in which the word occurs)\n",
        "#if float (proportion of docs): min_df < nt/N  < max_df, if int: refers to count nt, e.g. min_df = 2\n",
        "tfidf = TfidfVectorizer(max_features = num_features, max_df=0.95, min_df=0, stop_words = 'english')"
      ],
      "execution_count": null,
      "outputs": []
    },
    {
      "cell_type": "code",
      "metadata": {
        "id": "fLUiWi99jinJ",
        "outputId": "b3464d4e-7b1c-429b-c428-7f2657063398",
        "colab": {
          "base_uri": "https://localhost:8080/"
        }
      },
      "source": [
        "#generate tf-idf term-document matrix\n",
        "A_tfidf_sp = tfidf.fit_transform(train_corpus)  #size D x V\n",
        "\n",
        "print (\"number of docs: %d\" %A_tfidf_sp.shape[0])\n",
        "print (\"dictionary size: %d\" %A_tfidf_sp.shape[1])\n",
        "\n",
        "#tf-idf dictionary    \n",
        "tfidf_dict = tfidf.get_feature_names()"
      ],
      "execution_count": null,
      "outputs": [
        {
          "output_type": "stream",
          "text": [
            "number of docs: 10\n",
            "dictionary size: 46\n"
          ],
          "name": "stdout"
        }
      ]
    },
    {
      "cell_type": "code",
      "metadata": {
        "id": "ggXPJeRWjrNF"
      },
      "source": [
        "K = num_topics # number of topics\n",
        "V = A_tfidf_sp.shape[1] # number of words\n",
        "D = A_tfidf_sp.shape[0] # number of documents\n",
        "    \n",
        "data = A_tfidf_sp.toarray()"
      ],
      "execution_count": null,
      "outputs": []
    },
    {
      "cell_type": "code",
      "metadata": {
        "id": "Axe1GfLokGeG"
      },
      "source": [
        "#Supervised LDA Graphical Model\n",
        "Wd = [len(doc) for doc in data]        \n",
        "alpha = np.ones(K)\n",
        "beta = np.ones(V)\n",
        "\n",
        "theta = pm.Container([pm.CompletedDirichlet(\"theta_%s\" % i, pm.Dirichlet(\"ptheta_%s\" % i, theta=alpha)) for i in range(D)])\n",
        "phi = pm.Container([pm.CompletedDirichlet(\"phi_%s\" % k, pm.Dirichlet(\"pphi_%s\" % k, theta=beta)) for k in range(K)])    \n",
        "    \n",
        "z = pm.Container([pm.Categorical('z_%s' % d, p = theta[d], size=Wd[d], value=np.random.randint(K, size=Wd[d])) for d in range(D)])\n",
        "   \n",
        "@pm.deterministic\n",
        "def zbar(z=z):    \n",
        "    zbar_list = []\n",
        "    for i in range(len(z)):\n",
        "        hist, bin_edges = np.histogram(z[i], bins=K)\n",
        "        zbar_list.append(hist / float(np.sum(hist)))                \n",
        "    return pm.Container(zbar_list)\n",
        "\n",
        "eta = pm.Container([pm.Normal(\"eta_%s\" % k, mu=0, tau=1.0/10**2) for k in range(K)])\n",
        "y_tau = pm.Gamma(\"tau\", alpha=0.1, beta=0.1)\n",
        "    \n",
        "@pm.deterministic\n",
        "def y_mu(eta=eta, zbar=zbar):\n",
        "    y_mu_list = []\n",
        "    for i in range(len(zbar)):\n",
        "        y_mu_list.append(np.dot(eta, zbar[i]))\n",
        "    return pm.Container(y_mu_list)\n",
        "            \n",
        "#response likelihood\n",
        "y = pm.Container([pm.Normal(\"y_%s\" % d, mu=y_mu[d], tau=y_tau, value=train_response[d], observed=True) for d in range(D)])\n",
        "    \n",
        "# cannot use p=phi[z[d][i]] here since phi is an ordinary list while z[d][i] is stochastic\n",
        "w = pm.Container([pm.Categorical(\"w_%i_%i\" % (d,i), p = pm.Lambda('phi_z_%i_%i' % (d,i), lambda z=z[d][i], phi=phi: phi[z]),\n",
        "                  value=data[d][i], observed=True) for d in range(D) for i in range(Wd[d])])"
      ],
      "execution_count": null,
      "outputs": []
    },
    {
      "cell_type": "code",
      "metadata": {
        "id": "AgzAiZVokL5q",
        "outputId": "a31d532c-9ff9-49ef-df57-a877302808a1",
        "colab": {
          "base_uri": "https://localhost:8080/"
        }
      },
      "source": [
        "# infer the latent variables using the Metropolis sampler:\n",
        "model = pm.Model([theta, phi, z, eta, y_tau, y, w])\n",
        "mcmc = pm.MCMC(model)\n",
        "mcmc.sample(iter=1000, burn=100, thin=2)"
      ],
      "execution_count": null,
      "outputs": [
        {
          "output_type": "stream",
          "text": [
            "/usr/local/lib/python3.6/dist-packages/pymc/MCMC.py:81: UserWarning: Instantiating a Model object directly is deprecated. We recommend passing variables directly to the Model subclass.\n",
            "  warnings.warn(message)\n"
          ],
          "name": "stderr"
        },
        {
          "output_type": "stream",
          "text": [
            " [-----------------100%-----------------] 1000 of 1000 complete in 2.9 sec"
          ],
          "name": "stdout"
        }
      ]
    },
    {
      "cell_type": "code",
      "metadata": {
        "id": "Qz8yA9YLkPiW",
        "outputId": "408b6f36-d7ae-423b-e14d-11e4c5f0b9bd",
        "colab": {
          "base_uri": "https://localhost:8080/",
          "height": 265
        }
      },
      "source": [
        "#visualize topics    \n",
        "phi0_samples = np.squeeze(mcmc.trace('phi_0')[:])\n",
        "phi1_samples = np.squeeze(mcmc.trace('phi_1')[:])\n",
        "phi2_samples = np.squeeze(mcmc.trace('phi_2')[:])\n",
        "phi3_samples = np.squeeze(mcmc.trace('phi_3')[:])\n",
        "ax = plt.subplot(221)\n",
        "plt.bar(np.arange(V), phi0_samples[-1,:])\n",
        "ax = plt.subplot(222)\n",
        "plt.bar(np.arange(V), phi1_samples[-1,:])\n",
        "ax = plt.subplot(223)\n",
        "plt.bar(np.arange(V), phi2_samples[-1,:])\n",
        "ax = plt.subplot(224)\n",
        "plt.bar(np.arange(V), phi3_samples[-1,:])\n",
        "plt.show()"
      ],
      "execution_count": null,
      "outputs": [
        {
          "output_type": "display_data",
          "data": {
            "image/png": "[encoded data removed]",
            "text/plain": [
              "<Figure size 432x288 with 4 Axes>"
            ]
          },
          "metadata": {
            "tags": [],
            "needs_background": "light"
          }
        }
      ]
    },
    {
      "cell_type": "markdown",
      "metadata": {
        "id": "hBh8RTJKkvpr"
      },
      "source": [
        "Let's now predict the movie rating for a new document, our test corpus: \"this is a really positive review, great film\". We are expecting to get a review close to $+2$. In order to predict our response variable, we'll be using the topics $\\beta_k$ and the regression weights $w$ learned during training.\n"
      ]
    },
    {
      "cell_type": "code",
      "metadata": {
        "id": "wrAl99axkUw4"
      },
      "source": [
        "#New Document Prediction\n",
        "T_tfidf_sp = tfidf.transform(test_corpus)   #size Dtest x V    \n",
        "Dtest = T_tfidf_sp.shape[0] # number of test documents\n",
        "    \n",
        "data_test = T_tfidf_sp.toarray()"
      ],
      "execution_count": null,
      "outputs": []
    },
    {
      "cell_type": "code",
      "metadata": {
        "id": "0xXduk0UkY0l"
      },
      "source": [
        "#Supervised LDA Graphical Model\n",
        "Wd_t = [len(doc) for doc in data_test]        \n",
        "alpha = np.ones(K)\n",
        "beta = np.ones(V)\n",
        "\n",
        "theta_t = pm.Container([pm.CompletedDirichlet(\"theta_t_%s\" % i, pm.Dirichlet(\"ptheta_t_%s\" % i, theta=alpha)) for i in range(Dtest)])    \n",
        "z_t = pm.Container([pm.Categorical('z_t_%s' % d, p = theta_t[d], size=Wd_t[d], value=np.random.randint(K, size=Wd_t[d])) for d in range(Dtest)])\n",
        "    \n",
        "@pm.deterministic\n",
        "def zbar_t(z=z_t):\n",
        "    zbar_list = []\n",
        "    for i in range(len(z)):\n",
        "        hist, bin_edges = np.histogram(z[i], bins=K)\n",
        "        zbar_list.append(hist / float(np.sum(hist)))                \n",
        "    return pm.Container(zbar_list)\n",
        "    \n",
        "@pm.deterministic\n",
        "def y_mu_t(eta=eta, zbar=zbar_t):\n",
        "    y_mu_list = []\n",
        "    for i in range(len(zbar)):\n",
        "        y_mu_list.append(np.dot(eta, zbar[i]))\n",
        "    return pm.Container(y_mu_list)\n",
        "            \n",
        "#response prediction\n",
        "y_t = pm.Container([pm.Normal(\"y_t_%s\" % d, mu=y_mu_t[d], tau=y_tau) for d in range(Dtest)])\n",
        "   \n",
        "# cannot use p=phi[z[d][i]] here since phi is an ordinary list while z[d][i] is stochastic\n",
        "w_t = pm.Container([pm.Categorical(\"w_t_%i_%i\" % (d,i), p = pm.Lambda('phi_z_t_%i_%i' % (d,i), lambda z=z_t[d][i], phi=phi: phi[z]),\n",
        "                    value=data_test[d][i], observed=True) for d in range(Dtest) for i in range(Wd_t[d])])"
      ],
      "execution_count": null,
      "outputs": []
    },
    {
      "cell_type": "code",
      "metadata": {
        "id": "B-RID22zkbqN",
        "outputId": "80e324a0-d65a-4d98-f562-0ace6442d58c",
        "colab": {
          "base_uri": "https://localhost:8080/"
        }
      },
      "source": [
        "# run the Metropolis sampler to obtain posterior distribution over our latent variables.\n",
        "model_test = pm.Model([theta_t, z_t, zbar_t, y_t, w_t])\n",
        "mcmc_test = pm.MCMC(model_test)\n",
        "mcmc_test.sample(iter=1000, burn=100, thin=2)"
      ],
      "execution_count": null,
      "outputs": [
        {
          "output_type": "stream",
          "text": [
            "/usr/local/lib/python3.6/dist-packages/pymc/MCMC.py:81: UserWarning: Instantiating a Model object directly is deprecated. We recommend passing variables directly to the Model subclass.\n",
            "  warnings.warn(message)\n"
          ],
          "name": "stderr"
        },
        {
          "output_type": "stream",
          "text": [
            "\r [-----------------100%-----------------] 1000 of 1000 complete in 0.2 sec"
          ],
          "name": "stdout"
        }
      ]
    },
    {
      "cell_type": "code",
      "metadata": {
        "id": "VKpjtnpVkelT",
        "outputId": "61910c36-a779-476a-ae42-072e64384637",
        "colab": {
          "base_uri": "https://localhost:8080/",
          "height": 425
        }
      },
      "source": [
        "#generate plots\n",
        "pm.Matplot.plot(mcmc_test.trace('y_t_0'))"
      ],
      "execution_count": null,
      "outputs": [
        {
          "output_type": "stream",
          "text": [
            "Plotting y_t_0\n"
          ],
          "name": "stdout"
        },
        {
          "output_type": "display_data",
          "data": {
            "image/png": "[encoded data removed]",
            "text/plain": [
              "<Figure size 720x432 with 3 Axes>"
            ]
          },
          "metadata": {
            "tags": [],
            "needs_background": "light"
          }
        }
      ]
    },
    {
      "cell_type": "markdown",
      "metadata": {
        "id": "UL-fzamQkh9A"
      },
      "source": [
        "\n",
        "From the trace plot of our response variable we can see that we got a positive prediction with a mean close to $1$ and high variance. Increasing the vocabulary size and the number of words per document should help reduce the variance. We can also see low autocorrelation between the samples indicating that each sample is informative.\n"
      ]
    }
  ]
}