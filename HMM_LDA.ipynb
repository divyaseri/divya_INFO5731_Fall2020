{
  "nbformat": 4,
  "nbformat_minor": 0,
  "metadata": {
    "colab": {
      "name": "HMM-LDA.ipynb",
      "provenance": [],
      "authorship_tag": "ABX9TyN1ECzyqd1IBujnJlQHqbzK",
      "include_colab_link": true
    },
    "kernelspec": {
      "name": "python3",
      "display_name": "Python 3"
    }
  },
  "cells": [
    {
      "cell_type": "markdown",
      "metadata": {
        "id": "view-in-github",
        "colab_type": "text"
      },
      "source": [
        "<a href=\"https://colab.research.google.com/github/divyaseri/divya_INFO5731_Fall2020/blob/master/HMM_LDA.ipynb\" target=\"_parent\"><img src=\"https://colab.research.google.com/assets/colab-badge.svg\" alt=\"Open In Colab\"/></a>"
      ]
    },
    {
      "cell_type": "code",
      "metadata": {
        "colab": {
          "resources": {
            "http://localhost:8080/nbextensions/google.colab/files.js": {
              "data": "Ly8gQ29weXJpZ2h0IDIwMTcgR29vZ2xlIExMQwovLwovLyBMaWNlbnNlZCB1bmRlciB0aGUgQXBhY2hlIExpY2Vuc2UsIFZlcnNpb24gMi4wICh0aGUgIkxpY2Vuc2UiKTsKLy8geW91IG1heSBub3QgdXNlIHRoaXMgZmlsZSBleGNlcHQgaW4gY29tcGxpYW5jZSB3aXRoIHRoZSBMaWNlbnNlLgovLyBZb3UgbWF5IG9idGFpbiBhIGNvcHkgb2YgdGhlIExpY2Vuc2UgYXQKLy8KLy8gICAgICBodHRwOi8vd3d3LmFwYWNoZS5vcmcvbGljZW5zZXMvTElDRU5TRS0yLjAKLy8KLy8gVW5sZXNzIHJlcXVpcmVkIGJ5IGFwcGxpY2FibGUgbGF3IG9yIGFncmVlZCB0byBpbiB3cml0aW5nLCBzb2Z0d2FyZQovLyBkaXN0cmlidXRlZCB1bmRlciB0aGUgTGljZW5zZSBpcyBkaXN0cmlidXRlZCBvbiBhbiAiQVMgSVMiIEJBU0lTLAovLyBXSVRIT1VUIFdBUlJBTlRJRVMgT1IgQ09ORElUSU9OUyBPRiBBTlkgS0lORCwgZWl0aGVyIGV4cHJlc3Mgb3IgaW1wbGllZC4KLy8gU2VlIHRoZSBMaWNlbnNlIGZvciB0aGUgc3BlY2lmaWMgbGFuZ3VhZ2UgZ292ZXJuaW5nIHBlcm1pc3Npb25zIGFuZAovLyBsaW1pdGF0aW9ucyB1bmRlciB0aGUgTGljZW5zZS4KCi8qKgogKiBAZmlsZW92ZXJ2aWV3IEhlbHBlcnMgZm9yIGdvb2dsZS5jb2xhYiBQeXRob24gbW9kdWxlLgogKi8KKGZ1bmN0aW9uKHNjb3BlKSB7CmZ1bmN0aW9uIHNwYW4odGV4dCwgc3R5bGVBdHRyaWJ1dGVzID0ge30pIHsKICBjb25zdCBlbGVtZW50ID0gZG9jdW1lbnQuY3JlYXRlRWxlbWVudCgnc3BhbicpOwogIGVsZW1lbnQudGV4dENvbnRlbnQgPSB0ZXh0OwogIGZvciAoY29uc3Qga2V5IG9mIE9iamVjdC5rZXlzKHN0eWxlQXR0cmlidXRlcykpIHsKICAgIGVsZW1lbnQuc3R5bGVba2V5XSA9IHN0eWxlQXR0cmlidXRlc1trZXldOwogIH0KICByZXR1cm4gZWxlbWVudDsKfQoKLy8gTWF4IG51bWJlciBvZiBieXRlcyB3aGljaCB3aWxsIGJlIHVwbG9hZGVkIGF0IGEgdGltZS4KY29uc3QgTUFYX1BBWUxPQURfU0laRSA9IDEwMCAqIDEwMjQ7CgpmdW5jdGlvbiBfdXBsb2FkRmlsZXMoaW5wdXRJZCwgb3V0cHV0SWQpIHsKICBjb25zdCBzdGVwcyA9IHVwbG9hZEZpbGVzU3RlcChpbnB1dElkLCBvdXRwdXRJZCk7CiAgY29uc3Qgb3V0cHV0RWxlbWVudCA9IGRvY3VtZW50LmdldEVsZW1lbnRCeUlkKG91dHB1dElkKTsKICAvLyBDYWNoZSBzdGVwcyBvbiB0aGUgb3V0cHV0RWxlbWVudCB0byBtYWtlIGl0IGF2YWlsYWJsZSBmb3IgdGhlIG5leHQgY2FsbAogIC8vIHRvIHVwbG9hZEZpbGVzQ29udGludWUgZnJvbSBQeXRob24uCiAgb3V0cHV0RWxlbWVudC5zdGVwcyA9IHN0ZXBzOwoKICByZXR1cm4gX3VwbG9hZEZpbGVzQ29udGludWUob3V0cHV0SWQpOwp9CgovLyBUaGlzIGlzIHJvdWdobHkgYW4gYXN5bmMgZ2VuZXJhdG9yIChub3Qgc3VwcG9ydGVkIGluIHRoZSBicm93c2VyIHlldCksCi8vIHdoZXJlIHRoZXJlIGFyZSBtdWx0aXBsZSBhc3luY2hyb25vdXMgc3RlcHMgYW5kIHRoZSBQeXRob24gc2lkZSBpcyBnb2luZwovLyB0byBwb2xsIGZvciBjb21wbGV0aW9uIG9mIGVhY2ggc3RlcC4KLy8gVGhpcyB1c2VzIGEgUHJvbWlzZSB0byBibG9jayB0aGUgcHl0aG9uIHNpZGUgb24gY29tcGxldGlvbiBvZiBlYWNoIHN0ZXAsCi8vIHRoZW4gcGFzc2VzIHRoZSByZXN1bHQgb2YgdGhlIHByZXZpb3VzIHN0ZXAgYXMgdGhlIGlucHV0IHRvIHRoZSBuZXh0IHN0ZXAuCmZ1bmN0aW9uIF91cGxvYWRGaWxlc0NvbnRpbnVlKG91dHB1dElkKSB7CiAgY29uc3Qgb3V0cHV0RWxlbWVudCA9IGRvY3VtZW50LmdldEVsZW1lbnRCeUlkKG91dHB1dElkKTsKICBjb25zdCBzdGVwcyA9IG91dHB1dEVsZW1lbnQuc3RlcHM7CgogIGNvbnN0IG5leHQgPSBzdGVwcy5uZXh0KG91dHB1dEVsZW1lbnQubGFzdFByb21pc2VWYWx1ZSk7CiAgcmV0dXJuIFByb21pc2UucmVzb2x2ZShuZXh0LnZhbHVlLnByb21pc2UpLnRoZW4oKHZhbHVlKSA9PiB7CiAgICAvLyBDYWNoZSB0aGUgbGFzdCBwcm9taXNlIHZhbHVlIHRvIG1ha2UgaXQgYXZhaWxhYmxlIHRvIHRoZSBuZXh0CiAgICAvLyBzdGVwIG9mIHRoZSBnZW5lcmF0b3IuCiAgICBvdXRwdXRFbGVtZW50Lmxhc3RQcm9taXNlVmFsdWUgPSB2YWx1ZTsKICAgIHJldHVybiBuZXh0LnZhbHVlLnJlc3BvbnNlOwogIH0pOwp9CgovKioKICogR2VuZXJhdG9yIGZ1bmN0aW9uIHdoaWNoIGlzIGNhbGxlZCBiZXR3ZWVuIGVhY2ggYXN5bmMgc3RlcCBvZiB0aGUgdXBsb2FkCiAqIHByb2Nlc3MuCiAqIEBwYXJhbSB7c3RyaW5nfSBpbnB1dElkIEVsZW1lbnQgSUQgb2YgdGhlIGlucHV0IGZpbGUgcGlja2VyIGVsZW1lbnQuCiAqIEBwYXJhbSB7c3RyaW5nfSBvdXRwdXRJZCBFbGVtZW50IElEIG9mIHRoZSBvdXRwdXQgZGlzcGxheS4KICogQHJldHVybiB7IUl0ZXJhYmxlPCFPYmplY3Q+fSBJdGVyYWJsZSBvZiBuZXh0IHN0ZXBzLgogKi8KZnVuY3Rpb24qIHVwbG9hZEZpbGVzU3RlcChpbnB1dElkLCBvdXRwdXRJZCkgewogIGNvbnN0IGlucHV0RWxlbWVudCA9IGRvY3VtZW50LmdldEVsZW1lbnRCeUlkKGlucHV0SWQpOwogIGlucHV0RWxlbWVudC5kaXNhYmxlZCA9IGZhbHNlOwoKICBjb25zdCBvdXRwdXRFbGVtZW50ID0gZG9jdW1lbnQuZ2V0RWxlbWVudEJ5SWQob3V0cHV0SWQpOwogIG91dHB1dEVsZW1lbnQuaW5uZXJIVE1MID0gJyc7CgogIGNvbnN0IHBpY2tlZFByb21pc2UgPSBuZXcgUHJvbWlzZSgocmVzb2x2ZSkgPT4gewogICAgaW5wdXRFbGVtZW50LmFkZEV2ZW50TGlzdGVuZXIoJ2NoYW5nZScsIChlKSA9PiB7CiAgICAgIHJlc29sdmUoZS50YXJnZXQuZmlsZXMpOwogICAgfSk7CiAgfSk7CgogIGNvbnN0IGNhbmNlbCA9IGRvY3VtZW50LmNyZWF0ZUVsZW1lbnQoJ2J1dHRvbicpOwogIGlucHV0RWxlbWVudC5wYXJlbnRFbGVtZW50LmFwcGVuZENoaWxkKGNhbmNlbCk7CiAgY2FuY2VsLnRleHRDb250ZW50ID0gJ0NhbmNlbCB1cGxvYWQnOwogIGNvbnN0IGNhbmNlbFByb21pc2UgPSBuZXcgUHJvbWlzZSgocmVzb2x2ZSkgPT4gewogICAgY2FuY2VsLm9uY2xpY2sgPSAoKSA9PiB7CiAgICAgIHJlc29sdmUobnVsbCk7CiAgICB9OwogIH0pOwoKICAvLyBXYWl0IGZvciB0aGUgdXNlciB0byBwaWNrIHRoZSBmaWxlcy4KICBjb25zdCBmaWxlcyA9IHlpZWxkIHsKICAgIHByb21pc2U6IFByb21pc2UucmFjZShbcGlja2VkUHJvbWlzZSwgY2FuY2VsUHJvbWlzZV0pLAogICAgcmVzcG9uc2U6IHsKICAgICAgYWN0aW9uOiAnc3RhcnRpbmcnLAogICAgfQogIH07CgogIGNhbmNlbC5yZW1vdmUoKTsKCiAgLy8gRGlzYWJsZSB0aGUgaW5wdXQgZWxlbWVudCBzaW5jZSBmdXJ0aGVyIHBpY2tzIGFyZSBub3QgYWxsb3dlZC4KICBpbnB1dEVsZW1lbnQuZGlzYWJsZWQgPSB0cnVlOwoKICBpZiAoIWZpbGVzKSB7CiAgICByZXR1cm4gewogICAgICByZXNwb25zZTogewogICAgICAgIGFjdGlvbjogJ2NvbXBsZXRlJywKICAgICAgfQogICAgfTsKICB9CgogIGZvciAoY29uc3QgZmlsZSBvZiBmaWxlcykgewogICAgY29uc3QgbGkgPSBkb2N1bWVudC5jcmVhdGVFbGVtZW50KCdsaScpOwogICAgbGkuYXBwZW5kKHNwYW4oZmlsZS5uYW1lLCB7Zm9udFdlaWdodDogJ2JvbGQnfSkpOwogICAgbGkuYXBwZW5kKHNwYW4oCiAgICAgICAgYCgke2ZpbGUudHlwZSB8fCAnbi9hJ30pIC0gJHtmaWxlLnNpemV9IGJ5dGVzLCBgICsKICAgICAgICBgbGFzdCBtb2RpZmllZDogJHsKICAgICAgICAgICAgZmlsZS5sYXN0TW9kaWZpZWREYXRlID8gZmlsZS5sYXN0TW9kaWZpZWREYXRlLnRvTG9jYWxlRGF0ZVN0cmluZygpIDoKICAgICAgICAgICAgICAgICAgICAgICAgICAgICAgICAgICAgJ24vYSd9IC0gYCkpOwogICAgY29uc3QgcGVyY2VudCA9IHNwYW4oJzAlIGRvbmUnKTsKICAgIGxpLmFwcGVuZENoaWxkKHBlcmNlbnQpOwoKICAgIG91dHB1dEVsZW1lbnQuYXBwZW5kQ2hpbGQobGkpOwoKICAgIGNvbnN0IGZpbGVEYXRhUHJvbWlzZSA9IG5ldyBQcm9taXNlKChyZXNvbHZlKSA9PiB7CiAgICAgIGNvbnN0IHJlYWRlciA9IG5ldyBGaWxlUmVhZGVyKCk7CiAgICAgIHJlYWRlci5vbmxvYWQgPSAoZSkgPT4gewogICAgICAgIHJlc29sdmUoZS50YXJnZXQucmVzdWx0KTsKICAgICAgfTsKICAgICAgcmVhZGVyLnJlYWRBc0FycmF5QnVmZmVyKGZpbGUpOwogICAgfSk7CiAgICAvLyBXYWl0IGZvciB0aGUgZGF0YSB0byBiZSByZWFkeS4KICAgIGxldCBmaWxlRGF0YSA9IHlpZWxkIHsKICAgICAgcHJvbWlzZTogZmlsZURhdGFQcm9taXNlLAogICAgICByZXNwb25zZTogewogICAgICAgIGFjdGlvbjogJ2NvbnRpbnVlJywKICAgICAgfQogICAgfTsKCiAgICAvLyBVc2UgYSBjaHVua2VkIHNlbmRpbmcgdG8gYXZvaWQgbWVzc2FnZSBzaXplIGxpbWl0cy4gU2VlIGIvNjIxMTU2NjAuCiAgICBsZXQgcG9zaXRpb24gPSAwOwogICAgd2hpbGUgKHBvc2l0aW9uIDwgZmlsZURhdGEuYnl0ZUxlbmd0aCkgewogICAgICBjb25zdCBsZW5ndGggPSBNYXRoLm1pbihmaWxlRGF0YS5ieXRlTGVuZ3RoIC0gcG9zaXRpb24sIE1BWF9QQVlMT0FEX1NJWkUpOwogICAgICBjb25zdCBjaHVuayA9IG5ldyBVaW50OEFycmF5KGZpbGVEYXRhLCBwb3NpdGlvbiwgbGVuZ3RoKTsKICAgICAgcG9zaXRpb24gKz0gbGVuZ3RoOwoKICAgICAgY29uc3QgYmFzZTY0ID0gYnRvYShTdHJpbmcuZnJvbUNoYXJDb2RlLmFwcGx5KG51bGwsIGNodW5rKSk7CiAgICAgIHlpZWxkIHsKICAgICAgICByZXNwb25zZTogewogICAgICAgICAgYWN0aW9uOiAnYXBwZW5kJywKICAgICAgICAgIGZpbGU6IGZpbGUubmFtZSwKICAgICAgICAgIGRhdGE6IGJhc2U2NCwKICAgICAgICB9LAogICAgICB9OwogICAgICBwZXJjZW50LnRleHRDb250ZW50ID0KICAgICAgICAgIGAke01hdGgucm91bmQoKHBvc2l0aW9uIC8gZmlsZURhdGEuYnl0ZUxlbmd0aCkgKiAxMDApfSUgZG9uZWA7CiAgICB9CiAgfQoKICAvLyBBbGwgZG9uZS4KICB5aWVsZCB7CiAgICByZXNwb25zZTogewogICAgICBhY3Rpb246ICdjb21wbGV0ZScsCiAgICB9CiAgfTsKfQoKc2NvcGUuZ29vZ2xlID0gc2NvcGUuZ29vZ2xlIHx8IHt9OwpzY29wZS5nb29nbGUuY29sYWIgPSBzY29wZS5nb29nbGUuY29sYWIgfHwge307CnNjb3BlLmdvb2dsZS5jb2xhYi5fZmlsZXMgPSB7CiAgX3VwbG9hZEZpbGVzLAogIF91cGxvYWRGaWxlc0NvbnRpbnVlLAp9Owp9KShzZWxmKTsK",
              "ok": true,
              "headers": [
                [
                  "content-type",
                  "application/javascript"
                ]
              ],
              "status": 200,
              "status_text": ""
            }
          },
          "base_uri": "https://localhost:8080/",
          "height": 212
        },
        "id": "KRbiS1RPnn8D",
        "outputId": "ec09e6a8-ffb9-47f5-b688-cde8f78f69a5"
      },
      "source": [
        "from google.colab import files\n",
        "\n",
        "uploaded = files.upload()\n"
      ],
      "execution_count": 15,
      "outputs": [
        {
          "output_type": "display_data",
          "data": {
            "text/html": [
              "\n",
              "     <input type=\"file\" id=\"files-59f38544-8082-4308-ad6a-e6b355cf751e\" name=\"files[]\" multiple disabled\n",
              "        style=\"border:none\" />\n",
              "     <output id=\"result-59f38544-8082-4308-ad6a-e6b355cf751e\">\n",
              "      Upload widget is only available when the cell has been executed in the\n",
              "      current browser session. Please rerun this cell to enable.\n",
              "      </output>\n",
              "      <script src=\"/nbextensions/google.colab/files.js\"></script> "
            ],
            "text/plain": [
              "<IPython.core.display.HTML object>"
            ]
          },
          "metadata": {
            "tags": []
          }
        },
        {
          "output_type": "stream",
          "text": [
            "Saving base.py to base.py\n",
            "Saving formatted_logger.py to formatted_logger.py\n",
            "Saving hmm_lda.py to hmm_lda (3).py\n",
            "Saving nltk_corpus.py to nltk_corpus (1).py\n",
            "Saving utils.py to utils (1).py\n"
          ],
          "name": "stdout"
        }
      ]
    },
    {
      "cell_type": "code",
      "metadata": {
        "id": "8Ldn4lczLI4o"
      },
      "source": [
        "from __future__ import print_function\n",
        "import time\n",
        "\n",
        "from six.moves import xrange\n",
        "import numpy as np\n",
        "from scipy.special import gammaln\n",
        "\n",
        "from formatted_logger import formatted_logger\n",
        "from base import BaseGibbsParamTopicModel\n",
        "\n",
        "logger = formatted_logger('HMM_LDA')"
      ],
      "execution_count": 18,
      "outputs": []
    },
    {
      "cell_type": "code",
      "metadata": {
        "id": "fXecgAJ5p5-V"
      },
      "source": [
        "class HMM_LDA(BaseGibbsParamTopicModel):\n",
        "    \n",
        "\n",
        "    def __init__(self, n_docs, n_voca, n_topic, n_class, alpha=0.1, beta=0.01, gamma=0.1, eta=0.1, **kwargs):\n",
        "        super(HMM_LDA, self).__init__(n_docs, n_voca, n_topic, alpha, beta, **kwargs)\n",
        "        self.n_class = n_class\n",
        "\n",
        "        self.gamma = gamma\n",
        "        self.eta = eta\n",
        "\n",
        "        self.CW = np.zeros([self.n_class, self.n_voca]) + self.gamma  # class x word\n",
        "        self.sum_C = np.zeros([self.n_class]) + self.n_voca * self.gamma\n",
        "\n",
        "        self.T = np.zeros([self.n_class + 2, self.n_class + 2]) + self.eta\n",
        "\n",
        "        self.word_class = list()\n",
        "        self.word_topic = list()\n",
        "\n",
        "    def fit(self, docs, max_iter=100):\n",
        "        self.random_init(docs)\n",
        "        self.gibbs_sampling(docs, max_iter)\n",
        "\n",
        "    # randomly initialize \n",
        "    def random_init(self, docs):\n",
        "\n",
        "        for di in xrange(self.n_doc):\n",
        "            doc = docs[di]\n",
        "            num_sentence = len(doc)\n",
        "\n",
        "            doc_class = list()\n",
        "            doc_topic = list()\n",
        "\n",
        "            for si in xrange(num_sentence):\n",
        "                sentence_class = list()\n",
        "                sentence_topic = list()\n",
        "\n",
        "                sentence = doc[si]\n",
        "                len_sentence = len(sentence)\n",
        "\n",
        "                for wi in xrange(len_sentence):\n",
        "                    word = sentence[wi]\n",
        "                    c = np.random.randint(self.n_class)\n",
        "\n",
        "                    sentence_class.append(c)\n",
        "                    self.CW[c, word] += 1\n",
        "                    self.sum_C[c] += 1\n",
        "                    if wi == 0:  # if the first word\n",
        "                        self.T[self.n_class, c] += 1\n",
        "                    else:\n",
        "                        self.T[sentence_class[wi - 1], c] += 1\n",
        "\n",
        "                    if wi == len_sentence - 1:  # the last word\n",
        "                        self.T[c, self.n_class + 1] += 1\n",
        "\n",
        "                    k = np.random.randint(self.n_topic)\n",
        "                    sentence_topic.append(k)\n",
        "                    self.DT[di, k] += 1\n",
        "                    if c == 0:\n",
        "                        self.TW[k, word] += 1\n",
        "                        self.sum_T[k] += 1\n",
        "\n",
        "                doc_class.append(sentence_class)\n",
        "                doc_topic.append(sentence_topic)\n",
        "\n",
        "            self.word_class.append(doc_class)\n",
        "            self.word_topic.append(doc_topic)\n",
        "\n",
        "    def gibbs_sampling(self, docs, max_iter):\n",
        "\n",
        "        for iter in xrange(max_iter):\n",
        "            tic = time.time()\n",
        "            for di, doc in enumerate(docs):\n",
        "                doc_topic = self.word_topic[di]\n",
        "                doc_class = self.word_class[di]\n",
        "\n",
        "                for si, sentence in enumerate(doc):\n",
        "                    len_sentence = len(sentence)\n",
        "\n",
        "                    sentence_topic = doc_topic[si]\n",
        "                    sentence_class = doc_class[si]\n",
        "\n",
        "                    for wi, word in enumerate(sentence):\n",
        "\n",
        "                        if wi == 0:\n",
        "                            prev_c = self.n_class\n",
        "                        else:\n",
        "                            prev_c = sentence_class[wi - 1]\n",
        "\n",
        "                        if wi == len_sentence - 1:\n",
        "                            next_c = self.n_class + 1\n",
        "                        else:\n",
        "                            next_c = sentence_class[wi + 1]\n",
        "\n",
        "                        old_c = sentence_class[wi]\n",
        "                        old_t = sentence_topic[wi]\n",
        "\n",
        "                        # remove previous state\n",
        "                        self.CW[old_c, word] -= 1\n",
        "                        self.sum_C[old_c] -= 1\n",
        "                        self.T[prev_c, old_c] -= 1\n",
        "                        self.T[old_c, next_c] -= 1\n",
        "\n",
        "                        # sample class\n",
        "                        prob = (self.T[prev_c, :self.n_class] / self.T[prev_c].sum()) \\\n",
        "                                * (self.T[:self.n_class, next_c] / np.sum(self.T[:self.n_class], 1))\n",
        "                        prob[0] *= (self.TW[old_t, word] / self.sum_T[old_t])\n",
        "                        prob[1:] *= self.CW[1:, word] / self.sum_C[1:]\n",
        "\n",
        "                        new_c = np.random.multinomial(1, prob).argmax()\n",
        "\n",
        "                        sentence_class[wi] = new_c\n",
        "                        self.CW[new_c, word] += 1\n",
        "                        self.sum_C[new_c] += 1\n",
        "                        self.T[prev_c, new_c] += 1\n",
        "                        self.T[new_c, next_c] += 1\n",
        "\n",
        "                        # remove previous topic state\n",
        "                        self.DT[di, old_t] -= 1\n",
        "                        if old_c == 0:\n",
        "                            self.TW[old_t, word] -= 1\n",
        "                            self.sum_T[old_t] -= 1\n",
        "\n",
        "                        # sample topic\n",
        "                        prob = self.DT[di].copy()\n",
        "                        if new_c == 0:\n",
        "                            prob *= self.TW[:, word] / self.sum_T\n",
        "                        prob /= np.sum(prob)\n",
        "\n",
        "                        new_topic = np.random.multinomial(1, prob).argmax()\n",
        "                        self.DT[di, new_topic] += 1\n",
        "                        if new_c == 0:\n",
        "                            self.TW[new_topic, word] += 1\n",
        "                            self.sum_T[new_topic] += 1\n",
        "                        sentence_topic[wi] = new_topic\n",
        "\n",
        "            if self.verbose:\n",
        "                ll = self.log_likelihood()\n",
        "                logger.info('[ITER] %d,\\telapsed time: %.2f\\tlog-likelihood:%.2f', iter, time.time() - tic, ll)\n",
        "\n",
        "    def log_likelihood(self):\n",
        "        \"\"\"\n",
        "        Compute marginal log likelihood of the model\n",
        "        \"\"\"\n",
        "        ll = self.n_doc * gammaln(self.alpha * self.n_topic)\n",
        "        ll -= self.n_doc * self.n_topic * gammaln(self.alpha)\n",
        "        ll += self.n_topic * gammaln(self.beta * self.n_voca)\n",
        "        ll -= self.n_topic * self.n_voca * gammaln(self.beta)\n",
        "\n",
        "        for di in xrange(self.n_doc):\n",
        "            ll += gammaln(self.DT[di]).sum() - gammaln(self.DT[di].sum())\n",
        "        for ki in xrange(self.n_topic):\n",
        "            ll += gammaln(self.TW[ki]).sum() - gammaln(self.sum_T[ki])\n",
        "\n",
        "        if self.n_class != 1:\n",
        "            ll += (self.n_class - 1) * gammaln(self.gamma * (self.n_class - 1))\n",
        "            ll -= (self.n_class - 1) * self.n_voca * gammaln(self.gamma)\n",
        "            ll += (self.n_class + 2) * gammaln(self.eta * (self.n_class + 2))\n",
        "            ll -= (self.n_class + 2) * (self.n_class + 2) * gammaln(self.eta)\n",
        "\n",
        "            for ci in xrange(1, self.n_class):\n",
        "                ll += gammaln(self.CW[ci]).sum() - gammaln(self.sum_C[ci])\n",
        "            for ci in xrange(self.n_class + 2):\n",
        "                ll += gammaln(self.T[ci]).sum() - gammaln(self.T[ci].sum())\n",
        "\n",
        "        return ll"
      ],
      "execution_count": 24,
      "outputs": []
    }
  ]
}