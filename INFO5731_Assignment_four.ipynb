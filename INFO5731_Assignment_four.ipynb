{
  "nbformat": 4,
  "nbformat_minor": 0,
  "metadata": {
    "colab": {
      "name": "INFO5731_Assignment_four.ipynb",
      "provenance": [],
      "collapsed_sections": [],
      "include_colab_link": true
    },
    "kernelspec": {
      "display_name": "Python 3",
      "language": "python",
      "name": "python3"
    },
    "language_info": {
      "codemirror_mode": {
        "name": "ipython",
        "version": 3
      },
      "file_extension": ".py",
      "mimetype": "text/x-python",
      "name": "python",
      "nbconvert_exporter": "python",
      "pygments_lexer": "ipython3",
      "version": "3.7.4"
    }
  },
  "cells": [
    {
      "cell_type": "markdown",
      "metadata": {
        "id": "view-in-github",
        "colab_type": "text"
      },
      "source": [
        "<a href=\"https://colab.research.google.com/github/divyaseri/divya_INFO5731_Fall2020/blob/master/INFO5731_Assignment_four.ipynb\" target=\"_parent\"><img src=\"https://colab.research.google.com/assets/colab-badge.svg\" alt=\"Open In Colab\"/></a>"
      ]
    },
    {
      "cell_type": "markdown",
      "metadata": {
        "id": "USSdXHuqnwv9"
      },
      "source": [
        "# **INFO5731 Assignment Four**\n",
        "\n",
        "In this assignment, you are required to conduct topic modeling, sentiment analysis, and regression analysis."
      ]
    },
    {
      "cell_type": "markdown",
      "metadata": {
        "id": "YWxodXh5n4xF"
      },
      "source": [
        "# **Question 1: Topic Modeling**"
      ]
    },
    {
      "cell_type": "markdown",
      "metadata": {
        "id": "TenBkDJ5n95k"
      },
      "source": [
        "(30 points). This question is designed to help you understand topic modeling better as well as how to visualize topic modeling results, aims to collect the human meanings of documents. Based on the yelp review data (only the review text will be used for this question), which can be download from Dropbox: https://www.dropbox.com/s/59hsrk56sfwh9u2/Assignment%20four%20data%20Yelp%20%28question%201%20and%202%29.zip?dl=0, **select two models** and write a python program to **identify the top 20 topics (with 15 words for each topic) in the dataset**. Before answering this question, please review the materials in lesson 8, as well as the introduction of these models by the links provided.\n",
        "\n",
        "(1)   Labeled LDA (LLDA): https://github.com/JoeZJH/Labeled-LDA-Python\n",
        "\n",
        "(2)   Biterm Topic Model (BTM): https://github.com/markoarnauto/biterm\n",
        "\n",
        "(3)   HMM-LDA: https://github.com/dongwookim-ml/python-topic-model\n",
        "\n",
        "(4)   SupervisedLDA: https://github.com/dongwookim-ml/python-topic-model/tree/master/notebook\n",
        "\n",
        "(5)   Relational Topic Model: https://github.com/dongwookim-ml/python-topic-model/tree/master/notebook\n",
        "\n",
        "(6)   LDA2VEC: https://github.com/cemoody/lda2vec\n",
        "\n",
        "(7)   BERTopic: https://github.com/MaartenGr/BERTopic\n",
        "\n",
        "(8)   LDA+BERT Topic Modeling: https://www.kaggle.com/dskswu/topic-modeling-bert-lda\n",
        "\n",
        "(9)   Clustering for Topic models: (paper: https://arxiv.org/abs/2004.14914), (code: https://github.com/adalmia96/Cluster-Analysis)\n",
        "\n",
        "\n",
        "**The following information should be reported:**\n",
        "\n",
        "(1) Top 20 clusters for topic modeling.\n",
        "\n",
        "(2) Summarize and describe the topic for each cluster. \n",
        "\n",
        "(3) Visualize the topic modeling reasults by using pyLDAVis: https://www.machinelearningplus.com/nlp/topic-modeling-visualization-how-to-present-results-lda-models/#14.-pyLDAVis\n"
      ]
    },
    {
      "cell_type": "code",
      "metadata": {
        "id": "PuFPKhC0m1fd",
        "colab": {
          "base_uri": "https://localhost:8080/"
        },
        "outputId": "c75b7ae9-5194-4e6f-f3d7-d8f8adce75d3"
      },
      "source": [
        "import json\n",
        "import pandas as pd\n",
        "\n",
        "from nltk.corpus import stopwords\n",
        "import string\n",
        "from nltk.stem.wordnet import WordNetLemmatizer\n",
        "import nltk\n",
        "nltk.download('stopwords')\n",
        "nltk.download('wordnet')"
      ],
      "execution_count": null,
      "outputs": [
        {
          "output_type": "stream",
          "text": [
            "[nltk_data] Downloading package stopwords to /root/nltk_data...\n",
            "[nltk_data]   Package stopwords is already up-to-date!\n",
            "[nltk_data] Downloading package wordnet to /root/nltk_data...\n",
            "[nltk_data]   Package wordnet is already up-to-date!\n"
          ],
          "name": "stdout"
        },
        {
          "output_type": "execute_result",
          "data": {
            "text/plain": [
              "True"
            ]
          },
          "metadata": {
            "tags": []
          },
          "execution_count": 82
        }
      ]
    },
    {
      "cell_type": "code",
      "metadata": {
        "colab": {
          "base_uri": "https://localhost:8080/",
          "height": 289
        },
        "id": "2fzYR3vkZyzM",
        "outputId": "c5d9edd4-abc7-4687-a2c6-7a1eca2d657b"
      },
      "source": [
        "df = pd.read_json (r'/content/yelp_dataset~1.json')\n",
        "df.head()"
      ],
      "execution_count": null,
      "outputs": [
        {
          "output_type": "execute_result",
          "data": {
            "text/html": [
              "<div>\n",
              "<style scoped>\n",
              "    .dataframe tbody tr th:only-of-type {\n",
              "        vertical-align: middle;\n",
              "    }\n",
              "\n",
              "    .dataframe tbody tr th {\n",
              "        vertical-align: top;\n",
              "    }\n",
              "\n",
              "    .dataframe thead th {\n",
              "        text-align: right;\n",
              "    }\n",
              "</style>\n",
              "<table border=\"1\" class=\"dataframe\">\n",
              "  <thead>\n",
              "    <tr style=\"text-align: right;\">\n",
              "      <th></th>\n",
              "      <th>review_id</th>\n",
              "      <th>user_id</th>\n",
              "      <th>business_id</th>\n",
              "      <th>stars</th>\n",
              "      <th>useful</th>\n",
              "      <th>funny</th>\n",
              "      <th>cool</th>\n",
              "      <th>text</th>\n",
              "      <th>date</th>\n",
              "    </tr>\n",
              "  </thead>\n",
              "  <tbody>\n",
              "    <tr>\n",
              "      <th>0</th>\n",
              "      <td>vNHdIY_wU_btRuHK3HMCgQ</td>\n",
              "      <td>mXBkddhNdHjw4vRmo7X8Hg</td>\n",
              "      <td>XWxYHSld0T2TfANwt1KmqA</td>\n",
              "      <td>5</td>\n",
              "      <td>0</td>\n",
              "      <td>0</td>\n",
              "      <td>0</td>\n",
              "      <td>We love Cafe Americano! We've been a couple ti...</td>\n",
              "      <td>2018-08-24 00:20:02</td>\n",
              "    </tr>\n",
              "    <tr>\n",
              "      <th>1</th>\n",
              "      <td>B_1HqrwINKkIEnekkxtpsA</td>\n",
              "      <td>1kNsEAhGU8d8xugMuXJGFA</td>\n",
              "      <td>cDoo0Pf1d_P79Rq3ZNk-Mw</td>\n",
              "      <td>3</td>\n",
              "      <td>1</td>\n",
              "      <td>0</td>\n",
              "      <td>0</td>\n",
              "      <td>Sigh. This review was tough to give, as it cou...</td>\n",
              "      <td>2013-07-13 00:57:45</td>\n",
              "    </tr>\n",
              "    <tr>\n",
              "      <th>2</th>\n",
              "      <td>x_AWd7i9NVCCynAyvk99VQ</td>\n",
              "      <td>U4INQZOPSUaj8hMjLlZ3KA</td>\n",
              "      <td>pKOy7-pP-BdSVcCrtQo_ww</td>\n",
              "      <td>5</td>\n",
              "      <td>3</td>\n",
              "      <td>0</td>\n",
              "      <td>1</td>\n",
              "      <td>This is a review of Pliner's approach and styl...</td>\n",
              "      <td>2011-01-08 22:46:24</td>\n",
              "    </tr>\n",
              "    <tr>\n",
              "      <th>3</th>\n",
              "      <td>k29ZobahoFGWPePsxd35Ng</td>\n",
              "      <td>YthHssImvAsOjE2AWWmg6w</td>\n",
              "      <td>6Cl15LapBVhw4ZfBIeVJJA</td>\n",
              "      <td>5</td>\n",
              "      <td>0</td>\n",
              "      <td>0</td>\n",
              "      <td>0</td>\n",
              "      <td>Absolutely delicious. Ordered chicken/beef kab...</td>\n",
              "      <td>2016-01-30 03:24:38</td>\n",
              "    </tr>\n",
              "    <tr>\n",
              "      <th>4</th>\n",
              "      <td>MS5Qm98MZOb747tkObIP8w</td>\n",
              "      <td>pvXNlamX78K_fQVUz8C3sw</td>\n",
              "      <td>NIPn7olHs6k3Svxy6DHUQA</td>\n",
              "      <td>3</td>\n",
              "      <td>0</td>\n",
              "      <td>0</td>\n",
              "      <td>0</td>\n",
              "      <td>Really good steak house. Steak is always seaso...</td>\n",
              "      <td>2014-12-17 19:48:47</td>\n",
              "    </tr>\n",
              "  </tbody>\n",
              "</table>\n",
              "</div>"
            ],
            "text/plain": [
              "                review_id  ...                date\n",
              "0  vNHdIY_wU_btRuHK3HMCgQ  ... 2018-08-24 00:20:02\n",
              "1  B_1HqrwINKkIEnekkxtpsA  ... 2013-07-13 00:57:45\n",
              "2  x_AWd7i9NVCCynAyvk99VQ  ... 2011-01-08 22:46:24\n",
              "3  k29ZobahoFGWPePsxd35Ng  ... 2016-01-30 03:24:38\n",
              "4  MS5Qm98MZOb747tkObIP8w  ... 2014-12-17 19:48:47\n",
              "\n",
              "[5 rows x 9 columns]"
            ]
          },
          "metadata": {
            "tags": []
          },
          "execution_count": 83
        }
      ]
    },
    {
      "cell_type": "code",
      "metadata": {
        "colab": {
          "base_uri": "https://localhost:8080/",
          "height": 202
        },
        "id": "eKlzLkdRZ7fL",
        "outputId": "49feaa52-ee1f-479f-f204-b93cf70c78cb"
      },
      "source": [
        "df1 =df.drop(['review_id','user_id','business_id','review_id','date','useful','funny','cool'],axis =1)\n",
        "df1.head()"
      ],
      "execution_count": 99,
      "outputs": [
        {
          "output_type": "execute_result",
          "data": {
            "text/html": [
              "<div>\n",
              "<style scoped>\n",
              "    .dataframe tbody tr th:only-of-type {\n",
              "        vertical-align: middle;\n",
              "    }\n",
              "\n",
              "    .dataframe tbody tr th {\n",
              "        vertical-align: top;\n",
              "    }\n",
              "\n",
              "    .dataframe thead th {\n",
              "        text-align: right;\n",
              "    }\n",
              "</style>\n",
              "<table border=\"1\" class=\"dataframe\">\n",
              "  <thead>\n",
              "    <tr style=\"text-align: right;\">\n",
              "      <th></th>\n",
              "      <th>stars</th>\n",
              "      <th>text</th>\n",
              "    </tr>\n",
              "  </thead>\n",
              "  <tbody>\n",
              "    <tr>\n",
              "      <th>0</th>\n",
              "      <td>5</td>\n",
              "      <td>We love Cafe Americano! We've been a couple ti...</td>\n",
              "    </tr>\n",
              "    <tr>\n",
              "      <th>1</th>\n",
              "      <td>3</td>\n",
              "      <td>Sigh. This review was tough to give, as it cou...</td>\n",
              "    </tr>\n",
              "    <tr>\n",
              "      <th>2</th>\n",
              "      <td>5</td>\n",
              "      <td>This is a review of Pliner's approach and styl...</td>\n",
              "    </tr>\n",
              "    <tr>\n",
              "      <th>3</th>\n",
              "      <td>5</td>\n",
              "      <td>Absolutely delicious. Ordered chicken/beef kab...</td>\n",
              "    </tr>\n",
              "    <tr>\n",
              "      <th>4</th>\n",
              "      <td>3</td>\n",
              "      <td>Really good steak house. Steak is always seaso...</td>\n",
              "    </tr>\n",
              "  </tbody>\n",
              "</table>\n",
              "</div>"
            ],
            "text/plain": [
              "   stars                                               text\n",
              "0      5  We love Cafe Americano! We've been a couple ti...\n",
              "1      3  Sigh. This review was tough to give, as it cou...\n",
              "2      5  This is a review of Pliner's approach and styl...\n",
              "3      5  Absolutely delicious. Ordered chicken/beef kab...\n",
              "4      3  Really good steak house. Steak is always seaso..."
            ]
          },
          "metadata": {
            "tags": []
          },
          "execution_count": 99
        }
      ]
    },
    {
      "cell_type": "code",
      "metadata": {
        "id": "fpk8-co1aGc0"
      },
      "source": [
        "stop = set(stopwords.words('english'))\n",
        "exclude = set(string.punctuation)\n",
        "lemma = WordNetLemmatizer()\n",
        "\n",
        "def text_clean(text):\n",
        "    stop_free = ' '.join([word for word in text.lower().split() if word not in stop])\n",
        "    punc_free = ''.join(ch for ch in stop_free if ch not in exclude)\n",
        "    normalized = ' '.join([lemma.lemmatize(word) for word in punc_free.split()])\n",
        "    return normalized.split()"
      ],
      "execution_count": null,
      "outputs": []
    },
    {
      "cell_type": "code",
      "metadata": {
        "colab": {
          "base_uri": "https://localhost:8080/",
          "height": 415
        },
        "id": "kN_CcKBVaSw4",
        "outputId": "be6f5855-2940-4ddf-e385-33363c1dc2f7"
      },
      "source": [
        "df1['cleaned text']=df1['text'].apply(text_clean)\n",
        "df1"
      ],
      "execution_count": 101,
      "outputs": [
        {
          "output_type": "execute_result",
          "data": {
            "text/html": [
              "<div>\n",
              "<style scoped>\n",
              "    .dataframe tbody tr th:only-of-type {\n",
              "        vertical-align: middle;\n",
              "    }\n",
              "\n",
              "    .dataframe tbody tr th {\n",
              "        vertical-align: top;\n",
              "    }\n",
              "\n",
              "    .dataframe thead th {\n",
              "        text-align: right;\n",
              "    }\n",
              "</style>\n",
              "<table border=\"1\" class=\"dataframe\">\n",
              "  <thead>\n",
              "    <tr style=\"text-align: right;\">\n",
              "      <th></th>\n",
              "      <th>stars</th>\n",
              "      <th>text</th>\n",
              "      <th>cleaned text</th>\n",
              "    </tr>\n",
              "  </thead>\n",
              "  <tbody>\n",
              "    <tr>\n",
              "      <th>0</th>\n",
              "      <td>5</td>\n",
              "      <td>We love Cafe Americano! We've been a couple ti...</td>\n",
              "      <td>[love, cafe, americano, weve, couple, time, lu...</td>\n",
              "    </tr>\n",
              "    <tr>\n",
              "      <th>1</th>\n",
              "      <td>3</td>\n",
              "      <td>Sigh. This review was tough to give, as it cou...</td>\n",
              "      <td>[sigh, review, tough, give, couldve, anywhere,...</td>\n",
              "    </tr>\n",
              "    <tr>\n",
              "      <th>2</th>\n",
              "      <td>5</td>\n",
              "      <td>This is a review of Pliner's approach and styl...</td>\n",
              "      <td>[review, pliners, approach, style, truly, orig...</td>\n",
              "    </tr>\n",
              "    <tr>\n",
              "      <th>3</th>\n",
              "      <td>5</td>\n",
              "      <td>Absolutely delicious. Ordered chicken/beef kab...</td>\n",
              "      <td>[absolutely, delicious, ordered, chickenbeef, ...</td>\n",
              "    </tr>\n",
              "    <tr>\n",
              "      <th>4</th>\n",
              "      <td>3</td>\n",
              "      <td>Really good steak house. Steak is always seaso...</td>\n",
              "      <td>[really, good, steak, house, steak, always, se...</td>\n",
              "    </tr>\n",
              "    <tr>\n",
              "      <th>...</th>\n",
              "      <td>...</td>\n",
              "      <td>...</td>\n",
              "      <td>...</td>\n",
              "    </tr>\n",
              "    <tr>\n",
              "      <th>95</th>\n",
              "      <td>4</td>\n",
              "      <td>Surprised they didn't open earlier in a Sunday...</td>\n",
              "      <td>[surprised, open, earlier, sunday, worth, wait...</td>\n",
              "    </tr>\n",
              "    <tr>\n",
              "      <th>96</th>\n",
              "      <td>5</td>\n",
              "      <td>Finding a solid spot to get a quality cut can ...</td>\n",
              "      <td>[finding, solid, spot, get, quality, cut, chal...</td>\n",
              "    </tr>\n",
              "    <tr>\n",
              "      <th>97</th>\n",
              "      <td>5</td>\n",
              "      <td>ATTENTION DOWNTown: this place has amazing foo...</td>\n",
              "      <td>[attention, downtown, place, amazing, food, co...</td>\n",
              "    </tr>\n",
              "    <tr>\n",
              "      <th>98</th>\n",
              "      <td>5</td>\n",
              "      <td>A new fav for sure!!! Loving the concept of bu...</td>\n",
              "      <td>[new, fav, sure, loving, concept, building, bo...</td>\n",
              "    </tr>\n",
              "    <tr>\n",
              "      <th>99</th>\n",
              "      <td>5</td>\n",
              "      <td>Courtney is the best waxer I've ever had! I've...</td>\n",
              "      <td>[courtney, best, waxer, ive, ever, had, ive, g...</td>\n",
              "    </tr>\n",
              "  </tbody>\n",
              "</table>\n",
              "<p>100 rows × 3 columns</p>\n",
              "</div>"
            ],
            "text/plain": [
              "    stars  ...                                       cleaned text\n",
              "0       5  ...  [love, cafe, americano, weve, couple, time, lu...\n",
              "1       3  ...  [sigh, review, tough, give, couldve, anywhere,...\n",
              "2       5  ...  [review, pliners, approach, style, truly, orig...\n",
              "3       5  ...  [absolutely, delicious, ordered, chickenbeef, ...\n",
              "4       3  ...  [really, good, steak, house, steak, always, se...\n",
              "..    ...  ...                                                ...\n",
              "95      4  ...  [surprised, open, earlier, sunday, worth, wait...\n",
              "96      5  ...  [finding, solid, spot, get, quality, cut, chal...\n",
              "97      5  ...  [attention, downtown, place, amazing, food, co...\n",
              "98      5  ...  [new, fav, sure, loving, concept, building, bo...\n",
              "99      5  ...  [courtney, best, waxer, ive, ever, had, ive, g...\n",
              "\n",
              "[100 rows x 3 columns]"
            ]
          },
          "metadata": {
            "tags": []
          },
          "execution_count": 101
        }
      ]
    },
    {
      "cell_type": "code",
      "metadata": {
        "colab": {
          "base_uri": "https://localhost:8080/"
        },
        "id": "d3FTNXq-ajRK",
        "outputId": "d3bb14d1-600a-4708-8164-6120f0ae0ab5"
      },
      "source": [
        "dictionary = corpora.Dictionary(df1['cleaned text'])\n",
        "print('sum of the number of unique words per document:')\n",
        "print(dictionary.num_nnz)\n",
        "\n",
        "doc_term_matrix = [dictionary.doc2bow(doc) for doc in df1['cleaned text'] ]\n",
        "print('Term document matrix')\n",
        "print(len(doc_term_matrix))"
      ],
      "execution_count": null,
      "outputs": [
        {
          "output_type": "stream",
          "text": [
            "sum of the number of unique words per document:\n",
            "5275\n",
            "Term document matrix\n",
            "100\n"
          ],
          "name": "stdout"
        }
      ]
    },
    {
      "cell_type": "code",
      "metadata": {
        "colab": {
          "base_uri": "https://localhost:8080/"
        },
        "id": "_j0-PRyrajeW",
        "outputId": "565dfe33-fdbd-4ac1-9d84-efe87228a522"
      },
      "source": [
        "pip install pyLDAvis"
      ],
      "execution_count": null,
      "outputs": [
        {
          "output_type": "stream",
          "text": [
            "Collecting pyLDAvis\n",
            "\u001b[?25l  Downloading https://files.pythonhosted.org/packages/a5/3a/af82e070a8a96e13217c8f362f9a73e82d61ac8fff3a2561946a97f96266/pyLDAvis-2.1.2.tar.gz (1.6MB)\n",
            "\u001b[K     |████████████████████████████████| 1.6MB 5.7MB/s \n",
            "\u001b[?25hRequirement already satisfied: wheel>=0.23.0 in /usr/local/lib/python3.6/dist-packages (from pyLDAvis) (0.35.1)\n",
            "Requirement already satisfied: numpy>=1.9.2 in /usr/local/lib/python3.6/dist-packages (from pyLDAvis) (1.18.5)\n",
            "Requirement already satisfied: scipy>=0.18.0 in /usr/local/lib/python3.6/dist-packages (from pyLDAvis) (1.4.1)\n",
            "Requirement already satisfied: pandas>=0.17.0 in /usr/local/lib/python3.6/dist-packages (from pyLDAvis) (1.1.4)\n",
            "Requirement already satisfied: joblib>=0.8.4 in /usr/local/lib/python3.6/dist-packages (from pyLDAvis) (0.17.0)\n",
            "Requirement already satisfied: jinja2>=2.7.2 in /usr/local/lib/python3.6/dist-packages (from pyLDAvis) (2.11.2)\n",
            "Requirement already satisfied: numexpr in /usr/local/lib/python3.6/dist-packages (from pyLDAvis) (2.7.1)\n",
            "Requirement already satisfied: pytest in /usr/local/lib/python3.6/dist-packages (from pyLDAvis) (3.6.4)\n",
            "Requirement already satisfied: future in /usr/local/lib/python3.6/dist-packages (from pyLDAvis) (0.16.0)\n",
            "Collecting funcy\n",
            "  Downloading https://files.pythonhosted.org/packages/66/89/479de0afbbfb98d1c4b887936808764627300208bb771fcd823403645a36/funcy-1.15-py2.py3-none-any.whl\n",
            "Requirement already satisfied: pytz>=2017.2 in /usr/local/lib/python3.6/dist-packages (from pandas>=0.17.0->pyLDAvis) (2018.9)\n",
            "Requirement already satisfied: python-dateutil>=2.7.3 in /usr/local/lib/python3.6/dist-packages (from pandas>=0.17.0->pyLDAvis) (2.8.1)\n",
            "Requirement already satisfied: MarkupSafe>=0.23 in /usr/local/lib/python3.6/dist-packages (from jinja2>=2.7.2->pyLDAvis) (1.1.1)\n",
            "Requirement already satisfied: pluggy<0.8,>=0.5 in /usr/local/lib/python3.6/dist-packages (from pytest->pyLDAvis) (0.7.1)\n",
            "Requirement already satisfied: six>=1.10.0 in /usr/local/lib/python3.6/dist-packages (from pytest->pyLDAvis) (1.15.0)\n",
            "Requirement already satisfied: atomicwrites>=1.0 in /usr/local/lib/python3.6/dist-packages (from pytest->pyLDAvis) (1.4.0)\n",
            "Requirement already satisfied: setuptools in /usr/local/lib/python3.6/dist-packages (from pytest->pyLDAvis) (50.3.2)\n",
            "Requirement already satisfied: attrs>=17.4.0 in /usr/local/lib/python3.6/dist-packages (from pytest->pyLDAvis) (20.3.0)\n",
            "Requirement already satisfied: py>=1.5.0 in /usr/local/lib/python3.6/dist-packages (from pytest->pyLDAvis) (1.9.0)\n",
            "Requirement already satisfied: more-itertools>=4.0.0 in /usr/local/lib/python3.6/dist-packages (from pytest->pyLDAvis) (8.6.0)\n",
            "Building wheels for collected packages: pyLDAvis\n",
            "  Building wheel for pyLDAvis (setup.py) ... \u001b[?25l\u001b[?25hdone\n",
            "  Created wheel for pyLDAvis: filename=pyLDAvis-2.1.2-py2.py3-none-any.whl size=97712 sha256=84959ce34873a0ade09a9e136d61d06126984cec97802a2ed1d6988029ad2bc5\n",
            "  Stored in directory: /root/.cache/pip/wheels/98/71/24/513a99e58bb6b8465bae4d2d5e9dba8f0bef8179e3051ac414\n",
            "Successfully built pyLDAvis\n",
            "Installing collected packages: funcy, pyLDAvis\n",
            "Successfully installed funcy-1.15 pyLDAvis-2.1.2\n"
          ],
          "name": "stdout"
        }
      ]
    },
    {
      "cell_type": "code",
      "metadata": {
        "id": "a3aSmOvAZvZI"
      },
      "source": [
        "import warnings\n",
        "warnings.simplefilter('ignore')\n",
        "from itertools import chain"
      ],
      "execution_count": null,
      "outputs": []
    },
    {
      "cell_type": "code",
      "metadata": {
        "id": "OS5zIQEVZris"
      },
      "source": [
        "import gensim\n",
        "from gensim.models.ldamulticore import LdaMulticore\n",
        "from gensim import corpora, models\n",
        "import pyLDAvis.gensim "
      ],
      "execution_count": null,
      "outputs": []
    },
    {
      "cell_type": "code",
      "metadata": {
        "id": "-sLqab1Sbx0l"
      },
      "source": [
        "lda = gensim.models.ldamodel.LdaModel"
      ],
      "execution_count": null,
      "outputs": []
    },
    {
      "cell_type": "code",
      "metadata": {
        "colab": {
          "base_uri": "https://localhost:8080/"
        },
        "id": "MoELsgbgb3m5",
        "outputId": "155fe5f3-08a4-455e-a2d7-00a2a4d59a72"
      },
      "source": [
        "num_topics=20\n",
        "%time ldamodel = lda(doc_term_matrix,num_topics=num_topics,id2word=dictionary,passes=50,minimum_probability=0)"
      ],
      "execution_count": null,
      "outputs": [
        {
          "output_type": "stream",
          "text": [
            "CPU times: user 4.41 s, sys: 0 ns, total: 4.41 s\n",
            "Wall time: 4.42 s\n"
          ],
          "name": "stdout"
        }
      ]
    },
    {
      "cell_type": "code",
      "metadata": {
        "colab": {
          "base_uri": "https://localhost:8080/"
        },
        "id": "cyx5Bcy7cM4c",
        "outputId": "740c13ce-e14c-4246-d148-dd08cb1c9d4d"
      },
      "source": [
        "ldamodel.print_topics(num_topics=num_topics)"
      ],
      "execution_count": null,
      "outputs": [
        {
          "output_type": "execute_result",
          "data": {
            "text/plain": [
              "[(0,\n",
              "  '0.012*\"bond\" + 0.009*\"talking\" + 0.009*\"lettuce\" + 0.007*\"company\" + 0.007*\"reply\" + 0.007*\"call\" + 0.007*\"ticket\" + 0.007*\"shoe\" + 0.007*\"person\" + 0.007*\"bail\"'),\n",
              " (1,\n",
              "  '0.012*\"favorite\" + 0.012*\"really\" + 0.012*\"great\" + 0.012*\"place\" + 0.009*\"combo\" + 0.009*\"manager\" + 0.009*\"facility\" + 0.009*\"unit\" + 0.009*\"get\" + 0.009*\"always\"'),\n",
              " (2,\n",
              "  '0.010*\"car\" + 0.010*\"im\" + 0.010*\"part\" + 0.010*\"need\" + 0.010*\"go\" + 0.010*\"porsche\" + 0.010*\"968\" + 0.005*\"next\" + 0.005*\"directly\" + 0.005*\"something\"'),\n",
              " (3,\n",
              "  '0.022*\"food\" + 0.011*\"love\" + 0.010*\"went\" + 0.010*\"time\" + 0.010*\"chicken\" + 0.010*\"restaurant\" + 0.010*\"quality\" + 0.008*\"service\" + 0.008*\"great\" + 0.008*\"sauce\"'),\n",
              " (4,\n",
              "  '0.013*\"game\" + 0.010*\"better\" + 0.010*\"really\" + 0.010*\"out\" + 0.010*\"made\" + 0.010*\"spring\" + 0.010*\"training\" + 0.007*\"come\" + 0.007*\"butter\" + 0.007*\"bread\"'),\n",
              " (5,\n",
              "  '0.017*\"food\" + 0.017*\"time\" + 0.013*\"nice\" + 0.013*\"love\" + 0.009*\"place\" + 0.009*\"recommend\" + 0.009*\"ive\" + 0.009*\"amazing\" + 0.009*\"highly\" + 0.004*\"great\"'),\n",
              " (6,\n",
              "  '0.024*\"service\" + 0.021*\"good\" + 0.012*\"compared\" + 0.012*\"star\" + 0.012*\"cream\" + 0.012*\"got\" + 0.012*\"ice\" + 0.012*\"everything\" + 0.012*\"soup\" + 0.011*\"sure\"'),\n",
              " (7,\n",
              "  '0.017*\"food\" + 0.013*\"good\" + 0.012*\"nail\" + 0.010*\"time\" + 0.009*\"well\" + 0.009*\"table\" + 0.008*\"great\" + 0.007*\"shrimp\" + 0.007*\"place\" + 0.007*\"love\"'),\n",
              " (8,\n",
              "  '0.015*\"bad\" + 0.013*\"thing\" + 0.012*\"friend\" + 0.012*\"food\" + 0.012*\"used\" + 0.012*\"installation\" + 0.012*\"pedicure\" + 0.012*\"tool\" + 0.012*\"quality\" + 0.010*\"come\"'),\n",
              " (9,\n",
              "  '0.018*\"cream\" + 0.015*\"ice\" + 0.012*\"food\" + 0.012*\"store\" + 0.009*\"owner\" + 0.009*\"place\" + 0.009*\"spot\" + 0.006*\"great\" + 0.006*\"price\" + 0.006*\"35\"'),\n",
              " (10,\n",
              "  '0.016*\"produce\" + 0.012*\"price\" + 0.012*\"priced\" + 0.012*\"though\" + 0.011*\"make\" + 0.008*\"everything\" + 0.008*\"still\" + 0.008*\"table\" + 0.008*\"parking\" + 0.008*\"low\"'),\n",
              " (11,\n",
              "  '0.014*\"butter\" + 0.012*\"beef\" + 0.010*\"noodle\" + 0.010*\"thai\" + 0.010*\"steak\" + 0.010*\"well\" + 0.010*\"served\" + 0.010*\"layer\" + 0.007*\"got\" + 0.007*\"one\"'),\n",
              " (12,\n",
              "  '0.013*\"good\" + 0.013*\"place\" + 0.013*\"price\" + 0.013*\"visit\" + 0.013*\"delicious\" + 0.013*\"fresh\" + 0.007*\"food\" + 0.007*\"got\" + 0.007*\"tea\" + 0.007*\"love\"'),\n",
              " (13,\n",
              "  '0.013*\"food\" + 0.012*\"get\" + 0.011*\"great\" + 0.010*\"go\" + 0.010*\"time\" + 0.009*\"one\" + 0.008*\"vig\" + 0.008*\"good\" + 0.008*\"place\" + 0.007*\"really\"'),\n",
              " (14,\n",
              "  '0.014*\"place\" + 0.010*\"great\" + 0.010*\"cigar\" + 0.009*\"good\" + 0.009*\"service\" + 0.006*\"card\" + 0.006*\"sub\" + 0.006*\"probably\" + 0.006*\"valet\" + 0.006*\"hotel\"'),\n",
              " (15,\n",
              "  '0.017*\"burger\" + 0.011*\"around\" + 0.009*\"order\" + 0.009*\"fry\" + 0.009*\"place\" + 0.008*\"great\" + 0.008*\"potato\" + 0.008*\"restaurant\" + 0.008*\"love\" + 0.008*\"came\"'),\n",
              " (16,\n",
              "  '0.015*\"well\" + 0.011*\"see\" + 0.011*\"exhibit\" + 0.008*\"get\" + 0.008*\"infused\" + 0.008*\"back\" + 0.008*\"food\" + 0.008*\"special\" + 0.008*\"spend\" + 0.008*\"interesting\"'),\n",
              " (17,\n",
              "  '0.017*\"place\" + 0.013*\"people\" + 0.013*\"one\" + 0.013*\"vegetarian\" + 0.010*\"egg\" + 0.010*\"great\" + 0.010*\"fish\" + 0.010*\"menu\" + 0.010*\"vegan\" + 0.007*\"get\"'),\n",
              " (18,\n",
              "  '0.017*\"good\" + 0.015*\"really\" + 0.015*\"small\" + 0.010*\"table\" + 0.007*\"food\" + 0.007*\"star\" + 0.007*\"drink\" + 0.007*\"5\" + 0.007*\"fried\" + 0.007*\"2\"'),\n",
              " (19,\n",
              "  '0.014*\"place\" + 0.013*\"great\" + 0.011*\"bar\" + 0.009*\"said\" + 0.009*\"come\" + 0.008*\"friendly\" + 0.007*\"like\" + 0.007*\"food\" + 0.007*\"staff\" + 0.007*\"got\"')]"
            ]
          },
          "metadata": {
            "tags": []
          },
          "execution_count": 25
        }
      ]
    },
    {
      "cell_type": "code",
      "metadata": {
        "colab": {
          "base_uri": "https://localhost:8080/",
          "height": 881
        },
        "id": "etgLKEuncSaJ",
        "outputId": "51a0828b-e7ff-455b-d566-38a09e60e990"
      },
      "source": [
        "lda_display = pyLDAvis.gensim.prepare(ldamodel, doc_term_matrix, dictionary, sort_topics=False, mds='mmds')\n",
        "pyLDAvis.display(lda_display)"
      ],
      "execution_count": null,
      "outputs": [
        {
          "output_type": "execute_result",
          "data": {
            "text/html": [
              "\n",
              "<link rel=\"stylesheet\" type=\"text/css\" href=\"https://cdn.rawgit.com/bmabey/pyLDAvis/files/ldavis.v1.0.0.css\">\n",
              "\n",
              "\n",
              "<div id=\"ldavis_el551406376650591284027094745\"></div>\n",
              "<script type=\"text/javascript\">\n",
              "\n",
              "var ldavis_el551406376650591284027094745_data = {\"mdsDat\": {\"x\": [-0.08600234668329304, 0.08069616802798935, -0.018952068250071303, -0.18004223881477766, -0.13901938406133713, 0.041257649066570326, 0.14893210262304654, -0.2538619116885001, 0.13661842065903337, -0.05853988830900432, -0.1284323463334663, -0.004512450426745231, -0.011338027435748356, 0.17978830571870488, 0.2539273557697344, 0.24735503237390166, 0.02775642051543555, 0.0915742066024728, -0.21252380256521386, -0.1146811967887316], \"y\": [0.29247450600237773, -0.1853647731028895, 0.09764558250317047, -0.04679871784254835, 0.1537569722984562, 0.05750585353658878, 0.03461646864992586, 0.048168435571585407, 0.1866309073139429, -0.11119159279890554, 0.06000546713940694, -0.26745234886727925, -0.0006082520627071276, -0.15781697368803005, -0.04526252539007917, 0.11234970324537802, 0.19661839833127054, -0.07567790222213007, -0.13971966266399294, -0.20987954595354108], \"topics\": [1, 2, 3, 4, 5, 6, 7, 8, 9, 10, 11, 12, 13, 14, 15, 16, 17, 18, 19, 20], \"cluster\": [1, 1, 1, 1, 1, 1, 1, 1, 1, 1, 1, 1, 1, 1, 1, 1, 1, 1, 1, 1], \"Freq\": [7.249532016688508, 3.6227755001578785, 1.4811090208756013, 4.38437494758155, 3.0401933644471564, 1.9336926157720622, 2.3628503477916434, 10.304567612034434, 3.535594347193112, 3.3998480777759363, 2.401962875362241, 4.8323182371454925, 0.8258562131618241, 17.01640042616309, 8.051455801237827, 8.413077920205158, 2.540929694582447, 3.024825736470572, 4.6954490267525655, 6.883186218600899]}, \"tinfo\": {\"Term\": [\"good\", \"time\", \"service\", \"food\", \"place\", \"love\", \"really\", \"price\", \"delicious\", \"burger\", \"cream\", \"well\", \"one\", \"great\", \"table\", \"nice\", \"come\", \"people\", \"quality\", \"customer\", \"got\", \"ice\", \"friend\", \"see\", \"fresh\", \"restaurant\", \"butter\", \"star\", \"get\", \"friendly\", \"bond\", \"shoe\", \"person\", \"ticket\", \"bail\", \"what\", \"dance\", \"wheel\", \"basic\", \"carousel\", \"ferris\", \"cup\", \"lettuce\", \"talking\", \"located\", \"answering\", \"specific\", \"sale\", \"california\", \"mia\", \"accessed\", \"highlight\", \"garage\", \"per\", \"answer\", \"irish\", \"wish\", \"ride\", \"conversation\", \"valley\", \"company\", \"reply\", \"child\", \"near\", \"hell\", \"question\", \"pair\", \"about\", \"call\", \"type\", \"business\", \"road\", \"street\", \"3\", \"anything\", \"parking\", \"customer\", \"free\", \"vega\", \"review\", \"uhaul\", \"move\", \"bath\", \"unit\", \"expect\", \"chickenbeef\", \"samosa\", \"cle\", \"heart\", \"possibly\", \"refreshing\", \"tuna\", \"storage\", \"1916\", \"returned\", \"furniture\", \"trust\", \"suspicious\", \"pushed\", \"companyi\", \"depending\", \"animal\", \"groomer\", \"drying\", \"snack\", \"premium\", \"conditioner\", \"furry\", \"tend\", \"grooming\", \"manager\", \"facility\", \"combo\", \"favorite\", \"spinach\", \"noticed\", \"tub\", \"month\", \"help\", \"absolutely\", \"reasonable\", \"three\", \"really\", \"item\", \"always\", \"great\", \"room\", \"ice\", \"place\", \"cream\", \"look\", \"get\", \"give\", \"also\", \"little\", \"never\", \"staff\", \"delicious\", \"food\", \"968\", \"porsche\", \"gaudin\", \"gonna\", \"gt3\", \"1992\", \"tx\", \"r\", \"dealership\", \"punch\", \"austin\", \"department\", \"complicated\", \"describe\", \"downtown\", \"tastebud\", \"pea\", \"hummus\", \"building\", \"beyond\", \"allergy\", \"loving\", \"gluten\", \"fav\", \"concept\", \"cafe\", \"test\", \"bowl\", \"directly\", \"theyll\", \"part\", \"car\", \"need\", \"im\", \"go\", \"next\", \"something\", \"place\", \"price\", \"option\", \"even\", \"cannot\", \"grain\", \"good\", \"get\", \"time\", \"people\", \"see\", \"meat\", \"great\", \"try\", \"lot\", \"call\", \"computer\", \"delicious\", \"know\", \"amazing\", \"juice\", \"break\", \"while\", \"oyster\", \"garlic\", \"substituted\", \"creme\", \"watery\", \"liked\", \"brulee\", \"wine\", \"fillet\", \"college\", \"raf\", \"regarded\", \"roommate\", \"steakhouse\", \"he\", \"veg\", \"tamarind\", \"degraded\", \"panera\", \"yesterday\", \"disappoint\", \"1215\", \"22\", \"etc\", \"notch\", \"noisy\", \"paradise\", \"please\", \"boyfriend\", \"tomato\", \"chicken\", \"week\", \"ate\", \"later\", \"quality\", \"lunch\", \"restaurant\", \"food\", \"went\", \"perfectly\", \"love\", \"highly\", \"entree\", \"sauce\", \"cooked\", \"part\", \"two\", \"time\", \"awesome\", \"menu\", \"take\", \"definitely\", \"service\", \"great\", \"like\", \"place\", \"good\", \"go\", \"sweet\", \"since\", \"people\", \"want\", \"even\", \"shrimp\", \"first\", \"salad\", \"training\", \"typical\", \"freeway\", \"marriott\", \"traffic\", \"game\", \"spring\", \"visible\", \"tonight\", \"bull\", \"cot\", \"shower\", \"needed\", \"hadwe\", \"surprisethey\", \"blanket\", \"botlles\", \"music\", \"20\", \"encorewynn\", \"crowd\", \"blush\", \"designed\", \"cringe\", \"coined\", \"older\", \"thursday\", \"31714\", \"stick\", \"incident\", \"stadium\", \"average\", \"club\", \"mess\", \"perfection\", \"out\", \"made\", \"better\", \"need\", \"parking\", \"bread\", \"that\", \"really\", \"butter\", \"vega\", \"steak\", \"lot\", \"experience\", \"asked\", \"people\", \"said\", \"minute\", \"always\", \"come\", \"great\", \"back\", \"good\", \"realnot\", \"imitationit\", \"seafoodso\", \"fast\", \"refused\", \"northwest\", \"pacific\", \"americano\", \"seem\", \"penny\", \"courtney\", \"nacho\", \"s\", \"eric\", \"allnatural\", \"reaction\", \"stomach\", \"waxed\", \"decade\", \"waxer\", \"esthetician\", \"gentle\", \"afterward\", \"wax\", \"cafe\", \"34\", \"seafood\", \"unbelievably\", \"salon\", \"product\", \"highly\", \"time\", \"love\", \"nice\", \"amazing\", \"food\", \"recommend\", \"ive\", \"place\", \"else\", \"great\", \"week\", \"though\", \"go\", \"family\", \"lunch\", \"think\", \"quality\", \"im\", \"clean\", \"even\", \"good\", \"customer\", \"really\", \"thing\", \"service\", \"outside\", \"came\", \"coming\", \"best\", \"compared\", \"till\", \"cancel\", \"pending\", \"joker\", \"overprice\", \"didnt\", \"quote\", \"cox\", \"sent\", \"151\", \"crappy\", \"speed\", \"mojito\", \"slow\", \"bone\", \"helped\", \"typically\", \"mouth\", \"oxtail\", \"comfortable\", \"sigh\", \"perhaps\", \"kudos\", \"3star\", \"role\", \"sucker\", \"verry\", \"bill\", \"belly\", \"pork\", \"write\", \"soup\", \"especially\", \"started\", \"ice\", \"service\", \"big\", \"cream\", \"sure\", \"star\", \"ask\", \"everything\", \"party\", \"good\", \"give\", \"coconut\", \"review\", \"customer\", \"got\", \"called\", \"pretty\", \"like\", \"friend\", \"really\", \"price\", \"polish\", \"nail\", \"lawrys\", \"anniversary\", \"son\", \"pitt\", \"kitchen\", \"crab\", \"allergic\", \"frikkin\", \"prepared\", \"practice\", \"kabob\", \"seasoned\", \"hand\", \"groupon\", \"fix\", \"have\", \"covering\", \"warming\", \"needle\", \"delivery\", \"painted\", \"bag\", \"cleaned\", \"returning\", \"terrible\", \"brung\", \"pinned\", \"8pm\", \"stopped\", \"skin\", \"medium\", \"waiter\", \"perfect\", \"bland\", \"suggested\", \"smile\", \"late\", \"shrimp\", \"table\", \"coconut\", \"helpful\", \"caesar\", \"amount\", \"first\", \"well\", \"food\", \"good\", \"time\", \"steak\", \"delicious\", \"night\", \"love\", \"u\", \"around\", \"ordered\", \"salad\", \"ever\", \"order\", \"great\", \"said\", \"went\", \"one\", \"place\", \"back\", \"service\", \"like\", \"pedicure\", \"installation\", \"tool\", \"flight\", \"couch\", \"plank\", \"security\", \"moulding\", \"technician\", \"airport\", \"persian\", \"chip\", \"chick\", \"carne\", \"luxury\", \"state\", \"vinyl\", \"ran\", \"washed\", \"installed\", \"fly\", \"vending\", \"32\", \"plane\", \"eagle\", \"obtaining\", \"won\", \"team\", \"meticulously\", \"are\", \"bad\", \"used\", \"tv\", \"started\", \"quality\", \"thing\", \"friend\", \"new\", \"every\", \"show\", \"15\", \"come\", \"customer\", \"me\", \"feel\", \"next\", \"food\", \"get\", \"here\", \"good\", \"place\", \"would\", \"got\", \"back\", \"small\", \"amazon\", \"peroxide\", \"sundae\", \"grade\", \"body\", \"bother\", \"carry\", \"clutch\", \"dealing\", \"detox\", \"h2o2\", \"health\", \"hydrogen\", \"normally\", \"popped\", \"relatively\", \"some\", \"therapy\", \"finding\", \"trim\", \"further\", \"beard\", \"community\", \"fade\", \"ii\", \"cobbler\", \"g\", \"razor\", \"fancy\", \"dusty\", \"cream\", \"ice\", \"scottsdale\", \"spot\", \"owner\", \"store\", \"35\", \"flavor\", \"food\", \"5\", \"place\", \"friend\", \"friendly\", \"price\", \"got\", \"back\", \"get\", \"great\", \"nice\", \"pretty\", \"though\", \"way\", \"try\", \"service\", \"think\", \"wait\", \"here\", \"produce\", \"eefco\", \"rbn\", \"floor\", \"idea\", \"timeless\", \"yeah\", \"eventually\", \"covered\", \"walnut\", \"kept\", \"section\", \"newspaper\", \"model\", \"ours\", \"add\", \"ugh\", \"flyer\", \"coat\", \"wf\", \"forgot\", \"bulk\", \"meant\", \"pulled\", \"defunct\", \"diaper\", \"tjs\", \"199\", \"paper\", \"guess\", \"bathroom\", \"high\", \"priced\", \"changing\", \"though\", \"low\", \"make\", \"family\", \"may\", \"price\", \"hour\", \"parking\", \"else\", \"everything\", \"think\", \"still\", \"clean\", \"table\", \"nice\", \"great\", \"place\", \"time\", \"u\", \"went\", \"noodle\", \"layer\", \"banana\", \"texture\", \"crepe\", \"prune\", \"h\", \"tender\", \"leg\", \"gelee\", \"mark\", \"spread\", \"caramel\", \"gateau\", \"compound\", \"salted\", \"escarole\", \"served\", \"thai\", \"foie\", \"lamb\", \"split\", \"braised\", \"gras\", \"wary\", \"pad\", \"siam\", \"lotus\", \"kee\", \"mowand\", \"gelato\", \"butter\", \"brought\", \"french\", \"easily\", \"together\", \"beef\", \"steak\", \"bread\", \"well\", \"vega\", \"try\", \"got\", \"really\", \"one\", \"time\", \"soup\", \"bit\", \"bean\", \"small\", \"entree\", \"portion\", \"slightly\", \"decor\", \"enchilada\", \"complain\", \"smashed\", \"phenomenal\", \"craving\", \"end\", \"provide\", \"not\", \"mexican\", \"excellent\", \"tea\", \"vegetarian\", \"reasonable\", \"visit\", \"fresh\", \"top\", \"about\", \"nothing\", \"taco\", \"water\", \"couple\", \"take\", \"definitely\", \"price\", \"potato\", \"delicious\", \"side\", \"it\", \"never\", \"good\", \"place\", \"food\", \"got\", \"friendly\", \"love\", \"staff\", \"came\", \"time\", \"nice\", \"restaurant\", \"vig\", \"retina\", \"office\", \"limited\", \"eye\", \"camera\", \"dr\", \"photo\", \"salmon\", \"ranch\", \"shop\", \"kenny\", \"woman\", \"provided\", \"queen\", \"which\", \"offered\", \"moved\", \"questionable\", \"legendary\", \"character\", \"jay\", \"no\", \"sport\", \"substitution\", \"band\", \"figured\", \"closer\", \"glass\", \"now\", \"kind\", \"told\", \"close\", \"extra\", \"get\", \"instead\", \"put\", \"go\", \"always\", \"wait\", \"drink\", \"one\", \"time\", \"atmosphere\", \"food\", \"work\", \"im\", \"great\", \"way\", \"want\", \"back\", \"really\", \"good\", \"would\", \"come\", \"service\", \"place\", \"see\", \"fry\", \"also\", \"like\", \"experience\", \"came\", \"table\", \"cigar\", \"sub\", \"valet\", \"forget\", \"tinder\", \"40\", \"port\", \"legitimate\", \"humidor\", \"recommended\", \"across\", \"park\", \"fashion\", \"casino\", \"keep\", \"card\", \"salsa\", \"box\", \"car\", \"looked\", \"100\", \"scammer\", \"report\", \"noblecredit\", \"barnes\", \"management\", \"tinga\", \"seeing\", \"ranged\", \"carnitas\", \"hotel\", \"flavorful\", \"weekend\", \"credit\", \"understaffed\", \"okay\", \"desk\", \"probably\", \"thats\", \"street\", \"30\", \"place\", \"hot\", \"service\", \"1\", \"great\", \"store\", \"good\", \"best\", \"must\", \"it\", \"star\", \"also\", \"lot\", \"2\", \"u\", \"like\", \"food\", \"one\", \"bang\", \"shiumai\", \"sushisashimimaki\", \"calm\", \"shed\", \"man\", \"lake\", \"highest\", \"mustard\", \"fact\", \"hangover\", \"miso\", \"taken\", \"summerlicious\", \"rating\", \"ebi\", \"green\", \"burger\", \"sheila\", \"repeat\", \"natural\", \"10stars\", \"guestswe\", \"listed\", \"rwb\", \"chihuahuaterrier\", \"appointment\", \"men\", \"nip\", \"groomed\", \"yummy\", \"potato\", \"wifi\", \"bite\", \"despite\", \"saying\", \"serving\", \"around\", \"finally\", \"employee\", \"fry\", \"tea\", \"order\", \"say\", \"server\", \"restaurant\", \"amazing\", \"sweet\", \"wanted\", \"came\", \"love\", \"asked\", \"quality\", \"give\", \"minute\", \"probably\", \"much\", \"place\", \"great\", \"many\", \"would\", \"tasted\", \"4\", \"lot\", \"customer\", \"first\", \"even\", \"ordered\", \"exhibit\", \"collection\", \"gallery\", \"lime\", \"cilantro\", \"chorizo\", \"pastor\", \"topping\", \"unique\", \"sublime\", \"decadent\", \"olive\", \"oil\", \"happier\", \"spanish\", \"patria\", \"beautifully\", \"saffron\", \"favourite\", \"fig\", \"slider\", \"goat\", \"octopus\", \"paella\", \"wrapped\", \"tapa\", \"ohh\", \"turner\", \"miami\", \"twice\", \"infused\", \"spend\", \"interesting\", \"special\", \"see\", \"well\", \"thing\", \"back\", \"get\", \"food\", \"bar\", \"cool\", \"got\", \"around\", \"nice\", \"delicious\", \"asada\", \"ordered\", \"walk\", \"service\", \"item\", \"dessert\", \"market\", \"vegetarian\", \"tank\", \"chinese\", \"becoming\", \"proper\", \"vegan\", \"advantage\", \"sample\", \"mancini\", \"consistent\", \"earlier\", \"overdone\", \"consistently\", \"downside\", \"hundred\", \"qd\", \"rocked\", \"sam\", \"notice\", \"goldfish\", \"expecting\", \"fishy\", \"darn\", \"ultra\", \"age\", \"grab\", \"boy\", \"vegetarianvegan\", \"vegetarianism\", \"everyday\", \"benedict\", \"surprised\", \"fish\", \"caesar\", \"egg\", \"menu\", \"people\", \"nothing\", \"worth\", \"one\", \"place\", \"eat\", \"something\", \"again\", \"take\", \"atmosphere\", \"here\", \"great\", \"experience\", \"want\", \"restaurant\", \"friendly\", \"try\", \"wait\", \"get\", \"good\", \"like\", \"go\", \"food\", \"locked\", \"kinda\", \"dolce\", \"plain\", \"oreo\", \"leche\", \"fried\", \"carryout\", \"530pm\", \"greek\", \"noon\", \"14\", \"refilled\", \"scared\", \"marviin\", \"madison\", \"puppy\", \"provides\", \"marvin\", \"rescued\", \"hesitation\", \"accidentally\", \"freezing\", \"curled\", \"dachshund\", \"blocking\", \"bin\", \"adorable\", \"driveway\", \"emergency\", \"sitting\", \"within\", \"vehiclerelated\", \"de\", \"from\", \"mango\", \"small\", \"ordering\", \"vanilla\", \"overall\", \"cold\", \"flavor\", \"paid\", \"egg\", \"outside\", \"anyone\", \"really\", \"5\", \"tasted\", \"good\", \"table\", \"star\", \"drink\", \"dog\", \"2\", \"food\", \"sweet\", \"ever\", \"amazing\", \"little\", \"minute\", \"place\", \"big\", \"out\", \"u\", \"road\", \"never\", \"bar\", \"italian\", \"chris\", \"chain\", \"80\", \"tap\", \"americanized\", \"quinoa\", \"beignet\", \"larger\", \"except\", \"family\", \"gear\", \"fight\", \"army\", \"urge\", \"bandwidth\", \"mississauga\", \"sell\", \"reliable\", \"statement\", \"sum\", \"shopping\", \"disclaimer\", \"delight\", \"cesar\", \"depends\", \"mojo\", \"appetite\", \"fullguess\", \"warmed\", \"bar\", \"phoenix\", \"complaint\", \"chicken\", \"problem\", \"going\", \"said\", \"side\", \"corn\", \"bartender\", \"area\", \"name\", \"different\", \"staff\", \"4\", \"cheese\", \"friendly\", \"come\", \"counter\", \"place\", \"great\", \"meal\", \"got\", \"like\", \"everything\", \"pretty\", \"star\", \"food\", \"two\", \"even\", \"one\", \"go\", \"good\"], \"Freq\": [44.0, 32.0, 30.0, 57.0, 49.0, 19.0, 26.0, 15.0, 16.0, 13.0, 9.0, 21.0, 28.0, 44.0, 16.0, 19.0, 21.0, 13.0, 12.0, 15.0, 19.0, 7.0, 14.0, 11.0, 7.0, 14.0, 9.0, 11.0, 31.0, 15.0, 5.70270856205206, 3.2760240491369927, 3.2760240491369927, 3.2760240491369927, 3.2760240491369927, 2.467129716646035, 2.4671292836625507, 2.467129067170809, 2.467129067170809, 2.467129067170809, 2.467129067170809, 2.4671284176955828, 4.084916866185757, 4.084919897070145, 1.658234734679851, 1.658234518188109, 1.658234518188109, 1.658234518188109, 1.658234518188109, 1.658234301696367, 1.658234301696367, 1.658234301696367, 1.658234301696367, 1.658234301696367, 1.658234301696367, 1.658234301696367, 1.658234301696367, 1.658234301696367, 1.658234301696367, 1.658234301696367, 3.2760249151039607, 3.2760249151039607, 2.4671292836625507, 2.467128850679067, 2.467129716646035, 2.467129067170809, 2.467128850679067, 2.4671295001542926, 3.2760240491369927, 2.4671295001542926, 2.467129716646035, 2.467129067170809, 2.4671295001542926, 2.4671301496295186, 2.4671295001542926, 2.4671295001542926, 2.4671301496295186, 2.467129716646035, 2.4671295001542926, 2.4671292836625507, 1.3813373044510775, 1.3813369798917914, 1.3813369798917914, 2.0551598151126824, 0.7075147396962582, 0.7075147396962582, 0.7075147396962582, 0.7075147396962582, 0.7075147396962582, 0.7075147396962582, 0.7075147396962582, 0.7075147396962582, 0.7075143069505433, 0.7075143069505433, 0.7075142528573289, 0.7075142528573289, 0.7075142528573289, 0.7075141446709002, 0.7075140905776859, 0.7075139823912571, 0.7075140905776859, 0.7075140905776859, 0.7075140905776859, 0.7075139823912571, 0.7075139823912571, 0.7075139823912571, 0.7075139823912571, 0.7075139823912571, 0.7075139823912571, 0.7075139823912571, 2.0551602478583972, 2.0551602478583972, 2.0551602478583972, 2.72880857836974, 1.3813384945017937, 1.3813371962646488, 1.3813368717053627, 1.3813369798917914, 1.3813368717053627, 1.3776432788419446, 1.377641872418371, 1.351602372699882, 2.7241554800698777, 1.3813371962646488, 2.0493149351138826, 2.714576653669742, 1.3813386026882224, 1.381336330773219, 2.696712477811418, 1.381336655332505, 1.3813373044510775, 2.0533000904027396, 1.3813362225867902, 1.3813378453832212, 1.381337520823935, 1.381337520823935, 1.3813386026882224, 1.3813386026882224, 1.381337520823935, 0.9556593059719249, 0.9556593059719249, 0.4894840315297556, 0.4894840315297556, 0.4894840315297556, 0.4894840315297556, 0.4894840315297556, 0.4894840315297556, 0.4894840315297556, 0.4894840315297556, 0.4894840315297556, 0.4894840315297556, 0.4894839430694602, 0.4894839430694602, 0.48948385460916477, 0.48948385460916477, 0.48948385460916477, 0.489483810379017, 0.489483810379017, 0.4894837661488693, 0.4894837661488693, 0.4894837219187216, 0.4894837219187216, 0.4894837219187216, 0.48948363345842616, 0.4894839430694602, 0.4894840315297556, 0.4894837219187216, 0.48948894107615276, 0.4894840315297556, 0.9556600136542885, 0.9556657635734923, 0.9556600136542885, 0.9556619597807883, 0.9556599251939931, 0.489489692988664, 0.48948827762393693, 0.48948726033053935, 0.48948664110847123, 0.48948664110847123, 0.4894862430371417, 0.489486198806994, 0.4894862430371417, 0.48948588919596, 0.48948566804522137, 0.48948531420403957, 0.48948504882315325, 0.48948504882315325, 0.48948500459300553, 0.48948491613271006, 0.48948491613271006, 0.489484606521676, 0.489484606521676, 0.4894845180613806, 0.4894845180613806, 0.4894844296010851, 0.4894844296010851, 2.1870310841820357, 1.4699740175450065, 1.4699727082453609, 1.4699725773153964, 0.7529136121938811, 0.7529136121938811, 0.7529136121938811, 0.7529136121938811, 0.7529136121938811, 0.7529136121938811, 0.7529136121938811, 0.7529136121938811, 0.7529135467288988, 0.7529135467288988, 0.7529135467288988, 0.7529135467288988, 0.7529135467288988, 0.7529135467288988, 0.7529135467288988, 0.7529135467288988, 0.7529135467288988, 0.7529135467288988, 0.7529132848689697, 0.7529132848689697, 0.7529130230090406, 0.7529129575440583, 0.7529129575440583, 0.7529129575440583, 0.7529128266140938, 0.7529128266140938, 1.4698984709554606, 2.187024275823879, 1.4699740175450065, 2.904098625216229, 1.4699733628951837, 1.4699737556850774, 1.4699727082453609, 2.9040952210371507, 2.187032786271575, 2.904096006616938, 6.1507404134490065, 2.9390061249250348, 1.469975588704581, 3.1756717246678994, 1.4699686494164599, 1.4699744103349, 2.1870372378903697, 1.4699744103349, 1.4699738866150418, 2.187036714170511, 2.918506158515394, 1.481531336445866, 1.481531336445866, 1.4770421407513143, 1.4699740175450065, 2.3472917175315207, 2.201243793693949, 1.7923056528638195, 1.8209609849053976, 1.6838799306200491, 1.5907693481897094, 1.529887700253396, 1.5013995657765493, 1.4770429263311016, 1.4765184208931112, 1.475061301317626, 1.4699771598641556, 1.4699761124244393, 1.4699748031247937, 1.951273429962073, 1.3115121050792884, 1.3115117419238427, 1.3115114695572585, 1.311511106401813, 2.591034936422581, 1.951273429962073, 0.6717502808577658, 0.6717502808577658, 0.6717502808577658, 0.6717502808577658, 0.6717502808577658, 0.6717502808577658, 0.6717502808577658, 0.6717502808577658, 0.6717502808577658, 0.6717502808577658, 0.6717501446744737, 0.6717500538856123, 0.6717500538856123, 0.6717500538856123, 0.6717500538856123, 0.6717500538856123, 0.6717500538856123, 0.6717500538856123, 0.6717500084911816, 0.6717500084911816, 0.6717499177023202, 0.6717499177023202, 0.6717498269134587, 1.3115116511349814, 1.3115114695572585, 1.3115121050792884, 1.3115117419238427, 1.3115121958681497, 1.9512745194284098, 1.9512743378506872, 1.9512748825838555, 1.3115119235015655, 1.3115114695572585, 1.3115126498124567, 1.3115123774458726, 1.9512747010061327, 1.3115130129679022, 1.3115126498124567, 1.3115126498124567, 1.3115121050792884, 1.3115126498124567, 1.3115126498124567, 1.3115121958681497, 1.3115123774458726, 1.3115121050792884, 1.3115126498124567, 1.3115130129679022, 1.3115123774458726, 1.3115126498124567, 1.3115121050792884, 0.5570391684732217, 0.5570391684732217, 0.5570391684732217, 0.5570391684732217, 0.5570391684732217, 0.5570391684732217, 0.5570391684732217, 0.5570391684732217, 0.5570391684732217, 0.5570391684732217, 0.5570391107276345, 0.5570391107276345, 0.5570391107276345, 0.5570391107276345, 0.5570390529820474, 0.5570390529820474, 0.5570390529820474, 0.5570389952364602, 0.5570389952364602, 0.5570389952364602, 0.5570389952364602, 0.5570389952364602, 0.5570389952364602, 0.5570388797452859, 0.5570391107276345, 0.5570391684732217, 0.5570391684732217, 0.5570391107276345, 0.5570391684732217, 0.5570390529820474, 1.0875524395242633, 2.1485804830116124, 1.6180670387238092, 1.6180675006885064, 1.0875526705066119, 2.1485809449763096, 1.0875529014889604, 1.0875529014889604, 1.0875555577859692, 0.5570410163320104, 0.5570410163320104, 0.5570406121129003, 0.5570406698584875, 0.557040438876139, 0.5570403233849647, 0.5570399769114417, 0.5570399769114417, 0.5570399769114417, 0.5570399191658546, 0.5570398614202674, 0.5570399191658546, 0.5570397459290931, 0.5570397459290931, 0.5570397459290931, 0.557039688183506, 0.5570395726923316, 0.5570395149467445, 0.5570395726923316, 0.5570391684732217, 0.557039283964396, 1.7842784101873275, 1.1992679941502835, 0.6142598360800675, 0.6142598360800675, 0.6142596949571407, 0.6142596949571407, 0.6142596949571407, 0.6142596949571407, 0.6142596949571407, 0.6142596949571407, 0.6142596949571407, 0.6142596949571407, 0.614259553834214, 0.6142587070966535, 0.6142580720434831, 0.6142580014820198, 0.6142579309205565, 0.6142577192361663, 0.6142576486747029, 0.6142568724986058, 0.6142565902527524, 0.6142565902527524, 0.6142565902527524, 0.6142562374454354, 0.6142557435151919, 0.6142556023922652, 0.6142553201464116, 0.6142467822093436, 1.1992686997649171, 1.106680558301663, 1.1066332115597401, 1.1992686997649171, 1.757733046543665, 1.160589022388012, 1.199269405379551, 1.7842679670907482, 3.5806307334952505, 1.7028276195413259, 1.7842745998683052, 1.7347333964344707, 1.7842782690644006, 1.1992685586419904, 1.7599658934906244, 1.1990599789562613, 3.226289128173162, 1.5342679967473352, 1.1992118272254388, 1.4215584778273145, 1.7347324085739835, 1.7842727652702575, 1.199269405379551, 1.199256563193217, 1.447390465076281, 1.1213694792548439, 1.3026073741032158, 1.1033500572304809, 3.4470128479581894, 7.702584842647595, 2.5958970334906684, 1.7447829115042386, 1.7447829115042386, 1.7447829115042386, 1.7447826037804037, 1.7447826037804037, 1.7447822960565689, 1.7447822960565689, 1.7447821421946514, 1.74478044971356, 3.4470026930716404, 2.5958967257668335, 2.5958970334906684, 0.8936699434821893, 0.8936699434821893, 0.8936699434821893, 0.8936699434821893, 0.8936699434821893, 0.8936699434821893, 0.8936699434821893, 0.8936699434821893, 0.8936699434821893, 0.8936699434821893, 0.8936697896202719, 0.8936697896202719, 0.8936697896202719, 0.8936697896202719, 0.8936697896202719, 1.7447822960565689, 1.74478460398533, 3.4470113093390156, 3.447010078443676, 2.5958967257668335, 1.7447827576423212, 1.744784911709165, 1.7447826037804037, 1.7447826037804037, 4.298126508358867, 5.970673249844252, 2.595895802595329, 1.7447827576423212, 1.7447822960565689, 1.7447826037804037, 4.298124046568189, 6.000351982817214, 11.040109550177155, 8.532879754727423, 6.851460719636534, 3.447010386167511, 4.287561118214189, 3.412457307651015, 4.298124662015859, 3.4470119247866853, 3.412456076755676, 3.447008847548337, 3.4470150020250334, 3.433443457738007, 3.4124554613080065, 5.081635396316636, 3.3525656331278464, 3.4470085398245023, 4.254880539232567, 4.298125585187362, 3.4470153097488683, 3.4470116170628504, 3.3718112972051015, 2.720252648243361, 2.720252648243361, 2.720252014745659, 1.376918236550334, 1.376918236550334, 1.3769181309673837, 1.3769181309673837, 1.376917919801483, 1.3769178142185325, 1.376917919801483, 1.3769169695549295, 0.7052509779123456, 0.7052509779123456, 0.7052509779123456, 0.7052507139549696, 0.7052507139549696, 0.7052507139549696, 0.7052507139549696, 0.7052507139549696, 0.7052507139549696, 0.7052507139549696, 0.7052507139549696, 0.7052507139549696, 0.7052507139549696, 0.7052507139549696, 0.7052506611634944, 0.7052506611634944, 0.7052506611634944, 0.7052506611634944, 0.7052507139549696, 3.391919431758073, 2.7202539152387657, 1.376917919801483, 1.3769141188152692, 2.7202315316532846, 2.8783289075635445, 2.7202674298564142, 2.048585020065046, 1.3769176030526318, 1.3769181309673837, 1.3769176030526318, 2.35210137120377, 2.048591143876168, 1.3769166528060783, 1.3769224598683494, 1.3769181309673837, 2.720263206538399, 2.048599168180397, 1.376919609128689, 2.048592833203374, 1.4090921066882487, 1.3769252050250593, 1.376919292379838, 1.376919292379838, 1.3769184477162348, 1.3595927682583477, 1.3595927682583477, 1.3595917529665589, 0.6963768097434556, 0.6963768097434556, 0.6963768097434556, 0.6963768097434556, 0.6963768097434556, 0.6963768097434556, 0.6963768097434556, 0.6963768097434556, 0.6963768097434556, 0.6963768097434556, 0.6963768097434556, 0.6963768097434556, 0.6963768097434556, 0.6963768097434556, 0.6963768097434556, 0.6963765559205084, 0.6963764543913296, 0.6963764543913296, 0.6963764543913296, 0.69637640362674, 0.69637640362674, 0.69637640362674, 0.6963764543913296, 0.69637640362674, 0.69637640362674, 0.6963763020975612, 0.6963763020975612, 4.012453048796655, 3.3492372425755317, 1.3595915499082012, 2.022807457658504, 2.0228090821253657, 2.6860242791714164, 1.359593174375063, 1.3595913468498435, 2.6860257005799206, 1.359593174375063, 2.0228086760086503, 1.3595918544957377, 1.359592463670811, 1.359593174375063, 1.3595921590832745, 1.3595920575540956, 1.3595927682583477, 1.359594088137673, 0.6963772666247605, 0.6963772666247605, 0.6963774189185288, 0.6963772666247605, 0.6963771650955817, 0.6963771143309921, 0.6963774189185288, 0.6963773681539394, 0.6963771650955817, 2.3879057907822, 1.2086934460061511, 1.2086931590882504, 1.2086930156292999, 1.2086667626413723, 1.208620712318286, 0.6190869149707506, 0.6190868432412755, 0.6190868432412755, 0.6190868432412755, 0.6190868432412755, 0.6190867715118002, 0.6190867715118002, 0.6190867715118002, 0.6190867715118002, 0.6190867715118002, 0.6190867715118002, 0.6190867715118002, 0.6190867715118002, 0.6190867715118002, 0.6190867715118002, 0.619086699782325, 0.619086699782325, 0.619086699782325, 0.619086699782325, 0.619086699782325, 0.619086699782325, 0.6190866280528499, 0.6190866280528499, 0.6190866280528499, 1.2086933025472006, 1.2086933025472006, 1.7982992597467995, 1.2086933025472006, 1.7982989728288987, 1.2086935894651016, 1.6521181757381596, 1.2086925852524486, 1.2086930156292999, 1.7982995466647003, 1.1045365096400648, 1.208693732924052, 1.2086925852524486, 1.208693732924052, 1.2086933025472006, 1.208693732924052, 0.9790804380929026, 1.208693732924052, 1.2086935894651016, 1.2086925852524486, 0.7225012360799654, 0.7040247274779637, 0.6190881343718293, 0.619087703994978, 3.0043822187565876, 3.0043813529156003, 2.26255881089267, 2.26255881089267, 2.2625583779721765, 1.5207362688697397, 1.5207362688697397, 1.5207362688697397, 1.5207362688697397, 1.5207362688697397, 1.5207362688697397, 1.5207362688697397, 1.5207362688697397, 1.5207361245629085, 1.5207361245629085, 1.5207361245629085, 1.5207359802560774, 3.0043813529156003, 3.0043822187565876, 2.26255881089267, 2.26255881089267, 1.5207362688697397, 1.5207361245629085, 1.5207361245629085, 0.7789140876138874, 0.7789140876138874, 0.7789140876138874, 0.7789140154604718, 0.7789138711536405, 0.7789138711536405, 1.5207362688697397, 4.488026725575123, 1.5207362688697397, 2.26255881089267, 1.5207361245629085, 1.5207364131765708, 3.746204760779518, 3.004381641529263, 2.26255881089267, 3.0043813529156003, 2.262559243813164, 2.2625590995063325, 2.262559243813164, 2.262558089358514, 2.262559243813164, 2.2625583779721765, 1.5207369904038956, 1.5207362688697397, 1.5207362688697397, 1.5207362688697397, 1.5207362688697397, 1.5207362688697397, 1.5207362688697397, 0.3459422235329674, 0.3459422235329674, 0.3459422235329674, 0.34594217420811446, 0.345942149545688, 0.34594217420811446, 0.34594232218267323, 0.34594232218267323, 0.3459422481953938, 0.3459422235329674, 0.34594232218267323, 0.3459424208323791, 0.3459422235329674, 0.34594217420811446, 0.6754111793126631, 0.6754109820132514, 0.34594232218267323, 0.345942149545688, 0.34594217420811446, 0.3459422235329674, 0.34594217420811446, 0.34594232218267323, 0.34594217420811446, 0.3459424208323791, 0.675411228637516, 0.34594217420811446, 0.6754109820132514, 0.3459422235329674, 0.345942149545688, 0.34594217420811446, 0.6754113766120748, 0.675411228637516, 0.3459428154312024, 0.3459424208323791, 0.3459424208323791, 0.3459424208323791, 0.34594232218267323, 0.34594232218267323, 0.3459424208323791, 0.3459424208323791, 0.3459422481953938, 9.074487393858094, 3.6568890964756933, 3.6568888423965222, 2.753953971932063, 2.753953717852892, 2.753953463773721, 2.7539529556153783, 2.7539529556153783, 2.753951431140352, 2.753946857715273, 1.8510191014676034, 1.8510189744280179, 1.8510184662696758, 1.8510183392300903, 1.8510184662696758, 1.8510184662696758, 1.8510184662696758, 1.8510178310717482, 1.8510178310717482, 1.8510178310717482, 1.8510178310717482, 1.8510177040321627, 1.8510174499529917, 1.8510174499529917, 1.851017068834235, 1.8510156713987942, 1.8510150362008666, 1.8510146550821098, 6.3656959945816105, 2.7539529556153783, 5.462761632275494, 5.462761632275494, 2.7539529556153783, 3.6568883342381797, 13.585514693759022, 2.753953717852892, 2.753953717852892, 10.869452056765198, 7.265116950110336, 7.268630356887727, 5.462760615958809, 9.977439033547842, 10.732162917475655, 4.555939858652187, 14.439622153604558, 4.553412787216843, 6.362783739122943, 11.765420584517585, 5.4627590914837825, 5.4545162550163155, 7.267463625334229, 7.268635438471149, 9.06314529966206, 6.361634793111418, 6.365694978264926, 7.252634548594593, 8.909787177278117, 4.559824221019324, 4.559827778127718, 4.559826761811034, 5.446958924152363, 4.55982574549435, 4.559826253652692, 4.559827269969376, 4.955853880599111, 3.3175555420774034, 3.317550252408893, 1.6792564822372622, 1.6792562417977845, 1.6792562417977845, 1.6792562417977845, 1.6792560013583067, 1.6792560013583067, 1.6792550396003958, 1.6792537171832682, 1.6792537171832682, 1.6792537171832682, 1.6792537171832682, 1.6792537171832682, 3.3175555420774034, 2.4984056514981163, 2.4984054110586382, 3.3175440009824717, 1.6792558811385678, 1.6792556406990902, 0.8601071326467999, 0.8601071326467999, 0.8601071326467999, 0.8601071326467999, 0.8601071326467999, 0.8601071326467999, 0.8601071326467999, 0.8601071326467999, 0.8601071326467999, 3.317549290650982, 1.6792554002596123, 1.6792513127884907, 1.679256842896479, 1.679252875645096, 1.6792564822372622, 1.6792531160845738, 3.317554099440537, 2.4984061323770717, 2.498404930179683, 2.498404930179683, 7.066430654493343, 2.4984063728165493, 4.4160278209855655, 2.4984054110586382, 4.955855804114933, 2.4984056514981163, 4.694109060730317, 2.826383853422575, 2.4983325578968816, 2.4984063728165493, 2.4984044493007276, 2.498403006663861, 2.4984063728165493, 2.4984063728165493, 2.498407575013938, 2.769325160958733, 2.932916575024771, 2.4887604218483457, 3.3562151094824446, 2.5275075239298883, 2.5273520072689393, 1.6988315944343262, 1.6988314688150523, 1.6988314688150523, 1.6988310919572311, 1.6988280770946602, 1.6988249366128154, 1.6988207911767805, 1.698821168034602, 1.6988180275527571, 1.6988125003047105, 1.69881049039633, 1.6988077267723065, 1.6987567253471487, 3.3561269247522456, 9.157072235225167, 0.870133869994762, 0.870133869994762, 0.870133869994762, 0.870133869994762, 0.870133869994762, 0.870133869994762, 0.870133869994762, 0.8701331790887562, 0.8701331790887562, 0.8701331790887562, 0.8701331790887562, 0.8701331790887562, 1.698832850627064, 4.184905108336671, 1.6988200374611377, 1.6988308407186834, 1.6988259415670057, 1.698829835764493, 1.6987224312854048, 5.842285608522219, 3.355879706021432, 1.6988308407186834, 5.01361344760487, 1.6988010689507957, 5.013617969898727, 3.356223400354515, 3.356185212095283, 4.184349117430887, 3.2148534795423673, 3.8666552103981067, 3.356212345858421, 4.164090245908619, 4.16910270617129, 3.35620732108747, 3.224545760230721, 2.881683780456054, 3.2891075347552934, 2.527527623013694, 3.3034728524285444, 4.927180855036787, 4.184925207420477, 2.527525361866766, 3.264757243485764, 2.5274813951209403, 2.4575983881587264, 2.527528376729337, 2.5275298841606224, 2.5275273717751467, 2.5275256131053134, 2.527526366820956, 1.8288732863114288, 1.2292426073411797, 1.2292425314617583, 0.6296130286225431, 0.6296130286225431, 0.6296130286225431, 0.6296130286225431, 0.6296130286225431, 0.6296130286225431, 0.6296128009842784, 0.6296128009842784, 0.6296127251048569, 0.6296127251048569, 0.6296127251048569, 0.6296127251048569, 0.6296127251048569, 0.6296127251048569, 0.6296127251048569, 0.6296127251048569, 0.6296127251048569, 0.6296127251048569, 0.6296127251048569, 0.6296127251048569, 0.6296127251048569, 0.6296126492254354, 0.6296126492254354, 0.6296126492254354, 0.6296123077680384, 0.6296123077680384, 0.6296123077680384, 1.229243897291346, 1.2292427591000228, 1.2292427591000228, 1.229243062617709, 1.8288745003821736, 2.428504951714158, 1.229242227944072, 1.2292435178942382, 1.229244049050189, 1.2292432143765522, 0.6296134459593615, 0.6296134459593615, 0.6296132942005185, 0.6296132942005185, 0.6296131803813861, 0.62961337007994, 0.6296130286225431, 0.6296131045019646, 0.6296130286225431, 0.6296129527431216, 0.6296131045019646, 0.6296128768636999, 0.6296130286225431, 2.586426027591761, 1.3091792823605668, 1.3091790113707464, 1.3091782887312255, 1.3091782887312255, 1.9478023839863436, 0.670555322600359, 0.670555322600359, 0.6705552322704188, 0.6705552322704188, 0.6705552322704188, 0.6705552322704188, 0.6705551871054488, 0.6705550967755086, 0.6705550967755086, 0.6705550967755086, 0.6705550967755086, 0.6705550967755086, 0.6705550064455685, 0.6705550064455685, 0.6705550064455685, 0.6705550064455685, 0.6705550064455685, 0.6705550064455685, 0.6705550064455685, 0.6705550064455685, 0.6705549612805985, 0.6705548709506584, 0.6705548709506584, 0.6705548709506584, 1.3091792823605668, 1.3091791920306266, 1.9478031066258645, 1.3091792823605668, 1.9478034679456249, 1.947802745306104, 2.586426750231282, 1.309178559721046, 1.3091791920306266, 2.586426750231282, 3.22505093581634, 1.3091792823605668, 1.3091792823605668, 1.3091792823605668, 1.3091791920306266, 1.3091792823605668, 1.309178559721046, 1.9478034679456249, 1.309179463020447, 1.309179463020447, 1.309178559721046, 1.309179463020447, 1.309179463020447, 1.3091792823605668, 1.3091798243402075, 1.309179463020447, 1.3091790113707464, 1.3091792823605668, 1.3091788307108663, 1.4985560756523189, 1.4985556549937424, 1.4985541125789623, 1.4985541125789623, 1.4985538321399112, 1.4985535517008604, 2.229557199431384, 0.7675530589096597, 0.7675530589096597, 0.7675530589096597, 0.7675530589096597, 0.7675530589096597, 0.7675530589096597, 0.7675530589096597, 0.7675530589096597, 0.7675530589096597, 0.7675530589096597, 0.7675530589096597, 0.7675530589096597, 0.7675530589096597, 0.7675530589096597, 0.7675530589096597, 0.7675530589096597, 0.7675530589096597, 0.7675530589096597, 0.7675530589096597, 0.7675530589096597, 0.7675530589096597, 0.7675530589096597, 0.7675530589096597, 1.4985553745546913, 0.7675530589096597, 0.7675530589096597, 1.4985532712618095, 1.4985538321399112, 1.4985534114813348, 4.4225622534028854, 1.498554673457064, 1.4985538321399112, 1.498554673457064, 1.4985553745546913, 2.2118863141733613, 1.4985532712618095, 2.229541635064057, 1.4985541125789623, 1.4985532712618095, 4.42425161824572, 2.229557760309486, 2.2024105590813017, 5.133155266567272, 2.973630989569808, 2.2295588820656898, 2.229558040748537, 1.4985563560913697, 2.2295543950408745, 2.2295588820656898, 1.718225947323456, 1.6711951967253682, 1.5966582829138987, 1.6087020183953749, 1.5577332024245252, 1.5316812559097697, 1.500137471460544, 1.4985567767499461, 1.4985563560913697, 1.4985560756523189, 1.4985560756523189, 1.498555514774217, 3.2201581552545724, 2.425057396480763, 2.425057190929153, 2.4250559576194957, 1.6299571515859774, 1.6299567404827582, 1.6299565349311487, 1.6299565349311487, 1.629956329379539, 1.6299511905892987, 3.2201581552545724, 0.8348563414242655, 0.8348563414242655, 0.8348563414242655, 0.8348563414242655, 0.8348563414242655, 0.8348563414242655, 0.8348563414242655, 0.8348563414242655, 0.8348563414242655, 0.8348563414242655, 0.8348563414242655, 0.8348562386484607, 0.8348561872605582, 0.8348561872605582, 0.8348561872605582, 0.8348561872605582, 0.8348561872605582, 0.8348561872605582, 0.8348561872605582, 4.810359878353801, 1.6299571515859774, 1.6299567404827582, 3.2201530164643324, 1.6299567404827582, 3.22015938856423, 4.1034913257975205, 3.2201554830836474, 1.6299561238279294, 2.4250576020323726, 2.543669308391824, 1.6299565349311487, 2.4250586297904206, 3.2201628829415934, 2.425058218687201, 1.629957459913392, 3.3171789260924744, 4.0152603528896496, 1.6299493406248122, 6.400565918036832, 5.685626175977708, 2.4250576020323726, 3.2201604163222783, 3.290408706663648, 2.4966292336363947, 2.4250516410356937, 2.4250563687227147, 3.282676677316657, 2.4250491744163787, 2.425058424238811, 2.4654575375910452, 2.4250600686516877, 2.444504634265717], \"Total\": [44.0, 32.0, 30.0, 57.0, 49.0, 19.0, 26.0, 15.0, 16.0, 13.0, 9.0, 21.0, 28.0, 44.0, 16.0, 19.0, 21.0, 13.0, 12.0, 15.0, 19.0, 7.0, 14.0, 11.0, 7.0, 14.0, 9.0, 11.0, 31.0, 15.0, 6.341431794409709, 3.9147452746023417, 3.9147455919911107, 3.9147457258245075, 3.9147459667928692, 3.1058505734154314, 3.1058501724019623, 3.105850055861776, 3.105850166754222, 3.1058501736908166, 3.105850226202083, 3.1058501709542985, 5.542790561471442, 5.552340618484269, 2.29695501105743, 2.2969549037056507, 2.296954913706834, 2.2969549398841265, 2.2969549445972355, 2.296954709419357, 2.2969547445757534, 2.2969547452320276, 2.296954786531875, 2.2969548331450107, 2.296954839969401, 2.2969548644404023, 2.2969548725753763, 2.2969548968066, 2.296954927698992, 2.2969549364182513, 4.588569617502472, 4.81768263097659, 3.900951315988123, 3.934547525260147, 3.956964562173765, 3.9569647791525857, 4.008786405767095, 4.264018162230449, 7.57193215111086, 5.25663640039735, 5.457331098991855, 5.870834447779268, 6.2030613767333005, 7.00800706666102, 7.919776270179976, 7.949891576088075, 15.782270710082287, 9.950462293840358, 10.212699194344676, 9.281776035840442, 2.026811244938803, 2.0268116615752536, 2.0268117396221847, 3.5197806374518295, 1.352987775738643, 1.352987775738643, 1.352987775738643, 1.352987775738643, 1.352987775738643, 1.352987775738643, 1.352987775738643, 1.352987775738643, 1.3529877083340713, 1.3529877260998335, 1.352987694134011, 1.352987715044992, 1.3529877166299193, 1.3529876459654129, 1.3529876139872723, 1.3529875697871514, 1.3529879225778287, 1.3529879598014274, 1.3529879861220682, 1.352987901953991, 1.352987904991843, 1.352987914703785, 1.352987917264939, 1.3529879287250806, 1.3529879394099278, 1.35298795049303, 4.136759218061103, 4.149292516872626, 4.184282122877296, 5.8842164497485046, 2.821912947674056, 2.8219125100606077, 2.845961177003559, 3.445593113384856, 3.5929639123184063, 3.707596771247299, 3.871583247043112, 4.3023802891785135, 26.32708562862705, 6.344087466239106, 16.58299258376772, 44.95809561591339, 7.731457073360016, 7.839750420995702, 49.642593971150504, 9.220024132011993, 9.595836982836857, 31.467186996643882, 10.125922635161881, 11.997793135386804, 12.760693230176939, 12.994652756736064, 13.465079225197112, 16.792340478645187, 57.84175503251742, 1.6115148151382035, 1.6115148151382035, 1.1453395051275554, 1.1453395074987873, 1.1453395098700192, 1.1453395122412513, 1.1453395146124832, 1.145339516983715, 1.145339516983715, 1.1453395217261788, 1.1453395217261788, 1.1453395264686428, 1.145339693671948, 1.1453397250767663, 1.1453396719468918, 1.14533970335171, 1.1453397112029147, 1.1453397915360706, 1.1453398059606255, 1.145339857894176, 1.1453398771269159, 1.1453398425131378, 1.1453398521295077, 1.1453399194440965, 1.1453398742574654, 1.6758533611668374, 1.8085557325649415, 1.808555960511993, 1.9644856139758842, 1.9644891107695817, 5.56282296996595, 5.619112015716453, 7.417887212358227, 17.089317667757932, 28.36867780153405, 8.113069881492727, 7.376608111785093, 49.642593971150504, 15.739313613450163, 7.810883702777119, 15.225317780276377, 1.9740367778192756, 2.563643902415026, 44.06916909066502, 31.467186996643882, 32.0645721003034, 13.741360506781149, 11.418696635670736, 5.7098794349666875, 44.95809561591339, 16.64492923122388, 12.13294651038665, 7.57193215111086, 2.0482755039743363, 16.792340478645187, 8.774096309460043, 9.275992410296443, 2.8303458299990547, 2.1132852070412262, 2.113285431909484, 2.113285418009424, 1.3962248016901009, 1.3962248016901009, 1.3962248016901009, 1.3962248016901009, 1.3962248016901009, 1.3962248016901009, 1.3962248016901009, 1.3962248016901009, 1.3962247362251186, 1.3962247362251186, 1.3962247362251186, 1.3962247362251186, 1.3962247362251186, 1.3962247362251186, 1.3962247362251186, 1.3962247362251186, 1.3962247362251186, 1.3962247380296682, 1.3962249022558408, 1.3962249140326477, 1.3962247826730936, 1.3962247405492612, 1.396224758635344, 1.3962247702789101, 1.396224639572612, 1.3962246601551536, 2.7849491037974183, 4.52838376065227, 2.9324349785114374, 6.727811582116496, 3.2334061634512654, 3.6838073529296276, 3.690045514302663, 12.361018123348954, 8.2455226653806, 14.471195535843517, 57.84175503251742, 15.499288218305802, 4.644212024028538, 19.272306764284718, 4.778308574176578, 5.200928994806693, 12.060339296073156, 5.437858378282514, 5.56282296996595, 14.073735826283912, 32.0645721003034, 7.144495690233999, 8.045092481150617, 8.050778951762918, 8.058534278075774, 30.030494328096815, 44.95809561591339, 25.554871036056742, 49.642593971150504, 44.06916909066502, 28.36867780153405, 13.39921556342741, 12.396651775338661, 13.741360506781149, 14.168480566879165, 15.225317780276377, 10.476245117484543, 13.153963534108057, 13.693433621978365, 2.598451187404825, 1.9586887930913168, 1.9586891182478372, 1.9586890205606833, 1.9586892409933336, 4.1411503344040534, 3.315511683378172, 1.3189264018117748, 1.318926406143019, 1.318926408333949, 1.318926410575495, 1.318926412766425, 1.3189264149067392, 1.3189264171482853, 1.3189264171482853, 1.3189264193392154, 1.3189264215807615, 1.3189264344302585, 1.3189264624759216, 1.3189264688994093, 1.3189264817463848, 1.3189264849581288, 1.3189264849581288, 1.3189264945933605, 1.318926500356683, 1.3189264845281128, 1.318926542339503, 1.3189265913386075, 1.3189266111885427, 1.318926572009513, 2.6219050825663723, 2.6219051139986354, 2.753789923767785, 2.809803235314072, 3.712739592624105, 7.065162170983097, 12.159328116916575, 14.748344272841097, 7.417887212358227, 7.949891576088075, 8.113044418007348, 8.213645870064944, 26.32708562862705, 9.597802642642339, 10.212699194344676, 10.438384562589727, 12.13294651038665, 12.451232088920884, 13.122174320709597, 13.741360506781149, 14.175110262482903, 14.680387009082379, 16.58299258376772, 21.7393819960446, 44.95809561591339, 23.84517400637099, 44.06916909066502, 1.2096777098033789, 1.2096777098033789, 1.2096777098033789, 1.2096777098033789, 1.2096777098033789, 1.2096777098033789, 1.2096777098033789, 1.2096779126741883, 1.2096779239447888, 1.2096779277016556, 1.2096778636179282, 1.2096778887404025, 1.2096778924972693, 1.209677922552204, 1.2096778731869298, 1.2096778924196694, 1.2096779023752853, 1.209677858715007, 1.2096779019886712, 1.2096779067968562, 1.2096779212214108, 1.2096779452623354, 1.2096780077687395, 1.2096779980576333, 1.6758533611668374, 1.794688110622278, 1.7946881251743918, 1.8093095044081693, 1.881345447646682, 1.8835015682948157, 4.778308574176578, 32.0645721003034, 19.272306764284718, 19.728056310883918, 9.275992410296443, 57.84175503251742, 9.954864862346025, 10.986457208529648, 49.642593971150504, 8.384123450324088, 44.95809561591339, 3.2334061634512654, 7.76302249555739, 28.36867780153405, 5.5692980987827045, 8.2455226653806, 11.6551293035844, 12.361018123348954, 17.089317667757932, 7.308493599550555, 15.225317780276377, 44.06916909066502, 15.782270710082287, 26.32708562862705, 15.0340924294456, 30.030494328096815, 4.275680314737007, 17.79640044747412, 2.855893302110561, 13.105749208485676, 3.0974100677740046, 2.3153596597549426, 1.2641739849296132, 1.2641740047264165, 1.2641738932986946, 1.264173903197096, 1.264173903197096, 1.264173936191768, 1.2641739724859073, 1.2641740120795137, 1.2641740219779152, 1.2641740318763168, 1.264173953443267, 1.2641744084201187, 1.264174565873959, 1.2641746206769706, 1.2641747527974647, 1.264174615905024, 1.2641747858735686, 1.2641750126228126, 1.264175044599692, 1.264175339958038, 1.2641754248598929, 1.2641752818461491, 1.2641757479213227, 1.2641758211164027, 1.2641759499303675, 1.2641778899145497, 2.6683335290235712, 2.7053903235072885, 2.7054093332859157, 3.2476867965308305, 5.936015444889032, 3.492709453386647, 3.855735370654951, 7.839750420995702, 30.030494328096815, 8.249127121774329, 9.220024132011993, 8.847898810021043, 11.036106951234554, 5.000070478650896, 11.342021379281881, 5.126057390173816, 44.06916909066502, 10.125922635161881, 5.864545035989263, 9.281776035840442, 15.782270710082287, 19.13423345568236, 8.853644926907075, 10.746095435046103, 25.554871036056742, 14.007577171701898, 26.32708562862705, 15.739313613450163, 4.083621347836148, 9.167892264273824, 3.2325068407271305, 2.381392531924776, 2.3813927262687913, 2.381392735481649, 2.3813924884966666, 2.38139260742838, 2.381392392310736, 2.381392510883017, 2.38139249055843, 2.381392113140927, 4.757443603906853, 3.872268993742362, 3.974330696815433, 1.5302784433601486, 1.5302784433601486, 1.5302784433601486, 1.5302784433601486, 1.5302784433601486, 1.5302784433601486, 1.5302784433601486, 1.5302784433601486, 1.5302784433601486, 1.5302784433601486, 1.5302784555788052, 1.5302784845111896, 1.5302784987902904, 1.5302785040438907, 1.5302785168262578, 3.044608552922695, 3.055216464776891, 6.262417060086286, 6.420007519353953, 4.803028560580958, 3.2005422648124218, 3.284328883304202, 3.2843288044939065, 3.2843290180322504, 10.476245117484543, 16.763291450666113, 5.864545035989263, 3.640227082599654, 3.6586408441549327, 3.7310558933179547, 13.153963534108057, 21.21855978824789, 57.84175503251742, 44.06916909066502, 32.0645721003034, 10.438384562589727, 16.792340478645187, 11.140579112522941, 19.272306764284718, 12.557934179331474, 12.789123191833545, 13.484967259994756, 13.693433621978365, 13.73088387787285, 13.63049753658338, 44.95809561591339, 14.175110262482903, 15.499288218305802, 28.230938109966413, 49.642593971150504, 23.84517400637099, 30.030494328096815, 25.554871036056742, 3.365834970275148, 3.3658350906006542, 3.365835031107436, 2.0224997074831754, 2.0224997702745267, 2.022499689547416, 2.022499802325378, 2.022499613403041, 2.0224995503783454, 2.0224997551035533, 2.0224999794814975, 1.3508318122860115, 1.3508318122860115, 1.3508318122860115, 1.3508319002029152, 1.3508319002029152, 1.3508319002029152, 1.3508319129003317, 1.3508319150445216, 1.350831920660722, 1.3508319579884944, 1.3508319628508128, 1.3508319653411651, 1.3508319685827104, 1.3508319816672787, 1.3508318965101767, 1.350831903734003, 1.3508319128764221, 1.3508319169679837, 1.3508320196052386, 7.802683855698227, 6.791704087869968, 3.828372504437022, 3.855735370654951, 12.361018123348954, 15.0340924294456, 14.007577171701898, 9.437753530618487, 5.094249457838322, 5.200696328312162, 6.021887160727674, 21.7393819960446, 15.782270710082287, 6.303285887596138, 6.739420056330968, 8.113069881492727, 57.84175503251742, 31.467186996643882, 11.087758449975196, 44.06916909066502, 49.642593971150504, 20.66161351659672, 19.13423345568236, 23.84517400637099, 11.110412798495712, 2.0055961818506356, 2.0055961818506356, 2.0055963063066216, 1.3423802233357436, 1.3423802233357436, 1.3423802233357436, 1.3423802233357436, 1.3423802233357436, 1.3423802233357436, 1.3423802233357436, 1.3423802233357436, 1.3423802233357436, 1.3423802233357436, 1.3423802233357436, 1.3423802233357436, 1.3423802233357436, 1.3423802233357436, 1.3423802233357436, 1.3423803183110665, 1.3423802404804033, 1.342380247865539, 1.3423802591567815, 1.3423802726606182, 1.3423802958338529, 1.342380298623929, 1.3423803968839585, 1.3423803070596267, 1.3423803143465594, 1.3423801330751783, 1.342380237324618, 9.220024132011993, 7.839750420995702, 2.9085321812176708, 4.884196811611777, 5.131450767558257, 8.10094060859804, 3.55135431627207, 7.285197590151969, 57.84175503251742, 9.19046254349257, 49.642593971150504, 14.007577171701898, 15.091163004143757, 15.739313613450163, 19.13423345568236, 23.84517400637099, 31.467186996643882, 44.95809561591339, 19.728056310883918, 10.746095435046103, 7.76302249555739, 13.637776660493833, 16.64492923122388, 30.030494328096815, 11.6551293035844, 16.917516690474592, 11.087758449975196, 3.0375938234539155, 1.8583790100581852, 1.8583790080493887, 1.8583789693145363, 1.8583935791176056, 1.8584179117544493, 1.268771665909915, 1.268771617531116, 1.2687716224539332, 1.268771626953005, 1.2687716288468929, 1.2687715688178276, 1.2687715774862338, 1.2687715786180063, 1.2687715976135496, 1.2687716026670588, 1.268771606328993, 1.2687716071051285, 1.2687716134554725, 1.2687716205179995, 1.268771634055088, 1.2687715149395968, 1.268771553516013, 1.2687715791656649, 1.2687715898560816, 1.2687716012879164, 1.2687716191589935, 1.2687715460051034, 1.2687715511210809, 1.268771554939361, 2.4981412532506804, 2.5322025957015453, 4.202035243212648, 2.7613154029469866, 7.76302249555739, 4.19005455620913, 9.913906762873857, 5.5692980987827045, 5.842498694786556, 15.739313613450163, 5.080228287673555, 7.949891576088075, 8.384123450324088, 11.342021379281881, 11.6551293035844, 13.107746280363168, 7.308493599550555, 16.763291450666113, 19.728056310883918, 44.95809561591339, 49.642593971150504, 32.0645721003034, 12.557934179331474, 15.499288218305802, 3.6464583960113552, 3.6464588999209027, 2.9046349540683254, 2.904635172893525, 2.9046348063955656, 2.162811196385303, 2.162811214390063, 2.162811242286171, 2.1628112674094724, 2.162811281487835, 2.1628113164413088, 2.162811321225149, 2.162811337926333, 2.162811248140257, 2.162811259891043, 2.1628112807063022, 2.1628113682094816, 4.320282119258502, 4.363518817939001, 3.504266437816303, 3.755748944902171, 2.6289866801925195, 2.7478242559844994, 2.762442740818872, 1.4209878153615585, 1.420987824451673, 1.4209878429076743, 1.4209878276795582, 1.4209876807823199, 1.4209876888094284, 2.893814272597296, 9.597802642642339, 2.971706498495157, 4.658685475624416, 2.991510025789157, 3.013925387073111, 9.240229442025415, 10.438384562589727, 8.113044418007348, 21.21855978824789, 10.212699194344676, 16.64492923122388, 19.13423345568236, 26.32708562862705, 28.230938109966413, 32.0645721003034, 5.936015444889032, 6.091095759427782, 3.6536285680105136, 11.110412798495712, 5.200928994806693, 6.946506408193285, 4.651519185788788, 1.0086332031663554, 1.0086332308101977, 1.008633233574582, 1.008633220186724, 1.0086332729270562, 1.7396362621801584, 1.827782771972137, 2.6264238078925937, 2.6686424304016154, 2.668642776862113, 3.25611300595417, 3.383082266366865, 3.5631294357144667, 3.871583247043112, 7.578948209785835, 7.9330483731008545, 4.104545000440763, 4.264018162230449, 4.836662945635511, 4.853132698562065, 4.968414233977724, 6.5610766961632425, 8.050778951762918, 8.058534278075774, 15.739313613450163, 8.416130068511677, 16.792340478645187, 10.100230887747397, 10.426976704386412, 12.994652756736064, 44.06916909066502, 49.642593971150504, 57.84175503251742, 19.13423345568236, 15.091163004143757, 19.272306764284718, 13.465079225197112, 17.79640044747412, 32.0645721003034, 19.728056310883918, 14.471195535843517, 9.70852537191501, 4.290909578703361, 4.2909097160194145, 3.387973132979274, 3.3879733634887126, 3.3879730844788063, 3.387972745332889, 3.3879728202050137, 3.3879735901127783, 3.3879715288557923, 2.485037217573438, 2.4850372478046343, 2.485036917571423, 2.485036831717009, 2.485037014527422, 2.4850371124497617, 2.485037150704356, 2.4850365786166453, 2.4850368892911883, 2.4850369104711074, 2.485036915460553, 2.485037170601429, 2.485036906088427, 2.4850369567241057, 2.4850371568759955, 2.48503646834345, 2.4850363611658657, 2.485036130969884, 8.701947225966153, 3.9184868127043053, 8.120269941042658, 8.2529721266759, 4.051189467105762, 5.781785976643802, 31.467186996643882, 4.183075166653003, 4.239087664025879, 28.36867780153405, 16.58299258376772, 16.917516690474592, 11.4268831371491, 28.230938109966413, 32.0645721003034, 9.232199826542496, 57.84175503251742, 9.89012771257055, 17.089317667757932, 44.95809561591339, 13.637776660493833, 14.168480566879165, 23.84517400637099, 26.32708562862705, 44.06916909066502, 20.66161351659672, 21.7393819960446, 30.030494328096815, 49.642593971150504, 11.418696635670736, 11.758975627368994, 11.997793135386804, 25.554871036056742, 12.451232088920884, 17.79640044747412, 16.763291450666113, 5.594062306081558, 3.9557630876852317, 3.955761092512568, 2.317463619050275, 2.3174636359953302, 2.3174636708226934, 2.317463729899994, 2.31746347853664, 2.317463489607907, 2.317463392605237, 2.317462427934591, 2.3174624735408997, 2.317462643410745, 2.31746264798183, 2.317462768423522, 4.784458707728865, 3.8082807867876523, 3.8104366406087737, 5.619112015716453, 2.8479770424499224, 2.9024758195322256, 1.4983139108113628, 1.4983139108113628, 1.4983139108113628, 1.4983139108113628, 1.4983139123527645, 1.4983139125199196, 1.4983139125199196, 1.4983139125199196, 1.498313919118854, 6.17228254392756, 3.0592869796247726, 3.1263576703695906, 3.1461617440642144, 3.1461606046185464, 3.1685778925187806, 3.2203984252336797, 7.081620824607892, 5.419826363835762, 6.2030613767333005, 6.3649458106509424, 49.642593971150504, 7.896164239522297, 30.030494328096815, 7.974766388585168, 44.95809561591339, 8.10094060859804, 44.06916909066502, 13.105749208485676, 10.342846176994575, 10.426976704386412, 11.036106951234554, 11.997793135386804, 12.13294651038665, 12.42074593949365, 12.557934179331474, 25.554871036056742, 57.84175503251742, 28.230938109966413, 3.9939574963675493, 3.165254258067065, 3.1652084531226508, 2.336562026375136, 2.336562093053917, 2.336562172508878, 2.336561736889943, 2.336561318078724, 2.336560871615352, 2.3365587286079785, 2.3365601285915574, 2.3365579910992547, 2.3365562774838224, 2.3365557540052695, 2.3365549322365315, 2.336539772519675, 4.8450438082578025, 13.239017642642803, 1.5078631421501032, 1.5078631421501032, 1.5078631421501032, 1.5078631421501032, 1.5078631421501032, 1.5078631421501032, 1.5078631421501032, 1.5078629903714467, 1.5078630233280539, 1.5078630394322228, 1.5078630692814978, 1.5078630790129972, 3.0675651067378427, 8.416130068511677, 3.1316598619439353, 3.1454570902809893, 3.155708643576716, 3.187675690007758, 3.1876440135612385, 12.789123191833545, 6.938088646052096, 3.239498342851722, 11.758975627368994, 3.383082266366865, 13.63049753658338, 8.672548843440369, 8.934318364634306, 14.471195535843517, 9.275992410296443, 13.39921556342741, 11.398782598999247, 17.79640044747412, 19.272306764284718, 13.122174320709597, 12.361018123348954, 10.125922635161881, 14.680387009082379, 7.081620824607892, 15.59903581569049, 49.642593971150504, 44.95809561591339, 8.625082624733773, 20.66161351659672, 9.178512716436975, 8.706542382562182, 12.13294651038665, 15.782270710082287, 13.153963534108057, 15.225317780276377, 13.484967259994756, 2.478059225288751, 1.878427455089713, 1.878427720843903, 1.2787956747649236, 1.2787956747649236, 1.2787956747649236, 1.2787956747649236, 1.2787956747649236, 1.2787956747649236, 1.278795732018735, 1.2787957359443372, 1.2787957189489503, 1.2787957283168045, 1.278795730957809, 1.278795733794961, 1.2787957362039137, 1.2787957377205634, 1.278795759721623, 1.2787957649677275, 1.2787957702138322, 1.2787957717304819, 1.2787957839713926, 1.2787958022789017, 1.2787958070968073, 1.278795782214311, 1.2787957970603219, 1.278795801217976, 1.2787957887197685, 1.2787958077644213, 1.2787958128419656, 2.518189563955939, 2.7813633649755527, 3.4291463049115274, 4.354974931053536, 11.418696635670736, 21.21855978824789, 15.0340924294456, 23.84517400637099, 31.467186996643882, 57.84175503251742, 9.98894977012149, 9.41134450878304, 19.13423345568236, 12.789123191833545, 19.728056310883918, 16.792340478645187, 1.9504632666490993, 13.484967259994756, 3.37573707708098, 30.030494328096815, 6.344087466239106, 7.468747644349172, 1.952619412364868, 3.5631294357144667, 1.9564127459464495, 1.9564126750743593, 1.9564121833276387, 1.9564122386153233, 3.414186059343377, 1.3177883325938176, 1.3177883325938176, 1.3177883929792593, 1.317788399324833, 1.3177884048732065, 1.3177884373982751, 1.317788440622308, 1.3177883463277609, 1.317788352523375, 1.3177883535559771, 1.3177883695362687, 1.317788383588726, 1.317788298284427, 1.3177883002163293, 1.317788301508773, 1.3177883056383684, 1.3177883186582238, 1.317788337879642, 1.3177883551540044, 1.317788366997123, 1.317788355636543, 1.3177882181989933, 1.3177882181989933, 1.3177882458428356, 2.619628756284143, 2.7755623989806035, 4.879600819354039, 3.6586408441549327, 7.790325496912778, 8.045092481150617, 13.741360506781149, 4.836662945635511, 5.299926764240065, 28.230938109966413, 49.642593971150504, 6.948063215375412, 7.376608111785093, 7.56200879794516, 8.050778951762918, 9.232199826542496, 11.087758449975196, 44.95809561591339, 12.451232088920884, 14.168480566879165, 14.471195535843517, 15.091163004143757, 16.64492923122388, 16.917516690474592, 31.467186996643882, 44.06916909066502, 25.554871036056742, 28.36867780153405, 57.84175503251742, 2.141170166190644, 2.141170095121852, 2.141170220549442, 2.1411703855083046, 2.141170261962912, 2.1411701962579994, 3.6810681817826856, 1.4101671254070607, 1.4101671254070607, 1.4101671254070607, 1.4101671254070607, 1.4101671254070607, 1.4101671254070607, 1.4101671350234304, 1.4101671350234304, 1.4101671398316153, 1.4101671398316153, 1.4101671398316153, 1.4101671398316153, 1.4101671398316153, 1.4101671398316153, 1.4101671398316153, 1.4101671398316153, 1.4101671398316153, 1.4101671398316153, 1.4101671446398003, 1.4101671446398003, 1.4101671446398003, 1.4101671446398003, 1.4101671446398003, 2.7809327609155887, 1.4101671446398003, 1.4101671446398003, 2.8829939864987435, 2.9603201761312397, 2.9922844141262623, 11.110412798495712, 3.6000544044543674, 3.6248176665094616, 3.6838688125784156, 3.785930205800793, 7.285197590151969, 4.071671806146927, 7.790325496912778, 4.275680314737007, 4.2756804939478625, 26.32708562862705, 9.19046254349257, 9.178512716436975, 44.06916909066502, 16.763291450666113, 11.036106951234554, 11.4268831371491, 5.510399666840747, 12.42074593949365, 57.84175503251742, 13.39921556342741, 13.73088387787285, 9.275992410296443, 12.760693230176939, 14.680387009082379, 49.642593971150504, 8.249127121774329, 7.065162170983097, 12.557934179331474, 5.870834447779268, 12.994652756736064, 9.98894977012149, 3.8595695042920815, 3.0644681402901934, 3.0644681793077453, 3.0644671993279635, 2.2693669564248182, 2.269366990788871, 2.2693669386771678, 2.2693670136321344, 2.269366956667701, 2.2693670778899357, 5.5692980987827045, 1.4742654898429255, 1.4742654898429255, 1.4742654898429255, 1.4742654898429255, 1.4742654898429255, 1.4742654898429255, 1.4742654898429255, 1.4742654898429255, 1.4742654898429255, 1.4742654898429255, 1.4742654898429255, 1.4742655716410387, 1.4742655595361065, 1.4742655609254467, 1.4742655752167986, 1.4742655899988941, 1.4742655911428624, 1.4742656077221508, 1.4742656289569025, 9.98894977012149, 3.088516453518073, 3.098065275154026, 6.727811582116496, 3.1723032355051526, 9.947861025539034, 14.175110262482903, 10.100230887747397, 3.907666266879101, 7.183460848880925, 7.783404475003662, 4.075239415253877, 7.670736153921228, 13.465079225197112, 8.706542382562182, 4.516846966004271, 15.091163004143757, 21.7393819960446, 4.643824636697762, 49.642593971150504, 44.95809561591339, 9.55368693565003, 19.13423345568236, 25.554871036056742, 11.342021379281881, 10.746095435046103, 11.036106951234554, 57.84175503251742, 14.073735826283912, 15.225317780276377, 28.230938109966413, 28.36867780153405, 44.06916909066502], \"Category\": [\"Default\", \"Default\", \"Default\", \"Default\", \"Default\", \"Default\", \"Default\", \"Default\", \"Default\", \"Default\", \"Default\", \"Default\", \"Default\", \"Default\", \"Default\", \"Default\", \"Default\", \"Default\", \"Default\", \"Default\", \"Default\", \"Default\", \"Default\", \"Default\", \"Default\", \"Default\", \"Default\", \"Default\", \"Default\", \"Default\", \"Topic1\", \"Topic1\", \"Topic1\", \"Topic1\", \"Topic1\", \"Topic1\", \"Topic1\", \"Topic1\", \"Topic1\", \"Topic1\", \"Topic1\", \"Topic1\", \"Topic1\", \"Topic1\", \"Topic1\", \"Topic1\", \"Topic1\", \"Topic1\", \"Topic1\", \"Topic1\", \"Topic1\", \"Topic1\", \"Topic1\", \"Topic1\", \"Topic1\", \"Topic1\", \"Topic1\", \"Topic1\", \"Topic1\", \"Topic1\", \"Topic1\", \"Topic1\", \"Topic1\", \"Topic1\", \"Topic1\", \"Topic1\", \"Topic1\", \"Topic1\", \"Topic1\", \"Topic1\", \"Topic1\", \"Topic1\", \"Topic1\", \"Topic1\", \"Topic1\", \"Topic1\", \"Topic1\", \"Topic1\", \"Topic1\", \"Topic1\", \"Topic2\", \"Topic2\", \"Topic2\", \"Topic2\", \"Topic2\", \"Topic2\", \"Topic2\", \"Topic2\", \"Topic2\", \"Topic2\", \"Topic2\", \"Topic2\", \"Topic2\", \"Topic2\", \"Topic2\", \"Topic2\", \"Topic2\", \"Topic2\", \"Topic2\", \"Topic2\", \"Topic2\", \"Topic2\", \"Topic2\", \"Topic2\", \"Topic2\", \"Topic2\", \"Topic2\", \"Topic2\", \"Topic2\", \"Topic2\", \"Topic2\", \"Topic2\", \"Topic2\", \"Topic2\", \"Topic2\", \"Topic2\", \"Topic2\", \"Topic2\", \"Topic2\", \"Topic2\", \"Topic2\", \"Topic2\", \"Topic2\", \"Topic2\", \"Topic2\", \"Topic2\", \"Topic2\", \"Topic2\", \"Topic2\", \"Topic2\", \"Topic2\", \"Topic2\", \"Topic2\", \"Topic2\", \"Topic2\", \"Topic2\", \"Topic2\", \"Topic2\", \"Topic2\", \"Topic3\", \"Topic3\", \"Topic3\", \"Topic3\", \"Topic3\", \"Topic3\", \"Topic3\", \"Topic3\", \"Topic3\", \"Topic3\", \"Topic3\", \"Topic3\", \"Topic3\", \"Topic3\", \"Topic3\", \"Topic3\", \"Topic3\", \"Topic3\", \"Topic3\", \"Topic3\", \"Topic3\", \"Topic3\", \"Topic3\", \"Topic3\", \"Topic3\", \"Topic3\", \"Topic3\", \"Topic3\", \"Topic3\", \"Topic3\", \"Topic3\", \"Topic3\", \"Topic3\", \"Topic3\", \"Topic3\", \"Topic3\", \"Topic3\", \"Topic3\", \"Topic3\", \"Topic3\", \"Topic3\", \"Topic3\", \"Topic3\", \"Topic3\", \"Topic3\", \"Topic3\", \"Topic3\", \"Topic3\", \"Topic3\", \"Topic3\", \"Topic3\", \"Topic3\", \"Topic3\", \"Topic3\", \"Topic3\", \"Topic3\", \"Topic3\", \"Topic4\", \"Topic4\", \"Topic4\", \"Topic4\", \"Topic4\", \"Topic4\", \"Topic4\", \"Topic4\", \"Topic4\", \"Topic4\", \"Topic4\", \"Topic4\", \"Topic4\", \"Topic4\", \"Topic4\", \"Topic4\", \"Topic4\", \"Topic4\", \"Topic4\", \"Topic4\", \"Topic4\", \"Topic4\", \"Topic4\", \"Topic4\", \"Topic4\", \"Topic4\", \"Topic4\", \"Topic4\", \"Topic4\", \"Topic4\", \"Topic4\", \"Topic4\", \"Topic4\", \"Topic4\", \"Topic4\", \"Topic4\", \"Topic4\", \"Topic4\", \"Topic4\", \"Topic4\", \"Topic4\", \"Topic4\", \"Topic4\", \"Topic4\", \"Topic4\", \"Topic4\", \"Topic4\", \"Topic4\", \"Topic4\", \"Topic4\", \"Topic4\", \"Topic4\", \"Topic4\", \"Topic4\", \"Topic4\", \"Topic4\", \"Topic4\", \"Topic4\", \"Topic4\", \"Topic4\", \"Topic4\", \"Topic4\", \"Topic4\", \"Topic4\", \"Topic4\", \"Topic4\", \"Topic4\", \"Topic4\", \"Topic4\", \"Topic5\", \"Topic5\", \"Topic5\", \"Topic5\", \"Topic5\", \"Topic5\", \"Topic5\", \"Topic5\", \"Topic5\", \"Topic5\", \"Topic5\", \"Topic5\", \"Topic5\", \"Topic5\", \"Topic5\", \"Topic5\", \"Topic5\", \"Topic5\", \"Topic5\", \"Topic5\", \"Topic5\", \"Topic5\", \"Topic5\", \"Topic5\", \"Topic5\", \"Topic5\", \"Topic5\", \"Topic5\", \"Topic5\", \"Topic5\", \"Topic5\", \"Topic5\", \"Topic5\", \"Topic5\", \"Topic5\", \"Topic5\", \"Topic5\", \"Topic5\", \"Topic5\", \"Topic5\", \"Topic5\", \"Topic5\", \"Topic5\", \"Topic5\", \"Topic5\", \"Topic5\", \"Topic5\", \"Topic5\", \"Topic5\", \"Topic5\", \"Topic5\", \"Topic5\", \"Topic5\", \"Topic5\", \"Topic5\", \"Topic5\", \"Topic5\", \"Topic6\", \"Topic6\", \"Topic6\", \"Topic6\", \"Topic6\", \"Topic6\", \"Topic6\", \"Topic6\", \"Topic6\", \"Topic6\", \"Topic6\", \"Topic6\", \"Topic6\", \"Topic6\", \"Topic6\", \"Topic6\", \"Topic6\", \"Topic6\", \"Topic6\", \"Topic6\", \"Topic6\", \"Topic6\", \"Topic6\", \"Topic6\", \"Topic6\", \"Topic6\", \"Topic6\", \"Topic6\", \"Topic6\", \"Topic6\", \"Topic6\", \"Topic6\", \"Topic6\", \"Topic6\", \"Topic6\", \"Topic6\", \"Topic6\", \"Topic6\", \"Topic6\", \"Topic6\", \"Topic6\", \"Topic6\", \"Topic6\", \"Topic6\", \"Topic6\", \"Topic6\", \"Topic6\", \"Topic6\", \"Topic6\", \"Topic6\", \"Topic6\", \"Topic6\", \"Topic6\", \"Topic6\", \"Topic6\", \"Topic6\", \"Topic6\", \"Topic6\", \"Topic6\", \"Topic6\", \"Topic7\", \"Topic7\", \"Topic7\", \"Topic7\", \"Topic7\", \"Topic7\", \"Topic7\", \"Topic7\", \"Topic7\", \"Topic7\", \"Topic7\", \"Topic7\", \"Topic7\", \"Topic7\", \"Topic7\", \"Topic7\", \"Topic7\", \"Topic7\", \"Topic7\", \"Topic7\", \"Topic7\", \"Topic7\", \"Topic7\", \"Topic7\", \"Topic7\", \"Topic7\", \"Topic7\", \"Topic7\", \"Topic7\", \"Topic7\", \"Topic7\", \"Topic7\", \"Topic7\", \"Topic7\", \"Topic7\", \"Topic7\", \"Topic7\", \"Topic7\", \"Topic7\", \"Topic7\", \"Topic7\", \"Topic7\", \"Topic7\", \"Topic7\", \"Topic7\", \"Topic7\", \"Topic7\", \"Topic7\", \"Topic7\", \"Topic7\", \"Topic7\", \"Topic7\", \"Topic7\", \"Topic7\", \"Topic7\", \"Topic7\", \"Topic8\", \"Topic8\", \"Topic8\", \"Topic8\", \"Topic8\", \"Topic8\", \"Topic8\", \"Topic8\", \"Topic8\", \"Topic8\", \"Topic8\", \"Topic8\", \"Topic8\", \"Topic8\", \"Topic8\", \"Topic8\", \"Topic8\", \"Topic8\", \"Topic8\", \"Topic8\", \"Topic8\", \"Topic8\", \"Topic8\", \"Topic8\", \"Topic8\", \"Topic8\", \"Topic8\", \"Topic8\", \"Topic8\", \"Topic8\", \"Topic8\", \"Topic8\", \"Topic8\", \"Topic8\", \"Topic8\", \"Topic8\", \"Topic8\", \"Topic8\", \"Topic8\", \"Topic8\", \"Topic8\", \"Topic8\", \"Topic8\", \"Topic8\", \"Topic8\", \"Topic8\", \"Topic8\", \"Topic8\", \"Topic8\", \"Topic8\", \"Topic8\", \"Topic8\", \"Topic8\", \"Topic8\", \"Topic8\", \"Topic8\", \"Topic8\", \"Topic8\", \"Topic8\", \"Topic8\", \"Topic8\", \"Topic8\", \"Topic8\", \"Topic8\", \"Topic8\", \"Topic8\", \"Topic8\", \"Topic8\", \"Topic9\", \"Topic9\", \"Topic9\", \"Topic9\", \"Topic9\", \"Topic9\", \"Topic9\", \"Topic9\", \"Topic9\", \"Topic9\", \"Topic9\", \"Topic9\", \"Topic9\", \"Topic9\", \"Topic9\", \"Topic9\", \"Topic9\", \"Topic9\", \"Topic9\", \"Topic9\", \"Topic9\", \"Topic9\", \"Topic9\", \"Topic9\", \"Topic9\", \"Topic9\", \"Topic9\", \"Topic9\", \"Topic9\", \"Topic9\", \"Topic9\", \"Topic9\", \"Topic9\", \"Topic9\", \"Topic9\", \"Topic9\", \"Topic9\", \"Topic9\", \"Topic9\", \"Topic9\", \"Topic9\", \"Topic9\", \"Topic9\", \"Topic9\", \"Topic9\", \"Topic9\", \"Topic9\", \"Topic9\", \"Topic9\", \"Topic9\", \"Topic9\", \"Topic9\", \"Topic9\", \"Topic9\", \"Topic9\", \"Topic10\", \"Topic10\", \"Topic10\", \"Topic10\", \"Topic10\", \"Topic10\", \"Topic10\", \"Topic10\", \"Topic10\", \"Topic10\", \"Topic10\", \"Topic10\", \"Topic10\", \"Topic10\", \"Topic10\", \"Topic10\", \"Topic10\", \"Topic10\", \"Topic10\", \"Topic10\", \"Topic10\", \"Topic10\", \"Topic10\", \"Topic10\", \"Topic10\", \"Topic10\", \"Topic10\", \"Topic10\", \"Topic10\", \"Topic10\", \"Topic10\", \"Topic10\", \"Topic10\", \"Topic10\", \"Topic10\", \"Topic10\", \"Topic10\", \"Topic10\", \"Topic10\", \"Topic10\", \"Topic10\", \"Topic10\", \"Topic10\", \"Topic10\", \"Topic10\", \"Topic10\", \"Topic10\", \"Topic10\", \"Topic10\", \"Topic10\", \"Topic10\", \"Topic10\", \"Topic10\", \"Topic10\", \"Topic10\", \"Topic10\", \"Topic10\", \"Topic11\", \"Topic11\", \"Topic11\", \"Topic11\", \"Topic11\", \"Topic11\", \"Topic11\", \"Topic11\", \"Topic11\", \"Topic11\", \"Topic11\", \"Topic11\", \"Topic11\", \"Topic11\", \"Topic11\", \"Topic11\", \"Topic11\", \"Topic11\", \"Topic11\", \"Topic11\", \"Topic11\", \"Topic11\", \"Topic11\", \"Topic11\", \"Topic11\", \"Topic11\", \"Topic11\", \"Topic11\", \"Topic11\", \"Topic11\", \"Topic11\", \"Topic11\", \"Topic11\", \"Topic11\", \"Topic11\", \"Topic11\", \"Topic11\", \"Topic11\", \"Topic11\", \"Topic11\", \"Topic11\", \"Topic11\", \"Topic11\", \"Topic11\", \"Topic11\", \"Topic11\", \"Topic11\", \"Topic11\", \"Topic11\", \"Topic11\", \"Topic11\", \"Topic11\", \"Topic11\", \"Topic11\", \"Topic12\", \"Topic12\", \"Topic12\", \"Topic12\", \"Topic12\", \"Topic12\", \"Topic12\", \"Topic12\", \"Topic12\", \"Topic12\", \"Topic12\", \"Topic12\", \"Topic12\", \"Topic12\", \"Topic12\", \"Topic12\", \"Topic12\", \"Topic12\", \"Topic12\", \"Topic12\", \"Topic12\", \"Topic12\", \"Topic12\", \"Topic12\", \"Topic12\", \"Topic12\", \"Topic12\", \"Topic12\", \"Topic12\", \"Topic12\", \"Topic12\", \"Topic12\", \"Topic12\", \"Topic12\", \"Topic12\", \"Topic12\", \"Topic12\", \"Topic12\", \"Topic12\", \"Topic12\", \"Topic12\", \"Topic12\", \"Topic12\", \"Topic12\", \"Topic12\", \"Topic12\", \"Topic12\", \"Topic12\", \"Topic12\", \"Topic12\", \"Topic12\", \"Topic12\", \"Topic12\", \"Topic13\", \"Topic13\", \"Topic13\", \"Topic13\", \"Topic13\", \"Topic13\", \"Topic13\", \"Topic13\", \"Topic13\", \"Topic13\", \"Topic13\", \"Topic13\", \"Topic13\", \"Topic13\", \"Topic13\", \"Topic13\", \"Topic13\", \"Topic13\", \"Topic13\", \"Topic13\", \"Topic13\", \"Topic13\", \"Topic13\", \"Topic13\", \"Topic13\", \"Topic13\", \"Topic13\", \"Topic13\", \"Topic13\", \"Topic13\", \"Topic13\", \"Topic13\", \"Topic13\", \"Topic13\", \"Topic13\", \"Topic13\", \"Topic13\", \"Topic13\", \"Topic13\", \"Topic13\", \"Topic13\", \"Topic14\", \"Topic14\", \"Topic14\", \"Topic14\", \"Topic14\", \"Topic14\", \"Topic14\", \"Topic14\", \"Topic14\", \"Topic14\", \"Topic14\", \"Topic14\", \"Topic14\", \"Topic14\", \"Topic14\", \"Topic14\", \"Topic14\", \"Topic14\", \"Topic14\", \"Topic14\", \"Topic14\", \"Topic14\", \"Topic14\", \"Topic14\", \"Topic14\", \"Topic14\", \"Topic14\", \"Topic14\", \"Topic14\", \"Topic14\", \"Topic14\", \"Topic14\", \"Topic14\", \"Topic14\", \"Topic14\", \"Topic14\", \"Topic14\", \"Topic14\", \"Topic14\", \"Topic14\", \"Topic14\", \"Topic14\", \"Topic14\", \"Topic14\", \"Topic14\", \"Topic14\", \"Topic14\", \"Topic14\", \"Topic14\", \"Topic14\", \"Topic14\", \"Topic14\", \"Topic14\", \"Topic14\", \"Topic14\", \"Topic14\", \"Topic14\", \"Topic14\", \"Topic14\", \"Topic14\", \"Topic14\", \"Topic14\", \"Topic14\", \"Topic14\", \"Topic15\", \"Topic15\", \"Topic15\", \"Topic15\", \"Topic15\", \"Topic15\", \"Topic15\", \"Topic15\", \"Topic15\", \"Topic15\", \"Topic15\", \"Topic15\", \"Topic15\", \"Topic15\", \"Topic15\", \"Topic15\", \"Topic15\", \"Topic15\", \"Topic15\", \"Topic15\", \"Topic15\", \"Topic15\", \"Topic15\", \"Topic15\", \"Topic15\", \"Topic15\", \"Topic15\", \"Topic15\", \"Topic15\", \"Topic15\", \"Topic15\", \"Topic15\", \"Topic15\", \"Topic15\", \"Topic15\", \"Topic15\", \"Topic15\", \"Topic15\", \"Topic15\", \"Topic15\", \"Topic15\", \"Topic15\", \"Topic15\", \"Topic15\", \"Topic15\", \"Topic15\", \"Topic15\", \"Topic15\", \"Topic15\", \"Topic15\", \"Topic15\", \"Topic15\", \"Topic15\", \"Topic15\", \"Topic15\", \"Topic15\", \"Topic15\", \"Topic15\", \"Topic15\", \"Topic16\", \"Topic16\", \"Topic16\", \"Topic16\", \"Topic16\", \"Topic16\", \"Topic16\", \"Topic16\", \"Topic16\", \"Topic16\", \"Topic16\", \"Topic16\", \"Topic16\", \"Topic16\", \"Topic16\", \"Topic16\", \"Topic16\", \"Topic16\", \"Topic16\", \"Topic16\", \"Topic16\", \"Topic16\", \"Topic16\", \"Topic16\", \"Topic16\", \"Topic16\", \"Topic16\", \"Topic16\", \"Topic16\", \"Topic16\", \"Topic16\", \"Topic16\", \"Topic16\", \"Topic16\", \"Topic16\", \"Topic16\", \"Topic16\", \"Topic16\", \"Topic16\", \"Topic16\", \"Topic16\", \"Topic16\", \"Topic16\", \"Topic16\", \"Topic16\", \"Topic16\", \"Topic16\", \"Topic16\", \"Topic16\", \"Topic16\", \"Topic16\", \"Topic16\", \"Topic16\", \"Topic16\", \"Topic16\", \"Topic16\", \"Topic16\", \"Topic16\", \"Topic16\", \"Topic16\", \"Topic16\", \"Topic16\", \"Topic16\", \"Topic16\", \"Topic16\", \"Topic16\", \"Topic16\", \"Topic16\", \"Topic17\", \"Topic17\", \"Topic17\", \"Topic17\", \"Topic17\", \"Topic17\", \"Topic17\", \"Topic17\", \"Topic17\", \"Topic17\", \"Topic17\", \"Topic17\", \"Topic17\", \"Topic17\", \"Topic17\", \"Topic17\", \"Topic17\", \"Topic17\", \"Topic17\", \"Topic17\", \"Topic17\", \"Topic17\", \"Topic17\", \"Topic17\", \"Topic17\", \"Topic17\", \"Topic17\", \"Topic17\", \"Topic17\", \"Topic17\", \"Topic17\", \"Topic17\", \"Topic17\", \"Topic17\", \"Topic17\", \"Topic17\", \"Topic17\", \"Topic17\", \"Topic17\", \"Topic17\", \"Topic17\", \"Topic17\", \"Topic17\", \"Topic17\", \"Topic17\", \"Topic17\", \"Topic17\", \"Topic17\", \"Topic17\", \"Topic17\", \"Topic17\", \"Topic17\", \"Topic17\", \"Topic18\", \"Topic18\", \"Topic18\", \"Topic18\", \"Topic18\", \"Topic18\", \"Topic18\", \"Topic18\", \"Topic18\", \"Topic18\", \"Topic18\", \"Topic18\", \"Topic18\", \"Topic18\", \"Topic18\", \"Topic18\", \"Topic18\", \"Topic18\", \"Topic18\", \"Topic18\", \"Topic18\", \"Topic18\", \"Topic18\", \"Topic18\", \"Topic18\", \"Topic18\", \"Topic18\", \"Topic18\", \"Topic18\", \"Topic18\", \"Topic18\", \"Topic18\", \"Topic18\", \"Topic18\", \"Topic18\", \"Topic18\", \"Topic18\", \"Topic18\", \"Topic18\", \"Topic18\", \"Topic18\", \"Topic18\", \"Topic18\", \"Topic18\", \"Topic18\", \"Topic18\", \"Topic18\", \"Topic18\", \"Topic18\", \"Topic18\", \"Topic18\", \"Topic18\", \"Topic18\", \"Topic18\", \"Topic18\", \"Topic18\", \"Topic18\", \"Topic18\", \"Topic18\", \"Topic19\", \"Topic19\", \"Topic19\", \"Topic19\", \"Topic19\", \"Topic19\", \"Topic19\", \"Topic19\", \"Topic19\", \"Topic19\", \"Topic19\", \"Topic19\", \"Topic19\", \"Topic19\", \"Topic19\", \"Topic19\", \"Topic19\", \"Topic19\", \"Topic19\", \"Topic19\", \"Topic19\", \"Topic19\", \"Topic19\", \"Topic19\", \"Topic19\", \"Topic19\", \"Topic19\", \"Topic19\", \"Topic19\", \"Topic19\", \"Topic19\", \"Topic19\", \"Topic19\", \"Topic19\", \"Topic19\", \"Topic19\", \"Topic19\", \"Topic19\", \"Topic19\", \"Topic19\", \"Topic19\", \"Topic19\", \"Topic19\", \"Topic19\", \"Topic19\", \"Topic19\", \"Topic19\", \"Topic19\", \"Topic19\", \"Topic19\", \"Topic19\", \"Topic19\", \"Topic19\", \"Topic19\", \"Topic19\", \"Topic19\", \"Topic19\", \"Topic19\", \"Topic19\", \"Topic19\", \"Topic19\", \"Topic19\", \"Topic19\", \"Topic19\", \"Topic19\", \"Topic19\", \"Topic19\", \"Topic19\", \"Topic20\", \"Topic20\", \"Topic20\", \"Topic20\", \"Topic20\", \"Topic20\", \"Topic20\", \"Topic20\", \"Topic20\", \"Topic20\", \"Topic20\", \"Topic20\", \"Topic20\", \"Topic20\", \"Topic20\", \"Topic20\", \"Topic20\", \"Topic20\", \"Topic20\", \"Topic20\", \"Topic20\", \"Topic20\", \"Topic20\", \"Topic20\", \"Topic20\", \"Topic20\", \"Topic20\", \"Topic20\", \"Topic20\", \"Topic20\", \"Topic20\", \"Topic20\", \"Topic20\", \"Topic20\", \"Topic20\", \"Topic20\", \"Topic20\", \"Topic20\", \"Topic20\", \"Topic20\", \"Topic20\", \"Topic20\", \"Topic20\", \"Topic20\", \"Topic20\", \"Topic20\", \"Topic20\", \"Topic20\", \"Topic20\", \"Topic20\", \"Topic20\", \"Topic20\", \"Topic20\", \"Topic20\", \"Topic20\", \"Topic20\", \"Topic20\", \"Topic20\", \"Topic20\", \"Topic20\", \"Topic20\", \"Topic20\", \"Topic20\"], \"logprob\": [30.0, 29.0, 28.0, 27.0, 26.0, 25.0, 24.0, 23.0, 22.0, 21.0, 20.0, 19.0, 18.0, 17.0, 16.0, 15.0, 14.0, 13.0, 12.0, 11.0, 10.0, 9.0, 8.0, 7.0, 6.0, 5.0, 4.0, 3.0, 2.0, 1.0, -4.400899887084961, -4.9552001953125, -4.9552001953125, -4.9552001953125, -4.9552001953125, -5.238800048828125, -5.238800048828125, -5.238800048828125, -5.238800048828125, -5.238800048828125, -5.238800048828125, -5.238800048828125, -4.734499931335449, -4.734499931335449, -5.636099815368652, -5.636099815368652, -5.636099815368652, -5.636099815368652, -5.636099815368652, -5.636099815368652, -5.636099815368652, -5.636099815368652, -5.636099815368652, -5.636099815368652, -5.636099815368652, -5.636099815368652, -5.636099815368652, -5.636099815368652, -5.636099815368652, -5.636099815368652, -4.9552001953125, -4.9552001953125, -5.238800048828125, -5.238800048828125, -5.238800048828125, -5.238800048828125, -5.238800048828125, -5.238800048828125, -4.9552001953125, -5.238800048828125, -5.238800048828125, -5.238800048828125, -5.238800048828125, -5.238800048828125, -5.238800048828125, -5.238800048828125, -5.238800048828125, -5.238800048828125, -5.238800048828125, -5.238800048828125, -5.125100135803223, -5.125100135803223, -5.125100135803223, -4.727799892425537, -5.794099807739258, -5.794099807739258, -5.794099807739258, -5.794099807739258, -5.794099807739258, -5.794099807739258, -5.794099807739258, -5.794099807739258, -5.7941999435424805, -5.7941999435424805, -5.7941999435424805, -5.7941999435424805, -5.7941999435424805, -5.7941999435424805, -5.7941999435424805, -5.7941999435424805, -5.7941999435424805, -5.7941999435424805, -5.7941999435424805, -5.7941999435424805, -5.7941999435424805, -5.7941999435424805, -5.7941999435424805, -5.7941999435424805, -5.7941999435424805, -5.7941999435424805, -4.727799892425537, -4.727799892425537, -4.727799892425537, -4.444300174713135, -5.125100135803223, -5.125100135803223, -5.125100135803223, -5.125100135803223, -5.125100135803223, -5.127799987792969, -5.127799987792969, -5.146900177001953, -4.446000099182129, -5.125100135803223, -4.730599880218506, -4.44950008392334, -5.125100135803223, -5.125100135803223, -4.456099987030029, -5.125100135803223, -5.125100135803223, -4.728700160980225, -5.125100135803223, -5.125100135803223, -5.125100135803223, -5.125100135803223, -5.125100135803223, -5.125100135803223, -5.125100135803223, -4.599100112915039, -4.599100112915039, -5.268099784851074, -5.268099784851074, -5.268099784851074, -5.268099784851074, -5.268099784851074, -5.268099784851074, -5.268099784851074, -5.268099784851074, -5.268099784851074, -5.268099784851074, -5.268099784851074, -5.268099784851074, -5.268099784851074, -5.268099784851074, -5.268099784851074, -5.268099784851074, -5.268099784851074, -5.268099784851074, -5.268099784851074, -5.268099784851074, -5.268099784851074, -5.268099784851074, -5.268099784851074, -5.268099784851074, -5.268099784851074, -5.268099784851074, -5.268099784851074, -5.268099784851074, -4.599100112915039, -4.599100112915039, -4.599100112915039, -4.599100112915039, -4.599100112915039, -5.268099784851074, -5.268099784851074, -5.268099784851074, -5.268099784851074, -5.268099784851074, -5.268099784851074, -5.268099784851074, -5.268099784851074, -5.268099784851074, -5.268099784851074, -5.268099784851074, -5.268099784851074, -5.268099784851074, -5.268099784851074, -5.268099784851074, -5.268099784851074, -5.268099784851074, -5.268099784851074, -5.268099784851074, -5.268099784851074, -5.268099784851074, -5.268099784851074, -4.856400012969971, -5.253699779510498, -5.253699779510498, -5.253699779510498, -5.922800064086914, -5.922800064086914, -5.922800064086914, -5.922800064086914, -5.922800064086914, -5.922800064086914, -5.922800064086914, -5.922800064086914, -5.922800064086914, -5.922800064086914, -5.922800064086914, -5.922800064086914, -5.922800064086914, -5.922800064086914, -5.922800064086914, -5.922800064086914, -5.922800064086914, -5.922800064086914, -5.922800064086914, -5.922800064086914, -5.922800064086914, -5.922800064086914, -5.922800064086914, -5.922800064086914, -5.922800064086914, -5.922800064086914, -5.253799915313721, -4.856400012969971, -5.253699779510498, -4.572800159454346, -5.253699779510498, -5.253699779510498, -5.253699779510498, -4.572800159454346, -4.856400012969971, -4.572800159454346, -3.8224000930786133, -4.5609002113342285, -5.253699779510498, -4.483399868011475, -5.253699779510498, -5.253699779510498, -4.856400012969971, -5.253699779510498, -5.253699779510498, -4.856400012969971, -4.56790018081665, -5.2459001541137695, -5.2459001541137695, -5.248899936676025, -5.253699779510498, -4.785699844360352, -4.849899768829346, -5.055500030517578, -5.039599895477295, -5.1178998947143555, -5.174699783325195, -5.213799953460693, -5.232600212097168, -5.248899936676025, -5.249300003051758, -5.25029993057251, -5.253699779510498, -5.253699779510498, -5.253699779510498, -4.604400157928467, -5.001699924468994, -5.001699924468994, -5.001699924468994, -5.001699924468994, -4.320799827575684, -4.604400157928467, -5.6707000732421875, -5.6707000732421875, -5.6707000732421875, -5.6707000732421875, -5.6707000732421875, -5.6707000732421875, -5.6707000732421875, -5.6707000732421875, -5.6707000732421875, -5.6707000732421875, -5.6707000732421875, -5.6707000732421875, -5.6707000732421875, -5.6707000732421875, -5.6707000732421875, -5.6707000732421875, -5.6707000732421875, -5.6707000732421875, -5.6707000732421875, -5.6707000732421875, -5.6707000732421875, -5.6707000732421875, -5.6707000732421875, -5.001699924468994, -5.001699924468994, -5.001699924468994, -5.001699924468994, -5.001699924468994, -4.604400157928467, -4.604400157928467, -4.604400157928467, -5.001699924468994, -5.001699924468994, -5.001699924468994, -5.001699924468994, -4.604400157928467, -5.001699924468994, -5.001699924468994, -5.001699924468994, -5.001699924468994, -5.001699924468994, -5.001699924468994, -5.001699924468994, -5.001699924468994, -5.001699924468994, -5.001699924468994, -5.001699924468994, -5.001699924468994, -5.001699924468994, -5.001699924468994, -5.4054999351501465, -5.4054999351501465, -5.4054999351501465, -5.4054999351501465, -5.4054999351501465, -5.4054999351501465, -5.4054999351501465, -5.4054999351501465, -5.4054999351501465, -5.4054999351501465, -5.4054999351501465, -5.4054999351501465, -5.4054999351501465, -5.4054999351501465, -5.4054999351501465, -5.4054999351501465, -5.4054999351501465, -5.4054999351501465, -5.4054999351501465, -5.4054999351501465, -5.4054999351501465, -5.4054999351501465, -5.4054999351501465, -5.4054999351501465, -5.4054999351501465, -5.4054999351501465, -5.4054999351501465, -5.4054999351501465, -5.4054999351501465, -5.4054999351501465, -4.736400127410889, -4.055500030517578, -4.339099884033203, -4.339099884033203, -4.736400127410889, -4.055500030517578, -4.736400127410889, -4.736400127410889, -4.736400127410889, -5.4054999351501465, -5.4054999351501465, -5.4054999351501465, -5.4054999351501465, -5.4054999351501465, -5.4054999351501465, -5.4054999351501465, -5.4054999351501465, -5.4054999351501465, -5.4054999351501465, -5.4054999351501465, -5.4054999351501465, -5.4054999351501465, -5.4054999351501465, -5.4054999351501465, -5.4054999351501465, -5.4054999351501465, -5.4054999351501465, -5.4054999351501465, -5.4054999351501465, -5.4054999351501465, -4.441800117492676, -4.839099884033203, -5.5081000328063965, -5.5081000328063965, -5.5081000328063965, -5.5081000328063965, -5.5081000328063965, -5.5081000328063965, -5.5081000328063965, -5.5081000328063965, -5.5081000328063965, -5.5081000328063965, -5.5081000328063965, -5.5081000328063965, -5.5081000328063965, -5.5081000328063965, -5.5081000328063965, -5.5081000328063965, -5.5081000328063965, -5.5081000328063965, -5.5081000328063965, -5.5081000328063965, -5.5081000328063965, -5.5081000328063965, -5.5081000328063965, -5.5081000328063965, -5.5081000328063965, -5.5081000328063965, -4.839099884033203, -4.919400215148926, -4.91949987411499, -4.839099884033203, -4.4567999839782715, -4.8719000816345215, -4.839099884033203, -4.441800117492676, -3.7451999187469482, -4.488500118255615, -4.441800117492676, -4.469900131225586, -4.441800117492676, -4.839099884033203, -4.45550012588501, -4.839200019836426, -3.849400043487549, -4.592700004577637, -4.839099884033203, -4.669000148773193, -4.469900131225586, -4.441800117492676, -4.839099884033203, -4.839099884033203, -4.651000022888184, -4.906199932098389, -4.756400108337402, -4.922399997711182, -5.25600004196167, -4.451900005340576, -5.539599895477295, -5.9369001388549805, -5.9369001388549805, -5.9369001388549805, -5.9369001388549805, -5.9369001388549805, -5.9369001388549805, -5.9369001388549805, -5.9369001388549805, -5.9369001388549805, -5.25600004196167, -5.539599895477295, -5.539599895477295, -6.605899810791016, -6.605899810791016, -6.605899810791016, -6.605899810791016, -6.605899810791016, -6.605899810791016, -6.605899810791016, -6.605899810791016, -6.605899810791016, -6.605899810791016, -6.605899810791016, -6.605899810791016, -6.605899810791016, -6.605899810791016, -6.605899810791016, -5.9369001388549805, -5.9369001388549805, -5.25600004196167, -5.25600004196167, -5.539599895477295, -5.9369001388549805, -5.9369001388549805, -5.9369001388549805, -5.9369001388549805, -5.035299777984619, -4.706600189208984, -5.539599895477295, -5.9369001388549805, -5.9369001388549805, -5.9369001388549805, -5.035299777984619, -4.701700210571289, -4.0920000076293945, -4.349599838256836, -4.568999767303467, -5.25600004196167, -5.037799835205078, -5.26609992980957, -5.035299777984619, -5.25600004196167, -5.26609992980957, -5.25600004196167, -5.25600004196167, -5.259900093078613, -5.26609992980957, -4.8678998947143555, -5.28380012512207, -5.25600004196167, -5.045400142669678, -5.035299777984619, -5.25600004196167, -5.25600004196167, -5.2779998779296875, -4.423099994659424, -4.423099994659424, -4.423099994659424, -5.103899955749512, -5.103899955749512, -5.103899955749512, -5.103899955749512, -5.103899955749512, -5.103899955749512, -5.103899955749512, -5.103899955749512, -5.7729997634887695, -5.7729997634887695, -5.7729997634887695, -5.7729997634887695, -5.7729997634887695, -5.7729997634887695, -5.7729997634887695, -5.7729997634887695, -5.7729997634887695, -5.7729997634887695, -5.7729997634887695, -5.7729997634887695, -5.7729997634887695, -5.7729997634887695, -5.7729997634887695, -5.7729997634887695, -5.7729997634887695, -5.7729997634887695, -5.7729997634887695, -4.202400207519531, -4.423099994659424, -5.103899955749512, -5.103899955749512, -4.423099994659424, -4.366600036621094, -4.423099994659424, -4.706600189208984, -5.103899955749512, -5.103899955749512, -5.103899955749512, -4.56850004196167, -4.706600189208984, -5.103899955749512, -5.103899955749512, -5.103899955749512, -4.423099994659424, -4.706600189208984, -5.103899955749512, -4.706600189208984, -5.0808000564575195, -5.103899955749512, -5.103899955749512, -5.103899955749512, -5.103899955749512, -5.077499866485596, -5.077499866485596, -5.077499866485596, -5.746500015258789, -5.746500015258789, -5.746500015258789, -5.746500015258789, -5.746500015258789, -5.746500015258789, -5.746500015258789, -5.746500015258789, -5.746500015258789, -5.746500015258789, -5.746500015258789, -5.746500015258789, -5.746500015258789, -5.746500015258789, -5.746500015258789, -5.746500015258789, -5.746500015258789, -5.746500015258789, -5.746500015258789, -5.746500015258789, -5.746500015258789, -5.746500015258789, -5.746500015258789, -5.746500015258789, -5.746500015258789, -5.746500015258789, -5.746500015258789, -3.9951999187469482, -4.175899982452393, -5.077499866485596, -4.680200099945068, -4.680200099945068, -4.396599769592285, -5.077499866485596, -5.077499866485596, -4.396599769592285, -5.077499866485596, -4.680200099945068, -5.077499866485596, -5.077499866485596, -5.077499866485596, -5.077499866485596, -5.077499866485596, -5.077499866485596, -5.077499866485596, -5.746500015258789, -5.746500015258789, -5.746500015258789, -5.746500015258789, -5.746500015258789, -5.746500015258789, -5.746500015258789, -5.746500015258789, -5.746500015258789, -4.166800022125244, -4.847700119018555, -4.847700119018555, -4.847700119018555, -4.847700119018555, -4.847700119018555, -5.51669979095459, -5.51669979095459, -5.51669979095459, -5.51669979095459, -5.51669979095459, -5.51669979095459, -5.51669979095459, -5.51669979095459, -5.51669979095459, -5.51669979095459, -5.51669979095459, -5.51669979095459, -5.51669979095459, -5.51669979095459, -5.51669979095459, -5.51669979095459, -5.51669979095459, -5.51669979095459, -5.51669979095459, -5.51669979095459, -5.51669979095459, -5.51669979095459, -5.51669979095459, -5.51669979095459, -4.847700119018555, -4.847700119018555, -4.450399875640869, -4.847700119018555, -4.450399875640869, -4.847700119018555, -4.535099983215332, -4.847700119018555, -4.847700119018555, -4.450399875640869, -4.93779993057251, -4.847700119018555, -4.847700119018555, -4.847700119018555, -4.847700119018555, -4.847700119018555, -5.058300018310547, -4.847700119018555, -4.847700119018555, -4.847700119018555, -5.362199783325195, -5.3881001472473145, -5.51669979095459, -5.51669979095459, -4.636199951171875, -4.636199951171875, -4.9197001457214355, -4.9197001457214355, -4.9197001457214355, -5.316999912261963, -5.316999912261963, -5.316999912261963, -5.316999912261963, -5.316999912261963, -5.316999912261963, -5.316999912261963, -5.316999912261963, -5.316999912261963, -5.316999912261963, -5.316999912261963, -5.316999912261963, -4.636199951171875, -4.636199951171875, -4.9197001457214355, -4.9197001457214355, -5.316999912261963, -5.316999912261963, -5.316999912261963, -5.986100196838379, -5.986100196838379, -5.986100196838379, -5.986100196838379, -5.986100196838379, -5.986100196838379, -5.316999912261963, -4.234799861907959, -5.316999912261963, -4.9197001457214355, -5.316999912261963, -5.316999912261963, -4.415500164031982, -4.636199951171875, -4.9197001457214355, -4.636199951171875, -4.9197001457214355, -4.9197001457214355, -4.9197001457214355, -4.9197001457214355, -4.9197001457214355, -4.9197001457214355, -5.316999912261963, -5.316999912261963, -5.316999912261963, -5.316999912261963, -5.316999912261963, -5.316999912261963, -5.316999912261963, -5.031099796295166, -5.031099796295166, -5.031099796295166, -5.031099796295166, -5.031099796295166, -5.031099796295166, -5.031099796295166, -5.031099796295166, -5.031099796295166, -5.031099796295166, -5.031099796295166, -5.031099796295166, -5.031099796295166, -5.031099796295166, -4.361999988555908, -4.361999988555908, -5.031099796295166, -5.031099796295166, -5.031099796295166, -5.031099796295166, -5.031099796295166, -5.031099796295166, -5.031099796295166, -5.031099796295166, -4.361999988555908, -5.031099796295166, -4.361999988555908, -5.031099796295166, -5.031099796295166, -5.031099796295166, -4.361999988555908, -4.361999988555908, -5.031099796295166, -5.031099796295166, -5.031099796295166, -5.031099796295166, -5.031099796295166, -5.031099796295166, -5.031099796295166, -5.031099796295166, -5.031099796295166, -4.789599895477295, -5.698500156402588, -5.698500156402588, -5.982100009918213, -5.982100009918213, -5.982100009918213, -5.982100009918213, -5.982100009918213, -5.982100009918213, -5.982100009918213, -6.37939977645874, -6.37939977645874, -6.37939977645874, -6.37939977645874, -6.37939977645874, -6.37939977645874, -6.37939977645874, -6.37939977645874, -6.37939977645874, -6.37939977645874, -6.37939977645874, -6.37939977645874, -6.37939977645874, -6.37939977645874, -6.37939977645874, -6.37939977645874, -6.37939977645874, -6.37939977645874, -5.144199848175049, -5.982100009918213, -5.297100067138672, -5.297100067138672, -5.982100009918213, -5.698500156402588, -4.386099815368652, -5.982100009918213, -5.982100009918213, -4.609099864959717, -5.01200008392334, -5.011499881744385, -5.297100067138672, -4.694799900054932, -4.621799945831299, -5.478700160980225, -4.325099945068359, -5.4791998863220215, -5.144599914550781, -4.529900074005127, -5.297100067138672, -5.298600196838379, -5.01170015335083, -5.011499881744385, -4.790900230407715, -5.144800186157227, -5.144199848175049, -5.013700008392334, -4.8078999519348145, -5.477799892425537, -5.477799892425537, -5.477799892425537, -5.300000190734863, -5.477799892425537, -5.477799892425537, -5.477799892425537, -4.646200180053711, -5.047500133514404, -5.047500133514404, -5.728400230407715, -5.728400230407715, -5.728400230407715, -5.728400230407715, -5.728400230407715, -5.728400230407715, -5.728400230407715, -5.728400230407715, -5.728400230407715, -5.728400230407715, -5.728400230407715, -5.728400230407715, -5.047500133514404, -5.331099987030029, -5.331099987030029, -5.047500133514404, -5.728400230407715, -5.728400230407715, -6.397500038146973, -6.397500038146973, -6.397500038146973, -6.397500038146973, -6.397500038146973, -6.397500038146973, -6.397500038146973, -6.397500038146973, -6.397500038146973, -5.047500133514404, -5.728400230407715, -5.728400230407715, -5.728400230407715, -5.728400230407715, -5.728400230407715, -5.728400230407715, -5.047500133514404, -5.331099987030029, -5.331099987030029, -5.331099987030029, -4.291399955749512, -5.331099987030029, -4.761499881744385, -5.331099987030029, -4.646200180053711, -5.331099987030029, -4.700500011444092, -5.207799911499023, -5.331099987030029, -5.331099987030029, -5.331099987030029, -5.331099987030029, -5.331099987030029, -5.331099987030029, -5.331099987030029, -5.2281999588012695, -5.17080020904541, -5.335000038146973, -5.079899787902832, -5.363500118255615, -5.363500118255615, -5.760799884796143, -5.760799884796143, -5.760799884796143, -5.760799884796143, -5.760799884796143, -5.760799884796143, -5.760799884796143, -5.760799884796143, -5.760799884796143, -5.760799884796143, -5.760799884796143, -5.760799884796143, -5.760799884796143, -5.079899787902832, -4.076200008392334, -6.429800033569336, -6.429800033569336, -6.429800033569336, -6.429800033569336, -6.429800033569336, -6.429800033569336, -6.429800033569336, -6.429800033569336, -6.429800033569336, -6.429800033569336, -6.429800033569336, -6.429800033569336, -5.760799884796143, -4.8592000007629395, -5.760799884796143, -5.760799884796143, -5.760799884796143, -5.760799884796143, -5.760799884796143, -4.525599956512451, -5.079999923706055, -5.760799884796143, -4.678500175476074, -5.760799884796143, -4.678500175476074, -5.079899787902832, -5.079899787902832, -4.859300136566162, -5.122900009155273, -4.938300132751465, -5.079899787902832, -4.864200115203857, -4.86299991607666, -5.079899787902832, -5.119900226593018, -5.2322998046875, -5.100100040435791, -5.363500118255615, -5.095699787139893, -4.695899963378906, -4.8592000007629395, -5.363500118255615, -5.107500076293945, -5.363500118255615, -5.391499996185303, -5.363500118255615, -5.363500118255615, -5.363500118255615, -5.363500118255615, -5.363500118255615, -4.489699840545654, -4.88700008392334, -4.88700008392334, -5.556099891662598, -5.556099891662598, -5.556099891662598, -5.556099891662598, -5.556099891662598, -5.556099891662598, -5.556099891662598, -5.556099891662598, -5.556099891662598, -5.556099891662598, -5.556099891662598, -5.556099891662598, -5.556099891662598, -5.556099891662598, -5.556099891662598, -5.556099891662598, -5.556099891662598, -5.556099891662598, -5.556099891662598, -5.556099891662598, -5.556099891662598, -5.556099891662598, -5.556099891662598, -5.556099891662598, -5.556099891662598, -5.556099891662598, -5.556099891662598, -4.88700008392334, -4.88700008392334, -4.88700008392334, -4.88700008392334, -4.489699840545654, -4.206200122833252, -4.88700008392334, -4.88700008392334, -4.88700008392334, -4.88700008392334, -5.556099891662598, -5.556099891662598, -5.556099891662598, -5.556099891662598, -5.556099891662598, -5.556099891662598, -5.556099891662598, -5.556099891662598, -5.556099891662598, -5.556099891662598, -5.556099891662598, -5.556099891662598, -5.556099891662598, -4.317500114440918, -4.9984002113342285, -4.9984002113342285, -4.9984002113342285, -4.9984002113342285, -4.601099967956543, -5.667399883270264, -5.667399883270264, -5.667399883270264, -5.667399883270264, -5.667399883270264, -5.667399883270264, -5.667399883270264, -5.667399883270264, -5.667399883270264, -5.667399883270264, -5.667399883270264, -5.667399883270264, -5.667399883270264, -5.667399883270264, -5.667399883270264, -5.667399883270264, -5.667399883270264, -5.667399883270264, -5.667399883270264, -5.667399883270264, -5.667399883270264, -5.667399883270264, -5.667399883270264, -5.667399883270264, -4.9984002113342285, -4.9984002113342285, -4.601099967956543, -4.9984002113342285, -4.601099967956543, -4.601099967956543, -4.317500114440918, -4.9984002113342285, -4.9984002113342285, -4.317500114440918, -4.096799850463867, -4.9984002113342285, -4.9984002113342285, -4.9984002113342285, -4.9984002113342285, -4.9984002113342285, -4.9984002113342285, -4.601099967956543, -4.9984002113342285, -4.9984002113342285, -4.9984002113342285, -4.9984002113342285, -4.9984002113342285, -4.9984002113342285, -4.9984002113342285, -4.9984002113342285, -4.9984002113342285, -4.9984002113342285, -4.9984002113342285, -5.302999973297119, -5.302999973297119, -5.302999973297119, -5.302999973297119, -5.302999973297119, -5.302999973297119, -4.905700206756592, -5.972099781036377, -5.972099781036377, -5.972099781036377, -5.972099781036377, -5.972099781036377, -5.972099781036377, -5.972099781036377, -5.972099781036377, -5.972099781036377, -5.972099781036377, -5.972099781036377, -5.972099781036377, -5.972099781036377, -5.972099781036377, -5.972099781036377, -5.972099781036377, -5.972099781036377, -5.972099781036377, -5.972099781036377, -5.972099781036377, -5.972099781036377, -5.972099781036377, -5.972099781036377, -5.302999973297119, -5.972099781036377, -5.972099781036377, -5.302999973297119, -5.302999973297119, -5.302999973297119, -4.220799922943115, -5.302999973297119, -5.302999973297119, -5.302999973297119, -5.302999973297119, -4.913700103759766, -5.302999973297119, -4.905700206756592, -5.302999973297119, -5.302999973297119, -4.220399856567383, -4.905700206756592, -4.918000221252441, -4.071800231933594, -4.617700099945068, -4.905700206756592, -4.905700206756592, -5.302999973297119, -4.905700206756592, -4.905700206756592, -5.166200160980225, -5.193999767303467, -5.23960018157959, -5.232100009918213, -5.2642998695373535, -5.281099796295166, -5.3018999099731445, -5.302999973297119, -5.302999973297119, -5.302999973297119, -5.302999973297119, -5.302999973297119, -4.920599937438965, -5.204100131988525, -5.204100131988525, -5.204100131988525, -5.601399898529053, -5.601399898529053, -5.601399898529053, -5.601399898529053, -5.601399898529053, -5.601399898529053, -4.920599937438965, -6.270500183105469, -6.270500183105469, -6.270500183105469, -6.270500183105469, -6.270500183105469, -6.270500183105469, -6.270500183105469, -6.270500183105469, -6.270500183105469, -6.270500183105469, -6.270500183105469, -6.270500183105469, -6.270500183105469, -6.270500183105469, -6.270500183105469, -6.270500183105469, -6.270500183105469, -6.270500183105469, -6.270500183105469, -4.519199848175049, -5.601399898529053, -5.601399898529053, -4.920599937438965, -5.601399898529053, -4.920599937438965, -4.678199768066406, -4.920599937438965, -5.601399898529053, -5.204100131988525, -5.156400203704834, -5.601399898529053, -5.204100131988525, -4.920599937438965, -5.204100131988525, -5.601399898529053, -4.890900135040283, -4.699900150299072, -5.601399898529053, -4.23360013961792, -4.352099895477295, -5.204100131988525, -4.920599937438965, -4.89900016784668, -5.175099849700928, -5.204100131988525, -5.204100131988525, -4.901299953460693, -5.204100131988525, -5.204100131988525, -5.187600135803223, -5.204100131988525, -5.196199893951416], \"loglift\": [30.0, 29.0, 28.0, 27.0, 26.0, 25.0, 24.0, 23.0, 22.0, 21.0, 20.0, 19.0, 18.0, 17.0, 16.0, 15.0, 14.0, 13.0, 12.0, 11.0, 10.0, 9.0, 8.0, 7.0, 6.0, 5.0, 4.0, 3.0, 2.0, 1.0, 2.5181, 2.4461, 2.4461, 2.4461, 2.4461, 2.394, 2.394, 2.394, 2.394, 2.394, 2.394, 2.394, 2.319, 2.3173, 2.2984, 2.2984, 2.2984, 2.2984, 2.2984, 2.2984, 2.2984, 2.2984, 2.2984, 2.2984, 2.2984, 2.2984, 2.2984, 2.2984, 2.2984, 2.2984, 2.2873, 2.2386, 2.1661, 2.1575, 2.1518, 2.1518, 2.1388, 2.0771, 1.7864, 1.8678, 1.8303, 1.7573, 1.7022, 1.5802, 1.4579, 1.4541, 0.7684, 1.2297, 1.2037, 1.2992, 2.9345, 2.9345, 2.9345, 2.7799, 2.6696, 2.6696, 2.6696, 2.6696, 2.6696, 2.6696, 2.6696, 2.6696, 2.6696, 2.6696, 2.6696, 2.6696, 2.6696, 2.6696, 2.6696, 2.6696, 2.6696, 2.6696, 2.6696, 2.6696, 2.6696, 2.6696, 2.6696, 2.6696, 2.6696, 2.6696, 2.6184, 2.6153, 2.6069, 2.5495, 2.6036, 2.6036, 2.5951, 2.4039, 2.362, 2.3279, 2.2846, 2.1601, 1.0495, 1.7935, 1.2271, 0.5108, 1.5957, 1.5818, 0.4051, 1.4196, 1.3797, 0.5884, 1.3259, 1.1563, 1.0946, 1.0764, 1.0409, 0.8201, -0.4167, 3.6899, 3.6899, 3.3623, 3.3623, 3.3623, 3.3623, 3.3623, 3.3623, 3.3623, 3.3623, 3.3623, 3.3623, 3.3623, 3.3623, 3.3623, 3.3623, 3.3623, 3.3623, 3.3623, 3.3623, 3.3623, 3.3623, 3.3623, 3.3623, 3.3623, 2.9817, 2.9054, 2.9054, 2.8228, 2.8227, 2.4509, 2.4409, 2.1631, 1.3286, 0.8217, 1.4045, 1.4997, -0.4069, 0.7418, 1.4425, 0.775, 2.8179, 2.5566, -0.2878, 0.049, 0.0302, 0.8776, 1.0627, 1.7558, -0.3078, 0.6859, 1.0021, 1.4735, 2.781, 0.6771, 1.3262, 1.2705, 2.8693, 2.7641, 2.7641, 2.7641, 2.5095, 2.5095, 2.5095, 2.5095, 2.5095, 2.5095, 2.5095, 2.5095, 2.5095, 2.5095, 2.5095, 2.5095, 2.5095, 2.5095, 2.5095, 2.5095, 2.5095, 2.5095, 2.5095, 2.5095, 2.5095, 2.5095, 2.5095, 2.5095, 2.5095, 2.5095, 2.4881, 2.3993, 2.4365, 2.287, 2.3388, 2.2084, 2.2067, 1.6787, 1.8, 1.5211, 0.886, 1.4644, 1.9767, 1.324, 1.9483, 1.8635, 1.4197, 1.819, 1.7963, 1.2654, 0.7304, 1.5539, 1.4351, 1.4314, 1.4256, 0.5782, 0.1104, 0.4698, -0.1784, -0.1375, 0.2461, 0.9571, 1.0161, 0.8968, 0.8658, 0.7929, 1.1633, 0.9356, 0.8955, 3.2068, 3.0922, 3.0922, 3.0922, 3.0922, 3.0243, 2.9631, 2.8186, 2.8186, 2.8186, 2.8186, 2.8186, 2.8186, 2.8186, 2.8186, 2.8186, 2.8186, 2.8186, 2.8186, 2.8186, 2.8186, 2.8186, 2.8186, 2.8186, 2.8186, 2.8186, 2.8186, 2.8186, 2.8186, 2.8186, 2.8005, 2.8005, 2.7515, 2.7313, 2.4527, 2.2066, 1.6636, 1.4706, 1.7605, 1.6913, 1.671, 1.6586, 0.8911, 1.5029, 1.4408, 1.4189, 1.2685, 1.2426, 1.1901, 1.144, 1.1129, 1.0779, 0.9561, 0.6853, -0.0413, 0.5928, -0.0213, 3.1703, 3.1703, 3.1703, 3.1703, 3.1703, 3.1703, 3.1703, 3.1703, 3.1703, 3.1703, 3.1703, 3.1703, 3.1703, 3.1703, 3.1703, 3.1703, 3.1703, 3.1703, 3.1703, 3.1703, 3.1703, 3.1703, 3.1703, 3.1703, 2.8443, 2.7758, 2.7758, 2.7677, 2.7286, 2.7275, 2.4656, 1.2428, 1.4683, 1.4449, 1.8022, 0.6528, 1.7316, 1.633, 0.1248, 1.2343, -0.4451, 2.1871, 1.3112, 0.0153, 1.6434, 1.251, 0.9049, 0.8461, 0.5222, 1.3716, 0.6377, -0.4251, 0.6017, 0.09, 0.6503, -0.0416, 1.9077, 0.4816, 2.3112, 0.7876, 3.1937, 3.0874, 3.0235, 3.0235, 3.0235, 3.0235, 3.0235, 3.0235, 3.0235, 3.0235, 3.0235, 3.0235, 3.0235, 3.0235, 3.0235, 3.0235, 3.0235, 3.0235, 3.0235, 3.0235, 3.0235, 3.0235, 3.0235, 3.0235, 3.0235, 3.0235, 3.0235, 3.0235, 2.9456, 2.8514, 2.8514, 2.7491, 2.5283, 2.6436, 2.5775, 2.2651, 1.6186, 2.1675, 2.1029, 2.116, 1.9231, 2.3176, 1.8821, 2.2925, 1.1309, 1.8583, 2.158, 1.869, 1.5373, 1.3728, 1.7462, 1.5525, 0.8742, 1.2203, 0.7391, 1.0875, 2.1031, 2.0984, 2.0533, 1.9615, 1.9615, 1.9615, 1.9615, 1.9615, 1.9615, 1.9615, 1.9615, 1.9615, 1.9504, 1.8727, 1.8467, 1.7347, 1.7347, 1.7347, 1.7347, 1.7347, 1.7347, 1.7347, 1.7347, 1.7347, 1.7347, 1.7347, 1.7347, 1.7347, 1.7347, 1.7347, 1.7158, 1.7124, 1.6755, 1.6507, 1.6573, 1.6659, 1.6401, 1.6401, 1.6401, 1.3817, 1.2403, 1.4576, 1.5372, 1.5321, 1.5125, 1.154, 1.0095, 0.6164, 0.6307, 0.7293, 1.1646, 0.9074, 1.0894, 0.7721, 0.9797, 0.9514, 0.9085, 0.8932, 0.8865, 0.8877, 0.0925, 0.8308, 0.7693, 0.3802, -0.1741, 0.3385, 0.1079, 0.2472, 3.1293, 3.1293, 3.1293, 2.9578, 2.9578, 2.9578, 2.9578, 2.9578, 2.9578, 2.9578, 2.9578, 2.6924, 2.6924, 2.6924, 2.6924, 2.6924, 2.6924, 2.6924, 2.6924, 2.6924, 2.6924, 2.6924, 2.6924, 2.6924, 2.6924, 2.6924, 2.6924, 2.6924, 2.6924, 2.6924, 2.5092, 2.4273, 2.3197, 2.3126, 1.8285, 1.6892, 1.7034, 1.8147, 2.034, 2.0133, 1.8667, 1.1185, 1.3006, 1.8211, 1.7542, 1.5687, 0.2853, 0.6105, 1.2563, 0.2737, -0.2196, 0.6339, 0.7107, 0.4906, 1.2543, 2.9927, 2.9927, 2.9927, 2.7251, 2.7251, 2.7251, 2.7251, 2.7251, 2.7251, 2.7251, 2.7251, 2.7251, 2.7251, 2.7251, 2.7251, 2.7251, 2.7251, 2.7251, 2.7251, 2.7251, 2.7251, 2.7251, 2.7251, 2.7251, 2.7251, 2.7251, 2.7251, 2.7251, 2.7251, 2.7251, 2.5495, 2.531, 2.621, 2.4999, 2.4505, 2.2775, 2.4213, 1.7028, 0.3118, 1.4705, 0.1811, 1.049, 0.9745, 0.9325, 0.7371, 0.517, 0.2397, -0.1171, 0.0375, 0.645, 0.9702, 0.4067, 0.2075, -0.3826, 0.5638, 0.1912, 0.6137, 3.4882, 3.2987, 3.2987, 3.2987, 3.2987, 3.2986, 3.0113, 3.0113, 3.0113, 3.0113, 3.0113, 3.0113, 3.0113, 3.0113, 3.0113, 3.0113, 3.0113, 3.0113, 3.0113, 3.0113, 3.0113, 3.0113, 3.0113, 3.0113, 3.0113, 3.0113, 3.0113, 3.0113, 3.0113, 3.0113, 3.0029, 2.9893, 2.8802, 2.9027, 2.2664, 2.4857, 1.937, 2.2012, 2.1533, 1.5596, 2.203, 1.8453, 1.7921, 1.4899, 1.4627, 1.3452, 1.7187, 1.0992, 0.9364, 0.1127, -0.501, -0.0898, 0.719, 0.5086, 2.8362, 2.8362, 2.78, 2.78, 2.78, 2.6776, 2.6776, 2.6776, 2.6776, 2.6776, 2.6776, 2.6776, 2.6776, 2.6776, 2.6776, 2.6776, 2.6776, 2.6666, 2.6566, 2.5924, 2.5231, 2.4824, 2.4382, 2.4329, 2.4286, 2.4286, 2.4286, 2.4286, 2.4286, 2.4286, 2.3865, 2.2697, 2.3599, 2.3076, 2.3533, 2.3458, 2.127, 1.7844, 1.7529, 1.075, 1.5227, 1.0342, 0.8949, 0.5757, 0.5059, 0.3786, 1.668, 1.6422, 2.1533, 1.0412, 1.8002, 1.5108, 1.9118, 3.7264, 3.7264, 3.7264, 3.7264, 3.7264, 3.1813, 3.1319, 2.7694, 2.7535, 2.7535, 2.5545, 2.5162, 2.4644, 2.3814, 2.3787, 2.333, 2.3229, 2.2848, 2.1588, 2.1554, 2.1319, 1.8539, 1.6493, 1.6483, 1.6479, 1.6049, 1.5831, 1.4225, 1.3906, 1.1705, 0.6183, 0.4992, -0.3227, 0.7835, 1.0209, 0.7764, 1.1349, 0.856, 0.2673, 0.753, 1.0629, 1.7035, 1.6111, 1.6111, 1.5638, 1.5638, 1.5638, 1.5638, 1.5638, 1.5638, 1.5638, 1.4764, 1.4764, 1.4764, 1.4764, 1.4764, 1.4764, 1.4764, 1.4764, 1.4764, 1.4764, 1.4764, 1.4764, 1.4764, 1.4764, 1.4764, 1.4764, 1.4764, 1.4764, 1.4584, 1.4183, 1.3746, 1.3584, 1.385, 1.3129, 0.9311, 1.353, 1.3397, 0.8117, 0.9457, 0.9262, 1.033, 0.7309, 0.6765, 1.0647, 0.3833, 0.9953, 0.783, 0.4304, 0.8561, 0.8164, 0.5828, 0.484, 0.1894, 0.593, 0.5428, 0.3501, 0.0533, 0.853, 0.8237, 0.8036, 0.2252, 0.7665, 0.4093, 0.4691, 2.3982, 2.3434, 2.3434, 2.1972, 2.1972, 2.1972, 2.1972, 2.1972, 2.1972, 2.1972, 2.1972, 2.1972, 2.1972, 2.1972, 2.1972, 2.1532, 2.0978, 2.0972, 1.9924, 1.9911, 1.9721, 1.9643, 1.9643, 1.9643, 1.9643, 1.9643, 1.9643, 1.9643, 1.9643, 1.9643, 1.8985, 1.9195, 1.8978, 1.8915, 1.8915, 1.8844, 1.8682, 1.761, 1.7449, 1.6099, 1.5842, 0.5698, 1.3686, 0.6023, 1.3587, 0.3142, 1.343, 0.2799, 0.9853, 1.0986, 1.0906, 1.0338, 0.9502, 0.939, 0.9156, 0.9046, 0.2971, -0.4624, 0.0907, 2.3014, 2.2504, 2.2503, 2.1566, 2.1566, 2.1566, 2.1566, 2.1566, 2.1566, 2.1566, 2.1566, 2.1566, 2.1566, 2.1566, 2.1566, 2.1566, 2.1082, 2.1067, 1.9256, 1.9256, 1.9256, 1.9256, 1.9256, 1.9256, 1.9256, 1.9256, 1.9256, 1.9256, 1.9256, 1.9256, 1.8844, 1.7767, 1.8638, 1.8594, 1.8561, 1.846, 1.846, 1.6919, 1.7491, 1.8299, 1.6229, 1.7865, 1.4752, 1.526, 1.4963, 1.2346, 1.4157, 1.2326, 1.2527, 1.0229, 0.9444, 1.1119, 1.1316, 1.2187, 0.9795, 1.4451, 0.9231, 0.1653, 0.1011, 1.2479, 0.6303, 1.1857, 1.2105, 0.9067, 0.6437, 0.8259, 0.6797, 0.801, 3.3689, 3.2486, 3.2486, 2.9641, 2.9641, 2.9641, 2.9641, 2.9641, 2.9641, 2.9641, 2.9641, 2.9641, 2.9641, 2.9641, 2.9641, 2.9641, 2.9641, 2.9641, 2.9641, 2.9641, 2.9641, 2.9641, 2.9641, 2.9641, 2.9641, 2.9641, 2.9641, 2.9641, 2.9641, 2.9641, 2.9555, 2.8561, 2.6467, 2.4077, 1.8411, 1.505, 1.1687, 0.7075, 0.4301, -0.1787, 0.9085, 0.9681, 0.2585, 0.6614, 0.2279, 0.3891, 2.5419, 0.6084, 1.9934, -0.1922, 1.3625, 1.1993, 2.5408, 3.178, 3.0966, 3.0966, 3.0966, 3.0966, 2.9371, 2.8227, 2.8227, 2.8227, 2.8227, 2.8227, 2.8227, 2.8227, 2.8227, 2.8227, 2.8227, 2.8227, 2.8227, 2.8227, 2.8227, 2.8227, 2.8227, 2.8227, 2.8227, 2.8227, 2.8227, 2.8227, 2.8227, 2.8227, 2.8227, 2.8047, 2.7469, 2.58, 2.4706, 2.1121, 2.08, 1.8282, 2.1915, 2.1, 1.1082, 0.7644, 1.8293, 1.7694, 1.7446, 1.6819, 1.545, 1.3619, 0.3593, 1.2459, 1.1167, 1.0956, 1.0536, 0.9556, 0.9394, 0.3188, -0.018, 0.5269, 0.4224, -0.29, 2.7017, 2.7017, 2.7017, 2.7017, 2.7017, 2.7017, 2.5572, 2.4503, 2.4503, 2.4503, 2.4503, 2.4503, 2.4503, 2.4503, 2.4503, 2.4503, 2.4503, 2.4503, 2.4503, 2.4503, 2.4503, 2.4503, 2.4503, 2.4503, 2.4503, 2.4503, 2.4503, 2.4503, 2.4503, 2.4503, 2.4403, 2.4503, 2.4503, 2.4042, 2.3778, 2.367, 2.1374, 2.1821, 2.1753, 2.1591, 2.1318, 1.8666, 2.059, 1.8075, 2.0101, 2.0101, 1.2751, 1.6422, 1.6313, 0.9085, 1.3292, 1.4592, 1.4244, 1.7564, 1.341, -0.1973, 1.0047, 0.9525, 1.2991, 0.9876, 0.8153, -0.4199, 1.354, 1.5079, 0.9327, 1.6931, 0.8985, 1.1616, 2.495, 2.4421, 2.4421, 2.4421, 2.3451, 2.3451, 2.3451, 2.3451, 2.3451, 2.3451, 2.1282, 2.1074, 2.1074, 2.1074, 2.1074, 2.1074, 2.1074, 2.1074, 2.1074, 2.1074, 2.1074, 2.1074, 2.1074, 2.1074, 2.1074, 2.1074, 2.1074, 2.1074, 2.1074, 2.1074, 1.9454, 2.037, 2.0339, 1.9393, 2.0102, 1.5482, 1.4364, 1.533, 1.8017, 1.5902, 1.5577, 1.7597, 1.5245, 1.2454, 1.3979, 1.6568, 1.1611, 0.9871, 1.6291, 0.6276, 0.6083, 1.305, 0.894, 0.6263, 1.1625, 1.1874, 1.1608, -0.193, 0.9176, 0.839, 0.238, 0.2167, -0.2158]}, \"token.table\": {\"Topic\": [1, 2, 14, 15, 16, 20, 7, 15, 16, 4, 19, 5, 8, 9, 16, 7, 2, 11, 1, 2, 8, 11, 14, 15, 16, 19, 20, 5, 4, 1, 2, 8, 19, 20, 8, 15, 19, 20, 5, 9, 6, 7, 4, 10, 16, 7, 1, 7, 14, 15, 16, 20, 15, 7, 10, 14, 19, 20, 19, 20, 8, 3, 1, 16, 2, 8, 16, 1, 19, 15, 11, 19, 18, 6, 10, 14, 17, 18, 19, 18, 9, 8, 6, 2, 6, 8, 14, 15, 16, 20, 2, 4, 5, 8, 10, 14, 16, 18, 4, 6, 8, 12, 16, 19, 10, 20, 6, 6, 8, 15, 2, 8, 1, 1, 1, 6, 19, 20, 1, 6, 9, 14, 20, 16, 9, 5, 8, 10, 14, 15, 20, 20, 4, 8, 16, 17, 20, 9, 17, 1, 5, 7, 8, 1, 4, 5, 8, 9, 10, 12, 14, 16, 20, 4, 12, 16, 4, 6, 8, 10, 14, 18, 5, 10, 4, 8, 14, 19, 20, 4, 5, 8, 9, 10, 11, 14, 15, 16, 17, 19, 20, 7, 9, 16, 20, 8, 1, 12, 14, 20, 16, 9, 14, 17, 19, 20, 15, 8, 14, 19, 20, 1, 2, 5, 11, 9, 12, 15, 10, 17, 18, 1, 2, 12, 14, 16, 20, 7, 15, 10, 18, 2, 4, 6, 8, 9, 14, 15, 16, 18, 20, 4, 5, 8, 12, 14, 15, 16, 17, 19, 20, 2, 7, 8, 9, 10, 15, 18, 19, 7, 15, 19, 8, 9, 12, 14, 17, 1, 16, 8, 15, 5, 19, 5, 10, 1, 7, 10, 5, 10, 2, 15, 18, 4, 14, 20, 7, 12, 4, 5, 8, 12, 14, 15, 18, 4, 1, 12, 4, 8, 11, 5, 14, 15, 16, 1, 8, 9, 16, 4, 5, 8, 12, 14, 8, 18, 6, 1, 1, 2, 14, 15, 20, 1, 2, 4, 5, 7, 14, 15, 19, 16, 1, 5, 6, 8, 9, 14, 15, 16, 18, 19, 20, 14, 7, 16, 3, 15, 19, 12, 15, 16, 9, 15, 1, 10, 19, 15, 20, 20, 11, 14, 14, 15, 16, 17, 20, 9, 4, 20, 2, 16, 1, 20, 18, 9, 17, 20, 15, 17, 2, 2, 6, 8, 9, 11, 14, 20, 8, 10, 14, 14, 5, 20, 10, 11, 10, 7, 8, 19, 5, 12, 14, 19, 17, 4, 2, 12, 1, 2, 5, 9, 12, 14, 16, 18, 20, 7, 6, 8, 20, 10, 1, 2, 2, 7, 10, 16, 20, 12, 14, 2, 18, 18, 1, 4, 8, 12, 14, 16, 12, 14, 15, 17, 18, 19, 20, 15, 20, 5, 9, 4, 16, 20, 6, 8, 14, 19, 6, 11, 8, 7, 8, 7, 19, 2, 4, 7, 10, 12, 15, 16, 4, 12, 5, 5, 1, 19, 1, 5, 6, 7, 8, 9, 14, 15, 16, 19, 1, 18, 12, 19, 10, 6, 17, 4, 8, 10, 12, 16, 11, 4, 1, 2, 4, 8, 10, 12, 13, 14, 17, 19, 20, 20, 8, 2, 20, 5, 14, 15, 15, 16, 4, 8, 10, 12, 16, 17, 20, 10, 11, 7, 2, 7, 14, 18, 20, 15, 4, 20, 1, 14, 16, 19, 19, 18, 14, 5, 8, 14, 19, 20, 19, 2, 10, 9, 18, 12, 16, 6, 7, 9, 12, 14, 16, 18, 19, 16, 11, 7, 8, 10, 14, 18, 19, 1, 6, 9, 11, 14, 18, 20, 19, 14, 16, 5, 15, 1, 4, 12, 20, 6, 12, 1, 7, 15, 6, 4, 1, 4, 6, 8, 9, 10, 14, 16, 18, 20, 11, 1, 2, 4, 6, 8, 12, 15, 16, 18, 19, 20, 6, 9, 14, 15, 18, 4, 7, 8, 11, 12, 17, 19, 20, 15, 16, 17, 20, 17, 2, 18, 1, 5, 10, 14, 15, 18, 20, 5, 8, 14, 14, 1, 2, 5, 16, 10, 6, 11, 20, 10, 15, 6, 2, 6, 7, 10, 19, 17, 1, 2, 9, 14, 16, 17, 1, 17, 20, 14, 4, 9, 14, 16, 18, 19, 10, 4, 8, 14, 16, 20, 6, 8, 14, 18, 18, 8, 1, 4, 10, 12, 15, 19, 12, 15, 9, 11, 9, 11, 12, 17, 1, 2, 4, 5, 6, 8, 9, 10, 11, 12, 14, 15, 16, 17, 18, 19, 20, 15, 11, 1, 11, 14, 15, 16, 20, 5, 19, 8, 12, 14, 2, 4, 8, 13, 14, 20, 1, 19, 2, 4, 7, 8, 9, 10, 11, 14, 15, 18, 20, 2, 8, 10, 14, 15, 18, 19, 20, 8, 15, 19, 8, 12, 14, 16, 20, 2, 2, 10, 10, 17, 5, 14, 1, 4, 12, 20, 12, 19, 12, 6, 1, 2, 4, 5, 6, 7, 8, 9, 10, 12, 14, 15, 16, 17, 18, 20, 2, 7, 8, 11, 16, 19, 8, 14, 1, 2, 3, 4, 5, 6, 8, 9, 11, 12, 14, 15, 16, 17, 18, 19, 20, 17, 14, 15, 16, 20, 18, 4, 5, 6, 7, 8, 9, 11, 12, 13, 14, 15, 16, 18, 19, 20, 1, 2, 4, 7, 9, 10, 11, 12, 14, 15, 17, 19, 20, 18, 10, 11, 16, 12, 17, 2, 4, 5, 6, 8, 9, 10, 11, 14, 15, 16, 17, 18, 20, 19, 8, 16, 16, 2, 2, 8, 11, 16, 12, 10, 5, 8, 12, 16, 17, 8, 4, 10, 2, 1, 8, 2, 10, 14, 7, 2, 7, 8, 4, 5, 8, 9, 10, 11, 14, 15, 18, 19, 2, 11, 16, 1, 1, 4, 6, 20, 1, 2, 8, 9, 14, 15, 2, 5, 14, 15, 5, 11, 14, 16, 20, 15, 18, 10, 2, 7, 10, 12, 11, 10, 3, 4, 6, 8, 9, 12, 14, 15, 16, 19, 20, 6, 5, 5, 17, 9, 9, 14, 20, 1, 12, 17, 1, 5, 8, 11, 14, 15, 16, 17, 20, 20, 2, 8, 11, 15, 17, 18, 1, 6, 8, 10, 12, 14, 15, 16, 17, 18, 19, 14, 7, 4, 2, 8, 12, 15, 14, 11, 2, 6, 14, 15, 19, 8, 1, 12, 14, 16, 7, 16, 8, 12, 20, 8, 14, 2, 4, 14, 8, 12, 19, 12, 14, 15, 1, 15, 1, 4, 7, 8, 11, 12, 14, 15, 16, 17, 18, 19, 20, 4, 17, 14, 16, 1, 2, 4, 5, 11, 14, 15, 16, 18, 19, 20, 1, 19, 2, 8, 10, 14, 15, 16, 20, 6, 15, 2, 5, 8, 14, 15, 16, 18, 20, 12, 4, 6, 8, 14, 15, 16, 20, 1, 8, 9, 11, 1, 4, 6, 8, 14, 15, 17, 9, 1, 2, 5, 7, 8, 12, 14, 15, 16, 19, 1, 2, 4, 5, 9, 11, 14, 16, 17, 16, 15, 2, 7, 8, 18, 8, 19, 8, 9, 11, 14, 16, 18, 12, 2, 17, 5, 19, 19, 1, 11, 12, 15, 20, 8, 9, 14, 16, 20, 4, 8, 14, 15, 16, 18, 20, 11, 12, 14, 15, 18, 19, 4, 8, 19, 16, 1, 4, 7, 14, 15, 18, 5, 8, 9, 1, 8, 1, 17, 5, 8, 9, 14, 15, 16, 18, 19, 20, 16, 20, 11, 7, 20, 2, 15, 17, 9, 7, 2, 14, 12, 1, 4, 5, 12, 14, 15, 16, 17, 18, 19, 20, 5, 1, 8, 15, 16, 18, 20, 16, 6, 8, 16, 14, 20, 16, 1, 16, 1, 2, 3, 5, 14, 17, 18, 5, 8, 1, 2, 5, 7, 8, 9, 10, 14, 15, 19, 2, 8, 9, 10, 12, 14, 18, 11, 1, 5, 9, 12, 14, 15, 1, 5, 6, 8, 10, 11, 12, 14, 15, 16, 17, 18, 20, 2, 4, 5, 8, 14, 19, 20, 16, 14, 15, 4, 12, 19, 10, 6, 1, 8, 4, 14, 15, 16, 18, 18, 2, 20, 6, 14, 9, 17, 14, 14, 17, 17, 8, 15, 5, 17, 8, 9, 11, 12, 14, 15, 16, 18, 20, 8, 14, 15, 16, 18, 4, 8, 14, 16, 20, 1, 2, 4, 8, 9, 14, 15, 16, 17, 4, 12, 19, 19, 11, 4, 5, 11, 14, 19, 20, 1, 6, 19, 20, 5, 14, 19, 18, 7, 10, 14, 16, 19, 7, 4, 6, 12, 17, 2, 7, 9, 19, 8, 1, 14, 4, 11, 4, 15, 1, 5, 10, 11, 14, 15, 3, 4, 14, 15, 20, 7, 8, 9, 14, 17, 17, 9, 7, 6, 4, 5, 8, 9, 11, 14, 16, 18, 1, 8, 12, 16, 5, 8, 14, 4, 8, 16, 7, 10, 9, 1, 15, 20, 14, 8, 8, 1, 2, 4, 5, 6, 8, 9, 10, 11, 12, 13, 14, 15, 16, 18, 19, 20, 19, 9, 9, 4, 9, 8, 10, 7, 15, 3, 15, 1, 4, 12, 14, 16, 19, 20, 2, 1, 8, 16, 20, 8, 2, 8, 7, 10, 11, 12, 14, 17, 18, 19, 20, 2, 5, 7, 8, 10, 11, 13, 14, 15, 16, 19, 20, 8, 11, 14, 5, 15, 16, 14, 20, 11, 2, 6, 18, 1, 14, 19, 12, 11, 19, 2, 8, 14, 18, 4, 6, 9, 10, 14, 16, 19, 14, 1, 8, 14, 20, 7, 4, 9, 14, 15, 16, 10, 11, 6, 2, 5, 6, 7, 8, 11, 12, 14, 15, 16, 19, 20, 6, 2, 8, 10, 1, 6, 12, 14, 19, 20, 15, 19, 2, 6, 4, 10, 20, 16, 1, 14, 15, 19, 2, 4, 8, 10, 12, 16, 17, 18, 20, 14, 2, 8, 1, 2, 6, 7, 15, 16, 17, 1, 1, 5, 10, 19, 18, 7, 2, 5, 12, 14, 15, 20, 4, 16, 6, 17, 1, 5, 8, 11, 14, 15, 20, 4, 8, 12, 14, 16, 18, 19, 20, 1, 14, 6, 9, 9, 15, 12, 18, 2, 18, 4, 8, 10, 15, 16, 17, 18, 19, 20, 8, 9, 14, 15, 16, 18, 20, 8, 16, 15, 19, 10, 14, 6, 7, 6, 5, 8, 11, 9, 1, 5, 8, 14, 17, 15, 6, 20, 7, 2, 12, 8, 12, 14, 16, 18, 1, 2, 4, 5, 6, 7, 8, 10, 12, 14, 15, 16, 17, 19, 8, 16, 16, 16, 16, 1, 14, 20, 1, 9, 15, 19, 5, 4, 8, 10, 14, 15, 12, 2, 4, 11, 12, 15, 16, 19, 20, 7, 1, 4, 8, 9, 12, 14, 15, 16, 18, 19, 5, 19, 2, 8, 17, 1, 8, 12, 16, 7, 1, 9, 12, 15, 19, 20, 8, 14, 2, 10, 8, 14, 15, 16, 18, 19, 8, 4, 7, 12, 16, 17, 15, 16, 17, 1, 7, 14, 17, 2, 20, 12, 14, 2, 10, 14, 18, 12, 4, 5, 5, 10, 2, 8, 10, 14, 15, 16, 17, 18, 20, 7, 10, 14, 15, 19, 20, 7, 9, 10, 9, 20, 2, 4, 5, 8, 12, 4, 5, 4, 7, 8, 11, 14, 15, 17, 19, 6, 8, 10, 2, 1, 10, 14, 15, 17, 1, 5, 15, 15, 17, 4, 14, 7, 8, 14, 20, 16, 10, 1, 5, 7, 8, 12, 15, 16, 17, 18, 15, 18, 5, 16, 2, 1, 4, 8, 16, 19, 20, 4, 8, 11, 14, 19, 20, 8, 9, 14, 15, 17, 4, 14, 16, 18, 20, 16, 1, 16, 4, 18, 20, 17, 4, 6, 8, 14, 15, 16, 19, 4, 16, 9, 9, 2, 12, 8, 10, 12, 4, 12, 5, 8, 9, 11, 15, 16, 20, 4, 10, 14, 15, 10, 15, 1, 2, 5, 6, 8, 9, 11, 12, 14, 15, 16, 17, 20, 1, 2, 6, 7, 10, 11, 14, 15, 16, 18, 20, 6, 10, 11, 12, 14, 15, 16, 1, 2, 9, 20, 5, 1, 7, 1, 2, 4, 5, 6, 8, 11, 12, 14, 15, 16, 17, 11, 15, 15, 11, 8, 12, 2, 10, 14, 15, 4, 15, 5, 9, 4, 15, 16, 19, 17, 5, 5, 10, 2, 2, 4, 8, 10, 12, 14, 15, 18, 19, 20, 2, 15, 2, 17, 9, 14, 17, 1, 4, 5, 10, 12, 14, 15, 16, 20, 1, 4, 18, 20, 5, 7, 1, 8, 10, 11, 14, 15, 19, 20, 11, 2, 18, 6, 17, 15, 16, 17, 2, 15, 20, 4, 9, 14, 15, 1, 12, 19, 4, 1, 5, 6, 8, 12, 14, 15, 18, 18, 18, 18, 19, 9, 7, 14, 9, 5, 1, 2, 4, 8, 10, 13, 14, 16, 20, 5, 8, 9, 10, 12, 14, 17, 18, 19, 20, 6, 8, 14, 10, 17, 18, 20, 11, 1, 4, 9, 10, 14, 15, 18, 20, 8, 10, 12, 14, 16, 20, 20, 8, 12, 9, 1, 5, 8, 4, 6, 6, 6, 1, 7, 8, 10, 14, 17, 19, 20, 4, 6, 11, 1, 15, 4, 5, 8, 9, 11, 12, 14, 15, 16, 17, 19, 1, 2, 4, 5, 8, 9, 11, 12, 14, 15, 11, 1, 1, 14, 4, 16, 20, 4, 1, 19, 14, 9, 4, 8, 12, 14, 16, 19, 6, 10, 15, 17, 18, 19, 1, 4, 7, 8, 9, 11, 12, 14, 15, 16, 17, 18, 19, 20, 17, 1, 7, 11, 11, 4, 16, 19], \"Freq\": [0.12539552273673732, 0.12539552273673732, 0.12539552273673732, 0.25079104547347464, 0.25079104547347464, 0.12539552273673732, 0.3445334473660366, 0.6890668947320732, 0.6631901609943677, 0.7162170535932508, 0.7091358052410551, 0.16606089973282756, 0.3321217994656551, 0.16606089973282756, 0.3321217994656551, 0.7910303349181381, 0.7391050049527297, 0.7881639552436634, 0.0805104624852158, 0.0805104624852158, 0.1610209249704316, 0.0805104624852158, 0.0805104624852158, 0.1610209249704316, 0.0805104624852158, 0.1610209249704316, 0.1610209249704316, 0.758192384829989, 0.7162170752013818, 0.28538784007717966, 0.14269392003858983, 0.28538784007717966, 0.14269392003858983, 0.14269392003858983, 0.3142210569417967, 0.3142210569417967, 0.15711052847089835, 0.15711052847089835, 0.7581923107525478, 0.7402845251351753, 0.5571998800690036, 0.5571998800690036, 0.28158271773054755, 0.28158271773054755, 0.28158271773054755, 0.7910292549467861, 0.11485615713567773, 0.11485615713567773, 0.11485615713567773, 0.11485615713567773, 0.22971231427135547, 0.22971231427135547, 0.8630124498521288, 0.10880845172564936, 0.10880845172564936, 0.43523380690259744, 0.21761690345129872, 0.10880845172564936, 0.7091358052410551, 0.6526419993787498, 0.6534758143726436, 0.6205341648778079, 0.469041154119716, 0.234520577059858, 0.2697164933778877, 0.2697164933778877, 0.2697164933778877, 0.8707180690969161, 0.7091357979873276, 0.8630129126979956, 0.7881639200451211, 0.7091357955694185, 0.7588472103343704, 0.8266662645578784, 0.1322399942554592, 0.5289599770218368, 0.1322399942554592, 0.1322399942554592, 0.1322399942554592, 0.7588471973431077, 0.49443763712535005, 0.8398447926758263, 0.8266663565280171, 0.08334866160098704, 0.08334866160098704, 0.08334866160098704, 0.4167433080049352, 0.16669732320197408, 0.08334866160098704, 0.08334866160098704, 0.12060549324237786, 0.06030274662118893, 0.06030274662118893, 0.12060549324237786, 0.06030274662118893, 0.42211922634832255, 0.12060549324237786, 0.06030274662118893, 0.10780517660730189, 0.10780517660730189, 0.10780517660730189, 0.10780517660730189, 0.3234155298219057, 0.21561035321460378, 0.49860485827075324, 0.8813030277243812, 0.8266663295433233, 0.2680206431082756, 0.5360412862165512, 0.2680206431082756, 0.7391048772871313, 0.8398447434381962, 0.8707180329355727, 0.8707180087747579, 0.23388089952359148, 0.23388089952359148, 0.23388089952359148, 0.23388089952359148, 0.25253238624057117, 0.12626619312028559, 0.12626619312028559, 0.5050647724811423, 0.6783038320963539, 0.6631902132548269, 0.740284495397315, 0.12847848306117093, 0.25695696612234187, 0.12847848306117093, 0.12847848306117093, 0.12847848306117093, 0.3854354491835128, 0.6783038787040618, 0.07819144322877013, 0.23457432968631037, 0.46914865937262074, 0.07819144322877013, 0.15638288645754025, 0.5126987096342513, 0.5126987096342513, 0.19999718089370153, 0.19999718089370153, 0.19999718089370153, 0.39999436178740305, 0.07620688275888747, 0.07620688275888747, 0.07620688275888747, 0.07620688275888747, 0.07620688275888747, 0.07620688275888747, 0.07620688275888747, 0.15241376551777494, 0.2286206482766624, 0.15241376551777494, 0.27145827786155224, 0.27145827786155224, 0.27145827786155224, 0.10831654630405729, 0.10831654630405729, 0.10831654630405729, 0.10831654630405729, 0.5415827315202865, 0.10831654630405729, 0.38140205557435763, 0.38140205557435763, 0.13996789183691813, 0.27993578367383626, 0.27993578367383626, 0.13996789183691813, 0.13996789183691813, 0.041937207073130124, 0.041937207073130124, 0.12581162121939038, 0.041937207073130124, 0.041937207073130124, 0.041937207073130124, 0.29356044951191085, 0.08387441414626025, 0.08387441414626025, 0.041937207073130124, 0.041937207073130124, 0.08387441414626025, 0.1281610300370826, 0.3844830901112478, 0.2563220600741652, 0.1281610300370826, 0.6534758457449247, 0.7663332500876758, 0.6885546829899349, 0.8048171628375418, 0.6783038787040618, 0.7511346835133974, 0.10011062454144642, 0.20022124908289285, 0.10011062454144642, 0.10011062454144642, 0.5005531227072321, 0.6674168829270782, 0.13920866571657936, 0.2784173314331587, 0.13920866571657936, 0.2784173314331587, 0.643946067137587, 0.4933857350690147, 0.4002976207605396, 0.4002976207605396, 0.2737005093390003, 0.5474010186780006, 0.2737005093390003, 0.7449454006632604, 0.7819857155471028, 0.5111397324765744, 0.2164448418243616, 0.1082224209121808, 0.4328896836487232, 0.1082224209121808, 0.2164448418243616, 0.8813030188532568, 0.3696324302304713, 0.3696324302304713, 0.3817334794486174, 0.3817334794486174, 0.07630239096537286, 0.07630239096537286, 0.07630239096537286, 0.2289071728961186, 0.07630239096537286, 0.15260478193074573, 0.2289071728961186, 0.07630239096537286, 0.07630239096537286, 0.07630239096537286, 0.06780422137564882, 0.13560844275129763, 0.06780422137564882, 0.13560844275129763, 0.33902110687824405, 0.06780422137564882, 0.13560844275129763, 0.06780422137564882, 0.06780422137564882, 0.06780422137564882, 0.12122494722628387, 0.24244989445256773, 0.12122494722628387, 0.12122494722628387, 0.12122494722628387, 0.12122494722628387, 0.12122494722628387, 0.24244989445256773, 0.3747657439083082, 0.3747657439083082, 0.7091357955694185, 0.1641740730232656, 0.1641740730232656, 0.3283481460465312, 0.3283481460465312, 0.1641740730232656, 0.3179188179326485, 0.635837635865297, 0.6248941068482395, 0.31244705342411977, 0.7581924096273709, 0.7091357955694185, 0.7581923719059644, 0.7449454205419185, 0.9461585639522768, 0.7910299602949599, 0.7449454205419185, 0.7581924083388053, 0.5529273198253181, 0.26243711530136743, 0.5248742306027349, 0.7588471970652382, 0.44165868126687197, 0.22082934063343598, 0.22082934063343598, 0.3639242931283161, 0.7278485862566322, 0.12325829226084908, 0.12325829226084908, 0.12325829226084908, 0.24651658452169817, 0.12325829226084908, 0.12325829226084908, 0.12325829226084908, 0.4731968958416562, 0.33650698698084425, 0.6730139739616885, 0.7162170438381562, 0.6534758220745543, 0.7881639745416318, 0.7581924159538115, 0.15106861052575463, 0.15106861052575463, 0.6798087473658959, 0.3664795050403786, 0.1832397525201893, 0.1832397525201893, 0.1832397525201893, 0.1041905149786132, 0.1041905149786132, 0.1041905149786132, 0.4167620599144528, 0.1041905149786132, 0.5466510885306527, 0.27332554426532635, 0.5967109194468754, 0.8707179932737837, 0.39620006362046933, 0.13206668787348977, 0.13206668787348977, 0.13206668787348977, 0.13206668787348977, 0.225895664046997, 0.1129478320234985, 0.1129478320234985, 0.1129478320234985, 0.1129478320234985, 0.225895664046997, 0.1129478320234985, 0.1129478320234985, 0.8559584455383505, 0.056191138368204795, 0.056191138368204795, 0.056191138368204795, 0.11238227673640959, 0.056191138368204795, 0.280955691841024, 0.056191138368204795, 0.22476455347281918, 0.056191138368204795, 0.056191138368204795, 0.11238227673640959, 0.8854851928262911, 0.7910303581003355, 0.5065761748900661, 0.17796406215128585, 0.5338921864538575, 0.17796406215128585, 0.9247223578537211, 0.627030179015605, 0.2090100596718683, 0.7402846090126505, 0.6674168792265454, 0.6439460656994002, 0.7449454205419185, 0.7091358052410551, 0.8630128307533702, 0.678303845999269, 0.6526417906717485, 0.3621462433928264, 0.3621462433928264, 0.8048170180318384, 0.22139337629245115, 0.22139337629245115, 0.22139337629245115, 0.4427867525849023, 0.7402846090126505, 0.4459102285168683, 0.4459102285168683, 0.7391049778362301, 0.6631902277498436, 0.5126954524664181, 0.25634772623320906, 0.5111396040009769, 0.7402846090126505, 0.7819857540445829, 0.6526417989813422, 0.8938048463572301, 0.7819857540445829, 0.7391049778362301, 0.1368271021078128, 0.1368271021078128, 0.1368271021078128, 0.1368271021078128, 0.1368271021078128, 0.2736542042156256, 0.1368271021078128, 0.6534758457449247, 0.2468410841111356, 0.7405232523334068, 0.8048172721011588, 0.3631359063990553, 0.3631359063990553, 0.7449454205419185, 0.7881639133433331, 0.744945324232446, 0.17051621120875485, 0.5115486336262646, 0.17051621120875485, 0.7581923630540183, 0.26413587827578083, 0.26413587827578083, 0.26413587827578083, 0.5323601916541623, 0.7162170774195239, 0.47797924261969027, 0.47797924261969027, 0.09199893540505856, 0.04599946770252928, 0.04599946770252928, 0.09199893540505856, 0.04599946770252928, 0.27599680621517564, 0.13799840310758782, 0.04599946770252928, 0.18399787081011712, 0.7910296950345634, 0.3501531374652479, 0.3501531374652479, 0.3501531374652479, 0.7449453931693921, 0.6537985145865304, 0.21793283819551013, 0.7391050903426389, 0.6457007487669616, 0.3228503743834808, 0.32278209501259886, 0.6455641900251977, 0.924722391218157, 0.48821557356892037, 0.7391049005237955, 0.758847171907378, 0.7588471481262679, 0.870717999679484, 0.18389592564487467, 0.18389592564487467, 0.18389592564487467, 0.18389592564487467, 0.18389592564487467, 0.1062547438431098, 0.4250189753724392, 0.1062547438431098, 0.1062547438431098, 0.1062547438431098, 0.1062547438431098, 0.2125094876862196, 0.5118144343471074, 0.5118144343471074, 0.7581924146652459, 0.4944376334165238, 0.21533974218094143, 0.43067948436188286, 0.43067948436188286, 0.1524140086008712, 0.1524140086008712, 0.4572420258026136, 0.1524140086008712, 0.8266663630672554, 0.7881639077534682, 0.6534758457449247, 0.7910303658867235, 0.8398447168103715, 0.7910303287244214, 0.5748328094441842, 0.10845958597092957, 0.10845958597092957, 0.21691917194185914, 0.4338383438837183, 0.10845958597092957, 0.6356952257058464, 0.3178476128529232, 0.7162170438381562, 0.688554717996322, 0.7581923663670969, 0.7581923737522537, 0.6439460662667714, 0.7091357979873276, 0.1267244768981391, 0.06336223844906955, 0.06336223844906955, 0.1267244768981391, 0.1267244768981391, 0.1267244768981391, 0.19008671534720864, 0.06336223844906955, 0.19008671534720864, 0.7091357979873276, 0.6439460659666225, 0.7588472183591696, 0.3468616322764001, 0.3468616322764001, 0.7449454205419185, 0.8266663368455623, 0.7819857166332681, 0.12409204521480068, 0.372276135644402, 0.12409204521480068, 0.12409204521480068, 0.24818409042960135, 0.7881639280033306, 0.7162170774195239, 0.05955096022926046, 0.05955096022926046, 0.05955096022926046, 0.23820384091704183, 0.05955096022926046, 0.05955096022926046, 0.05955096022926046, 0.23820384091704183, 0.05955096022926046, 0.05955096022926046, 0.05955096022926046, 0.678303846638499, 0.6534758457449247, 0.7391048976214911, 0.6783038394238736, 0.7581923719059644, 0.3105205840881125, 0.621041168176225, 0.3168860351019569, 0.6337720702039138, 0.13389125561855025, 0.2677825112371005, 0.13389125561855025, 0.2677825112371005, 0.13389125561855025, 0.13389125561855025, 0.13389125561855025, 0.7449454205419185, 0.7881639209018477, 0.7910304092427473, 0.130365584206518, 0.130365584206518, 0.391096752619554, 0.130365584206518, 0.260731168413036, 0.5090391056497072, 0.7162169862101581, 0.6783038410690668, 0.18147504000800102, 0.18147504000800102, 0.36295008001600204, 0.18147504000800102, 0.4670343302941098, 0.7588472024256918, 0.8854852814659321, 0.08751292789098136, 0.17502585578196272, 0.4375646394549068, 0.17502585578196272, 0.08751292789098136, 0.7091357955694185, 0.7391049088877999, 0.7449454127788812, 0.7402845161881194, 0.7588471687123525, 0.6685586819895087, 0.33427934099475437, 0.14392500024857197, 0.14392500024857197, 0.14392500024857197, 0.14392500024857197, 0.14392500024857197, 0.14392500024857197, 0.14392500024857197, 0.14392500024857197, 0.8559665979249488, 0.5381033656684975, 0.1283643411814165, 0.1283643411814165, 0.1283643411814165, 0.1283643411814165, 0.256728682362833, 0.256728682362833, 0.23854610584517216, 0.11927305292258608, 0.11927305292258608, 0.11927305292258608, 0.23854610584517216, 0.11927305292258608, 0.11927305292258608, 0.7091357955694185, 0.30868977050307816, 0.6173795410061563, 0.7581923811374105, 0.5471109670877476, 0.1922733421276342, 0.1922733421276342, 0.3845466842552684, 0.1922733421276342, 0.8266663227929124, 0.9247223449059879, 0.2863106746627226, 0.2863106746627226, 0.2863106746627226, 0.8266663237023462, 0.7162170659238201, 0.06568007409969788, 0.06568007409969788, 0.06568007409969788, 0.06568007409969788, 0.06568007409969788, 0.06568007409969788, 0.2627202963987915, 0.19704022229909363, 0.06568007409969788, 0.13136014819939576, 0.7881639108115339, 0.07282852356005193, 0.07282852356005193, 0.07282852356005193, 0.07282852356005193, 0.21848557068015578, 0.07282852356005193, 0.07282852356005193, 0.14565704712010386, 0.07282852356005193, 0.14565704712010386, 0.07282852356005193, 0.19629977060925807, 0.19629977060925807, 0.19629977060925807, 0.39259954121851615, 0.7588472602898476, 0.08816770543447124, 0.17633541086894247, 0.26450311630341367, 0.08816770543447124, 0.08816770543447124, 0.08816770543447124, 0.08816770543447124, 0.17633541086894247, 0.3071146481007837, 0.3071146481007837, 0.3071146481007837, 0.8813029938989007, 0.8070832123743749, 0.7391049778362301, 0.7588472282346654, 0.08031333709455153, 0.08031333709455153, 0.08031333709455153, 0.40156668547275765, 0.16062667418910306, 0.08031333709455153, 0.16062667418910306, 0.17295693822628797, 0.17295693822628797, 0.6918277529051519, 0.8854851199038934, 0.2410049414288373, 0.4820098828576746, 0.2410049414288373, 0.8559596536191129, 0.7449453803095532, 0.17955584029854185, 0.17955584029854185, 0.5386675208956255, 0.7449454706314521, 0.8630128324556219, 0.8266664681806364, 0.5098384849741926, 0.1699461616580642, 0.1699461616580642, 0.1699461616580642, 0.1699461616580642, 0.7819856988854171, 0.14838071994942745, 0.14838071994942745, 0.14838071994942745, 0.2967614398988549, 0.14838071994942745, 0.14838071994942745, 0.6439460548120679, 0.7819856956774156, 0.6783038787040618, 0.8048171975486472, 0.7162170438381562, 0.1441319145682895, 0.1441319145682895, 0.4323957437048685, 0.1441319145682895, 0.1441319145682895, 0.7449453678359671, 0.07602271341311027, 0.3040908536524411, 0.22806814023933084, 0.22806814023933084, 0.15204542682622055, 0.2049347963123713, 0.2049347963123713, 0.2049347963123713, 0.4098695926247426, 0.7588472258566417, 0.6534758457449247, 0.1372646366313779, 0.1372646366313779, 0.1372646366313779, 0.1372646366313779, 0.1372646366313779, 0.2745292732627558, 0.32687355147134706, 0.6537471029426941, 0.49443764876703633, 0.5381033774660344, 0.7402845291645945, 0.7881639172881818, 0.5707328582144877, 0.28536642910724386, 0.034577097442421, 0.0172885487212105, 0.103731292327263, 0.0172885487212105, 0.034577097442421, 0.1901740359333155, 0.0518656461636315, 0.0518656461636315, 0.0172885487212105, 0.0172885487212105, 0.24203968209694698, 0.0518656461636315, 0.034577097442421, 0.0172885487212105, 0.0172885487212105, 0.034577097442421, 0.0518656461636315, 0.8630124691319316, 0.7881639005468036, 0.2009956865258473, 0.10049784326292364, 0.10049784326292364, 0.2009956865258473, 0.2009956865258473, 0.2009956865258473, 0.5105455432838464, 0.7091357979873276, 0.2146528254015619, 0.4293056508031238, 0.2146528254015619, 0.1260549479807498, 0.1260549479807498, 0.2521098959614996, 0.1260549479807498, 0.37816484394224936, 0.1260549479807498, 0.2716602764786919, 0.5433205529573838, 0.07138993330125638, 0.07138993330125638, 0.07138993330125638, 0.07138993330125638, 0.21416979990376914, 0.07138993330125638, 0.07138993330125638, 0.21416979990376914, 0.07138993330125638, 0.07138993330125638, 0.07138993330125638, 0.06626394531192979, 0.13252789062385958, 0.06626394531192979, 0.19879183593578936, 0.13252789062385958, 0.06626394531192979, 0.06626394531192979, 0.19879183593578936, 0.8398447508589849, 0.3378012986780613, 0.3378012986780613, 0.08504142126738505, 0.08504142126738505, 0.42520710633692527, 0.42520710633692527, 0.6783038244682882, 0.7391050109917267, 0.7391048942633947, 0.7449454069292639, 0.7449453740798816, 0.5323601163374759, 0.7244363903132064, 0.2414787967710688, 0.8707180531924005, 0.7162170438381562, 0.9247223962422731, 0.6783038787040618, 0.6911293578647438, 0.3455646789323719, 0.9247223819843245, 0.8266663072733265, 0.06355827104003002, 0.06355827104003002, 0.03177913552001501, 0.03177913552001501, 0.03177913552001501, 0.03177913552001501, 0.03177913552001501, 0.06355827104003002, 0.03177913552001501, 0.03177913552001501, 0.44490789728021013, 0.06355827104003002, 0.03177913552001501, 0.03177913552001501, 0.03177913552001501, 0.03177913552001501, 0.09875643297209659, 0.19751286594419318, 0.19751286594419318, 0.09875643297209659, 0.2962692989162898, 0.09875643297209659, 0.22983361632349425, 0.6895008489704828, 0.03525014478982607, 0.03525014478982607, 0.03525014478982607, 0.07050028957965214, 0.03525014478982607, 0.03525014478982607, 0.07050028957965214, 0.03525014478982607, 0.03525014478982607, 0.03525014478982607, 0.38775159268808673, 0.07050028957965214, 0.03525014478982607, 0.03525014478982607, 0.03525014478982607, 0.03525014478982607, 0.07050028957965214, 0.781985687264645, 0.4020964898615737, 0.10052412246539343, 0.20104824493078685, 0.30157236739618026, 0.758847228978918, 0.04538320193615022, 0.02269160096807511, 0.02269160096807511, 0.06807480290422532, 0.20422440871267597, 0.04538320193615022, 0.02269160096807511, 0.02269160096807511, 0.02269160096807511, 0.20422440871267597, 0.11345800484037553, 0.02269160096807511, 0.02269160096807511, 0.11345800484037553, 0.04538320193615022, 0.05226234969465299, 0.05226234969465299, 0.05226234969465299, 0.10452469938930598, 0.05226234969465299, 0.05226234969465299, 0.05226234969465299, 0.10452469938930598, 0.10452469938930598, 0.10452469938930598, 0.05226234969465299, 0.05226234969465299, 0.15678704908395896, 0.7588471905232589, 0.7449454205419185, 0.3900697749238774, 0.3900697749238774, 0.7239969069574774, 0.3619984534787387, 0.0667288050995229, 0.044485870066348604, 0.022242935033174302, 0.022242935033174302, 0.11121467516587151, 0.022242935033174302, 0.022242935033174302, 0.022242935033174302, 0.2669152203980916, 0.11121467516587151, 0.08897174013269721, 0.022242935033174302, 0.044485870066348604, 0.1334576101990458, 0.7091358052410551, 0.20639648258610555, 0.6191894477583166, 0.6631901887634059, 0.7391048629087966, 0.7391048823720855, 0.6534758457449247, 0.7881639496936811, 0.6631901609943677, 0.9247224106723629, 0.7449454205419185, 0.7581924108868396, 0.7548440803891462, 0.2516146934630487, 0.8559591407585857, 0.7819857196825384, 0.6534758457449247, 0.7162170774195239, 0.7449454205419185, 0.7391049778362301, 0.505437935714364, 0.252718967857182, 0.27832174895259026, 0.27832174895259026, 0.27832174895259026, 0.7910298776234234, 0.274708136967613, 0.274708136967613, 0.549416273935226, 0.09018955495032786, 0.09018955495032786, 0.2705686648509836, 0.09018955495032786, 0.09018955495032786, 0.09018955495032786, 0.18037910990065573, 0.09018955495032786, 0.09018955495032786, 0.7091357979873276, 0.3949131091238577, 0.3949131091238577, 0.8559587050103752, 0.870718068848139, 0.20927907532056464, 0.20927907532056464, 0.20927907532056464, 0.20927907532056464, 0.12664376900808968, 0.12664376900808968, 0.25328753801617937, 0.12664376900808968, 0.12664376900808968, 0.25328753801617937, 0.16201461823613764, 0.16201461823613764, 0.16201461823613764, 0.4860438547084129, 0.1968415479332605, 0.1968415479332605, 0.1968415479332605, 0.1968415479332605, 0.1968415479332605, 0.8630125173356586, 0.7588471988579532, 0.7449454205419185, 0.12755508100384058, 0.25511016200768116, 0.3826652430115217, 0.12755508100384058, 0.5380991471541866, 0.7449453787612181, 0.058516087034105504, 0.058516087034105504, 0.058516087034105504, 0.058516087034105504, 0.058516087034105504, 0.058516087034105504, 0.351096522204633, 0.11703217406821101, 0.11703217406821101, 0.058516087034105504, 0.058516087034105504, 0.8266664681806364, 0.7581923218639858, 0.3971106918690642, 0.3971106918690642, 0.8913092647877265, 0.7402845496210052, 0.717175733277675, 0.239058577759225, 0.2916177704543289, 0.2916177704543289, 0.2916177704543289, 0.8707180236592292, 0.09590507664405933, 0.19181015328811865, 0.09590507664405933, 0.19181015328811865, 0.19181015328811865, 0.09590507664405933, 0.09590507664405933, 0.09590507664405933, 0.7772887615221887, 0.15762708274777598, 0.15762708274777598, 0.15762708274777598, 0.31525416549555196, 0.15762708274777598, 0.15762708274777598, 0.09102115277194377, 0.09102115277194377, 0.18204230554388753, 0.09102115277194377, 0.09102115277194377, 0.09102115277194377, 0.09102115277194377, 0.18204230554388753, 0.09102115277194377, 0.09102115277194377, 0.09102115277194377, 0.8048169354005918, 0.7910304154364652, 0.7066274300482454, 0.210196921552321, 0.630590764656963, 0.7037358687370558, 0.8630127859014195, 0.8048169103971651, 0.7881639037821467, 0.12314861541063475, 0.12314861541063475, 0.6157430770531738, 0.12314861541063475, 0.467034357652511, 0.8398447587539704, 0.22794370262879868, 0.11397185131439934, 0.45588740525759736, 0.22794370262879868, 0.7910295465828453, 0.8559585515861781, 0.26625847858050794, 0.5325169571610159, 0.881303040975253, 0.6089523884541463, 0.30447619422707317, 0.2709993673855749, 0.2709993673855749, 0.2709993673855749, 0.9280722819213494, 0.8227159779766268, 0.46703433559258517, 0.9247223880036093, 0.8048170196477463, 0.8630125214585466, 0.7216581531700743, 0.18041453829251858, 0.07826296588145926, 0.07826296588145926, 0.03913148294072963, 0.11739444882218887, 0.03913148294072963, 0.07826296588145926, 0.1956574147036481, 0.11739444882218887, 0.03913148294072963, 0.03913148294072963, 0.03913148294072963, 0.03913148294072963, 0.11739444882218887, 0.7162170438381562, 0.7819857540445829, 0.885485180150144, 0.6631901609943677, 0.0783656484770878, 0.0783656484770878, 0.0783656484770878, 0.0783656484770878, 0.0783656484770878, 0.1567312969541756, 0.1567312969541756, 0.1567312969541756, 0.0783656484770878, 0.1567312969541756, 0.0783656484770878, 0.870717968080392, 0.467034342150909, 0.1042118578909378, 0.1042118578909378, 0.1042118578909378, 0.4168474315637512, 0.1042118578909378, 0.1042118578909378, 0.1042118578909378, 0.35112642591380144, 0.7022528518276029, 0.08242021005729565, 0.08242021005729565, 0.08242021005729565, 0.1648404201145913, 0.1648404201145913, 0.24726063017188696, 0.08242021005729565, 0.08242021005729565, 0.703735795987062, 0.1556637737605742, 0.10377584917371613, 0.20755169834743226, 0.10377584917371613, 0.051887924586858064, 0.20755169834743226, 0.10377584917371613, 0.2386603769915422, 0.2386603769915422, 0.2386603769915422, 0.2386603769915422, 0.12127793962638288, 0.24255587925276575, 0.12127793962638288, 0.12127793962638288, 0.24255587925276575, 0.12127793962638288, 0.12127793962638288, 0.7402845608323175, 0.16448277246647494, 0.08224138623323747, 0.16448277246647494, 0.08224138623323747, 0.08224138623323747, 0.08224138623323747, 0.16448277246647494, 0.08224138623323747, 0.16448277246647494, 0.7091357979873276, 0.10086840878359427, 0.10086840878359427, 0.10086840878359427, 0.10086840878359427, 0.10086840878359427, 0.20173681756718853, 0.10086840878359427, 0.20173681756718853, 0.10086840878359427, 0.855958392004825, 0.667416882240468, 0.4834702467738499, 0.24173512338692496, 0.24173512338692496, 0.7588471755614704, 0.334192831162407, 0.334192831162407, 0.11594091830869464, 0.11594091830869464, 0.11594091830869464, 0.34782275492608394, 0.34782275492608394, 0.11594091830869464, 0.9247223670397663, 0.5121325710824897, 0.5121325710824897, 0.5105455687466638, 0.7091358004052368, 0.7091357979873276, 0.1711596445699391, 0.1711596445699391, 0.1711596445699391, 0.3423192891398782, 0.1711596445699391, 0.15864741308463268, 0.15864741308463268, 0.31729482616926535, 0.15864741308463268, 0.15864741308463268, 0.10467163166802684, 0.10467163166802684, 0.2093432633360537, 0.10467163166802684, 0.2093432633360537, 0.10467163166802684, 0.2093432633360537, 0.7881639505778684, 0.17513504643830263, 0.17513504643830263, 0.17513504643830263, 0.17513504643830263, 0.17513504643830263, 0.15968275354471864, 0.47904826063415595, 0.15968275354471864, 0.6631902061718711, 0.12429937907400898, 0.12429937907400898, 0.12429937907400898, 0.24859875814801796, 0.12429937907400898, 0.24859875814801796, 0.3558968070902028, 0.3558968070902028, 0.7402845516447042, 0.374722315279618, 0.374722315279618, 0.8707180824238264, 0.7819856727151698, 0.06811809520970569, 0.20435428562911706, 0.06811809520970569, 0.13623619041941137, 0.06811809520970569, 0.20435428562911706, 0.06811809520970569, 0.13623619041941137, 0.06811809520970569, 0.8559599237933239, 0.6783038787040618, 0.7881639349844498, 0.7910300931101221, 0.6783038326226892, 0.2902257948320623, 0.2902257948320623, 0.2902257948320623, 0.494437671766675, 0.7910298569267707, 0.49338575406793955, 0.8048171271238782, 0.7037358647616772, 0.12821305262907817, 0.06410652631453909, 0.06410652631453909, 0.06410652631453909, 0.19231957894361723, 0.06410652631453909, 0.19231957894361723, 0.06410652631453909, 0.06410652631453909, 0.06410652631453909, 0.12821305262907817, 0.7581924009521984, 0.19337037076395544, 0.19337037076395544, 0.19337037076395544, 0.19337037076395544, 0.09668518538197772, 0.19337037076395544, 0.8559588685645177, 0.8266663458991277, 0.8726106033308266, 0.10907632541635333, 0.490768712266051, 0.490768712266051, 0.6631901609943677, 0.5083176622368445, 0.25415883111842225, 0.13480927538693177, 0.13480927538693177, 0.13480927538693177, 0.13480927538693177, 0.26961855077386354, 0.13480927538693177, 0.13480927538693177, 0.7581924121754052, 0.6534758457449247, 0.15390946087137697, 0.07695473043568848, 0.07695473043568848, 0.07695473043568848, 0.15390946087137697, 0.07695473043568848, 0.07695473043568848, 0.15390946087137697, 0.07695473043568848, 0.07695473043568848, 0.10595741844240202, 0.10595741844240202, 0.21191483688480403, 0.10595741844240202, 0.10595741844240202, 0.31787225532720603, 0.10595741844240202, 0.7881639356875095, 0.2465158108106939, 0.12325790540534695, 0.12325790540534695, 0.12325790540534695, 0.2465158108106939, 0.12325790540534695, 0.10137846164280286, 0.05068923082140143, 0.10137846164280286, 0.15206769246420426, 0.05068923082140143, 0.05068923082140143, 0.05068923082140143, 0.2027569232856057, 0.10137846164280286, 0.10137846164280286, 0.05068923082140143, 0.05068923082140143, 0.10137846164280286, 0.08976194055082079, 0.08976194055082079, 0.08976194055082079, 0.26928582165246234, 0.26928582165246234, 0.08976194055082079, 0.17952388110164158, 0.6631901930435259, 0.804817021067144, 0.6674168829270782, 0.7162171269990641, 0.8227160916689801, 0.7091358052410551, 0.7449454205419185, 0.8266664681806364, 0.37472236392850344, 0.37472236392850344, 0.7162170599510563, 0.2067541218480763, 0.2067541218480763, 0.2067541218480763, 0.2067541218480763, 0.7588472300914023, 0.35436959736874424, 0.35436959736874424, 0.2552005526107308, 0.7656016578321925, 0.7402845628560166, 0.7819856760695738, 0.8048169418445605, 0.9322032540248166, 0.7819856767183315, 0.781985721297517, 0.3155989954866078, 0.6311979909732156, 0.7581923721531616, 0.7819857270259756, 0.14168852570251195, 0.03542213142562799, 0.03542213142562799, 0.07084426285125597, 0.35422131425627984, 0.07084426285125597, 0.10626639427688396, 0.10626639427688396, 0.07084426285125597, 0.1280264868934683, 0.38407946068040494, 0.2560529737869366, 0.1280264868934683, 0.1280264868934683, 0.07336489349094295, 0.22009468047282885, 0.1467297869818859, 0.36682446745471475, 0.1467297869818859, 0.07415665019570755, 0.07415665019570755, 0.07415665019570755, 0.22246995058712266, 0.07415665019570755, 0.1483133003914151, 0.1483133003914151, 0.22246995058712266, 0.07415665019570755, 0.2777735799666512, 0.2777735799666512, 0.2777735799666512, 0.46703432126095973, 0.788163923184373, 0.14153956778331853, 0.28307913556663705, 0.14153956778331853, 0.14153956778331853, 0.14153956778331853, 0.14153956778331853, 0.233880909326475, 0.233880909326475, 0.233880909326475, 0.233880909326475, 0.27145374900038294, 0.27145374900038294, 0.27145374900038294, 0.7588471499828239, 0.7910304092427473, 0.3897533252475649, 0.19487666262378245, 0.19487666262378245, 0.19487666262378245, 0.791029715043392, 0.4731968486026532, 0.8266664681806364, 0.7037357975856531, 0.7819856731234168, 0.24559936252482792, 0.24559936252482792, 0.24559936252482792, 0.24559936252482792, 0.6534758457449247, 0.4989041065203106, 0.2494520532601553, 0.7162170764938496, 0.7881639520656059, 0.7162171164409002, 0.8630128957144052, 0.2515757580915519, 0.12578787904577596, 0.12578787904577596, 0.12578787904577596, 0.12578787904577596, 0.12578787904577596, 0.17976484338960028, 0.17976484338960028, 0.17976484338960028, 0.17976484338960028, 0.17976484338960028, 0.19508170195614832, 0.39016340391229665, 0.19508170195614832, 0.19508170195614832, 0.7819857540445829, 0.7819857164745366, 0.8913092966512134, 0.7910303457129012, 0.8266663192738946, 0.0727729979507135, 0.0727729979507135, 0.145545995901427, 0.0727729979507135, 0.0727729979507135, 0.2183189938521405, 0.145545995901427, 0.2183189938521405, 0.8707180355225281, 0.6246059048287504, 0.20820196827625015, 0.20820196827625015, 0.26934288685008906, 0.26934288685008906, 0.26934288685008906, 0.215321780062179, 0.430643560124358, 0.215321780062179, 0.7910294570951882, 0.49860485827075324, 0.4944375822719994, 0.7663333234572072, 0.32378004619691053, 0.6475600923938211, 0.8854852618972496, 0.653475819831106, 0.8398446716498821, 0.02014399168144082, 0.06043197504432246, 0.04028798336288164, 0.02014399168144082, 0.02014399168144082, 0.08057596672576328, 0.02014399168144082, 0.04028798336288164, 0.02014399168144082, 0.02014399168144082, 0.02014399168144082, 0.18129592513296738, 0.14100794177008574, 0.1007199584072041, 0.06043197504432246, 0.04028798336288164, 0.12086395008864492, 0.46703429431310967, 0.7402845233587398, 0.4944376531517662, 0.359072989390165, 0.359072989390165, 0.7346420601874991, 0.7449454205419185, 0.36962983297814955, 0.36962983297814955, 0.6205341648778079, 0.8630124278520236, 0.14395725581142735, 0.14395725581142735, 0.2879145116228547, 0.14395725581142735, 0.14395725581142735, 0.14395725581142735, 0.14395725581142735, 0.7391049778362301, 0.2376389128636273, 0.11881945643181364, 0.4752778257272546, 0.11881945643181364, 0.8398448911305533, 0.7391049019228926, 0.8398447580268491, 0.09305705556445301, 0.09305705556445301, 0.09305705556445301, 0.18611411112890602, 0.18611411112890602, 0.09305705556445301, 0.09305705556445301, 0.09305705556445301, 0.18611411112890602, 0.06353517215296108, 0.06353517215296108, 0.06353517215296108, 0.12707034430592215, 0.06353517215296108, 0.12707034430592215, 0.06353517215296108, 0.12707034430592215, 0.12707034430592215, 0.12707034430592215, 0.06353517215296108, 0.06353517215296108, 0.23797991737819274, 0.4759598347563855, 0.23797991737819274, 0.14121061050389827, 0.4236318315116948, 0.4236318315116948, 0.31522837691169253, 0.6304567538233851, 0.6584158765920478, 0.5309260246092211, 0.5309260246092211, 0.5111397180319027, 0.7614917265027279, 0.8048170451534603, 0.7091357979873276, 0.924722418370402, 0.788163934644243, 0.7091357979873276, 0.7391050661971597, 0.2358998160114235, 0.7076994480342705, 0.7588471982633301, 0.24269845493820974, 0.08089948497940325, 0.24269845493820974, 0.08089948497940325, 0.08089948497940325, 0.24269845493820974, 0.08089948497940325, 0.8048169859475267, 0.5054379079988464, 0.2527189539994232, 0.8048170265071855, 0.8813030479618321, 0.791030388597021, 0.7162170774195239, 0.7402845538738637, 0.8854855994061968, 0.6674168821660096, 0.8559610443592764, 0.744945370036045, 0.538103366250155, 0.8266663433848004, 0.11395108605328942, 0.07596739070219294, 0.03798369535109647, 0.03798369535109647, 0.03798369535109647, 0.03798369535109647, 0.07596739070219294, 0.2658858674576753, 0.03798369535109647, 0.07596739070219294, 0.15193478140438588, 0.03798369535109647, 0.8266664681806364, 0.25829226344641854, 0.25829226344641854, 0.25829226344641854, 0.10045339779372292, 0.10045339779372292, 0.10045339779372292, 0.4018135911748917, 0.10045339779372292, 0.20090679558744584, 0.863012553458999, 0.7091358052410551, 0.7391049778362301, 0.8266664681806364, 0.7162170774195239, 0.7449454205419185, 0.6783038787040618, 0.6631901609943677, 0.6227060248241947, 0.20756867494139825, 0.6674168829270782, 0.7091357979873276, 0.06910279095622147, 0.20730837286866444, 0.13820558191244295, 0.06910279095622147, 0.06910279095622147, 0.2764111638248859, 0.06910279095622147, 0.06910279095622147, 0.06910279095622147, 0.93220328385683, 0.7391050224148984, 0.6534758405271835, 0.21547600289828636, 0.10773800144914318, 0.10773800144914318, 0.10773800144914318, 0.21547600289828636, 0.10773800144914318, 0.10773800144914318, 0.870718011390015, 0.3406670751474742, 0.1703335375737371, 0.1703335375737371, 0.1703335375737371, 0.7588471890610943, 0.7910292091466303, 0.1293417256943276, 0.1293417256943276, 0.1293417256943276, 0.3880251770829828, 0.1293417256943276, 0.1293417256943276, 0.7162170774195239, 0.6631901609943677, 0.8266663433317704, 0.7819857020934186, 0.07054618845870203, 0.07054618845870203, 0.21163856537610606, 0.07054618845870203, 0.14109237691740406, 0.14109237691740406, 0.2821847538348081, 0.0730277027373887, 0.21908310821216612, 0.0730277027373887, 0.2921108109495548, 0.1460554054747774, 0.0730277027373887, 0.0730277027373887, 0.0730277027373887, 0.8707179950604051, 0.8854850606731373, 0.531534493705486, 0.531534493705486, 0.26258567999223514, 0.5251713599844703, 0.9247223823184733, 0.758847180969, 0.7391049778362301, 0.7588472103343704, 0.1658328137294777, 0.24874922059421656, 0.08291640686473885, 0.08291640686473885, 0.1658328137294777, 0.08291640686473885, 0.08291640686473885, 0.08291640686473885, 0.1658328137294777, 0.11530635549621229, 0.11530635549621229, 0.11530635549621229, 0.11530635549621229, 0.3459190664886369, 0.11530635549621229, 0.11530635549621229, 0.31370819909147224, 0.6274163981829445, 0.6674168829270782, 0.7091358004052368, 0.3438160342380483, 0.3438160342380483, 0.557199875550984, 0.557199875550984, 0.8266664681806364, 0.2582465220303686, 0.7747395660911056, 0.7881639410723442, 0.49443762558109805, 0.17515133852949757, 0.08757566926474879, 0.17515133852949757, 0.4378783463237439, 0.17515133852949757, 0.6674168821660096, 0.8266663218412518, 0.6783038787040618, 0.791030341111855, 0.23146636548162086, 0.6943990964448625, 0.11192795680512235, 0.11192795680512235, 0.33578387041536706, 0.33578387041536706, 0.11192795680512235, 0.0665989703049537, 0.03329948515247685, 0.0665989703049537, 0.03329948515247685, 0.03329948515247685, 0.1331979406099074, 0.09989845545743054, 0.03329948515247685, 0.03329948515247685, 0.23309639606733792, 0.1331979406099074, 0.0665989703049537, 0.03329948515247685, 0.03329948515247685, 0.31371131649132905, 0.6274226329826581, 0.8559584211117515, 0.6631901609943677, 0.9477911584366744, 0.7663333855878373, 0.8048169201879954, 0.6783038787040618, 0.19228194396894172, 0.19228194396894172, 0.38456388793788343, 0.19228194396894172, 0.7581924134057771, 0.09545404758915287, 0.38181619035661146, 0.09545404758915287, 0.19090809517830573, 0.19090809517830573, 0.7037357884454278, 0.09900763765837287, 0.09900763765837287, 0.09900763765837287, 0.09900763765837287, 0.09900763765837287, 0.19801527531674573, 0.09900763765837287, 0.29702291297511857, 0.7910295102206258, 0.16133388565279455, 0.16133388565279455, 0.16133388565279455, 0.08066694282639728, 0.08066694282639728, 0.08066694282639728, 0.08066694282639728, 0.16133388565279455, 0.08066694282639728, 0.08066694282639728, 0.35959157806849024, 0.35959157806849024, 0.3273090504482554, 0.6546181008965108, 0.7819856947499818, 0.2149835268991637, 0.2149835268991637, 0.4299670537983274, 0.2149835268991637, 0.791029994586762, 0.090005656687697, 0.090005656687697, 0.180011313375394, 0.090005656687697, 0.360022626750788, 0.180011313375394, 0.6089524280466148, 0.3044762140233074, 0.739104907228294, 0.7449454205419185, 0.1355636608107688, 0.1355636608107688, 0.1355636608107688, 0.2711273216215376, 0.1355636608107688, 0.1355636608107688, 0.8398446748989764, 0.16846317353520532, 0.33692634707041064, 0.33692634707041064, 0.16846317353520532, 0.7819857179476153, 0.2296224469329114, 0.4592448938658228, 0.2296224469329114, 0.8707180049835601, 0.7910303778022567, 0.35953590695575643, 0.35953590695575643, 0.35436954241421365, 0.35436954241421365, 0.7607493849506841, 0.8048170046680092, 0.20474195421908103, 0.40948390843816207, 0.20474195421908103, 0.20474195421908103, 0.9247223649944079, 0.3016125700938869, 0.6032251401877738, 0.3814020601467313, 0.3814020601467313, 0.07426618018917458, 0.07426618018917458, 0.07426618018917458, 0.22279854056752374, 0.14853236037834916, 0.07426618018917458, 0.07426618018917458, 0.07426618018917458, 0.22279854056752374, 0.1812233252937323, 0.09061166264686615, 0.09061166264686615, 0.1812233252937323, 0.1812233252937323, 0.1812233252937323, 0.2593538985094135, 0.2593538985094135, 0.2593538985094135, 0.7402845608323175, 0.6783038787040618, 0.09580026430372321, 0.09580026430372321, 0.09580026430372321, 0.2874007929111696, 0.2874007929111696, 0.7162170774195239, 0.7581922993417018, 0.07629076567480628, 0.07629076567480628, 0.22887229702441883, 0.07629076567480628, 0.38145382837403136, 0.07629076567480628, 0.07629076567480628, 0.07629076567480628, 0.8266663365813591, 0.6568988969304723, 0.32844944846523616, 0.739105014657743, 0.12344245542778536, 0.37032736628335605, 0.12344245542778536, 0.2468849108555707, 0.12344245542778536, 0.32242144298324743, 0.16121072149162372, 0.32242144298324743, 0.7583871767597413, 0.7819857190337803, 0.7162170438381562, 0.8048169398457815, 0.7910291285442357, 0.6089524134342776, 0.3044762067171388, 0.6783038787040618, 0.8559607433170154, 0.49860482733015016, 0.11302118406546534, 0.11302118406546534, 0.22604236813093068, 0.11302118406546534, 0.11302118406546534, 0.11302118406546534, 0.11302118406546534, 0.11302118406546534, 0.11302118406546534, 0.36028734225801434, 0.36028734225801434, 0.7581924108868396, 0.9478048742857161, 0.7391050487282598, 0.14926246917460714, 0.14926246917460714, 0.14926246917460714, 0.2985249383492143, 0.14926246917460714, 0.14926246917460714, 0.05965415580484127, 0.35792493482904764, 0.05965415580484127, 0.29827077902420635, 0.17896246741452382, 0.05965415580484127, 0.20605247416710656, 0.20605247416710656, 0.20605247416710656, 0.20605247416710656, 0.20605247416710656, 0.12421158325071453, 0.3726347497521436, 0.12421158325071453, 0.12421158325071453, 0.12421158325071453, 0.8559605515488583, 0.7204168970980671, 0.18010422427451678, 0.7162170774195239, 0.5111395854846734, 0.8813030410695759, 0.7819856792607437, 0.10895011325845741, 0.10895011325845741, 0.10895011325845741, 0.10895011325845741, 0.10895011325845741, 0.3268503397753722, 0.21790022651691482, 0.29558843718982714, 0.5911768743796543, 0.7402845538869667, 0.49443768717423536, 0.7391048884265186, 0.9247223987452212, 0.6534758281721681, 0.5529273895152645, 0.688554631116599, 0.22917284002279725, 0.6875185200683918, 0.1217486139309404, 0.3652458417928212, 0.1217486139309404, 0.1217486139309404, 0.1217486139309404, 0.1217486139309404, 0.1217486139309404, 0.18450775594446758, 0.18450775594446758, 0.18450775594446758, 0.36901551188893517, 0.7449454205419185, 0.509038199559301, 0.06651548836040222, 0.06651548836040222, 0.06651548836040222, 0.06651548836040222, 0.06651548836040222, 0.19954646508120666, 0.06651548836040222, 0.06651548836040222, 0.06651548836040222, 0.13303097672080444, 0.06651548836040222, 0.06651548836040222, 0.13303097672080444, 0.08579913392230333, 0.08579913392230333, 0.08579913392230333, 0.08579913392230333, 0.08579913392230333, 0.08579913392230333, 0.17159826784460666, 0.17159826784460666, 0.17159826784460666, 0.08579913392230333, 0.08579913392230333, 0.12881580603074103, 0.12881580603074103, 0.25763161206148205, 0.12881580603074103, 0.12881580603074103, 0.12881580603074103, 0.25763161206148205, 0.23242947689102064, 0.23242947689102064, 0.23242947689102064, 0.23242947689102064, 0.7581923389199574, 0.7663332972585729, 0.4318983427852586, 0.0311870682968053, 0.0311870682968053, 0.0935612048904159, 0.0311870682968053, 0.0623741365936106, 0.21830947807763712, 0.0311870682968053, 0.0623741365936106, 0.3430577512648583, 0.0623741365936106, 0.0311870682968053, 0.0311870682968053, 0.5380921017145948, 0.8630124628216734, 0.6674168821660096, 0.7881639098002925, 0.3317932170083089, 0.6635864340166178, 0.12116846932848858, 0.12116846932848858, 0.605842346642443, 0.12116846932848858, 0.34101352880043057, 0.34101352880043057, 0.7581924172132801, 0.8913092805421697, 0.24363236360975843, 0.24363236360975843, 0.24363236360975843, 0.24363236360975843, 0.7819857540445829, 0.510545511289406, 0.7696892709373843, 0.7449454110275981, 0.7391050101259186, 0.06007835696436129, 0.06007835696436129, 0.18023507089308385, 0.06007835696436129, 0.12015671392872258, 0.18023507089308385, 0.12015671392872258, 0.06007835696436129, 0.06007835696436129, 0.06007835696436129, 0.35137513753890165, 0.35137513753890165, 0.7391049778362301, 0.7819856843610056, 0.26120760162210344, 0.5224152032442069, 0.7819856696102434, 0.071054339255993, 0.142108678511986, 0.071054339255993, 0.071054339255993, 0.071054339255993, 0.213163017767979, 0.142108678511986, 0.142108678511986, 0.142108678511986, 0.38047143604013006, 0.19023571802006503, 0.19023571802006503, 0.19023571802006503, 0.5105456280381029, 0.7910299632809024, 0.07963093178540895, 0.23889279535622682, 0.07963093178540895, 0.07963093178540895, 0.07963093178540895, 0.1592618635708179, 0.07963093178540895, 0.1592618635708179, 0.7881639177703189, 0.4933858554895642, 0.7588472072905332, 0.5526970358380464, 0.5526970358380464, 0.635695455935724, 0.317847727967862, 0.7819857540445829, 0.5682172288577377, 0.28410861442886887, 0.6783038787040618, 0.14723845253888596, 0.4417153576166578, 0.4417153576166578, 0.7583875592685249, 0.8707179963742314, 0.5517518904408538, 0.2758759452204269, 0.7162170774195239, 0.1958346135473674, 0.0979173067736837, 0.0979173067736837, 0.1958346135473674, 0.1958346135473674, 0.0979173067736837, 0.29289557821940204, 0.5857911564388041, 0.841956503159827, 0.7588472762085314, 0.7588472762085314, 0.7091357955694185, 0.7402845264999411, 0.7910279146454567, 0.9270202894082509, 0.7402845608323175, 0.7581924197031207, 0.1319444297968435, 0.1319444297968435, 0.1319444297968435, 0.1319444297968435, 0.1319444297968435, 0.1319444297968435, 0.1319444297968435, 0.1319444297968435, 0.1319444297968435, 0.059110330333709674, 0.11822066066741935, 0.059110330333709674, 0.059110330333709674, 0.059110330333709674, 0.41377231233596773, 0.059110330333709674, 0.059110330333709674, 0.059110330333709674, 0.059110330333709674, 0.15576305743963215, 0.46728917231889644, 0.3115261148792643, 0.2962316013262224, 0.2962316013262224, 0.2962316013262224, 0.2962316013262224, 0.7881639049586343, 0.14115839666500896, 0.07057919833250448, 0.07057919833250448, 0.07057919833250448, 0.3528959916625224, 0.07057919833250448, 0.07057919833250448, 0.14115839666500896, 0.08772866675146473, 0.08772866675146473, 0.17545733350292947, 0.35091466700585894, 0.2631860002543942, 0.08772866675146473, 0.6783038146982624, 0.6534758457449247, 0.7037358020874784, 0.7402845526988021, 0.4025429253306835, 0.20127146266534174, 0.4025429253306835, 0.7162170438381562, 0.8266662711942261, 0.8266663664178002, 0.8266663335597582, 0.14665147038179893, 0.07332573519089947, 0.2199772055726984, 0.07332573519089947, 0.36662867595449733, 0.07332573519089947, 0.07332573519089947, 0.07332573519089947, 0.30927138424596257, 0.30927138424596257, 0.30927138424596257, 0.31986103492815726, 0.6397220698563145, 0.04712855207797185, 0.04712855207797185, 0.2827713124678311, 0.04712855207797185, 0.04712855207797185, 0.14138565623391555, 0.0942571041559437, 0.04712855207797185, 0.0942571041559437, 0.0942571041559437, 0.04712855207797185, 0.0645190918392579, 0.0645190918392579, 0.1935572755177737, 0.0645190918392579, 0.1935572755177737, 0.0645190918392579, 0.0645190918392579, 0.0645190918392579, 0.2580763673570316, 0.0645190918392579, 0.7881639089560748, 0.6439459828232003, 0.6439460901292812, 0.8048169542338908, 0.4731968454902177, 0.6386389608603685, 0.31931948043018427, 0.7162170438381562, 0.8707180205754645, 0.7091357955694185, 0.8048170173482011, 0.7402845588972063, 0.10111092890428301, 0.10111092890428301, 0.10111092890428301, 0.5055546445214151, 0.20222185780856602, 0.10111092890428301, 0.18868185250167055, 0.18868185250167055, 0.18868185250167055, 0.18868185250167055, 0.18868185250167055, 0.18868185250167055, 0.09679786132837462, 0.04839893066418731, 0.04839893066418731, 0.04839893066418731, 0.04839893066418731, 0.04839893066418731, 0.04839893066418731, 0.2903935839851239, 0.04839893066418731, 0.14519679199256194, 0.04839893066418731, 0.04839893066418731, 0.04839893066418731, 0.04839893066418731, 0.7819856883391033, 0.30791146519060797, 0.30791146519060797, 0.30791146519060797, 0.7881638807585113, 0.7162169922512688, 0.6519829018810528, 0.3259914509405264], \"Term\": [\"1\", \"1\", \"1\", \"1\", \"1\", \"1\", \"100\", \"100\", \"10stars\", \"1215\", \"14\", \"15\", \"15\", \"15\", \"15\", \"151\", \"1916\", \"199\", \"2\", \"2\", \"2\", \"2\", \"2\", \"2\", \"2\", \"2\", \"2\", \"20\", \"22\", \"3\", \"3\", \"3\", \"3\", \"3\", \"30\", \"30\", \"30\", \"30\", \"31714\", \"32\", \"34\", \"34\", \"35\", \"35\", \"35\", \"3star\", \"4\", \"4\", \"4\", \"4\", \"4\", \"4\", \"40\", \"5\", \"5\", \"5\", \"5\", \"5\", \"530pm\", \"80\", \"8pm\", \"968\", \"about\", \"about\", \"absolutely\", \"absolutely\", \"absolutely\", \"accessed\", \"accidentally\", \"across\", \"add\", \"adorable\", \"advantage\", \"afterward\", \"again\", \"again\", \"again\", \"again\", \"again\", \"age\", \"airport\", \"allergic\", \"allnatural\", \"also\", \"also\", \"also\", \"also\", \"also\", \"also\", \"also\", \"always\", \"always\", \"always\", \"always\", \"always\", \"always\", \"always\", \"always\", \"amazing\", \"amazing\", \"amazing\", \"amazing\", \"amazing\", \"amazing\", \"amazon\", \"americanized\", \"americano\", \"amount\", \"amount\", \"amount\", \"animal\", \"anniversary\", \"answer\", \"answering\", \"anyone\", \"anyone\", \"anyone\", \"anyone\", \"anything\", \"anything\", \"anything\", \"anything\", \"appetite\", \"appointment\", \"are\", \"area\", \"area\", \"area\", \"area\", \"area\", \"area\", \"army\", \"around\", \"around\", \"around\", \"around\", \"around\", \"asada\", \"asada\", \"ask\", \"ask\", \"ask\", \"ask\", \"asked\", \"asked\", \"asked\", \"asked\", \"asked\", \"asked\", \"asked\", \"asked\", \"asked\", \"asked\", \"ate\", \"ate\", \"ate\", \"atmosphere\", \"atmosphere\", \"atmosphere\", \"atmosphere\", \"atmosphere\", \"atmosphere\", \"average\", \"average\", \"awesome\", \"awesome\", \"awesome\", \"awesome\", \"awesome\", \"back\", \"back\", \"back\", \"back\", \"back\", \"back\", \"back\", \"back\", \"back\", \"back\", \"back\", \"back\", \"bad\", \"bad\", \"bad\", \"bad\", \"bag\", \"bail\", \"banana\", \"band\", \"bandwidth\", \"bang\", \"bar\", \"bar\", \"bar\", \"bar\", \"bar\", \"barnes\", \"bartender\", \"bartender\", \"bartender\", \"bartender\", \"basic\", \"bath\", \"bathroom\", \"bathroom\", \"bean\", \"bean\", \"bean\", \"beard\", \"beautifully\", \"becoming\", \"beef\", \"beef\", \"beef\", \"beef\", \"beef\", \"beignet\", \"belly\", \"belly\", \"benedict\", \"benedict\", \"best\", \"best\", \"best\", \"best\", \"best\", \"best\", \"best\", \"best\", \"best\", \"best\", \"better\", \"better\", \"better\", \"better\", \"better\", \"better\", \"better\", \"better\", \"better\", \"better\", \"big\", \"big\", \"big\", \"big\", \"big\", \"big\", \"big\", \"big\", \"bill\", \"bill\", \"bin\", \"bit\", \"bit\", \"bit\", \"bit\", \"bit\", \"bite\", \"bite\", \"bland\", \"bland\", \"blanket\", \"blocking\", \"blush\", \"body\", \"bond\", \"bone\", \"bother\", \"botlles\", \"bowl\", \"box\", \"box\", \"boy\", \"boyfriend\", \"boyfriend\", \"boyfriend\", \"braised\", \"braised\", \"bread\", \"bread\", \"bread\", \"bread\", \"bread\", \"bread\", \"bread\", \"break\", \"brought\", \"brought\", \"brulee\", \"brung\", \"bulk\", \"bull\", \"burger\", \"burger\", \"burger\", \"business\", \"business\", \"business\", \"business\", \"butter\", \"butter\", \"butter\", \"butter\", \"butter\", \"caesar\", \"caesar\", \"cafe\", \"california\", \"call\", \"call\", \"call\", \"call\", \"call\", \"called\", \"called\", \"called\", \"called\", \"called\", \"called\", \"called\", \"called\", \"calm\", \"came\", \"came\", \"came\", \"came\", \"came\", \"came\", \"came\", \"came\", \"came\", \"came\", \"came\", \"camera\", \"cancel\", \"cannot\", \"car\", \"car\", \"car\", \"caramel\", \"card\", \"card\", \"carne\", \"carnitas\", \"carousel\", \"carry\", \"carryout\", \"casino\", \"cesar\", \"chain\", \"changing\", \"changing\", \"character\", \"cheese\", \"cheese\", \"cheese\", \"cheese\", \"chick\", \"chicken\", \"chicken\", \"chickenbeef\", \"chihuahuaterrier\", \"child\", \"child\", \"chinese\", \"chip\", \"chorizo\", \"chris\", \"cigar\", \"cilantro\", \"cle\", \"clean\", \"clean\", \"clean\", \"clean\", \"clean\", \"clean\", \"clean\", \"cleaned\", \"close\", \"close\", \"closer\", \"club\", \"club\", \"clutch\", \"coat\", \"cobbler\", \"coconut\", \"coconut\", \"coconut\", \"coined\", \"cold\", \"cold\", \"cold\", \"collection\", \"college\", \"combo\", \"combo\", \"come\", \"come\", \"come\", \"come\", \"come\", \"come\", \"come\", \"come\", \"come\", \"comfortable\", \"coming\", \"coming\", \"coming\", \"community\", \"company\", \"company\", \"companyi\", \"compared\", \"compared\", \"complaint\", \"complaint\", \"compound\", \"computer\", \"conditioner\", \"consistent\", \"consistently\", \"conversation\", \"cooked\", \"cooked\", \"cooked\", \"cooked\", \"cooked\", \"cool\", \"cool\", \"cool\", \"cool\", \"cool\", \"cool\", \"cool\", \"corn\", \"corn\", \"cot\", \"couch\", \"counter\", \"counter\", \"counter\", \"couple\", \"couple\", \"couple\", \"couple\", \"courtney\", \"covered\", \"covering\", \"cox\", \"crab\", \"crappy\", \"craving\", \"cream\", \"cream\", \"cream\", \"cream\", \"cream\", \"credit\", \"credit\", \"creme\", \"crepe\", \"cringe\", \"crowd\", \"cup\", \"curled\", \"customer\", \"customer\", \"customer\", \"customer\", \"customer\", \"customer\", \"customer\", \"customer\", \"customer\", \"dachshund\", \"dance\", \"darn\", \"de\", \"de\", \"dealing\", \"decade\", \"decadent\", \"definitely\", \"definitely\", \"definitely\", \"definitely\", \"definitely\", \"defunct\", \"degraded\", \"delicious\", \"delicious\", \"delicious\", \"delicious\", \"delicious\", \"delicious\", \"delicious\", \"delicious\", \"delicious\", \"delicious\", \"delicious\", \"delight\", \"delivery\", \"depending\", \"depends\", \"designed\", \"desk\", \"desk\", \"despite\", \"despite\", \"dessert\", \"dessert\", \"dessert\", \"dessert\", \"dessert\", \"dessert\", \"dessert\", \"detox\", \"diaper\", \"didnt\", \"different\", \"different\", \"different\", \"different\", \"different\", \"directly\", \"disappoint\", \"disclaimer\", \"dog\", \"dog\", \"dog\", \"dog\", \"dolce\", \"downside\", \"dr\", \"drink\", \"drink\", \"drink\", \"drink\", \"drink\", \"driveway\", \"drying\", \"dusty\", \"eagle\", \"earlier\", \"easily\", \"easily\", \"eat\", \"eat\", \"eat\", \"eat\", \"eat\", \"eat\", \"eat\", \"eat\", \"ebi\", \"eefco\", \"egg\", \"egg\", \"egg\", \"egg\", \"egg\", \"egg\", \"else\", \"else\", \"else\", \"else\", \"else\", \"else\", \"else\", \"emergency\", \"employee\", \"employee\", \"encorewynn\", \"end\", \"entree\", \"entree\", \"entree\", \"entree\", \"eric\", \"escarole\", \"especially\", \"especially\", \"especially\", \"esthetician\", \"etc\", \"even\", \"even\", \"even\", \"even\", \"even\", \"even\", \"even\", \"even\", \"even\", \"even\", \"eventually\", \"ever\", \"ever\", \"ever\", \"ever\", \"ever\", \"ever\", \"ever\", \"ever\", \"ever\", \"ever\", \"ever\", \"every\", \"every\", \"every\", \"every\", \"everyday\", \"everything\", \"everything\", \"everything\", \"everything\", \"everything\", \"everything\", \"everything\", \"everything\", \"excellent\", \"excellent\", \"excellent\", \"except\", \"exhibit\", \"expect\", \"expecting\", \"experience\", \"experience\", \"experience\", \"experience\", \"experience\", \"experience\", \"experience\", \"extra\", \"extra\", \"extra\", \"eye\", \"facility\", \"facility\", \"facility\", \"fact\", \"fade\", \"family\", \"family\", \"family\", \"fancy\", \"fashion\", \"fast\", \"favorite\", \"favorite\", \"favorite\", \"favorite\", \"favorite\", \"favourite\", \"feel\", \"feel\", \"feel\", \"feel\", \"feel\", \"feel\", \"ferris\", \"fig\", \"fight\", \"figured\", \"fillet\", \"finally\", \"finally\", \"finally\", \"finally\", \"finally\", \"finding\", \"first\", \"first\", \"first\", \"first\", \"first\", \"fish\", \"fish\", \"fish\", \"fish\", \"fishy\", \"fix\", \"flavor\", \"flavor\", \"flavor\", \"flavor\", \"flavor\", \"flavor\", \"flavorful\", \"flavorful\", \"flight\", \"floor\", \"fly\", \"flyer\", \"foie\", \"foie\", \"food\", \"food\", \"food\", \"food\", \"food\", \"food\", \"food\", \"food\", \"food\", \"food\", \"food\", \"food\", \"food\", \"food\", \"food\", \"food\", \"food\", \"forget\", \"forgot\", \"free\", \"free\", \"free\", \"free\", \"free\", \"free\", \"freeway\", \"freezing\", \"french\", \"french\", \"french\", \"fresh\", \"fresh\", \"fresh\", \"fresh\", \"fresh\", \"fresh\", \"fried\", \"fried\", \"friend\", \"friend\", \"friend\", \"friend\", \"friend\", \"friend\", \"friend\", \"friend\", \"friend\", \"friend\", \"friend\", \"friendly\", \"friendly\", \"friendly\", \"friendly\", \"friendly\", \"friendly\", \"friendly\", \"friendly\", \"frikkin\", \"from\", \"from\", \"fry\", \"fry\", \"fry\", \"fry\", \"fullguess\", \"furniture\", \"furry\", \"further\", \"g\", \"gallery\", \"game\", \"game\", \"garage\", \"garlic\", \"gateau\", \"gear\", \"gelato\", \"gelato\", \"gelee\", \"gentle\", \"get\", \"get\", \"get\", \"get\", \"get\", \"get\", \"get\", \"get\", \"get\", \"get\", \"get\", \"get\", \"get\", \"get\", \"get\", \"get\", \"give\", \"give\", \"give\", \"give\", \"give\", \"give\", \"glass\", \"glass\", \"go\", \"go\", \"go\", \"go\", \"go\", \"go\", \"go\", \"go\", \"go\", \"go\", \"go\", \"go\", \"go\", \"go\", \"go\", \"go\", \"go\", \"goat\", \"going\", \"going\", \"going\", \"going\", \"goldfish\", \"good\", \"good\", \"good\", \"good\", \"good\", \"good\", \"good\", \"good\", \"good\", \"good\", \"good\", \"good\", \"good\", \"good\", \"good\", \"got\", \"got\", \"got\", \"got\", \"got\", \"got\", \"got\", \"got\", \"got\", \"got\", \"got\", \"got\", \"got\", \"grab\", \"grade\", \"grain\", \"grain\", \"gras\", \"gras\", \"great\", \"great\", \"great\", \"great\", \"great\", \"great\", \"great\", \"great\", \"great\", \"great\", \"great\", \"great\", \"great\", \"great\", \"greek\", \"green\", \"green\", \"groomed\", \"groomer\", \"grooming\", \"groupon\", \"guess\", \"guestswe\", \"h\", \"h2o2\", \"hadwe\", \"hand\", \"hand\", \"hangover\", \"happier\", \"have\", \"he\", \"health\", \"heart\", \"hell\", \"hell\", \"help\", \"help\", \"help\", \"helped\", \"helpful\", \"helpful\", \"helpful\", \"here\", \"here\", \"here\", \"here\", \"here\", \"here\", \"here\", \"here\", \"here\", \"hesitation\", \"high\", \"high\", \"highest\", \"highlight\", \"highly\", \"highly\", \"highly\", \"highly\", \"hot\", \"hot\", \"hot\", \"hot\", \"hot\", \"hot\", \"hotel\", \"hotel\", \"hotel\", \"hotel\", \"hour\", \"hour\", \"hour\", \"hour\", \"hour\", \"humidor\", \"hundred\", \"hydrogen\", \"ice\", \"ice\", \"ice\", \"ice\", \"idea\", \"ii\", \"im\", \"im\", \"im\", \"im\", \"im\", \"im\", \"im\", \"im\", \"im\", \"im\", \"im\", \"imitationit\", \"incident\", \"infused\", \"infused\", \"installation\", \"installed\", \"instead\", \"instead\", \"interesting\", \"interesting\", \"interesting\", \"irish\", \"it\", \"it\", \"it\", \"it\", \"it\", \"it\", \"it\", \"it\", \"italian\", \"item\", \"item\", \"item\", \"item\", \"item\", \"item\", \"ive\", \"ive\", \"ive\", \"ive\", \"ive\", \"ive\", \"ive\", \"ive\", \"ive\", \"ive\", \"ive\", \"jay\", \"joker\", \"juice\", \"kabob\", \"kabob\", \"kee\", \"keep\", \"kenny\", \"kept\", \"kind\", \"kind\", \"kind\", \"kind\", \"kinda\", \"kitchen\", \"know\", \"know\", \"know\", \"know\", \"kudos\", \"lake\", \"lamb\", \"lamb\", \"larger\", \"late\", \"late\", \"later\", \"later\", \"later\", \"lawrys\", \"layer\", \"leche\", \"leg\", \"legendary\", \"legitimate\", \"lettuce\", \"lettuce\", \"like\", \"like\", \"like\", \"like\", \"like\", \"like\", \"like\", \"like\", \"like\", \"like\", \"like\", \"like\", \"like\", \"liked\", \"lime\", \"limited\", \"listed\", \"little\", \"little\", \"little\", \"little\", \"little\", \"little\", \"little\", \"little\", \"little\", \"little\", \"little\", \"located\", \"locked\", \"look\", \"look\", \"look\", \"look\", \"look\", \"look\", \"look\", \"looked\", \"looked\", \"lot\", \"lot\", \"lot\", \"lot\", \"lot\", \"lot\", \"lot\", \"lot\", \"lotus\", \"love\", \"love\", \"love\", \"love\", \"love\", \"love\", \"love\", \"low\", \"low\", \"low\", \"low\", \"lunch\", \"lunch\", \"lunch\", \"lunch\", \"lunch\", \"lunch\", \"lunch\", \"luxury\", \"made\", \"made\", \"made\", \"made\", \"made\", \"made\", \"made\", \"made\", \"made\", \"madison\", \"make\", \"make\", \"make\", \"make\", \"make\", \"make\", \"make\", \"make\", \"make\", \"man\", \"management\", \"manager\", \"manager\", \"manager\", \"mancini\", \"mango\", \"mango\", \"many\", \"many\", \"many\", \"many\", \"many\", \"many\", \"mark\", \"market\", \"market\", \"marriott\", \"marviin\", \"marvin\", \"may\", \"may\", \"may\", \"may\", \"may\", \"me\", \"me\", \"me\", \"me\", \"me\", \"meal\", \"meal\", \"meal\", \"meal\", \"meal\", \"meal\", \"meal\", \"meant\", \"meat\", \"meat\", \"meat\", \"meat\", \"meat\", \"medium\", \"medium\", \"medium\", \"men\", \"menu\", \"menu\", \"menu\", \"menu\", \"menu\", \"menu\", \"mess\", \"mess\", \"meticulously\", \"mexican\", \"mexican\", \"mia\", \"miami\", \"minute\", \"minute\", \"minute\", \"minute\", \"minute\", \"minute\", \"minute\", \"minute\", \"minute\", \"miso\", \"mississauga\", \"model\", \"mojito\", \"mojo\", \"month\", \"month\", \"month\", \"moulding\", \"mouth\", \"move\", \"moved\", \"mowand\", \"much\", \"much\", \"much\", \"much\", \"much\", \"much\", \"much\", \"much\", \"much\", \"much\", \"much\", \"music\", \"must\", \"must\", \"must\", \"must\", \"must\", \"must\", \"mustard\", \"nacho\", \"nail\", \"nail\", \"name\", \"name\", \"natural\", \"near\", \"near\", \"need\", \"need\", \"need\", \"need\", \"need\", \"need\", \"need\", \"needed\", \"needle\", \"never\", \"never\", \"never\", \"never\", \"never\", \"never\", \"never\", \"never\", \"never\", \"never\", \"new\", \"new\", \"new\", \"new\", \"new\", \"new\", \"new\", \"newspaper\", \"next\", \"next\", \"next\", \"next\", \"next\", \"next\", \"nice\", \"nice\", \"nice\", \"nice\", \"nice\", \"nice\", \"nice\", \"nice\", \"nice\", \"nice\", \"nice\", \"nice\", \"nice\", \"night\", \"night\", \"night\", \"night\", \"night\", \"night\", \"night\", \"nip\", \"no\", \"noblecredit\", \"noisy\", \"noodle\", \"noon\", \"normally\", \"northwest\", \"not\", \"not\", \"notch\", \"nothing\", \"nothing\", \"nothing\", \"nothing\", \"notice\", \"noticed\", \"noticed\", \"now\", \"now\", \"obtaining\", \"octopus\", \"offered\", \"office\", \"ohh\", \"oil\", \"okay\", \"okay\", \"older\", \"olive\", \"one\", \"one\", \"one\", \"one\", \"one\", \"one\", \"one\", \"one\", \"one\", \"option\", \"option\", \"option\", \"option\", \"option\", \"order\", \"order\", \"order\", \"order\", \"order\", \"ordered\", \"ordered\", \"ordered\", \"ordered\", \"ordered\", \"ordered\", \"ordered\", \"ordered\", \"ordered\", \"ordering\", \"ordering\", \"ordering\", \"oreo\", \"ours\", \"out\", \"out\", \"out\", \"out\", \"out\", \"out\", \"outside\", \"outside\", \"outside\", \"outside\", \"overall\", \"overall\", \"overall\", \"overdone\", \"overprice\", \"owner\", \"owner\", \"owner\", \"owner\", \"oxtail\", \"oyster\", \"pacific\", \"pad\", \"paella\", \"paid\", \"paid\", \"paid\", \"paid\", \"painted\", \"pair\", \"pair\", \"panera\", \"paper\", \"paradise\", \"park\", \"parking\", \"parking\", \"parking\", \"parking\", \"parking\", \"parking\", \"part\", \"part\", \"part\", \"part\", \"part\", \"party\", \"party\", \"party\", \"party\", \"pastor\", \"patria\", \"pedicure\", \"pending\", \"penny\", \"people\", \"people\", \"people\", \"people\", \"people\", \"people\", \"people\", \"people\", \"per\", \"perfect\", \"perfect\", \"perfect\", \"perfection\", \"perfection\", \"perfection\", \"perfectly\", \"perfectly\", \"perfectly\", \"perhaps\", \"peroxide\", \"persian\", \"person\", \"phoenix\", \"phoenix\", \"photo\", \"pinned\", \"pitt\", \"place\", \"place\", \"place\", \"place\", \"place\", \"place\", \"place\", \"place\", \"place\", \"place\", \"place\", \"place\", \"place\", \"place\", \"place\", \"place\", \"place\", \"plain\", \"plane\", \"plank\", \"please\", \"please\", \"polish\", \"popped\", \"pork\", \"pork\", \"porsche\", \"port\", \"portion\", \"portion\", \"portion\", \"portion\", \"portion\", \"portion\", \"portion\", \"possibly\", \"potato\", \"potato\", \"potato\", \"potato\", \"practice\", \"premium\", \"prepared\", \"pretty\", \"pretty\", \"pretty\", \"pretty\", \"pretty\", \"pretty\", \"pretty\", \"pretty\", \"pretty\", \"price\", \"price\", \"price\", \"price\", \"price\", \"price\", \"price\", \"price\", \"price\", \"price\", \"price\", \"price\", \"priced\", \"priced\", \"priced\", \"probably\", \"probably\", \"probably\", \"problem\", \"problem\", \"produce\", \"product\", \"product\", \"proper\", \"provide\", \"provided\", \"provides\", \"prune\", \"pulled\", \"puppy\", \"pushed\", \"put\", \"put\", \"qd\", \"quality\", \"quality\", \"quality\", \"quality\", \"quality\", \"quality\", \"quality\", \"queen\", \"question\", \"question\", \"questionable\", \"quinoa\", \"quote\", \"raf\", \"ran\", \"ranch\", \"ranged\", \"rating\", \"razor\", \"rbn\", \"reaction\", \"really\", \"really\", \"really\", \"really\", \"really\", \"really\", \"really\", \"really\", \"really\", \"really\", \"really\", \"really\", \"realnot\", \"reasonable\", \"reasonable\", \"reasonable\", \"recommend\", \"recommend\", \"recommend\", \"recommend\", \"recommend\", \"recommend\", \"recommended\", \"refilled\", \"refreshing\", \"refused\", \"regarded\", \"relatively\", \"reliable\", \"repeat\", \"reply\", \"reply\", \"report\", \"rescued\", \"restaurant\", \"restaurant\", \"restaurant\", \"restaurant\", \"restaurant\", \"restaurant\", \"restaurant\", \"restaurant\", \"restaurant\", \"retina\", \"returned\", \"returning\", \"review\", \"review\", \"review\", \"review\", \"review\", \"review\", \"review\", \"ride\", \"road\", \"road\", \"road\", \"road\", \"rocked\", \"role\", \"room\", \"room\", \"room\", \"room\", \"room\", \"room\", \"roommate\", \"rwb\", \"s\", \"saffron\", \"said\", \"said\", \"said\", \"said\", \"said\", \"said\", \"said\", \"salad\", \"salad\", \"salad\", \"salad\", \"salad\", \"salad\", \"salad\", \"salad\", \"sale\", \"salmon\", \"salon\", \"salon\", \"salsa\", \"salsa\", \"salted\", \"sam\", \"samosa\", \"sample\", \"sauce\", \"sauce\", \"sauce\", \"sauce\", \"sauce\", \"sauce\", \"sauce\", \"sauce\", \"sauce\", \"say\", \"say\", \"say\", \"say\", \"say\", \"say\", \"say\", \"saying\", \"saying\", \"scammer\", \"scared\", \"scottsdale\", \"scottsdale\", \"seafood\", \"seafood\", \"seafoodso\", \"seasoned\", \"seasoned\", \"section\", \"security\", \"see\", \"see\", \"see\", \"see\", \"see\", \"seeing\", \"seem\", \"sell\", \"sent\", \"served\", \"served\", \"server\", \"server\", \"server\", \"server\", \"server\", \"service\", \"service\", \"service\", \"service\", \"service\", \"service\", \"service\", \"service\", \"service\", \"service\", \"service\", \"service\", \"service\", \"service\", \"serving\", \"serving\", \"shed\", \"sheila\", \"shiumai\", \"shoe\", \"shop\", \"shopping\", \"show\", \"show\", \"show\", \"show\", \"shower\", \"shrimp\", \"shrimp\", \"shrimp\", \"shrimp\", \"shrimp\", \"siam\", \"side\", \"side\", \"side\", \"side\", \"side\", \"side\", \"side\", \"side\", \"sigh\", \"since\", \"since\", \"since\", \"since\", \"since\", \"since\", \"since\", \"since\", \"since\", \"since\", \"sitting\", \"sitting\", \"skin\", \"skin\", \"slider\", \"slightly\", \"slightly\", \"slightly\", \"slightly\", \"slow\", \"small\", \"small\", \"small\", \"small\", \"small\", \"small\", \"smile\", \"smile\", \"snack\", \"some\", \"something\", \"something\", \"something\", \"something\", \"something\", \"something\", \"son\", \"soup\", \"soup\", \"soup\", \"soup\", \"spanish\", \"special\", \"special\", \"special\", \"specific\", \"speed\", \"spend\", \"spend\", \"spinach\", \"spinach\", \"split\", \"sport\", \"spot\", \"spot\", \"spot\", \"spot\", \"spread\", \"spring\", \"spring\", \"stadium\", \"stadium\", \"staff\", \"staff\", \"staff\", \"staff\", \"staff\", \"staff\", \"staff\", \"staff\", \"staff\", \"star\", \"star\", \"star\", \"star\", \"star\", \"star\", \"started\", \"started\", \"started\", \"state\", \"statement\", \"steak\", \"steak\", \"steak\", \"steak\", \"steak\", \"steakhouse\", \"stick\", \"still\", \"still\", \"still\", \"still\", \"still\", \"still\", \"still\", \"still\", \"stomach\", \"stopped\", \"stopped\", \"storage\", \"store\", \"store\", \"store\", \"store\", \"store\", \"street\", \"street\", \"street\", \"sub\", \"sublime\", \"substituted\", \"substitution\", \"sucker\", \"suggested\", \"suggested\", \"sum\", \"summerlicious\", \"sundae\", \"sure\", \"sure\", \"sure\", \"sure\", \"sure\", \"sure\", \"sure\", \"sure\", \"sure\", \"surprised\", \"surprised\", \"surprisethey\", \"sushisashimimaki\", \"suspicious\", \"sweet\", \"sweet\", \"sweet\", \"sweet\", \"sweet\", \"sweet\", \"table\", \"table\", \"table\", \"table\", \"table\", \"table\", \"taco\", \"taco\", \"taco\", \"taco\", \"taco\", \"take\", \"take\", \"take\", \"take\", \"take\", \"taken\", \"talking\", \"talking\", \"tamarind\", \"tank\", \"tap\", \"tapa\", \"tasted\", \"tasted\", \"tasted\", \"tasted\", \"tasted\", \"tasted\", \"tasted\", \"tea\", \"tea\", \"team\", \"technician\", \"tend\", \"tender\", \"terrible\", \"test\", \"texture\", \"thai\", \"thai\", \"that\", \"that\", \"that\", \"that\", \"that\", \"that\", \"that\", \"thats\", \"thats\", \"thats\", \"thats\", \"therapy\", \"theyll\", \"thing\", \"thing\", \"thing\", \"thing\", \"thing\", \"thing\", \"thing\", \"thing\", \"thing\", \"thing\", \"thing\", \"thing\", \"thing\", \"think\", \"think\", \"think\", \"think\", \"think\", \"think\", \"think\", \"think\", \"think\", \"think\", \"think\", \"though\", \"though\", \"though\", \"though\", \"though\", \"though\", \"though\", \"three\", \"three\", \"three\", \"three\", \"thursday\", \"ticket\", \"till\", \"time\", \"time\", \"time\", \"time\", \"time\", \"time\", \"time\", \"time\", \"time\", \"time\", \"time\", \"time\", \"timeless\", \"tinder\", \"tinga\", \"tjs\", \"together\", \"together\", \"told\", \"told\", \"told\", \"told\", \"tomato\", \"tomato\", \"tonight\", \"tool\", \"top\", \"top\", \"top\", \"top\", \"topping\", \"traffic\", \"training\", \"trim\", \"trust\", \"try\", \"try\", \"try\", \"try\", \"try\", \"try\", \"try\", \"try\", \"try\", \"try\", \"tub\", \"tub\", \"tuna\", \"turner\", \"tv\", \"tv\", \"twice\", \"two\", \"two\", \"two\", \"two\", \"two\", \"two\", \"two\", \"two\", \"two\", \"type\", \"type\", \"type\", \"type\", \"typical\", \"typically\", \"u\", \"u\", \"u\", \"u\", \"u\", \"u\", \"u\", \"u\", \"ugh\", \"uhaul\", \"ultra\", \"unbelievably\", \"unbelievably\", \"understaffed\", \"understaffed\", \"unique\", \"unit\", \"unit\", \"urge\", \"used\", \"used\", \"used\", \"valet\", \"valley\", \"vanilla\", \"vanilla\", \"veg\", \"vega\", \"vega\", \"vega\", \"vega\", \"vega\", \"vega\", \"vegan\", \"vegan\", \"vegetarian\", \"vegetarianism\", \"vegetarianvegan\", \"vehiclerelated\", \"vending\", \"verry\", \"vig\", \"vinyl\", \"visible\", \"visit\", \"visit\", \"visit\", \"visit\", \"visit\", \"visit\", \"visit\", \"visit\", \"visit\", \"wait\", \"wait\", \"wait\", \"wait\", \"wait\", \"wait\", \"wait\", \"wait\", \"wait\", \"wait\", \"waiter\", \"waiter\", \"waiter\", \"walk\", \"walk\", \"walk\", \"walk\", \"walnut\", \"want\", \"want\", \"want\", \"want\", \"want\", \"want\", \"want\", \"want\", \"wanted\", \"wanted\", \"wanted\", \"wanted\", \"wanted\", \"wanted\", \"warmed\", \"warming\", \"wary\", \"washed\", \"water\", \"water\", \"water\", \"watery\", \"wax\", \"waxed\", \"waxer\", \"way\", \"way\", \"way\", \"way\", \"way\", \"way\", \"way\", \"way\", \"week\", \"week\", \"week\", \"weekend\", \"weekend\", \"well\", \"well\", \"well\", \"well\", \"well\", \"well\", \"well\", \"well\", \"well\", \"well\", \"well\", \"went\", \"went\", \"went\", \"went\", \"went\", \"went\", \"went\", \"went\", \"went\", \"went\", \"wf\", \"what\", \"wheel\", \"which\", \"while\", \"wifi\", \"wifi\", \"wine\", \"wish\", \"within\", \"woman\", \"won\", \"work\", \"work\", \"work\", \"work\", \"work\", \"work\", \"worth\", \"worth\", \"worth\", \"worth\", \"worth\", \"worth\", \"would\", \"would\", \"would\", \"would\", \"would\", \"would\", \"would\", \"would\", \"would\", \"would\", \"would\", \"would\", \"would\", \"would\", \"wrapped\", \"write\", \"write\", \"write\", \"yeah\", \"yesterday\", \"yummy\", \"yummy\"]}, \"R\": 30, \"lambda.step\": 0.01, \"plot.opts\": {\"xlab\": \"PC1\", \"ylab\": \"PC2\"}, \"topic.order\": [1, 2, 3, 4, 5, 6, 7, 8, 9, 10, 11, 12, 13, 14, 15, 16, 17, 18, 19, 20]};\n",
              "\n",
              "function LDAvis_load_lib(url, callback){\n",
              "  var s = document.createElement('script');\n",
              "  s.src = url;\n",
              "  s.async = true;\n",
              "  s.onreadystatechange = s.onload = callback;\n",
              "  s.onerror = function(){console.warn(\"failed to load library \" + url);};\n",
              "  document.getElementsByTagName(\"head\")[0].appendChild(s);\n",
              "}\n",
              "\n",
              "if(typeof(LDAvis) !== \"undefined\"){\n",
              "   // already loaded: just create the visualization\n",
              "   !function(LDAvis){\n",
              "       new LDAvis(\"#\" + \"ldavis_el551406376650591284027094745\", ldavis_el551406376650591284027094745_data);\n",
              "   }(LDAvis);\n",
              "}else if(typeof define === \"function\" && define.amd){\n",
              "   // require.js is available: use it to load d3/LDAvis\n",
              "   require.config({paths: {d3: \"https://cdnjs.cloudflare.com/ajax/libs/d3/3.5.5/d3.min\"}});\n",
              "   require([\"d3\"], function(d3){\n",
              "      window.d3 = d3;\n",
              "      LDAvis_load_lib(\"https://cdn.rawgit.com/bmabey/pyLDAvis/files/ldavis.v1.0.0.js\", function(){\n",
              "        new LDAvis(\"#\" + \"ldavis_el551406376650591284027094745\", ldavis_el551406376650591284027094745_data);\n",
              "      });\n",
              "    });\n",
              "}else{\n",
              "    // require.js not available: dynamically load d3 & LDAvis\n",
              "    LDAvis_load_lib(\"https://cdnjs.cloudflare.com/ajax/libs/d3/3.5.5/d3.min.js\", function(){\n",
              "         LDAvis_load_lib(\"https://cdn.rawgit.com/bmabey/pyLDAvis/files/ldavis.v1.0.0.js\", function(){\n",
              "                 new LDAvis(\"#\" + \"ldavis_el551406376650591284027094745\", ldavis_el551406376650591284027094745_data);\n",
              "            })\n",
              "         });\n",
              "}\n",
              "</script>"
            ],
            "text/plain": [
              "<IPython.core.display.HTML object>"
            ]
          },
          "metadata": {
            "tags": []
          },
          "execution_count": 26
        }
      ]
    },
    {
      "cell_type": "markdown",
      "metadata": {
        "id": "e7CLqNZUc3Fv"
      },
      "source": [
        "## HMM-LDA"
      ]
    },
    {
      "cell_type": "code",
      "metadata": {
        "colab": {
          "base_uri": "https://localhost:8080/"
        },
        "id": "OIatZMvfd36G",
        "outputId": "ecedde69-c7d7-418a-ed41-7ea414e5cdad"
      },
      "source": [
        "import nltk\n",
        "nltk.download('reuters')\n",
        "nltk.download('words')\n",
        "nltk.download('punkt')"
      ],
      "execution_count": null,
      "outputs": [
        {
          "output_type": "stream",
          "text": [
            "[nltk_data] Downloading package reuters to /root/nltk_data...\n",
            "[nltk_data]   Package reuters is already up-to-date!\n",
            "[nltk_data] Downloading package words to /root/nltk_data...\n",
            "[nltk_data]   Package words is already up-to-date!\n",
            "[nltk_data] Downloading package punkt to /root/nltk_data...\n",
            "[nltk_data]   Unzipping tokenizers/punkt.zip.\n"
          ],
          "name": "stdout"
        },
        {
          "output_type": "execute_result",
          "data": {
            "text/plain": [
              "True"
            ]
          },
          "metadata": {
            "tags": []
          },
          "execution_count": 36
        }
      ]
    },
    {
      "cell_type": "code",
      "metadata": {
        "id": "DGwEHmxjc2LM"
      },
      "source": [
        "import logging\n",
        "from ptm.nltk_corpus import get_reuters_token_list_by_sentence\n",
        "from ptm import HMM_LDA\n",
        "from ptm.utils import get_top_words\n",
        "\n",
        "logger = logging.getLogger('HMM_LDA')\n",
        "logger.propagate=False"
      ],
      "execution_count": null,
      "outputs": []
    },
    {
      "cell_type": "code",
      "metadata": {
        "colab": {
          "base_uri": "https://localhost:8080/"
        },
        "id": "tEDF-ic4dZGZ",
        "outputId": "105a4da5-69e0-44fa-f59b-8fcd5ae05d8c"
      },
      "source": [
        "n_docs = 100\n",
        "voca, corpus = get_reuters_token_list_by_sentence(num_doc=n_docs)\n",
        "print('Vocabulary size', len(voca))"
      ],
      "execution_count": null,
      "outputs": [
        {
          "output_type": "stream",
          "text": [
            "Vocabulary size 1639\n"
          ],
          "name": "stdout"
        }
      ]
    },
    {
      "cell_type": "code",
      "metadata": {
        "id": "Qg0F9s_teKa5"
      },
      "source": [
        "n_docs = len(corpus)\n",
        "n_voca = len(voca)\n",
        "n_topic = 20\n",
        "n_class = 15\n",
        "max_iter = 100\n",
        "alpha = 0.1\n",
        "beta = 0.01\n",
        "gamma = 0.1\n",
        "eta = 0.1\n",
        "model = HMM_LDA(n_docs, n_voca, n_topic, n_class, alpha=alpha, beta=beta, gamma=gamma, eta=eta, verbose=False)\n",
        "model.fit(corpus, max_iter=max_iter)"
      ],
      "execution_count": null,
      "outputs": []
    },
    {
      "cell_type": "code",
      "metadata": {
        "colab": {
          "base_uri": "https://localhost:8080/"
        },
        "id": "rvwjcmaieWOW",
        "outputId": "34ddc125-7491-47af-e682-8fb460e04a20"
      },
      "source": [
        "for ti in range(n_topic):\n",
        "    top_words = get_top_words(model.TW, voca, ti, n_words=10)\n",
        "    print('Topic', ti ,': ', ','.join(top_words))"
      ],
      "execution_count": null,
      "outputs": [
        {
          "output_type": "stream",
          "text": [
            "Topic 0 :  energy,said,a,boost,much,also,on,comparable,cheap,partnership\n",
            "Topic 1 :  but,days,century,reiterated,for,cheaply,term,review,arrival,palm\n",
            "Topic 2 :  its,although,it,production,also,for,conditioned,whether,tender,a\n",
            "Topic 3 :  without,economy,production,other,white,share,decline,geared,divided,in\n",
            "Topic 4 :  currency,two,stocks,weak,to,bank,would,statement,analyst,electronics\n",
            "Topic 5 :  where,it,economy,or,to,drop,share,be,plan,will\n",
            "Topic 6 :  not,quarter,palm,also,five,policy,in,matter,is,and\n",
            "Topic 7 :  off,volatility,a,added,official,unless,there,meeting,as,paper\n",
            "Topic 8 :  by,stability,loss,will,reduce,strengthening,acknowledged,to,food,dividend\n",
            "Topic 9 :  maintenance,site,or,on,their,pit,preservation,steel,already,said\n",
            "Topic 10 :  operate,is,its,later,on,too,dinar,it,area,spokesman\n",
            "Topic 11 :  market,although,factor,which,significantly,it,before,for,being,at\n",
            "Topic 12 :  an,dollar,incoming,for,government,a,each,said,as,cereal\n",
            "Topic 13 :  if,issue,were,kilowatt,effective,development,through,is,prior,mistake\n",
            "Topic 14 :  first,system,settlement,substantial,east,time,palm,farm,it,making\n",
            "Topic 15 :  trade,debt,some,waste,country,be,preservation,pact,government,by\n",
            "Topic 16 :  was,official,in,were,five,while,already,about,benefit,wheat\n",
            "Topic 17 :  currency,reduce,or,its,moisture,rate,reasonable,around,out,on\n",
            "Topic 18 :  allow,given,declared,particularly,ways,ever,bonus,term,be,will\n",
            "Topic 19 :  agreement,is,outright,importance,export,del,to,then,as,or\n"
          ],
          "name": "stdout"
        }
      ]
    },
    {
      "cell_type": "markdown",
      "metadata": {
        "id": "AfpMRCrRwN6Z"
      },
      "source": [
        "# **Question 2: Yelp Review Sentiment Analysis**"
      ]
    },
    {
      "cell_type": "markdown",
      "metadata": {
        "id": "1dCQEbDawWCw"
      },
      "source": [
        "(30 points). Sentiment analysis also known as opinion mining is a sub field within Natural Language Processing (NLP) that builds machine learning algorithms to classify a text according to the sentimental polarities of opinions it contains, e.g., positive, negative, neutral. The purpose of this question is to develop a machine learning classifier for sentiment analysis. Based on the dataset from assignment three, write a python program to implement a sentiment classifier and evaluate its performance. Notice: **80% data for training and 20% data for testing**.\n",
        "\n",
        "The data can be download from Dropbox: https://www.dropbox.com/s/59hsrk56sfwh9u2/Assignment%20four%20data%20Yelp%20%28question%201%20and%202%29.zip?dl=0 \n",
        "\n",
        "The data was saved in json format, here is an example of the data (for this task, you only need to use the star rating and the review text fields):\n",
        "\n",
        "{\n",
        "    // string, 22 character unique review id\n",
        "    \"review_id\": \"zdSx_SD6obEhz9VrW9uAWA\",\n",
        "\n",
        "    // string, 22 character unique user id, maps to the user in user.json\n",
        "    \"user_id\": \"Ha3iJu77CxlrFm-vQRs_8g\",\n",
        "\n",
        "    // string, 22 character business id, maps to business in business.json\n",
        "    \"business_id\": \"tnhfDv5Il8EaGSXZGiuQGg\",\n",
        "\n",
        "    // integer, star rating\n",
        "    \"stars\": 4,\n",
        "\n",
        "    // string, date formatted YYYY-MM-DD\n",
        "    \"date\": \"2016-03-09\",\n",
        "\n",
        "    // string, the review itself\n",
        "    \"text\": \"Great place to hang out after work: the prices are decent, and the ambience is fun. It's a bit loud, but very lively. The staff is friendly, and the food is good. They have a good selection of drinks.\",\n",
        "\n",
        "    // integer, number of useful votes received\n",
        "    \"useful\": 0,\n",
        "\n",
        "    // integer, number of funny votes received\n",
        "    \"funny\": 0,\n",
        "\n",
        "    // integer, number of cool votes received\n",
        "    \"cool\": 0\n",
        "}\n",
        "\n",
        "The sentiment of can be accessed based on the star rating, if no star information avaliable for a record, just remove that record. Detail star and sentiment level can be matched blew:\n",
        "\n",
        "Very positive = 5 stars\n",
        "\n",
        "Positive = 4 stars\n",
        "\n",
        "Neutral = 3 stars\n",
        "\n",
        "Negative = 2 stars\n",
        "\n",
        "Very negative = 1 star\n",
        "\n",
        "Here is code for yelp data preprocessing: https://github.com/Yelp/dataset-examples. \n",
        "\n",
        "Answer the following questions:\n",
        "\n",
        "(1) Features used for sentiment classification and explain why you select these features (tf-idf, sentiment lexicon, word2vec, etc). Considering achieve the best performance as you can. \n",
        "\n",
        "(2) Select two of the supervised learning algorithm from scikit-learn library: https://scikit-learn.org/stable/supervised_learning.html#supervised-learning, to build a sentiment classifier respectively. \n",
        "\n",
        "(3) Compare the performance over accuracy, precision, recall, and F1 score for the two algorithms you selected. Here is the reference of how to calculate these metrics: https://towardsdatascience.com/accuracy-precision-recall-or-f1-331fb37c5cb9. "
      ]
    },
    {
      "cell_type": "code",
      "metadata": {
        "id": "YiWso_eIr7dq"
      },
      "source": [
        "df1 =df.drop(['review_id','user_id','business_id','review_id','date','useful','funny','cool'],axis =1)"
      ],
      "execution_count": 122,
      "outputs": []
    },
    {
      "cell_type": "code",
      "metadata": {
        "id": "fna5IicZjfuW"
      },
      "source": [
        "df1.loc[df1['stars']==5,'stars'] = 'very positive' #5\n",
        "df1.loc[df1['stars']==4,'stars'] = 'positive' #4\n",
        "df1.loc[df1['stars']==3,'stars'] = 'neutral' #3\n",
        "df1.loc[df1['stars']==2,'stars'] = 'negative' #2\n",
        "df1.loc[df1['stars']==1,'stars'] = 'very negative' #1"
      ],
      "execution_count": 123,
      "outputs": []
    },
    {
      "cell_type": "code",
      "metadata": {
        "colab": {
          "base_uri": "https://localhost:8080/",
          "height": 519
        },
        "id": "3yy8rmyfr-zg",
        "outputId": "e776a04a-603a-458a-dcc0-9e8d9de8f597"
      },
      "source": [
        "import re\n",
        "#removing punctuations\n",
        "df1['text']=df1['text'].map(lambda x: re.sub('[?|!|\\'|\"|#]', '', x))\n",
        "#lower\n",
        "df1['text']=df1['text'].map(lambda x: x.lower())\n",
        "import nltk\n",
        "nltk.download('stopwords')\n",
        "from nltk.corpus import stopwords\n",
        "words = stopwords.words('english')\n",
        "from textblob import Word\n",
        "from textblob import TextBlob\n",
        "nltk.download('punkt')\n",
        "nltk.download('wordnet')\n",
        "\n",
        "df1['text']=df1['text'].apply(lambda x:\" \".join(x for x in x.split() if x not in words))\n",
        "df1['text']=df1['text'].apply(lambda x: \" \".join([Word(word).lemmatize() for word in x.split()]))\n",
        "\n",
        "df1.head(100)"
      ],
      "execution_count": 126,
      "outputs": [
        {
          "output_type": "stream",
          "text": [
            "[nltk_data] Downloading package stopwords to /root/nltk_data...\n",
            "[nltk_data]   Package stopwords is already up-to-date!\n",
            "[nltk_data] Downloading package punkt to /root/nltk_data...\n",
            "[nltk_data]   Package punkt is already up-to-date!\n",
            "[nltk_data] Downloading package wordnet to /root/nltk_data...\n",
            "[nltk_data]   Package wordnet is already up-to-date!\n"
          ],
          "name": "stdout"
        },
        {
          "output_type": "execute_result",
          "data": {
            "text/html": [
              "<div>\n",
              "<style scoped>\n",
              "    .dataframe tbody tr th:only-of-type {\n",
              "        vertical-align: middle;\n",
              "    }\n",
              "\n",
              "    .dataframe tbody tr th {\n",
              "        vertical-align: top;\n",
              "    }\n",
              "\n",
              "    .dataframe thead th {\n",
              "        text-align: right;\n",
              "    }\n",
              "</style>\n",
              "<table border=\"1\" class=\"dataframe\">\n",
              "  <thead>\n",
              "    <tr style=\"text-align: right;\">\n",
              "      <th></th>\n",
              "      <th>stars</th>\n",
              "      <th>text</th>\n",
              "    </tr>\n",
              "  </thead>\n",
              "  <tbody>\n",
              "    <tr>\n",
              "      <th>0</th>\n",
              "      <td>very positive</td>\n",
              "      <td>love cafe americano weve couple time lunch eri...</td>\n",
              "    </tr>\n",
              "    <tr>\n",
              "      <th>1</th>\n",
              "      <td>neutral</td>\n",
              "      <td>sigh. review tough give, couldve anywhere 2 4 ...</td>\n",
              "    </tr>\n",
              "    <tr>\n",
              "      <th>2</th>\n",
              "      <td>very positive</td>\n",
              "      <td>review pliners approach style (truly original,...</td>\n",
              "    </tr>\n",
              "    <tr>\n",
              "      <th>3</th>\n",
              "      <td>very positive</td>\n",
              "      <td>absolutely delicious. ordered chicken/beef kab...</td>\n",
              "    </tr>\n",
              "    <tr>\n",
              "      <th>4</th>\n",
              "      <td>neutral</td>\n",
              "      <td>really good steak house. steak always seasoned...</td>\n",
              "    </tr>\n",
              "    <tr>\n",
              "      <th>...</th>\n",
              "      <td>...</td>\n",
              "      <td>...</td>\n",
              "    </tr>\n",
              "    <tr>\n",
              "      <th>95</th>\n",
              "      <td>positive</td>\n",
              "      <td>surprised open earlier sunday worth wait get i...</td>\n",
              "    </tr>\n",
              "    <tr>\n",
              "      <th>96</th>\n",
              "      <td>very positive</td>\n",
              "      <td>finding solid spot get quality cut challenge s...</td>\n",
              "    </tr>\n",
              "    <tr>\n",
              "      <th>97</th>\n",
              "      <td>very positive</td>\n",
              "      <td>attention downtown: place amazing food. compli...</td>\n",
              "    </tr>\n",
              "    <tr>\n",
              "      <th>98</th>\n",
              "      <td>very positive</td>\n",
              "      <td>new fav sure loving concept building bowl vari...</td>\n",
              "    </tr>\n",
              "    <tr>\n",
              "      <th>99</th>\n",
              "      <td>very positive</td>\n",
              "      <td>courtney best waxer ive ever ive getting waxed...</td>\n",
              "    </tr>\n",
              "  </tbody>\n",
              "</table>\n",
              "<p>100 rows × 2 columns</p>\n",
              "</div>"
            ],
            "text/plain": [
              "            stars                                               text\n",
              "0   very positive  love cafe americano weve couple time lunch eri...\n",
              "1         neutral  sigh. review tough give, couldve anywhere 2 4 ...\n",
              "2   very positive  review pliners approach style (truly original,...\n",
              "3   very positive  absolutely delicious. ordered chicken/beef kab...\n",
              "4         neutral  really good steak house. steak always seasoned...\n",
              "..            ...                                                ...\n",
              "95       positive  surprised open earlier sunday worth wait get i...\n",
              "96  very positive  finding solid spot get quality cut challenge s...\n",
              "97  very positive  attention downtown: place amazing food. compli...\n",
              "98  very positive  new fav sure loving concept building bowl vari...\n",
              "99  very positive  courtney best waxer ive ever ive getting waxed...\n",
              "\n",
              "[100 rows x 2 columns]"
            ]
          },
          "metadata": {
            "tags": []
          },
          "execution_count": 126
        }
      ]
    },
    {
      "cell_type": "code",
      "metadata": {
        "colab": {
          "base_uri": "https://localhost:8080/"
        },
        "id": "4Xvch9jBg73K",
        "outputId": "5163c958-d951-4ec8-d4c7-ece11eaface7"
      },
      "source": [
        "from sklearn.model_selection import train_test_split\n",
        "from sklearn.svm import LinearSVC\n",
        "from sklearn.ensemble import RandomForestClassifier\n",
        "from sklearn.metrics import classification_report\n",
        "from sklearn.feature_extraction.text import TfidfVectorizer\n",
        "\n",
        "tfidf_vect = TfidfVectorizer()\n",
        "X_tfidf = tfidf_vect.fit_transform(df['text'])\n",
        "print(X_tfidf.shape)"
      ],
      "execution_count": 127,
      "outputs": [
        {
          "output_type": "stream",
          "text": [
            "(100, 2247)\n"
          ],
          "name": "stdout"
        }
      ]
    },
    {
      "cell_type": "code",
      "metadata": {
        "id": "2quS0BsNtG8s"
      },
      "source": [
        "from sklearn.naive_bayes import MultinomialNB\n",
        "from sklearn.svm import LinearSVC\n",
        "mnb = MultinomialNB()\n",
        "svm = LinearSVC()"
      ],
      "execution_count": 128,
      "outputs": []
    },
    {
      "cell_type": "code",
      "metadata": {
        "id": "6BF0ezVHtKqz"
      },
      "source": [
        "x_train, x_test, y_train, y_test = train_test_split(X_tfidf, df['stars'], test_size=0.2, random_state=42)\n",
        "model_mnb = mnb.fit(x_train,y_train)"
      ],
      "execution_count": 130,
      "outputs": []
    },
    {
      "cell_type": "markdown",
      "metadata": {
        "id": "QSruuYmbtlLJ"
      },
      "source": [
        "MultinomialNB"
      ]
    },
    {
      "cell_type": "code",
      "metadata": {
        "colab": {
          "base_uri": "https://localhost:8080/"
        },
        "id": "vJZ6sXpQtQGp",
        "outputId": "6bde3a1d-db07-4dcf-d83a-e866dcb6cf7c"
      },
      "source": [
        "from sklearn.metrics import classification_report\n",
        "from sklearn.metrics import accuracy_score\n",
        "y_pred_mnb = model_mnb.predict(x_test)\n",
        "print('Accuracy %s' % accuracy_score(y_pred_mnb,y_test))\n",
        "print(classification_report(y_test,y_pred_mnb))"
      ],
      "execution_count": 145,
      "outputs": [
        {
          "output_type": "stream",
          "text": [
            "Accuracy 0.5\n",
            "               precision    recall  f1-score   support\n",
            "\n",
            "     negative       0.00      0.00      0.00         3\n",
            "      neutral       0.00      0.00      0.00         2\n",
            "     positive       0.00      0.00      0.00         3\n",
            "very negative       0.00      0.00      0.00         2\n",
            "very positive       0.50      1.00      0.67        10\n",
            "\n",
            "     accuracy                           0.50        20\n",
            "    macro avg       0.10      0.20      0.13        20\n",
            " weighted avg       0.25      0.50      0.33        20\n",
            "\n"
          ],
          "name": "stdout"
        }
      ]
    },
    {
      "cell_type": "code",
      "metadata": {
        "colab": {
          "base_uri": "https://localhost:8080/"
        },
        "id": "oHoLPoeZtUTM",
        "outputId": "50362615-2ea6-4084-eef2-cc8af2969389"
      },
      "source": [
        "#Multinomial NB\n",
        "from sklearn.model_selection import cross_val_score\n",
        "scoresMNB = cross_val_score(mnb, x_test, y_test, cv=10)\n",
        "print(\" Accuracy using MNB\",scoresMNB.mean())"
      ],
      "execution_count": 146,
      "outputs": [
        {
          "output_type": "stream",
          "text": [
            " Accuracy using MNB 0.5\n"
          ],
          "name": "stdout"
        }
      ]
    },
    {
      "cell_type": "markdown",
      "metadata": {
        "id": "qgjGA7_otvjM"
      },
      "source": [
        "SVM\n"
      ]
    },
    {
      "cell_type": "code",
      "metadata": {
        "colab": {
          "base_uri": "https://localhost:8080/"
        },
        "id": "LRYcYMukttWI",
        "outputId": "430d8809-2c1f-4f0a-addd-baee349f5a9a"
      },
      "source": [
        "model_svm = svm.fit(x_train,y_train)\n",
        "y_pred_svm = model_svm.predict(x_test)\n",
        "print('Accuracy %s' % accuracy_score(y_pred_svm,y_test))\n",
        "print(classification_report(y_test,y_pred_svm))"
      ],
      "execution_count": 147,
      "outputs": [
        {
          "output_type": "stream",
          "text": [
            "Accuracy 0.5\n",
            "               precision    recall  f1-score   support\n",
            "\n",
            "     negative       0.00      0.00      0.00         3\n",
            "      neutral       0.00      0.00      0.00         2\n",
            "     positive       0.00      0.00      0.00         3\n",
            "very negative       0.00      0.00      0.00         2\n",
            "very positive       0.50      1.00      0.67        10\n",
            "\n",
            "     accuracy                           0.50        20\n",
            "    macro avg       0.10      0.20      0.13        20\n",
            " weighted avg       0.25      0.50      0.33        20\n",
            "\n"
          ],
          "name": "stdout"
        }
      ]
    },
    {
      "cell_type": "code",
      "metadata": {
        "colab": {
          "base_uri": "https://localhost:8080/"
        },
        "id": "xRyMLmZIt5Y-",
        "outputId": "b30fa040-cbd7-40ae-8199-0084c57362f2"
      },
      "source": [
        "scoresSVM = cross_val_score(svm, x_test, y_test, cv=10)\n",
        "print(\"Accuracy using svm\",scoresSVM.mean())"
      ],
      "execution_count": 142,
      "outputs": [
        {
          "output_type": "stream",
          "text": [
            "Accuracy using svm 0.5\n"
          ],
          "name": "stdout"
        }
      ]
    },
    {
      "cell_type": "code",
      "metadata": {
        "colab": {
          "base_uri": "https://localhost:8080/"
        },
        "id": "GhXz3dZ1vkUh",
        "outputId": "6bd39461-f784-4951-f70a-6015f19c581f"
      },
      "source": [
        "print(\"Accuracy using MNB\",scoresMNB.mean())\n",
        "print(\"Accuracy using svm\",scoresSVM.mean())"
      ],
      "execution_count": 144,
      "outputs": [
        {
          "output_type": "stream",
          "text": [
            "Accuracy using MNB 0.5\n",
            "Accuracy using svm 0.5\n"
          ],
          "name": "stdout"
        }
      ]
    },
    {
      "cell_type": "markdown",
      "metadata": {
        "id": "o7dF3yAPv6Cs"
      },
      "source": [
        "By comparing the performance over accuracy, precision, recall, and F1 score for the two algorithms Multinomial NB, SVM: The performance over accuracy, precision, recall, f1 score for this dataset is considered similar based on the result of accuracy score.\n"
      ]
    },
    {
      "cell_type": "markdown",
      "metadata": {
        "id": "E5mmYIfN8eYV"
      },
      "source": [
        "# **Question 3: House price prediction**"
      ]
    },
    {
      "cell_type": "markdown",
      "metadata": {
        "id": "hsi2y4z88ngX"
      },
      "source": [
        "(40 points). You are required to build a **regression** model to predict the house price with 79 explanatory variables describing (almost) every aspect of residential homes. The purpose of this question is to practice regression analysis, an supervised learning model. The training data, testing data, and data description files can be download from Dropbox: https://www.dropbox.com/s/52j9hpxppfo921o/assignment4-question3-data.zip?dl=0. Here is an axample for the implementation: https://towardsdatascience.com/linear-regression-in-python-predict-the-bay-areas-home-price-5c91c8378878. \n"
      ]
    },
    {
      "cell_type": "code",
      "metadata": {
        "id": "XfvMKJjIXS5G",
        "colab": {
          "base_uri": "https://localhost:8080/",
          "height": 251
        },
        "outputId": "2ade060e-9c9b-4861-832a-0ea3d591acef"
      },
      "source": [
        "import pandas as pd\n",
        "train_df = pd.read_csv('/content/train.csv')\n",
        "train_df.head()"
      ],
      "execution_count": 149,
      "outputs": [
        {
          "output_type": "execute_result",
          "data": {
            "text/html": [
              "<div>\n",
              "<style scoped>\n",
              "    .dataframe tbody tr th:only-of-type {\n",
              "        vertical-align: middle;\n",
              "    }\n",
              "\n",
              "    .dataframe tbody tr th {\n",
              "        vertical-align: top;\n",
              "    }\n",
              "\n",
              "    .dataframe thead th {\n",
              "        text-align: right;\n",
              "    }\n",
              "</style>\n",
              "<table border=\"1\" class=\"dataframe\">\n",
              "  <thead>\n",
              "    <tr style=\"text-align: right;\">\n",
              "      <th></th>\n",
              "      <th>Id</th>\n",
              "      <th>MSSubClass</th>\n",
              "      <th>MSZoning</th>\n",
              "      <th>LotFrontage</th>\n",
              "      <th>LotArea</th>\n",
              "      <th>Street</th>\n",
              "      <th>Alley</th>\n",
              "      <th>LotShape</th>\n",
              "      <th>LandContour</th>\n",
              "      <th>Utilities</th>\n",
              "      <th>LotConfig</th>\n",
              "      <th>LandSlope</th>\n",
              "      <th>Neighborhood</th>\n",
              "      <th>Condition1</th>\n",
              "      <th>Condition2</th>\n",
              "      <th>BldgType</th>\n",
              "      <th>HouseStyle</th>\n",
              "      <th>OverallQual</th>\n",
              "      <th>OverallCond</th>\n",
              "      <th>YearBuilt</th>\n",
              "      <th>YearRemodAdd</th>\n",
              "      <th>RoofStyle</th>\n",
              "      <th>RoofMatl</th>\n",
              "      <th>Exterior1st</th>\n",
              "      <th>Exterior2nd</th>\n",
              "      <th>MasVnrType</th>\n",
              "      <th>MasVnrArea</th>\n",
              "      <th>ExterQual</th>\n",
              "      <th>ExterCond</th>\n",
              "      <th>Foundation</th>\n",
              "      <th>BsmtQual</th>\n",
              "      <th>BsmtCond</th>\n",
              "      <th>BsmtExposure</th>\n",
              "      <th>BsmtFinType1</th>\n",
              "      <th>BsmtFinSF1</th>\n",
              "      <th>BsmtFinType2</th>\n",
              "      <th>BsmtFinSF2</th>\n",
              "      <th>BsmtUnfSF</th>\n",
              "      <th>TotalBsmtSF</th>\n",
              "      <th>Heating</th>\n",
              "      <th>...</th>\n",
              "      <th>CentralAir</th>\n",
              "      <th>Electrical</th>\n",
              "      <th>1stFlrSF</th>\n",
              "      <th>2ndFlrSF</th>\n",
              "      <th>LowQualFinSF</th>\n",
              "      <th>GrLivArea</th>\n",
              "      <th>BsmtFullBath</th>\n",
              "      <th>BsmtHalfBath</th>\n",
              "      <th>FullBath</th>\n",
              "      <th>HalfBath</th>\n",
              "      <th>BedroomAbvGr</th>\n",
              "      <th>KitchenAbvGr</th>\n",
              "      <th>KitchenQual</th>\n",
              "      <th>TotRmsAbvGrd</th>\n",
              "      <th>Functional</th>\n",
              "      <th>Fireplaces</th>\n",
              "      <th>FireplaceQu</th>\n",
              "      <th>GarageType</th>\n",
              "      <th>GarageYrBlt</th>\n",
              "      <th>GarageFinish</th>\n",
              "      <th>GarageCars</th>\n",
              "      <th>GarageArea</th>\n",
              "      <th>GarageQual</th>\n",
              "      <th>GarageCond</th>\n",
              "      <th>PavedDrive</th>\n",
              "      <th>WoodDeckSF</th>\n",
              "      <th>OpenPorchSF</th>\n",
              "      <th>EnclosedPorch</th>\n",
              "      <th>3SsnPorch</th>\n",
              "      <th>ScreenPorch</th>\n",
              "      <th>PoolArea</th>\n",
              "      <th>PoolQC</th>\n",
              "      <th>Fence</th>\n",
              "      <th>MiscFeature</th>\n",
              "      <th>MiscVal</th>\n",
              "      <th>MoSold</th>\n",
              "      <th>YrSold</th>\n",
              "      <th>SaleType</th>\n",
              "      <th>SaleCondition</th>\n",
              "      <th>SalePrice</th>\n",
              "    </tr>\n",
              "  </thead>\n",
              "  <tbody>\n",
              "    <tr>\n",
              "      <th>0</th>\n",
              "      <td>1</td>\n",
              "      <td>60</td>\n",
              "      <td>RL</td>\n",
              "      <td>65.0</td>\n",
              "      <td>8450</td>\n",
              "      <td>Pave</td>\n",
              "      <td>NaN</td>\n",
              "      <td>Reg</td>\n",
              "      <td>Lvl</td>\n",
              "      <td>AllPub</td>\n",
              "      <td>Inside</td>\n",
              "      <td>Gtl</td>\n",
              "      <td>CollgCr</td>\n",
              "      <td>Norm</td>\n",
              "      <td>Norm</td>\n",
              "      <td>1Fam</td>\n",
              "      <td>2Story</td>\n",
              "      <td>7</td>\n",
              "      <td>5</td>\n",
              "      <td>2003</td>\n",
              "      <td>2003</td>\n",
              "      <td>Gable</td>\n",
              "      <td>CompShg</td>\n",
              "      <td>VinylSd</td>\n",
              "      <td>VinylSd</td>\n",
              "      <td>BrkFace</td>\n",
              "      <td>196.0</td>\n",
              "      <td>Gd</td>\n",
              "      <td>TA</td>\n",
              "      <td>PConc</td>\n",
              "      <td>Gd</td>\n",
              "      <td>TA</td>\n",
              "      <td>No</td>\n",
              "      <td>GLQ</td>\n",
              "      <td>706</td>\n",
              "      <td>Unf</td>\n",
              "      <td>0</td>\n",
              "      <td>150</td>\n",
              "      <td>856</td>\n",
              "      <td>GasA</td>\n",
              "      <td>...</td>\n",
              "      <td>Y</td>\n",
              "      <td>SBrkr</td>\n",
              "      <td>856</td>\n",
              "      <td>854</td>\n",
              "      <td>0</td>\n",
              "      <td>1710</td>\n",
              "      <td>1</td>\n",
              "      <td>0</td>\n",
              "      <td>2</td>\n",
              "      <td>1</td>\n",
              "      <td>3</td>\n",
              "      <td>1</td>\n",
              "      <td>Gd</td>\n",
              "      <td>8</td>\n",
              "      <td>Typ</td>\n",
              "      <td>0</td>\n",
              "      <td>NaN</td>\n",
              "      <td>Attchd</td>\n",
              "      <td>2003.0</td>\n",
              "      <td>RFn</td>\n",
              "      <td>2</td>\n",
              "      <td>548</td>\n",
              "      <td>TA</td>\n",
              "      <td>TA</td>\n",
              "      <td>Y</td>\n",
              "      <td>0</td>\n",
              "      <td>61</td>\n",
              "      <td>0</td>\n",
              "      <td>0</td>\n",
              "      <td>0</td>\n",
              "      <td>0</td>\n",
              "      <td>NaN</td>\n",
              "      <td>NaN</td>\n",
              "      <td>NaN</td>\n",
              "      <td>0</td>\n",
              "      <td>2</td>\n",
              "      <td>2008</td>\n",
              "      <td>WD</td>\n",
              "      <td>Normal</td>\n",
              "      <td>208500</td>\n",
              "    </tr>\n",
              "    <tr>\n",
              "      <th>1</th>\n",
              "      <td>2</td>\n",
              "      <td>20</td>\n",
              "      <td>RL</td>\n",
              "      <td>80.0</td>\n",
              "      <td>9600</td>\n",
              "      <td>Pave</td>\n",
              "      <td>NaN</td>\n",
              "      <td>Reg</td>\n",
              "      <td>Lvl</td>\n",
              "      <td>AllPub</td>\n",
              "      <td>FR2</td>\n",
              "      <td>Gtl</td>\n",
              "      <td>Veenker</td>\n",
              "      <td>Feedr</td>\n",
              "      <td>Norm</td>\n",
              "      <td>1Fam</td>\n",
              "      <td>1Story</td>\n",
              "      <td>6</td>\n",
              "      <td>8</td>\n",
              "      <td>1976</td>\n",
              "      <td>1976</td>\n",
              "      <td>Gable</td>\n",
              "      <td>CompShg</td>\n",
              "      <td>MetalSd</td>\n",
              "      <td>MetalSd</td>\n",
              "      <td>None</td>\n",
              "      <td>0.0</td>\n",
              "      <td>TA</td>\n",
              "      <td>TA</td>\n",
              "      <td>CBlock</td>\n",
              "      <td>Gd</td>\n",
              "      <td>TA</td>\n",
              "      <td>Gd</td>\n",
              "      <td>ALQ</td>\n",
              "      <td>978</td>\n",
              "      <td>Unf</td>\n",
              "      <td>0</td>\n",
              "      <td>284</td>\n",
              "      <td>1262</td>\n",
              "      <td>GasA</td>\n",
              "      <td>...</td>\n",
              "      <td>Y</td>\n",
              "      <td>SBrkr</td>\n",
              "      <td>1262</td>\n",
              "      <td>0</td>\n",
              "      <td>0</td>\n",
              "      <td>1262</td>\n",
              "      <td>0</td>\n",
              "      <td>1</td>\n",
              "      <td>2</td>\n",
              "      <td>0</td>\n",
              "      <td>3</td>\n",
              "      <td>1</td>\n",
              "      <td>TA</td>\n",
              "      <td>6</td>\n",
              "      <td>Typ</td>\n",
              "      <td>1</td>\n",
              "      <td>TA</td>\n",
              "      <td>Attchd</td>\n",
              "      <td>1976.0</td>\n",
              "      <td>RFn</td>\n",
              "      <td>2</td>\n",
              "      <td>460</td>\n",
              "      <td>TA</td>\n",
              "      <td>TA</td>\n",
              "      <td>Y</td>\n",
              "      <td>298</td>\n",
              "      <td>0</td>\n",
              "      <td>0</td>\n",
              "      <td>0</td>\n",
              "      <td>0</td>\n",
              "      <td>0</td>\n",
              "      <td>NaN</td>\n",
              "      <td>NaN</td>\n",
              "      <td>NaN</td>\n",
              "      <td>0</td>\n",
              "      <td>5</td>\n",
              "      <td>2007</td>\n",
              "      <td>WD</td>\n",
              "      <td>Normal</td>\n",
              "      <td>181500</td>\n",
              "    </tr>\n",
              "    <tr>\n",
              "      <th>2</th>\n",
              "      <td>3</td>\n",
              "      <td>60</td>\n",
              "      <td>RL</td>\n",
              "      <td>68.0</td>\n",
              "      <td>11250</td>\n",
              "      <td>Pave</td>\n",
              "      <td>NaN</td>\n",
              "      <td>IR1</td>\n",
              "      <td>Lvl</td>\n",
              "      <td>AllPub</td>\n",
              "      <td>Inside</td>\n",
              "      <td>Gtl</td>\n",
              "      <td>CollgCr</td>\n",
              "      <td>Norm</td>\n",
              "      <td>Norm</td>\n",
              "      <td>1Fam</td>\n",
              "      <td>2Story</td>\n",
              "      <td>7</td>\n",
              "      <td>5</td>\n",
              "      <td>2001</td>\n",
              "      <td>2002</td>\n",
              "      <td>Gable</td>\n",
              "      <td>CompShg</td>\n",
              "      <td>VinylSd</td>\n",
              "      <td>VinylSd</td>\n",
              "      <td>BrkFace</td>\n",
              "      <td>162.0</td>\n",
              "      <td>Gd</td>\n",
              "      <td>TA</td>\n",
              "      <td>PConc</td>\n",
              "      <td>Gd</td>\n",
              "      <td>TA</td>\n",
              "      <td>Mn</td>\n",
              "      <td>GLQ</td>\n",
              "      <td>486</td>\n",
              "      <td>Unf</td>\n",
              "      <td>0</td>\n",
              "      <td>434</td>\n",
              "      <td>920</td>\n",
              "      <td>GasA</td>\n",
              "      <td>...</td>\n",
              "      <td>Y</td>\n",
              "      <td>SBrkr</td>\n",
              "      <td>920</td>\n",
              "      <td>866</td>\n",
              "      <td>0</td>\n",
              "      <td>1786</td>\n",
              "      <td>1</td>\n",
              "      <td>0</td>\n",
              "      <td>2</td>\n",
              "      <td>1</td>\n",
              "      <td>3</td>\n",
              "      <td>1</td>\n",
              "      <td>Gd</td>\n",
              "      <td>6</td>\n",
              "      <td>Typ</td>\n",
              "      <td>1</td>\n",
              "      <td>TA</td>\n",
              "      <td>Attchd</td>\n",
              "      <td>2001.0</td>\n",
              "      <td>RFn</td>\n",
              "      <td>2</td>\n",
              "      <td>608</td>\n",
              "      <td>TA</td>\n",
              "      <td>TA</td>\n",
              "      <td>Y</td>\n",
              "      <td>0</td>\n",
              "      <td>42</td>\n",
              "      <td>0</td>\n",
              "      <td>0</td>\n",
              "      <td>0</td>\n",
              "      <td>0</td>\n",
              "      <td>NaN</td>\n",
              "      <td>NaN</td>\n",
              "      <td>NaN</td>\n",
              "      <td>0</td>\n",
              "      <td>9</td>\n",
              "      <td>2008</td>\n",
              "      <td>WD</td>\n",
              "      <td>Normal</td>\n",
              "      <td>223500</td>\n",
              "    </tr>\n",
              "    <tr>\n",
              "      <th>3</th>\n",
              "      <td>4</td>\n",
              "      <td>70</td>\n",
              "      <td>RL</td>\n",
              "      <td>60.0</td>\n",
              "      <td>9550</td>\n",
              "      <td>Pave</td>\n",
              "      <td>NaN</td>\n",
              "      <td>IR1</td>\n",
              "      <td>Lvl</td>\n",
              "      <td>AllPub</td>\n",
              "      <td>Corner</td>\n",
              "      <td>Gtl</td>\n",
              "      <td>Crawfor</td>\n",
              "      <td>Norm</td>\n",
              "      <td>Norm</td>\n",
              "      <td>1Fam</td>\n",
              "      <td>2Story</td>\n",
              "      <td>7</td>\n",
              "      <td>5</td>\n",
              "      <td>1915</td>\n",
              "      <td>1970</td>\n",
              "      <td>Gable</td>\n",
              "      <td>CompShg</td>\n",
              "      <td>Wd Sdng</td>\n",
              "      <td>Wd Shng</td>\n",
              "      <td>None</td>\n",
              "      <td>0.0</td>\n",
              "      <td>TA</td>\n",
              "      <td>TA</td>\n",
              "      <td>BrkTil</td>\n",
              "      <td>TA</td>\n",
              "      <td>Gd</td>\n",
              "      <td>No</td>\n",
              "      <td>ALQ</td>\n",
              "      <td>216</td>\n",
              "      <td>Unf</td>\n",
              "      <td>0</td>\n",
              "      <td>540</td>\n",
              "      <td>756</td>\n",
              "      <td>GasA</td>\n",
              "      <td>...</td>\n",
              "      <td>Y</td>\n",
              "      <td>SBrkr</td>\n",
              "      <td>961</td>\n",
              "      <td>756</td>\n",
              "      <td>0</td>\n",
              "      <td>1717</td>\n",
              "      <td>1</td>\n",
              "      <td>0</td>\n",
              "      <td>1</td>\n",
              "      <td>0</td>\n",
              "      <td>3</td>\n",
              "      <td>1</td>\n",
              "      <td>Gd</td>\n",
              "      <td>7</td>\n",
              "      <td>Typ</td>\n",
              "      <td>1</td>\n",
              "      <td>Gd</td>\n",
              "      <td>Detchd</td>\n",
              "      <td>1998.0</td>\n",
              "      <td>Unf</td>\n",
              "      <td>3</td>\n",
              "      <td>642</td>\n",
              "      <td>TA</td>\n",
              "      <td>TA</td>\n",
              "      <td>Y</td>\n",
              "      <td>0</td>\n",
              "      <td>35</td>\n",
              "      <td>272</td>\n",
              "      <td>0</td>\n",
              "      <td>0</td>\n",
              "      <td>0</td>\n",
              "      <td>NaN</td>\n",
              "      <td>NaN</td>\n",
              "      <td>NaN</td>\n",
              "      <td>0</td>\n",
              "      <td>2</td>\n",
              "      <td>2006</td>\n",
              "      <td>WD</td>\n",
              "      <td>Abnorml</td>\n",
              "      <td>140000</td>\n",
              "    </tr>\n",
              "    <tr>\n",
              "      <th>4</th>\n",
              "      <td>5</td>\n",
              "      <td>60</td>\n",
              "      <td>RL</td>\n",
              "      <td>84.0</td>\n",
              "      <td>14260</td>\n",
              "      <td>Pave</td>\n",
              "      <td>NaN</td>\n",
              "      <td>IR1</td>\n",
              "      <td>Lvl</td>\n",
              "      <td>AllPub</td>\n",
              "      <td>FR2</td>\n",
              "      <td>Gtl</td>\n",
              "      <td>NoRidge</td>\n",
              "      <td>Norm</td>\n",
              "      <td>Norm</td>\n",
              "      <td>1Fam</td>\n",
              "      <td>2Story</td>\n",
              "      <td>8</td>\n",
              "      <td>5</td>\n",
              "      <td>2000</td>\n",
              "      <td>2000</td>\n",
              "      <td>Gable</td>\n",
              "      <td>CompShg</td>\n",
              "      <td>VinylSd</td>\n",
              "      <td>VinylSd</td>\n",
              "      <td>BrkFace</td>\n",
              "      <td>350.0</td>\n",
              "      <td>Gd</td>\n",
              "      <td>TA</td>\n",
              "      <td>PConc</td>\n",
              "      <td>Gd</td>\n",
              "      <td>TA</td>\n",
              "      <td>Av</td>\n",
              "      <td>GLQ</td>\n",
              "      <td>655</td>\n",
              "      <td>Unf</td>\n",
              "      <td>0</td>\n",
              "      <td>490</td>\n",
              "      <td>1145</td>\n",
              "      <td>GasA</td>\n",
              "      <td>...</td>\n",
              "      <td>Y</td>\n",
              "      <td>SBrkr</td>\n",
              "      <td>1145</td>\n",
              "      <td>1053</td>\n",
              "      <td>0</td>\n",
              "      <td>2198</td>\n",
              "      <td>1</td>\n",
              "      <td>0</td>\n",
              "      <td>2</td>\n",
              "      <td>1</td>\n",
              "      <td>4</td>\n",
              "      <td>1</td>\n",
              "      <td>Gd</td>\n",
              "      <td>9</td>\n",
              "      <td>Typ</td>\n",
              "      <td>1</td>\n",
              "      <td>TA</td>\n",
              "      <td>Attchd</td>\n",
              "      <td>2000.0</td>\n",
              "      <td>RFn</td>\n",
              "      <td>3</td>\n",
              "      <td>836</td>\n",
              "      <td>TA</td>\n",
              "      <td>TA</td>\n",
              "      <td>Y</td>\n",
              "      <td>192</td>\n",
              "      <td>84</td>\n",
              "      <td>0</td>\n",
              "      <td>0</td>\n",
              "      <td>0</td>\n",
              "      <td>0</td>\n",
              "      <td>NaN</td>\n",
              "      <td>NaN</td>\n",
              "      <td>NaN</td>\n",
              "      <td>0</td>\n",
              "      <td>12</td>\n",
              "      <td>2008</td>\n",
              "      <td>WD</td>\n",
              "      <td>Normal</td>\n",
              "      <td>250000</td>\n",
              "    </tr>\n",
              "  </tbody>\n",
              "</table>\n",
              "<p>5 rows × 81 columns</p>\n",
              "</div>"
            ],
            "text/plain": [
              "   Id  MSSubClass MSZoning  ...  SaleType  SaleCondition SalePrice\n",
              "0   1          60       RL  ...        WD         Normal    208500\n",
              "1   2          20       RL  ...        WD         Normal    181500\n",
              "2   3          60       RL  ...        WD         Normal    223500\n",
              "3   4          70       RL  ...        WD        Abnorml    140000\n",
              "4   5          60       RL  ...        WD         Normal    250000\n",
              "\n",
              "[5 rows x 81 columns]"
            ]
          },
          "metadata": {
            "tags": []
          },
          "execution_count": 149
        }
      ]
    },
    {
      "cell_type": "code",
      "metadata": {
        "id": "QtB1VT3Wx3Gy"
      },
      "source": [
        "train_df['price per sq-area'] = train_df['SalePrice'] / train_df['LotArea']"
      ],
      "execution_count": 150,
      "outputs": []
    },
    {
      "cell_type": "code",
      "metadata": {
        "id": "x40Yxd6syB3C"
      },
      "source": [
        "%matplotlib inline"
      ],
      "execution_count": 151,
      "outputs": []
    },
    {
      "cell_type": "code",
      "metadata": {
        "colab": {
          "base_uri": "https://localhost:8080/",
          "height": 876
        },
        "id": "itje6IPOyCya",
        "outputId": "c80cd076-d211-4832-e2fe-084e5b44adf4"
      },
      "source": [
        "import matplotlib.pyplot as plt\n",
        "train_df.hist(bins=50, figsize=(20,15))\n",
        "plt.savefig(\"attribute_histogram_plots\")\n",
        "plt.show()"
      ],
      "execution_count": 154,
      "outputs": [
        {
          "output_type": "display_data",
          "data": {
            "image/png": "[encoded data removed]",
            "text/plain": [
              "<Figure size 1440x1080 with 42 Axes>"
            ]
          },
          "metadata": {
            "tags": [],
            "needs_background": "light"
          }
        }
      ]
    },
    {
      "cell_type": "code",
      "metadata": {
        "id": "Xmxz2N20yOjk"
      },
      "source": [
        "import numpy as np\n",
        "\n",
        "# consider uniform features\n",
        "train_df.replace([np.inf, -np.inf], np.nan, inplace=True)\n",
        "train_df.fillna(999, inplace=True)"
      ],
      "execution_count": 156,
      "outputs": []
    },
    {
      "cell_type": "code",
      "metadata": {
        "id": "v72JyDq5ygUT"
      },
      "source": [
        "x = train_df[['LotFrontage', 'LotArea', 'GarageArea', 'GarageArea','GrLivArea']]\n",
        "y = train_df['SalePrice']"
      ],
      "execution_count": 161,
      "outputs": []
    },
    {
      "cell_type": "code",
      "metadata": {
        "id": "S8ntW5WEynKG"
      },
      "source": [
        "from sklearn.model_selection import train_test_split\n",
        "x_train, x_test, y_train, y_test = train_test_split(x, y, test_size=0.3, random_state=0)"
      ],
      "execution_count": 162,
      "outputs": []
    },
    {
      "cell_type": "code",
      "metadata": {
        "colab": {
          "base_uri": "https://localhost:8080/"
        },
        "id": "KIiiHnFGy3jU",
        "outputId": "6dd9c692-3809-47ac-9d71-62ac02d67a25"
      },
      "source": [
        "#Linear Regression Model\n",
        "from sklearn.linear_model import LinearRegression\n",
        "regressor = LinearRegression()\n",
        "regressor.fit(x_train, y_train)"
      ],
      "execution_count": 164,
      "outputs": [
        {
          "output_type": "execute_result",
          "data": {
            "text/plain": [
              "LinearRegression(copy_X=True, fit_intercept=True, n_jobs=None, normalize=False)"
            ]
          },
          "metadata": {
            "tags": []
          },
          "execution_count": 164
        }
      ]
    },
    {
      "cell_type": "code",
      "metadata": {
        "colab": {
          "base_uri": "https://localhost:8080/"
        },
        "id": "FIDIH_cvy-69",
        "outputId": "6bb5c2d1-7c6c-41e7-d419-8b92685af753"
      },
      "source": [
        "y_pred = regressor.predict(X_test)\n",
        "print('Linear Regression R squared: %.4f' % regressor.score(x_test, y_test))"
      ],
      "execution_count": 167,
      "outputs": [
        {
          "output_type": "stream",
          "text": [
            "Linear Regression R squared: 0.5432\n"
          ],
          "name": "stdout"
        }
      ]
    },
    {
      "cell_type": "code",
      "metadata": {
        "colab": {
          "base_uri": "https://localhost:8080/"
        },
        "id": "Aj260gLIzG9a",
        "outputId": "5b7dc5b5-71f0-4ab0-97ab-426bef21cbed"
      },
      "source": [
        "from sklearn.metrics import mean_squared_error\n",
        "linear_mse = mean_squared_error(y_pred, y_test)\n",
        "linear_rmse = np.sqrt(linear_mse)\n",
        "print('Linear Regression RMSE: %.4f' % linear_rmse)"
      ],
      "execution_count": 170,
      "outputs": [
        {
          "output_type": "stream",
          "text": [
            "Linear Regression RMSE: 55690.8022\n"
          ],
          "name": "stdout"
        }
      ]
    },
    {
      "cell_type": "code",
      "metadata": {
        "colab": {
          "base_uri": "https://localhost:8080/"
        },
        "id": "Sqao-47uzWto",
        "outputId": "7051c234-efff-4f4d-938a-079814f44ba1"
      },
      "source": [
        "from sklearn.metrics import mean_absolute_error\n",
        "linear_mae = mean_absolute_error(y_pred, y_test)\n",
        "print('Linear Regression MAE: %.4f' % linear_mae)"
      ],
      "execution_count": 171,
      "outputs": [
        {
          "output_type": "stream",
          "text": [
            "Linear Regression MAE: 33944.0079\n"
          ],
          "name": "stdout"
        }
      ]
    }
  ]
}