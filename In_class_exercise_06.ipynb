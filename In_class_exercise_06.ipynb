{
  "nbformat": 4,
  "nbformat_minor": 0,
  "metadata": {
    "colab": {
      "name": "In_class_exercise_06.ipynb",
      "provenance": [],
      "collapsed_sections": [],
      "include_colab_link": true
    },
    "kernelspec": {
      "display_name": "Python 3",
      "language": "python",
      "name": "python3"
    },
    "language_info": {
      "codemirror_mode": {
        "name": "ipython",
        "version": 3
      },
      "file_extension": ".py",
      "mimetype": "text/x-python",
      "name": "python",
      "nbconvert_exporter": "python",
      "pygments_lexer": "ipython3",
      "version": "3.7.4"
    }
  },
  "cells": [
    {
      "cell_type": "markdown",
      "metadata": {
        "id": "view-in-github",
        "colab_type": "text"
      },
      "source": [
        "<a href=\"https://colab.research.google.com/github/divyaseri/divya_INFO5731_Fall2020/blob/master/In_class_exercise_06.ipynb\" target=\"_parent\"><img src=\"https://colab.research.google.com/assets/colab-badge.svg\" alt=\"Open In Colab\"/></a>"
      ]
    },
    {
      "cell_type": "markdown",
      "metadata": {
        "id": "z7TahL04sVvR"
      },
      "source": [
        "# **The sixth in-class-exercise (20 points in total, 10/14/2020)**"
      ]
    },
    {
      "cell_type": "markdown",
      "metadata": {
        "id": "ejyZITr8sjnh"
      },
      "source": [
        "## **1. Rule-based information extraction (10 points)**\n",
        "\n",
        "Use any keywords related to data science, natural language processing, machine learning to search from google scholar, get the **titles** of 100 articles (either by web scraping or manually) about this topic, define a set of patterns to extract the research questions/problems, methods/algorithms/models, datasets, applications, or any other important information about this topic. "
      ]
    },
    {
      "cell_type": "code",
      "metadata": {
        "id": "NTwW4skD61F5",
        "outputId": "2d66e7db-c403-4cbc-c0b1-67a63404a263",
        "colab": {
          "base_uri": "https://localhost:8080/",
          "height": 54
        }
      },
      "source": [
        "import pandas as pd\n",
        "import requests\n",
        "from bs4 import BeautifulSoup\n",
        "def insert_into_array(values,ref_array):\n",
        "  for i in values:\n",
        "    ref_array.append(i.text)\n",
        "titles=[]\n",
        "for i in range(0,100,10):\n",
        "  URL=\"https://journals.sagepub.com/action/doSearch?filterOption=allJournal&AllField=data+science\"+str(i)\n",
        "  page=requests.get(URL,headers={'User-Agent':'Chrome/85.0.4183.121'})\n",
        "  soup = BeautifulSoup(page.content, 'html.parser')\n",
        "  insert_into_array(soup.find_all('a', class_='ref nowrap'),titles)\n",
        "print(titles)"
      ],
      "execution_count": 39,
      "outputs": [
        {
          "output_type": "stream",
          "text": [
            "['Performance of Composite, Flat-Belt-Drive Materials under Simulated Power Transmission', 'A Re-Examination of the Proneness to Derailment of a Railway Wheel-Set', 'Estimation of glomerular filtration rate in rabbits by a single-sample method using iodixanol', 'Do Peer Reviews Predict Impact? Evidence from the American Sociological Review, 1978 to 1982', 'Application of the single blood sample method to estimate feline glomerular filtration rate in a clinically relevant situation', 'Stopping hormone replacement therapy: were women ill advised?', 'Walter Russell Brain (1895–1966), Baron Brain of Eynsham, Lord Brain MA DM DSc LLD DCL FRCP FRCS FRCOG FRCPEd. FRCP.Glas FRACP FACP FCPSA FRS', 'The Value of Biomedical Research Training for Veterinary Anatomic and Clinical Pathologists', 'The Mistreatment of Major Depressive Disorder', 'The Intersection of Implementation Science and Pharmacy Practice Transformation', 'References', 'Contexts constrain science in the public: How the sociobiology debate was (not) presented in the German press', 'Organizing Practices in Services: Capturing Practice-Based Knowledge for Innovation', 'Moving from regional to international publishing in accounting history: Pressures, issues, strategies and implications', 'Whither Social Science?*', 'Do researchers use open research data? Exploring the relationships between usage trends and metadata quality across scientific disciplines from the Figshare case', 'Scholarship Revolution', 'Using a moot to develop students’ understanding of human cloning and statutory interpretation', 'Culture As (And After) Production', 'The Computation of Shape Orientation in Search for Kanizsa Figures', 'In vitro and Animal Models for Antiviral Therapy in Papillomavirus Infections', 'The Origin of Life II: How Did it Begin?', 'To measure or not to measure? Reviewing the assessment of spirituality and religion in health-related quality of life', 'Ethical Issues in Research and Development of Epigenome-wide Technologies', 'Historiography of Not-So-Recent Science', 'Canadian International Relations, American social science? Evidence from academic journals and comprehensive reading lists']\n"
          ],
          "name": "stdout"
        }
      ]
    },
    {
      "cell_type": "code",
      "metadata": {
        "id": "yuQaDk-l_moB"
      },
      "source": [
        "import re \n",
        "import string \n",
        "import nltk \n",
        "import spacy \n",
        "import pandas as pd \n",
        "import numpy as np \n",
        "import math \n",
        "from tqdm import tqdm \n",
        "\n",
        "from spacy.matcher import Matcher \n",
        "from spacy.tokens import Span \n",
        "from spacy import displacy \n",
        "\n",
        "pd.set_option('display.max_colwidth', 200)\n",
        "# load spaCy model\n",
        "nlp = spacy.load(\"en_core_web_sm\")"
      ],
      "execution_count": 40,
      "outputs": []
    },
    {
      "cell_type": "code",
      "metadata": {
        "id": "JrH4ieL3_uWV",
        "outputId": "dd83189c-1091-4bf3-f309-4bd47572d07d",
        "colab": {
          "base_uri": "https://localhost:8080/",
          "height": 1000
        }
      },
      "source": [
        "for i in titles:\n",
        "  text=i\n",
        "  doc = nlp(text)\n",
        "  for tok in doc: \n",
        "    print(tok.text, \"-->\",tok.dep_,\"-->\", tok.pos_)\n",
        "  #define the pattern \n",
        "pattern = [{'POS':'PROPN'}, \n",
        "           {'LOWER': 'Algorithm'}]"
      ],
      "execution_count": 45,
      "outputs": [
        {
          "output_type": "stream",
          "text": [
            "Performance --> ROOT --> NOUN\n",
            "of --> prep --> ADP\n",
            "Composite --> pobj --> PROPN\n",
            ", --> punct --> PUNCT\n",
            "Flat --> compound --> PROPN\n",
            "- --> punct --> PUNCT\n",
            "Belt --> compound --> PROPN\n",
            "- --> punct --> PUNCT\n",
            "Drive --> compound --> PROPN\n",
            "Materials --> conj --> NOUN\n",
            "under --> prep --> ADP\n",
            "Simulated --> compound --> PROPN\n",
            "Power --> compound --> PROPN\n",
            "Transmission --> pobj --> PROPN\n",
            "A --> det --> DET\n",
            "Re --> dep --> PROPN\n",
            "- --> dep --> NOUN\n",
            "Examination --> ROOT --> PROPN\n",
            "of --> prep --> ADP\n",
            "the --> det --> DET\n",
            "Proneness --> pobj --> PROPN\n",
            "to --> prep --> ADP\n",
            "Derailment --> pobj --> PROPN\n",
            "of --> prep --> ADP\n",
            "a --> det --> DET\n",
            "Railway --> compound --> PROPN\n",
            "Wheel --> compound --> PROPN\n",
            "- --> punct --> PUNCT\n",
            "Set --> pobj --> PROPN\n",
            "Estimation --> ROOT --> NOUN\n",
            "of --> prep --> ADP\n",
            "glomerular --> amod --> ADJ\n",
            "filtration --> compound --> NOUN\n",
            "rate --> pobj --> NOUN\n",
            "in --> prep --> ADP\n",
            "rabbits --> pobj --> NOUN\n",
            "by --> prep --> ADP\n",
            "a --> det --> DET\n",
            "single --> amod --> ADJ\n",
            "- --> punct --> PUNCT\n",
            "sample --> compound --> NOUN\n",
            "method --> pobj --> NOUN\n",
            "using --> acl --> VERB\n",
            "iodixanol --> dobj --> NOUN\n",
            "Do --> ROOT --> AUX\n",
            "Peer --> compound --> VERB\n",
            "Reviews --> compound --> PROPN\n",
            "Predict --> compound --> VERB\n",
            "Impact --> nsubj --> NOUN\n",
            "? --> punct --> PUNCT\n",
            "Evidence --> ROOT --> NOUN\n",
            "from --> prep --> ADP\n",
            "the --> det --> DET\n",
            "American --> compound --> PROPN\n",
            "Sociological --> compound --> PROPN\n",
            "Review --> pobj --> PROPN\n",
            ", --> punct --> PUNCT\n",
            "1978 --> npadvmod --> NUM\n",
            "to --> prep --> ADP\n",
            "1982 --> pobj --> NUM\n",
            "Application --> ROOT --> NOUN\n",
            "of --> prep --> ADP\n",
            "the --> det --> DET\n",
            "single --> amod --> ADJ\n",
            "blood --> compound --> NOUN\n",
            "sample --> compound --> NOUN\n",
            "method --> pobj --> NOUN\n",
            "to --> aux --> PART\n",
            "estimate --> acl --> VERB\n",
            "feline --> amod --> ADJ\n",
            "glomerular --> amod --> ADJ\n",
            "filtration --> compound --> NOUN\n",
            "rate --> dobj --> NOUN\n",
            "in --> prep --> ADP\n",
            "a --> det --> DET\n",
            "clinically --> advmod --> ADV\n",
            "relevant --> amod --> ADJ\n",
            "situation --> pobj --> NOUN\n",
            "Stopping --> advcl --> VERB\n",
            "hormone --> compound --> NOUN\n",
            "replacement --> compound --> NOUN\n",
            "therapy --> dobj --> NOUN\n",
            ": --> punct --> PUNCT\n",
            "were --> auxpass --> AUX\n",
            "women --> attr --> NOUN\n",
            "ill --> advmod --> ADV\n",
            "advised --> ROOT --> VERB\n",
            "? --> punct --> PUNCT\n",
            "Walter --> compound --> PROPN\n",
            "Russell --> compound --> PROPN\n",
            "Brain --> ROOT --> PROPN\n",
            "( --> punct --> PUNCT\n",
            "1895–1966 --> appos --> NUM\n",
            ") --> punct --> PUNCT\n",
            ", --> punct --> PUNCT\n",
            "Baron --> compound --> PROPN\n",
            "Brain --> conj --> PROPN\n",
            "of --> prep --> ADP\n",
            "Eynsham --> pobj --> PROPN\n",
            ", --> punct --> PUNCT\n",
            "Lord --> compound --> PROPN\n",
            "Brain --> compound --> PROPN\n",
            "MA --> compound --> PROPN\n",
            "DM --> compound --> PROPN\n",
            "DSc --> compound --> NOUN\n",
            "LLD --> compound --> PROPN\n",
            "DCL --> compound --> PROPN\n",
            "FRCP --> compound --> PROPN\n",
            "FRCS --> compound --> PROPN\n",
            "FRCOG --> compound --> VERB\n",
            "FRCPEd --> ROOT --> NOUN\n",
            ". --> punct --> PUNCT\n",
            "FRCP.Glas --> compound --> NUM\n",
            "FRACP --> compound --> PROPN\n",
            "FACP --> compound --> PROPN\n",
            "FCPSA --> compound --> VERB\n",
            "FRS --> ROOT --> PROPN\n",
            "The --> det --> DET\n",
            "Value --> ROOT --> PROPN\n",
            "of --> prep --> ADP\n",
            "Biomedical --> compound --> PROPN\n",
            "Research --> compound --> PROPN\n",
            "Training --> pobj --> PROPN\n",
            "for --> prep --> ADP\n",
            "Veterinary --> compound --> PROPN\n",
            "Anatomic --> pobj --> PROPN\n",
            "and --> cc --> CCONJ\n",
            "Clinical --> compound --> PROPN\n",
            "Pathologists --> conj --> PROPN\n",
            "The --> det --> DET\n",
            "Mistreatment --> ROOT --> PROPN\n",
            "of --> prep --> ADP\n",
            "Major --> compound --> ADJ\n",
            "Depressive --> compound --> PROPN\n",
            "Disorder --> pobj --> PROPN\n",
            "The --> det --> DET\n",
            "Intersection --> nmod --> NOUN\n",
            "of --> prep --> ADP\n",
            "Implementation --> compound --> NOUN\n",
            "Science --> pobj --> PROPN\n",
            "and --> cc --> CCONJ\n",
            "Pharmacy --> compound --> NOUN\n",
            "Practice --> compound --> NOUN\n",
            "Transformation --> ROOT --> NOUN\n",
            "References --> ROOT --> NOUN\n",
            "Contexts --> compound --> PROPN\n",
            "constrain --> compound --> VERB\n",
            "science --> ROOT --> NOUN\n",
            "in --> prep --> ADP\n",
            "the --> det --> DET\n",
            "public --> pobj --> NOUN\n",
            ": --> punct --> PUNCT\n",
            "How --> advmod --> ADV\n",
            "the --> det --> DET\n",
            "sociobiology --> compound --> NOUN\n",
            "debate --> nsubj --> NOUN\n",
            "was --> auxpass --> AUX\n",
            "( --> punct --> PUNCT\n",
            "not --> neg --> PART\n",
            ") --> punct --> PUNCT\n",
            "presented --> ROOT --> VERB\n",
            "in --> prep --> ADP\n",
            "the --> det --> DET\n",
            "German --> amod --> ADJ\n",
            "press --> pobj --> NOUN\n",
            "Organizing --> ROOT --> NOUN\n",
            "Practices --> dobj --> PROPN\n",
            "in --> prep --> ADP\n",
            "Services --> pobj --> NOUN\n",
            ": --> punct --> PUNCT\n",
            "Capturing --> ROOT --> PROPN\n",
            "Practice --> npadvmod --> NOUN\n",
            "- --> punct --> PUNCT\n",
            "Based --> amod --> VERB\n",
            "Knowledge --> dobj --> PROPN\n",
            "for --> prep --> ADP\n",
            "Innovation --> pobj --> PROPN\n",
            "Moving --> ROOT --> VERB\n",
            "from --> prep --> ADP\n",
            "regional --> pobj --> ADJ\n",
            "to --> prep --> ADP\n",
            "international --> amod --> ADJ\n",
            "publishing --> pobj --> NOUN\n",
            "in --> prep --> ADP\n",
            "accounting --> compound --> NOUN\n",
            "history --> pobj --> NOUN\n",
            ": --> punct --> PUNCT\n",
            "Pressures --> dep --> NOUN\n",
            ", --> punct --> PUNCT\n",
            "issues --> conj --> NOUN\n",
            ", --> punct --> PUNCT\n",
            "strategies --> conj --> NOUN\n",
            "and --> cc --> CCONJ\n",
            "implications --> conj --> NOUN\n",
            "Whither --> compound --> PROPN\n",
            "Social --> compound --> PROPN\n",
            "Science --> ROOT --> PROPN\n",
            "? --> punct --> PUNCT\n",
            "* --> ROOT --> PUNCT\n",
            "Do --> aux --> AUX\n",
            "researchers --> nsubj --> NOUN\n",
            "use --> ROOT --> VERB\n",
            "open --> amod --> ADJ\n",
            "research --> compound --> NOUN\n",
            "data --> dobj --> NOUN\n",
            "? --> punct --> PUNCT\n",
            "Exploring --> ROOT --> VERB\n",
            "the --> det --> DET\n",
            "relationships --> dobj --> NOUN\n",
            "between --> prep --> ADP\n",
            "usage --> compound --> NOUN\n",
            "trends --> pobj --> NOUN\n",
            "and --> cc --> CCONJ\n",
            "metadata --> compound --> PROPN\n",
            "quality --> conj --> NOUN\n",
            "across --> prep --> ADP\n",
            "scientific --> amod --> ADJ\n",
            "disciplines --> pobj --> NOUN\n",
            "from --> prep --> ADP\n",
            "the --> det --> DET\n",
            "Figshare --> compound --> PROPN\n",
            "case --> pobj --> NOUN\n",
            "Scholarship --> compound --> NOUN\n",
            "Revolution --> ROOT --> PROPN\n",
            "Using --> ROOT --> VERB\n",
            "a --> det --> DET\n",
            "moot --> dobj --> NOUN\n",
            "to --> aux --> PART\n",
            "develop --> xcomp --> VERB\n",
            "students --> poss --> NOUN\n",
            "’ --> case --> PART\n",
            "understanding --> dobj --> NOUN\n",
            "of --> prep --> ADP\n",
            "human --> amod --> ADJ\n",
            "cloning --> amod --> NOUN\n",
            "and --> cc --> CCONJ\n",
            "statutory --> conj --> ADJ\n",
            "interpretation --> pobj --> NOUN\n",
            "Culture --> ROOT --> PROPN\n",
            "As --> ROOT --> SCONJ\n",
            "( --> punct --> PUNCT\n",
            "And --> cc --> CCONJ\n",
            "After --> conj --> ADP\n",
            ") --> punct --> PUNCT\n",
            "Production --> pobj --> NOUN\n",
            "The --> det --> DET\n",
            "Computation --> ROOT --> PROPN\n",
            "of --> prep --> ADP\n",
            "Shape --> compound --> PROPN\n",
            "Orientation --> pobj --> PROPN\n",
            "in --> prep --> ADP\n",
            "Search --> pobj --> PROPN\n",
            "for --> prep --> ADP\n",
            "Kanizsa --> compound --> PROPN\n",
            "Figures --> pobj --> PROPN\n",
            "In --> ROOT --> ADP\n",
            "vitro --> pobj --> X\n",
            "and --> cc --> CCONJ\n",
            "Animal --> compound --> PROPN\n",
            "Models --> conj --> PROPN\n",
            "for --> prep --> ADP\n",
            "Antiviral --> compound --> PROPN\n",
            "Therapy --> pobj --> PROPN\n",
            "in --> prep --> ADP\n",
            "Papillomavirus --> compound --> PROPN\n",
            "Infections --> pobj --> NOUN\n",
            "The --> det --> DET\n",
            "Origin --> ROOT --> PROPN\n",
            "of --> prep --> ADP\n",
            "Life --> compound --> PROPN\n",
            "II --> pobj --> PROPN\n",
            ": --> punct --> PUNCT\n",
            "How --> advmod --> ADV\n",
            "Did --> aux --> AUX\n",
            "it --> nsubj --> PRON\n",
            "Begin --> ROOT --> VERB\n",
            "? --> punct --> PUNCT\n",
            "To --> aux --> PART\n",
            "measure --> ROOT --> VERB\n",
            "or --> cc --> CCONJ\n",
            "not --> neg --> PART\n",
            "to --> aux --> PART\n",
            "measure --> conj --> VERB\n",
            "? --> punct --> PUNCT\n",
            "Reviewing --> ROOT --> VERB\n",
            "the --> det --> DET\n",
            "assessment --> dobj --> NOUN\n",
            "of --> prep --> ADP\n",
            "spirituality --> pobj --> NOUN\n",
            "and --> cc --> CCONJ\n",
            "religion --> conj --> NOUN\n",
            "in --> prep --> ADP\n",
            "health --> npadvmod --> NOUN\n",
            "- --> punct --> PUNCT\n",
            "related --> amod --> VERB\n",
            "quality --> pobj --> NOUN\n",
            "of --> prep --> ADP\n",
            "life --> pobj --> NOUN\n",
            "Ethical --> amod --> PROPN\n",
            "Issues --> ROOT --> PROPN\n",
            "in --> prep --> ADP\n",
            "Research --> pobj --> PROPN\n",
            "and --> cc --> CCONJ\n",
            "Development --> conj --> PROPN\n",
            "of --> prep --> ADP\n",
            "Epigenome --> npadvmod --> PROPN\n",
            "- --> punct --> PUNCT\n",
            "wide --> amod --> ADJ\n",
            "Technologies --> pobj --> NOUN\n",
            "Historiography --> ROOT --> NOUN\n",
            "of --> prep --> ADP\n",
            "Not --> neg --> PART\n",
            "- --> punct --> PUNCT\n",
            "So --> advmod --> ADV\n",
            "- --> punct --> PUNCT\n",
            "Recent --> amod --> ADJ\n",
            "Science --> pobj --> NOUN\n",
            "Canadian --> compound --> PROPN\n",
            "International --> compound --> PROPN\n",
            "Relations --> ROOT --> PROPN\n",
            ", --> punct --> PUNCT\n",
            "American --> amod --> ADJ\n",
            "social --> amod --> ADJ\n",
            "science --> appos --> NOUN\n",
            "? --> punct --> PUNCT\n",
            "Evidence --> ROOT --> NOUN\n",
            "from --> prep --> ADP\n",
            "academic --> amod --> ADJ\n",
            "journals --> pobj --> NOUN\n",
            "and --> cc --> CCONJ\n",
            "comprehensive --> amod --> ADJ\n",
            "reading --> compound --> NOUN\n",
            "lists --> conj --> NOUN\n"
          ],
          "name": "stdout"
        }
      ]
    },
    {
      "cell_type": "code",
      "metadata": {
        "id": "THjNfWPI_x96",
        "outputId": "feeedbc6-4454-47b2-c9e8-59116a03eb95",
        "colab": {
          "base_uri": "https://localhost:8080/",
          "height": 34
        }
      },
      "source": [
        "data=[]\n",
        "for i in titles:\n",
        "  x = re.search('data', i)\n",
        "  if x:\n",
        "    data.append(i)\n",
        "print(data)"
      ],
      "execution_count": 43,
      "outputs": [
        {
          "output_type": "stream",
          "text": [
            "['Do researchers use open research data? Exploring the relationships between usage trends and metadata quality across scientific disciplines from the Figshare case']\n"
          ],
          "name": "stdout"
        }
      ]
    },
    {
      "cell_type": "markdown",
      "metadata": {
        "id": "Dq_7VGmrsum4"
      },
      "source": [
        "## **2. Domain-specific information extraction (10 points)**\n",
        "\n",
        "For the legal case used in the data cleaning exercise: [01-05-1 Adams v Tanner.txt](https://github.com/unt-iialab/INFO5731_FALL2020/blob/master/In_class_exercise/01-05-1%20%20Adams%20v%20Tanner.txt), use [legalNLP](https://lexpredict-lexnlp.readthedocs.io/en/latest/modules/extract/extract.html#nlp-based-extraction-methods) to extract the following inforation from the text (if the information is not exist, just print None):\n",
        "\n",
        "(1) acts, e.g., “section 1 of the Advancing Hope Act, 1986”\n",
        "\n",
        "(2) amounts, e.g., “ten pounds” or “5.8 megawatts”\n",
        "\n",
        "(3) citations, e.g., “10 U.S. 100” or “1998 S. Ct. 1”\n",
        "\n",
        "(4) companies, e.g., “Lexpredict LLC”\n",
        "\n",
        "(5) conditions, e.g., “subject to …” or “unless and until …”\n",
        "\n",
        "(6) constraints, e.g., “no more than”\n",
        "\n",
        "(7) copyright, e.g., “(C) Copyright 2000 Acme”\n",
        "\n",
        "(8) courts, e.g., “Supreme Court of New York”\n",
        "\n",
        "(9) CUSIP, e.g., “392690QT3”\n",
        "\n",
        "(10) dates, e.g., “June 1, 2017” or “2018-01-01”\n",
        "\n",
        "(11) definitions, e.g., “Term shall mean …”\n",
        "\n",
        "(12) distances, e.g., “fifteen miles”\n",
        "\n",
        "(13) durations, e.g., “ten years” or “thirty days”\n",
        "\n",
        "(14) geographic and geopolitical entities, e.g., “New York” or “Norway”\n",
        "\n",
        "(15) money and currency usages, e.g., “$5” or “10 Euro”\n",
        "\n",
        "(16) percents and rates, e.g., “10%” or “50 bps”\n",
        "\n",
        "(17) PII, e.g., “212-212-2121” or “999-999-9999”\n",
        "\n",
        "(18) ratios, e.g.,” 3:1” or “four to three”\n",
        "\n",
        "(19) regulations, e.g., “32 CFR 170”\n",
        "\n",
        "(20) trademarks, e.g., “MyApp (TM)”\n",
        "\n",
        "(21) URLs, e.g., “http://acme.com/”\n",
        "\n",
        "(22) addresses, e.g., “1999 Mount Read Blvd, Rochester, NY, USA, 14615”\n",
        "\n",
        "(23) persons, e.g., “John Doe"
      ]
    },
    {
      "cell_type": "code",
      "metadata": {
        "id": "zt-x7FdVojvG",
        "outputId": "603cf974-794f-446b-f676-90174befa149",
        "colab": {
          "base_uri": "https://localhost:8080/",
          "height": 1000
        }
      },
      "source": [
        "!pip install lexnlp==0.2.7"
      ],
      "execution_count": null,
      "outputs": [
        {
          "output_type": "stream",
          "text": [
            "Collecting lexnlp==0.2.7\n",
            "\u001b[?25l  Downloading https://files.pythonhosted.org/packages/50/50/e5e769dfa27b9c657bc3fefb6edee56d186c630176746e232030aa5409ed/lexnlp-0.2.7-py3-none-any.whl (8.0MB)\n",
            "\u001b[K     |████████████████████████████████| 8.0MB 2.6MB/s \n",
            "\u001b[?25hCollecting pycountry==18.5.26\n",
            "\u001b[?25l  Downloading https://files.pythonhosted.org/packages/c5/c0/8ce9d2b55347867900edbe4d18f790571130c16f882b4891a0f08627dcdc/pycountry-18.5.26-py2.py3-none-any.whl (10.3MB)\n",
            "\u001b[K     |████████████████████████████████| 10.3MB 27.4MB/s \n",
            "\u001b[?25hCollecting dateparser==0.7.0\n",
            "\u001b[?25l  Downloading https://files.pythonhosted.org/packages/ac/9e/1aa87c0c59f9731820bfd20a8b148d97b315530c2c92d1fb300328c8c42f/dateparser-0.7.0-py2.py3-none-any.whl (357kB)\n",
            "\u001b[K     |████████████████████████████████| 358kB 36.1MB/s \n",
            "\u001b[?25hCollecting regex==2017.9.23\n",
            "\u001b[?25l  Downloading https://files.pythonhosted.org/packages/d7/65/91b43adad1dc45d7374521422270490128a2f289e1c3e1036b231b521507/regex-2017.09.23.tar.gz (607kB)\n",
            "\u001b[K     |████████████████████████████████| 614kB 38.0MB/s \n",
            "\u001b[?25hCollecting pandas==0.23.4\n",
            "\u001b[?25l  Downloading https://files.pythonhosted.org/packages/e1/d8/feeb346d41f181e83fba45224ab14a8d8af019b48af742e047f3845d8cff/pandas-0.23.4-cp36-cp36m-manylinux1_x86_64.whl (8.9MB)\n",
            "\u001b[K     |████████████████████████████████| 8.9MB 38.3MB/s \n",
            "\u001b[?25hRequirement already satisfied: datefinder-lexpredict==0.6.2 in /usr/local/lib/python3.6/dist-packages (from lexnlp==0.2.7) (0.6.2)\n",
            "Collecting Unidecode==0.4.21\n",
            "\u001b[?25l  Downloading https://files.pythonhosted.org/packages/01/a1/9d7f3138ee3d79a1ab865a2cb38200ca778d85121db19fe264c76c981184/Unidecode-0.04.21-py2.py3-none-any.whl (228kB)\n",
            "\u001b[K     |████████████████████████████████| 235kB 46.8MB/s \n",
            "\u001b[?25hCollecting us==1.0.0\n",
            "  Downloading https://files.pythonhosted.org/packages/72/83/8731cbf5afcf3434c0b24cfc520c11fd27bfc8a6878114662f4e3dbdab71/us-1.0.0.tar.gz\n",
            "Collecting typing==3.6.2\n",
            "  Downloading https://files.pythonhosted.org/packages/44/88/d09c6a7fe1af4a02f16d2f1766212bec752aadb04e5699a9706a10a1a37d/typing-3.6.2-py3-none-any.whl\n",
            "Collecting gensim==3.4.0\n",
            "\u001b[?25l  Downloading https://files.pythonhosted.org/packages/33/33/df6cb7acdcec5677ed130f4800f67509d24dbec74a03c329fcbf6b0864f0/gensim-3.4.0-cp36-cp36m-manylinux1_x86_64.whl (22.6MB)\n",
            "\u001b[K     |████████████████████████████████| 22.6MB 51.1MB/s \n",
            "\u001b[?25hCollecting requests==2.22.0\n",
            "\u001b[?25l  Downloading https://files.pythonhosted.org/packages/51/bd/23c926cd341ea6b7dd0b2a00aba99ae0f828be89d72b2190f27c11d4b7fb/requests-2.22.0-py2.py3-none-any.whl (57kB)\n",
            "\u001b[K     |████████████████████████████████| 61kB 5.9MB/s \n",
            "\u001b[?25hCollecting reporters-db==1.0.12.1\n",
            "\u001b[?25l  Downloading https://files.pythonhosted.org/packages/0d/6c/16c7c3849a25d2c3af5ef6e05d768d8e86e74aa9051df4728325c5f31f46/reporters_db-1.0.12.1-py2.py3-none-any.whl (60kB)\n",
            "\u001b[K     |████████████████████████████████| 61kB 5.4MB/s \n",
            "\u001b[?25hCollecting scipy==1.0.0\n",
            "\u001b[?25l  Downloading https://files.pythonhosted.org/packages/d8/5e/caa01ba7be11600b6a9d39265440d7b3be3d69206da887c42bef049521f2/scipy-1.0.0-cp36-cp36m-manylinux1_x86_64.whl (50.0MB)\n",
            "\u001b[K     |████████████████████████████████| 50.0MB 75kB/s \n",
            "\u001b[?25hCollecting num2words==0.5.5\n",
            "\u001b[?25l  Downloading https://files.pythonhosted.org/packages/5f/d8/1c1fb47cce56ff2cc1f5eb2740f2679045769778a746fbf9ebff1d70a63e/num2words-0.5.5-py2.py3-none-any.whl (57kB)\n",
            "\u001b[K     |████████████████████████████████| 61kB 6.6MB/s \n",
            "\u001b[?25hCollecting scikit-learn==0.19.1\n",
            "\u001b[?25l  Downloading https://files.pythonhosted.org/packages/3d/2d/9fbc7baa5f44bc9e88ffb7ed32721b879bfa416573e85031e16f52569bc9/scikit_learn-0.19.1-cp36-cp36m-manylinux1_x86_64.whl (12.4MB)\n",
            "\u001b[K     |████████████████████████████████| 12.4MB 30.9MB/s \n",
            "\u001b[?25hCollecting nltk==3.2.4\n",
            "\u001b[?25l  Downloading https://files.pythonhosted.org/packages/cd/c2/858e0708b497116ae45cf5c6b1f66984ac60729c61e49df6c1c0b808d1e4/nltk-3.2.4.tar.gz (1.2MB)\n",
            "\u001b[K     |████████████████████████████████| 1.2MB 21.8MB/s \n",
            "\u001b[?25hRequirement already satisfied: pytz in /usr/local/lib/python3.6/dist-packages (from dateparser==0.7.0->lexnlp==0.2.7) (2018.9)\n",
            "Requirement already satisfied: python-dateutil in /usr/local/lib/python3.6/dist-packages (from dateparser==0.7.0->lexnlp==0.2.7) (2.8.1)\n",
            "Requirement already satisfied: tzlocal in /usr/local/lib/python3.6/dist-packages (from dateparser==0.7.0->lexnlp==0.2.7) (1.5.1)\n",
            "Requirement already satisfied: numpy>=1.9.0 in /usr/local/lib/python3.6/dist-packages (from pandas==0.23.4->lexnlp==0.2.7) (1.19.1)\n",
            "Collecting jellyfish==0.5.6\n",
            "\u001b[?25l  Downloading https://files.pythonhosted.org/packages/94/48/ddb1458d966f0a84e472d059d87a9d1527df7768a725132fc1d810728386/jellyfish-0.5.6.tar.gz (132kB)\n",
            "\u001b[K     |████████████████████████████████| 133kB 43.9MB/s \n",
            "\u001b[?25hRequirement already satisfied: smart-open>=1.2.1 in /usr/local/lib/python3.6/dist-packages (from gensim==3.4.0->lexnlp==0.2.7) (2.2.0)\n",
            "Requirement already satisfied: six>=1.5.0 in /usr/local/lib/python3.6/dist-packages (from gensim==3.4.0->lexnlp==0.2.7) (1.15.0)\n",
            "Requirement already satisfied: urllib3!=1.25.0,!=1.25.1,<1.26,>=1.21.1 in /usr/local/lib/python3.6/dist-packages (from requests==2.22.0->lexnlp==0.2.7) (1.24.3)\n",
            "Collecting idna<2.9,>=2.5\n",
            "\u001b[?25l  Downloading https://files.pythonhosted.org/packages/14/2c/cd551d81dbe15200be1cf41cd03869a46fe7226e7450af7a6545bfc474c9/idna-2.8-py2.py3-none-any.whl (58kB)\n",
            "\u001b[K     |████████████████████████████████| 61kB 6.0MB/s \n",
            "\u001b[?25hRequirement already satisfied: chardet<3.1.0,>=3.0.2 in /usr/local/lib/python3.6/dist-packages (from requests==2.22.0->lexnlp==0.2.7) (3.0.4)\n",
            "Requirement already satisfied: certifi>=2017.4.17 in /usr/local/lib/python3.6/dist-packages (from requests==2.22.0->lexnlp==0.2.7) (2020.6.20)\n",
            "Building wheels for collected packages: regex, us, nltk, jellyfish\n",
            "  Building wheel for regex (setup.py) ... \u001b[?25l\u001b[?25hdone\n",
            "  Created wheel for regex: filename=regex-2017.9.23-cp36-cp36m-linux_x86_64.whl size=538827 sha256=5bbced483cb0b5759cc2b7e2a32c2b8421902fd36cd8cb35c2fa4ae4102a6b21\n",
            "  Stored in directory: /root/.cache/pip/wheels/57/19/41/e7d239b4a53386fe9de49f9e4328799569bbeac8b8b3748876\n",
            "  Building wheel for us (setup.py) ... \u001b[?25l\u001b[?25hdone\n",
            "  Created wheel for us: filename=us-1.0.0-cp36-none-any.whl size=11833 sha256=879ea71d1dfbc39a30b717271c26d9b3594300697ec31f7d02f8dc00e8d8ed03\n",
            "  Stored in directory: /root/.cache/pip/wheels/b3/98/40/cb8be35d7779a0ae4372c84e7a585c947bfc41540fd8999e53\n",
            "  Building wheel for nltk (setup.py) ... \u001b[?25l\u001b[?25hdone\n",
            "  Created wheel for nltk: filename=nltk-3.2.4-cp36-none-any.whl size=1367705 sha256=8071ba170b4949c6a188e6258f05325ded2ffe6c96d125c44c4cffa9a4586fd8\n",
            "  Stored in directory: /root/.cache/pip/wheels/36/f1/5c/f667347d86a3a534ba4c0127eed4389f929916e3ec88bb461a\n",
            "  Building wheel for jellyfish (setup.py) ... \u001b[?25l\u001b[?25hdone\n",
            "  Created wheel for jellyfish: filename=jellyfish-0.5.6-cp36-cp36m-linux_x86_64.whl size=74544 sha256=27910a021a0eee89598c45ab1da02b35934248d26ebcbf9df31e07d2bb61e848\n",
            "  Stored in directory: /root/.cache/pip/wheels/3b/29/06/8d686d24f742cb89e7bde7f26f18cb9e89b3c8bcd6999cb12a\n",
            "Successfully built regex us nltk jellyfish\n",
            "\u001b[31mERROR: yellowbrick 0.9.1 has requirement scikit-learn>=0.20, but you'll have scikit-learn 0.19.1 which is incompatible.\u001b[0m\n",
            "\u001b[31mERROR: xarray 0.15.1 has requirement pandas>=0.25, but you'll have pandas 0.23.4 which is incompatible.\u001b[0m\n",
            "\u001b[31mERROR: umap-learn 0.4.6 has requirement scikit-learn>=0.20, but you'll have scikit-learn 0.19.1 which is incompatible.\u001b[0m\n",
            "\u001b[31mERROR: umap-learn 0.4.6 has requirement scipy>=1.3.1, but you'll have scipy 1.0.0 which is incompatible.\u001b[0m\n",
            "\u001b[31mERROR: tensorflow 2.3.0 has requirement numpy<1.19.0,>=1.16.0, but you'll have numpy 1.19.1 which is incompatible.\u001b[0m\n",
            "\u001b[31mERROR: tensorflow 2.3.0 has requirement scipy==1.4.1, but you'll have scipy 1.0.0 which is incompatible.\u001b[0m\n",
            "\u001b[31mERROR: plotnine 0.6.0 has requirement pandas>=0.25.0, but you'll have pandas 0.23.4 which is incompatible.\u001b[0m\n",
            "\u001b[31mERROR: plotnine 0.6.0 has requirement scipy>=1.2.0, but you'll have scipy 1.0.0 which is incompatible.\u001b[0m\n",
            "\u001b[31mERROR: mizani 0.6.0 has requirement pandas>=0.25.0, but you'll have pandas 0.23.4 which is incompatible.\u001b[0m\n",
            "\u001b[31mERROR: imbalanced-learn 0.4.3 has requirement scikit-learn>=0.20, but you'll have scikit-learn 0.19.1 which is incompatible.\u001b[0m\n",
            "\u001b[31mERROR: google-colab 1.0.0 has requirement pandas~=1.1.0; python_version >= \"3.0\", but you'll have pandas 0.23.4 which is incompatible.\u001b[0m\n",
            "\u001b[31mERROR: google-colab 1.0.0 has requirement requests~=2.23.0, but you'll have requests 2.22.0 which is incompatible.\u001b[0m\n",
            "\u001b[31mERROR: fbprophet 0.7.1 has requirement pandas>=1.0.4, but you'll have pandas 0.23.4 which is incompatible.\u001b[0m\n",
            "\u001b[31mERROR: datascience 0.10.6 has requirement folium==0.2.1, but you'll have folium 0.8.3 which is incompatible.\u001b[0m\n",
            "\u001b[31mERROR: cvxpy 1.0.31 has requirement scipy>=1.1.0, but you'll have scipy 1.0.0 which is incompatible.\u001b[0m\n",
            "\u001b[31mERROR: albumentations 0.1.12 has requirement imgaug<0.2.7,>=0.2.5, but you'll have imgaug 0.2.9 which is incompatible.\u001b[0m\n",
            "Installing collected packages: pycountry, regex, dateparser, pandas, Unidecode, jellyfish, us, typing, scipy, gensim, idna, requests, reporters-db, num2words, scikit-learn, nltk, lexnlp\n",
            "  Found existing installation: pycountry 20.7.3\n",
            "    Uninstalling pycountry-20.7.3:\n",
            "      Successfully uninstalled pycountry-20.7.3\n",
            "  Found existing installation: regex 2020.7.14\n",
            "    Uninstalling regex-2020.7.14:\n",
            "      Successfully uninstalled regex-2020.7.14\n",
            "  Found existing installation: dateparser 0.7.2\n",
            "    Uninstalling dateparser-0.7.2:\n",
            "      Successfully uninstalled dateparser-0.7.2\n",
            "  Found existing installation: pandas 0.24.2\n",
            "    Uninstalling pandas-0.24.2:\n",
            "      Successfully uninstalled pandas-0.24.2\n",
            "  Found existing installation: Unidecode 1.1.1\n",
            "    Uninstalling Unidecode-1.1.1:\n",
            "      Successfully uninstalled Unidecode-1.1.1\n",
            "  Found existing installation: jellyfish 0.6.1\n",
            "    Uninstalling jellyfish-0.6.1:\n",
            "      Successfully uninstalled jellyfish-0.6.1\n",
            "  Found existing installation: us 2.0.2\n",
            "    Uninstalling us-2.0.2:\n",
            "      Successfully uninstalled us-2.0.2\n",
            "  Found existing installation: scipy 1.5.1\n",
            "    Uninstalling scipy-1.5.1:\n",
            "      Successfully uninstalled scipy-1.5.1\n",
            "  Found existing installation: gensim 3.8.3\n",
            "    Uninstalling gensim-3.8.3:\n",
            "      Successfully uninstalled gensim-3.8.3\n",
            "  Found existing installation: idna 2.10\n",
            "    Uninstalling idna-2.10:\n",
            "      Successfully uninstalled idna-2.10\n",
            "  Found existing installation: requests 2.24.0\n",
            "    Uninstalling requests-2.24.0:\n",
            "      Successfully uninstalled requests-2.24.0\n",
            "  Found existing installation: reporters-db 2.0.3\n",
            "    Uninstalling reporters-db-2.0.3:\n",
            "      Successfully uninstalled reporters-db-2.0.3\n",
            "  Found existing installation: num2words 0.5.10\n",
            "    Uninstalling num2words-0.5.10:\n",
            "      Successfully uninstalled num2words-0.5.10\n",
            "  Found existing installation: scikit-learn 0.23.1\n",
            "    Uninstalling scikit-learn-0.23.1:\n",
            "      Successfully uninstalled scikit-learn-0.23.1\n",
            "  Found existing installation: nltk 3.5\n",
            "    Uninstalling nltk-3.5:\n",
            "      Successfully uninstalled nltk-3.5\n",
            "  Found existing installation: lexnlp 1.7.0\n",
            "    Uninstalling lexnlp-1.7.0:\n",
            "      Successfully uninstalled lexnlp-1.7.0\n",
            "Successfully installed Unidecode-0.4.21 dateparser-0.7.0 gensim-3.4.0 idna-2.8 jellyfish-0.5.6 lexnlp-0.2.7 nltk-3.2.4 num2words-0.5.5 pandas-0.23.4 pycountry-18.5.26 regex-2017.9.23 reporters-db-1.0.12.1 requests-2.22.0 scikit-learn-0.19.1 scipy-1.0.0 typing-3.6.2 us-1.0.0\n"
          ],
          "name": "stdout"
        },
        {
          "output_type": "display_data",
          "data": {
            "application/vnd.colab-display-data+json": {
              "pip_warning": {
                "packages": [
                  "lexnlp",
                  "nltk",
                  "num2words",
                  "pandas",
                  "regex",
                  "reporters_db",
                  "scipy",
                  "sklearn",
                  "typing"
                ]
              }
            }
          },
          "metadata": {
            "tags": []
          }
        }
      ]
    },
    {
      "cell_type": "code",
      "metadata": {
        "id": "AbB4ygeooUN4",
        "outputId": "61091ba8-107b-4cbc-fce0-2fa65328df5d",
        "colab": {
          "base_uri": "https://localhost:8080/",
          "height": 34
        }
      },
      "source": [
        "!pip install pysbd"
      ],
      "execution_count": null,
      "outputs": [
        {
          "output_type": "stream",
          "text": [
            "Requirement already satisfied: pysbd in /usr/local/lib/python3.6/dist-packages (0.3.3)\n"
          ],
          "name": "stdout"
        }
      ]
    },
    {
      "cell_type": "code",
      "metadata": {
        "id": "VHNvXfWko84f",
        "outputId": "5656ada8-4130-430c-d220-c8a429e81667",
        "colab": {
          "base_uri": "https://localhost:8080/",
          "height": 85
        }
      },
      "source": [
        "!pip install pyap"
      ],
      "execution_count": null,
      "outputs": [
        {
          "output_type": "stream",
          "text": [
            "Collecting pyap\n",
            "  Downloading https://files.pythonhosted.org/packages/53/b2/f0f962a5385d54cd91c153df93932b4996b793f1a2145807823d7f71328d/pyap-0.3.1-py2.py3-none-any.whl\n",
            "Installing collected packages: pyap\n",
            "Successfully installed pyap-0.3.1\n"
          ],
          "name": "stdout"
        }
      ]
    },
    {
      "cell_type": "code",
      "metadata": {
        "id": "MHxJ3LTpqLK0",
        "outputId": "822c718b-20ae-4db2-bd4f-08d7c0f9ce4a",
        "colab": {
          "base_uri": "https://localhost:8080/",
          "height": 34
        }
      },
      "source": [
        "!pip install numpy"
      ],
      "execution_count": null,
      "outputs": [
        {
          "output_type": "stream",
          "text": [
            "Requirement already satisfied: numpy in /usr/local/lib/python3.6/dist-packages (1.19.2)\n"
          ],
          "name": "stdout"
        }
      ]
    },
    {
      "cell_type": "code",
      "metadata": {
        "id": "on4lsIX1u7WD",
        "outputId": "8ecb494a-df2f-4f7b-ec94-a35ba7d053cc",
        "colab": {
          "base_uri": "https://localhost:8080/",
          "height": 375
        }
      },
      "source": [
        "!pip install scipy==1.4.1"
      ],
      "execution_count": null,
      "outputs": [
        {
          "output_type": "stream",
          "text": [
            "Collecting scipy==1.4.1\n",
            "\u001b[?25l  Downloading https://files.pythonhosted.org/packages/dc/29/162476fd44203116e7980cfbd9352eef9db37c49445d1fec35509022f6aa/scipy-1.4.1-cp36-cp36m-manylinux1_x86_64.whl (26.1MB)\n",
            "\u001b[K     |████████████████████████████████| 26.1MB 159kB/s \n",
            "\u001b[?25hRequirement already satisfied: numpy>=1.13.3 in /usr/local/lib/python3.6/dist-packages (from scipy==1.4.1) (1.19.2)\n",
            "\u001b[31mERROR: yellowbrick 0.9.1 has requirement scikit-learn>=0.20, but you'll have scikit-learn 0.19.1 which is incompatible.\u001b[0m\n",
            "\u001b[31mERROR: umap-learn 0.4.6 has requirement scikit-learn>=0.20, but you'll have scikit-learn 0.19.1 which is incompatible.\u001b[0m\n",
            "\u001b[31mERROR: tensorflow 2.3.0 has requirement numpy<1.19.0,>=1.16.0, but you'll have numpy 1.19.2 which is incompatible.\u001b[0m\n",
            "\u001b[31mERROR: plotnine 0.6.0 has requirement pandas>=0.25.0, but you'll have pandas 0.23.4 which is incompatible.\u001b[0m\n",
            "\u001b[31mERROR: lexnlp 0.2.7 has requirement scipy==1.0.0, but you'll have scipy 1.4.1 which is incompatible.\u001b[0m\n",
            "\u001b[31mERROR: imbalanced-learn 0.4.3 has requirement scikit-learn>=0.20, but you'll have scikit-learn 0.19.1 which is incompatible.\u001b[0m\n",
            "\u001b[31mERROR: albumentations 0.1.12 has requirement imgaug<0.2.7,>=0.2.5, but you'll have imgaug 0.2.9 which is incompatible.\u001b[0m\n",
            "Installing collected packages: scipy\n",
            "  Found existing installation: scipy 1.0.0\n",
            "    Uninstalling scipy-1.0.0:\n",
            "      Successfully uninstalled scipy-1.0.0\n",
            "Successfully installed scipy-1.4.1\n"
          ],
          "name": "stdout"
        },
        {
          "output_type": "display_data",
          "data": {
            "application/vnd.colab-display-data+json": {
              "pip_warning": {
                "packages": [
                  "scipy"
                ]
              }
            }
          },
          "metadata": {
            "tags": []
          }
        }
      ]
    },
    {
      "cell_type": "code",
      "metadata": {
        "id": "EyT79-VUocSG",
        "outputId": "187d005a-bc77-4076-ae35-0b1db1c982f4",
        "colab": {
          "base_uri": "https://localhost:8080/",
          "height": 170
        }
      },
      "source": [
        "import nltk\n",
        "nltk.download('punkt')\n",
        "nltk.download('averaged_perceptron_tagger')\n",
        "nltk.download('wordnet')"
      ],
      "execution_count": null,
      "outputs": [
        {
          "output_type": "stream",
          "text": [
            "[nltk_data] Downloading package punkt to /root/nltk_data...\n",
            "[nltk_data]   Package punkt is already up-to-date!\n",
            "[nltk_data] Downloading package averaged_perceptron_tagger to\n",
            "[nltk_data]     /root/nltk_data...\n",
            "[nltk_data]   Package averaged_perceptron_tagger is already up-to-\n",
            "[nltk_data]       date!\n",
            "[nltk_data] Downloading package wordnet to /root/nltk_data...\n",
            "[nltk_data]   Package wordnet is already up-to-date!\n"
          ],
          "name": "stdout"
        },
        {
          "output_type": "execute_result",
          "data": {
            "text/plain": [
              "True"
            ]
          },
          "metadata": {
            "tags": []
          },
          "execution_count": 1
        }
      ]
    },
    {
      "cell_type": "code",
      "metadata": {
        "id": "scDKz9O_sdyW",
        "outputId": "802896ab-26a1-4760-b5a6-72d48125849a",
        "colab": {
          "resources": {
            "http://localhost:8080/nbextensions/google.colab/files.js": {
              "data": "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",
              "ok": true,
              "headers": [
                [
                  "content-type",
                  "application/javascript"
                ]
              ],
              "status": 200,
              "status_text": ""
            }
          },
          "base_uri": "https://localhost:8080/",
          "height": 72
        }
      },
      "source": [
        "from google.colab import files\n",
        "uploaded = files.upload()"
      ],
      "execution_count": null,
      "outputs": [
        {
          "output_type": "display_data",
          "data": {
            "text/html": [
              "\n",
              "     <input type=\"file\" id=\"files-a56205e9-6bd3-4023-a1d9-de5d4b8d31b2\" name=\"files[]\" multiple disabled\n",
              "        style=\"border:none\" />\n",
              "     <output id=\"result-a56205e9-6bd3-4023-a1d9-de5d4b8d31b2\">\n",
              "      Upload widget is only available when the cell has been executed in the\n",
              "      current browser session. Please rerun this cell to enable.\n",
              "      </output>\n",
              "      <script src=\"/nbextensions/google.colab/files.js\"></script> "
            ],
            "text/plain": [
              "<IPython.core.display.HTML object>"
            ]
          },
          "metadata": {
            "tags": []
          }
        },
        {
          "output_type": "stream",
          "text": [
            "Saving 01-05-1 Adams v Tanner.txt to 01-05-1 Adams v Tanner (1).txt\n"
          ],
          "name": "stdout"
        }
      ]
    },
    {
      "cell_type": "code",
      "metadata": {
        "id": "gUE5FrqYoSUn",
        "outputId": "fd801bf3-0341-4e1c-ac2e-5bfbabd1f99e",
        "colab": {
          "base_uri": "https://localhost:8080/",
          "height": 717
        }
      },
      "source": [
        "import pysbd\n",
        "import numpy \n",
        "import pandas as pd\n",
        "from lexnlp.extract.en.dict_entities import entity_config\n",
        "import lexnlp.extract.en.acts\n",
        "import lexnlp.extract.en.citations\n",
        "import lexnlp.extract.en.entities.nltk_re\n",
        "import lexnlp.extract.en.conditions\n",
        "import lexnlp.extract.en.constraints\n",
        "import lexnlp.extract.en.copyright\n",
        "import lexnlp.extract.en.courts\n",
        "import lexnlp.extract.en.cusip\n",
        "import lexnlp.extract.en.dates\n",
        "import lexnlp.extract.en.definitions\n",
        "import lexnlp.extract.en.distances\n",
        "import lexnlp.extract.en.durations\n",
        "import lexnlp.extract.en.geoentities\n",
        "import lexnlp.extract.en.money\n",
        "import lexnlp.extract.en.percents\n",
        "import lexnlp.extract.en.pii\n",
        "import lexnlp.extract.en.ratios\n",
        "import lexnlp.extract.en.regulations\n",
        "import lexnlp.extract.en.trademarks\n",
        "import lexnlp.extract.en.urls\n",
        "import lexnlp.extract.en.addresses\n",
        "import pyap\n",
        "\n",
        "with open (\"/content/01-05-1 Adams v Tanner.txt\", \"r\") as files:\n",
        "      f=files.read()\n",
        "def extraction(key,value):\n",
        "  if len(value)==0:\n",
        "    print(f\"{key} :None\")\n",
        "    print()\n",
        "  else:\n",
        "    print(f\"{key} :{value}\")\n",
        "    print()\n",
        "    #extracting values for all the key words\n",
        "extraction('Acts',list(lexnlp.extract.en.acts.get_act_list(f)))\n",
        "extraction('Amounts',list(lexnlp.extract.en.amounts.get_amounts(f)))\n",
        "extraction('Citations',list(lexnlp.extract.en.citations.get_citations(f)))\n",
        "extraction('Companies',list(lexnlp.extract.en.entities.nltk_re.get_companies(f)))\n",
        "extraction('Conditions',list(lexnlp.extract.en.conditions.get_conditions(f)))\n",
        "extraction('Constraints',list(lexnlp.extract.en.constraints.get_constraints(f)))\n",
        "extraction('Copyright',list(lexnlp.extract.en.copyright.get_copyright(f)))\n",
        "court_df = pd.read_csv(\"https://raw.githubusercontent.com/LexPredict/lexpredict-legal-dictionary/1.0.5/en/legal/us_courts.csv\")\n",
        "court_data=[]\n",
        "address=[]\n",
        "for _, row in court_df.iterrows():\n",
        "  data= entity_config(row[\"Court ID\"], row[\"Court Name\"], 0, row[\"Alias\"].split(\";\") if not pd.isnull(row[\"Alias\"]) else [])\n",
        "  court_data.append(data)\n",
        "for entity, alias in lexnlp.extract.en.courts.get_courts(address, court_data):\n",
        "    print(\"Courts :\", entity,alias)\n",
        "extraction('CUSIP',list(lexnlp.extract.en.cusip.get_cusip(f)))\n",
        "extraction('Dates',list(lexnlp.extract.en.dates.get_dates(f)))\n",
        "extraction('Definition',list(lexnlp.extract.en.definitions.get_definitions(f)))\n",
        "extraction('Distance',list(lexnlp.extract.en.distances.get_distances(f)))\n",
        "extraction('Duration',list(lexnlp.extract.en.durations.get_durations(f)))\n",
        "extraction('Money',list(lexnlp.extract.en.money.get_money(f)))\n",
        "extraction('Percents',list(lexnlp.extract.en.percents.get_percents(f)))\n",
        "extraction('PII',list(lexnlp.extract.en.pii.get_pii(f)))\n",
        "extraction('Ratios',list(lexnlp.extract.en.ratios.get_ratios(f)))\n",
        "extraction('Regulations',list(lexnlp.extract.en.regulations.get_regulations(f)))\n",
        "extraction('Trademarks',list(lexnlp.extract.en.trademarks.get_trademarks(f)))\n",
        "extraction('URLS',list(lexnlp.extract.en.urls.get_urls(f)))\n",
        "for entity,alias in lexnlp.extract.en.geoentities.get_geoentities(f,court_config_data):\n",
        "  print('geographic and geopolitical entities :',entity,alias)\n",
        "  print()"
      ],
      "execution_count": null,
      "outputs": [
        {
          "output_type": "stream",
          "text": [
            "Acts :None\n",
            "\n",
            "Amounts :[5.0, 740.0, 1843.0, 2.0, 1.0, 4.0, 2.0, 1821.0, 5.0, 1.0, 1840.0, 3777, 80.0, 100.0, 30, 1839.0, 741.0, 22, 1840.0, 14000, 120, 1, 1840.0, 3, 4, 1, 1.0, 1840.0, 2.0, 1.0, 361.0, 1.0, 307.0, 6.0, 604.0, 1.0, 2.0, 418.0, 422.0, 7.0, 34.0, 41.0, 167.0, 742.0, 3.0, 112.0, 207.0, 3.0, 338.0, 424.0, 5.0, 26.0, 13.0, 235.0, 8.0, 693.0, 4.0, 1821.0, 167.0, 2.0, 2.0, 216.0, 3.0, 66.0, 4.0, 130.0, 29.0, 2.0, 241.0, 2.0, 332.0, 2.0, 422.0, 9.0, 112.0, 743.0, 9.0, 39.0, 14000, 1840.0, 744.0, 5.0, 182.0, 3.0, 368.0, 1.0, 397.0, 6.0, 604.0, 1, 1821.0, 167.0, 745.0, 4.0, 746.0, 4.0, 210.0, 46.0, 747.0, 5.0, 5.0, 740.0, 1843.0, 284.0, 2019.0, 9.0, 1.0, 55.0, 266.0, 271.0, 1876.0, 2.0, 47.0, 362.0, 376.0, 1872.0, 3.0, 45.0, 329.0, 334.0, 1871.0, 4.0, 31.0, 526.0, 527.0, 1858.0, 5.0, 21.0, 333.0, 335.0, 1852.0, 6.0, 8.0, 145.0, 147.0, 1857.0, 7.0, 65.0, 256.0, 258.0, 3, 1880.0, 8.0, 4.0, 913.0, 914.0, 1887.0, 9.0, 103.0, 464.0, 1936.0, 3.0, 1.0, 9.0, 39.0, 1828.0, 2.0, 2.0, 5.0, 182.0, 1837.0, 2.0, 3.0, 9.0, 108.0, 1812.0, 6, 1, 2.0]\n",
            "\n",
            "Citations :[(5, 'Ala.', 'Alabama Reports', 740, None, None, None), (5, 'Ala.', 'Alabama Reports', 740, '1843', None, None), (55, 'Ala.', 'Alabama Reports', 266, '271', None, None), (47, 'Ala.', 'Alabama Reports', 362, '376', None, None), (45, 'Ala.', 'Alabama Reports', 329, '334', None, None), (31, 'Ala.', 'Alabama Reports', 526, '527', None, None), (21, 'Ala.', 'Alabama Reports', 333, '335', None, None), (8, 'Cal.', 'California Reports', 145, '147', None, None), (65, 'Ala.', 'Alabama Reports', 256, '258', None, None), (4, 'S.W.', 'South Western Reporter', 913, '914', None, None), (103, 'A.L.R.', 'American Law Reports', 464, None, None, None), (9, 'Cow.', \"Cowen's Reports\", 39, None, None, None), (5, 'Port.', 'Alabama Reports, Porter', 182, None, None, None), (9, 'Johns.', \"Johnson's Reports\", 108, None, None, None)]\n",
            "\n",
            "Companies :[('The President, &c. of the Bank of the United States', None, 'Bank'), ('Lehman, Durr', 'Co', None)]\n",
            "\n",
            "Conditions :[('until', '[2]\\nCreditors’ Remedies\\nLien and Priority\\nUnder St.1821, prohibiting a levy on a crop', ''), ('until', 'on a growing crop, nor does such lien attach', ''), ('if', 'It was proved by the claimants, by the production of a written contract, that Harrison, on the twenty-second of May, 1840, in consideration that the claimants were involved, as indorsers for Burton & Harrison of Sumter county, and were then exposed to an execution, amounting to upwards of fourteen thousand dollars, bargained and sold to the claimants all his growing crop of cotton &c., consisting of one hundred and twenty acres, &c. Allen Harrison promised and obliged himself to give up his crop to the use of the claimants at any time to save them from suffering as his indorsers;', ''), ('when', 'The claimants came from Tennessee, (where they resided) about the first of September, 1840, bringing with them three or four white laborers, and took possession of the crop and slaves, and with the latter, and white laborers, gathered the cotton, prepared it for market, and', ''), ('if', 'The court charged the jury, that the plaintiff had no lien by virtue of his judgment, and execution on the growing crop; that Harrison had a right to convey it, without being in any manner restrained by them; that the writing adduced, was a sale of the crop, but', ''), ('when', 'it was not, and the lien of the fieri facias would have attached upon it,', ''), ('if', 'gathered, yet', ''), ('not subject to', 'the claimants obtained possession on the first of September, and controlled the gathering of the crop, then no lien attached, and it was', ''), ('until', 'Rep, 693;] and', ''), ('until', '167,] which declares it to be lawful to levy an execution on a planted crop,', ''), ('if', 'It is admitted that the contract between the defendant in execution, and the claimants, was in good faith,', ''), ('when', 'The defendant in execution might at any time have divested the interest which the contract vested in the claimants, by discharging their liability as his indorsers, or a judgment creditor might have satisfied the lien, and', ''), ('unless', 'We will then consider the writing under which the claimants assert a right, as a mortgage with a power to take possession any time during the year,', ''), ('if', 'Conceding the truth of the facts stated in the bill of exceptions, and we think it will not follow, that the possession of the claimants is a nullity, and that the case must be considered as', ''), ('if', 'The contract contains an express undertaking to give up the crop at any time the claimants might require it for their indemnity, and', ''), ('if', 'they took possession of it in the absence of the grantor, (though without his consent,)', ''), ('if', 'he subsequently acquiesced in it, the inference would be,', ''), ('subject to', 'Mr. Dane, in remarking upon this point, says, “The American editor of Bacon’s Abridgment, says, ‘Wheat growing in the ground is a chattel, and', ''), ('until', 'The first section of the act of 1821, “To prevent sheriffs and other officers from levying executions in certain cases, enacts, that “It shall not be lawful for any sheriff or other officer, to levy a writ of fieri facias or other execution on the planted crop of a debtor, or person against whom an execution may issue,', ''), ('until', 'Now here is an express inhibition to levy an execution on a crop while it remains on, or in the ground, and', ''), ('until', 'If so, the act cited, will only have the effect of keeping the right to levy it in abeyance', ''), ('if', 'The lien and the right to levy are intimately connected, and', ''), ('until', 'That it was competent for the legislature to have made it unlawful to levy an execution on particular property,', ''), ('until', 'If the object was merely to suspend the sale,', ''), ('as soon as', 'The idea that the lien attached upon the planted crop', ''), ('until', 'the execution was delivered to the sheriff, though the right to levy it was postponed', ''), ('if', 'They do not refer to the lien,', ''), ('until', 'they did they would postpone it', ''), ('until', 'the crop was gathered; but it is the levy they relate to and postpone', ''), ('until', '**4 The right to levy an execution on a planted crop, then, being expressly taken away by the statute, the lien which is connected with and consequent upon that right, never attaches', ''), ('if', 'The circuit judge may have mistaken the law in supposing that the contract was a sale, but', ''), ('when', 'There is no assumption of any material fact in the charge; but the possession of the claimant, the time', ''), ('if', 'acquired, the gathering of the crop, &c., are all referred to the determination of the jury; who are instructed,', ''), ('until', '**4 The statute which presents the question before the court is, that “it shall not be lawful for any sheriff or other officer to levy a writ of fieei facias or other execution, on the planted crop of a debtor, or person against whom an execution may issue,', ''), ('subject to', 'The policy of the State, as indicated by these statutes, is undeniably that all the property of a debtor, real and personal, to which he has a legal title, shall be', ''), ('until', 'The mischief which the statute designed to remedy was, the sacrifice which would be necessarily made by the sale of an immature crop: the statute enables the debtor to retain it', ''), ('if', '**5', ''), ('until', 'The sheriff is forbidden to levy on a “planted crop”', ''), ('if', 'Now,', ''), ('until', 'This, I feel a thorough conviction, was not the intention of the legislature; but that it was to secure him from loss, by prohibiting a levy and sale of the crop,', ''), ('when', 'it was gathered,', ''), ('subject to', 'Growing crops as', ''), ('subject to', '464\\nGenerally, at common law, growing crops raised by annual planting, while still attached to the soil, are regarded as personal chattels,', ''), ('where', 'And', '')]\n",
            "\n",
            "Constraints :[('after', 'on a growing crop, nor does such lien attach until', ''), ('after', '', ' and that alias and pluries fieri facias’, issued regularly up to the time levy was made; that the cotton levied on was growed on the plantation of harrison, and cultivated by the hands in his service.'), ('first of', 'the claimants came from tennessee, (where they resided) about the', ''), ('first of', 'the court charged the jury, that the plaintiff had no lien by virtue of his judgment, and execution on the growing crop; that harrison had a right to convey it, without being in any manner restrained by them; that the writing adduced, was a sale of the crop, but if it was not, and the lien of the fieri facias would have attached upon it, when gathered, yet if the claimants obtained possession on the', ''), ('after', 'it merely inhibits the levy, but the lien attaches, and a levy and sale may be made', ''), ('more than', 'taking this to be clear *744 law, and it will be seen, that the defendant in execution at the time of the levy had nothing', ''), ('before', 'it has been frequently mooted whether, at common law, corn, &c.,', ''), ('before', '**4 the statute which presents the question', ''), ('after', 'now, if the view taken by the majority of the court, is correct, the right secured to the plaintiff in execution, of levying on the crop', ''), ('before', 'tried', ''), ('before', 'tried', ''), ('before', 'tried', ''), ('before', 'tried', ''), ('before', 'tried', ''), ('before', 'tried', '')]\n",
            "\n",
            "Copyright :[('©', '2019', 'Thomson Reuters')]\n",
            "\n",
            "CUSIP :None\n",
            "\n",
            "Dates :[datetime.date(2020, 6, 1), datetime.date(1840, 11, 1), datetime.date(1839, 10, 1), datetime.date(1840, 5, 1), datetime.date(1840, 9, 1), datetime.date(1840, 5, 1), datetime.date(1840, 5, 1), datetime.date(2020, 12, 1), datetime.date(2020, 12, 1), datetime.date(2020, 12, 1), datetime.date(2020, 1, 1), datetime.date(2020, 1, 1), datetime.date(2020, 1, 1), datetime.date(2020, 3, 21), datetime.date(2020, 6, 1), datetime.date(2020, 7, 1), datetime.date(2020, 11, 1), datetime.date(1887, 5, 1)]\n",
            "\n",
            "Definition :None\n",
            "\n",
            "Distance :None\n",
            "\n",
            "Duration :[('second', 20.0, 0.00023148148148148146), ('year', 6.0, 2190.0)]\n",
            "\n",
            "Money :[(14000, 'USD'), (14000, 'USD'), (100.0, 'USD')]\n",
            "\n",
            "Percents :None\n",
            "\n",
            "PII :None\n",
            "\n",
            "Ratios :None\n",
            "\n",
            "Regulations :None\n",
            "\n",
            "Trademarks :None\n",
            "\n",
            "URLS :None\n",
            "\n",
            "geographic and geopolitical entities : (1, 'United States Supreme Court', 0, [('United States Supreme Court', None, False, None), ('Supreme Court', None, False, None), (' SCOTUS', None, False, None)]) ('Supreme Court', None, False, None)\n",
            "\n"
          ],
          "name": "stdout"
        }
      ]
    }
  ]
}